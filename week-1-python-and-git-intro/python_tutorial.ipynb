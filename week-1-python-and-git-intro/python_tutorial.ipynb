{
  "cells": [
    {
      "cell_type": "markdown",
      "metadata": {
        "id": "e_CkSXJk2S2_"
      },
      "source": [
        "# Python Tutorial"
      ]
    },
    {
      "cell_type": "markdown",
      "metadata": {
        "id": "sDyPUfdE2S3B"
      },
      "source": [
        "## Introduction"
      ]
    },
    {
      "cell_type": "markdown",
      "metadata": {
        "id": "xQ3q-Vmg2S3C"
      },
      "source": [
        "Python is a great general-purpose programming language on its own, but with the help of a few popular libraries (numpy, scipy, matplotlib) it becomes a powerful environment for scientific computing.\n",
        "\n",
        "We expect that many of you will have some experience with Python and numpy; for the rest of you, this section will serve as a quick crash course both on the Python programming language and on the use of Python for scientific computing.\n",
        "\n",
        "Some of you may have previous knowledge in Matlab, in which case we also recommend the numpy for Matlab users page (https://docs.scipy.org/doc/numpy-dev/user/numpy-for-matlab-users.html)."
      ]
    },
    {
      "cell_type": "markdown",
      "metadata": {
        "id": "xEhCdRM-2S3D"
      },
      "source": [
        "In this tutorial, we will cover:\n",
        "\n",
        "* Basic Python: Basic data types (Containers, Lists, Dictionaries, Sets, Tuples), Functions, Classes\n",
        "* Numpy: Arrays, Array indexing, Datatypes, Array math, Broadcasting\n",
        "* Matplotlib: Plotting, Subplots, Images\n",
        "* IPython: Creating notebooks, Typical workflows"
      ]
    },
    {
      "cell_type": "markdown",
      "metadata": {
        "id": "H6dSW2ZI2S3D"
      },
      "source": [
        "## Basics of Python"
      ]
    },
    {
      "cell_type": "markdown",
      "metadata": {
        "id": "viBKmuKs2S3E"
      },
      "source": [
        "Python is a high-level, dynamically typed multiparadigm programming language. Python code is often said to be almost like pseudocode, since it allows you to express very powerful ideas in very few lines of code while being very readable. As an example, here is an implementation of the classic quicksort algorithm in Python:"
      ]
    },
    {
      "cell_type": "code",
      "execution_count": null,
      "metadata": {
        "colab": {
          "base_uri": "https://localhost:8080/"
        },
        "id": "EgrN3SwL2S3E",
        "outputId": "93486911-3713-4df6-985e-6436d512914d"
      },
      "outputs": [
        {
          "output_type": "stream",
          "name": "stdout",
          "text": [
            "[1, 1, 2, 3, 6, 8, 10]\n"
          ]
        }
      ],
      "source": [
        "def quicksort(arr):\n",
        "    if len(arr) <= 1:\n",
        "        return arr\n",
        "    pivot = arr[len(arr) // 2]\n",
        "    left = [x for x in arr if x < pivot]\n",
        "    middle = [x for x in arr if x == pivot]\n",
        "    right = [x for x in arr if x > pivot]\n",
        "    return quicksort(left) + middle + quicksort(right)\n",
        "\n",
        "print(quicksort([3,6,8,10,1,2,1]))"
      ]
    },
    {
      "cell_type": "markdown",
      "metadata": {
        "id": "gdQm4r3o2S3G"
      },
      "source": [
        "### Python versions"
      ]
    },
    {
      "cell_type": "markdown",
      "metadata": {
        "id": "sqhtXsab2S3G"
      },
      "source": [
        "There are currently two different supported versions of Python, 2.7 and 3.10. Somewhat confusingly, Python 3.0 introduced many backwards-incompatible changes to the language, so code written for 2.7 may not work under 3.10 and vice versa. For this class all code will use Python 2.7.\n",
        "\n",
        "You can check your Python version at the command line by running `python --version`."
      ]
    },
    {
      "cell_type": "markdown",
      "metadata": {
        "id": "vsvqkPkN2S3H"
      },
      "source": [
        "### Basic data types"
      ]
    },
    {
      "cell_type": "markdown",
      "metadata": {
        "id": "Ohu4ayw-2S3I"
      },
      "source": [
        "#### Numbers"
      ]
    },
    {
      "cell_type": "markdown",
      "metadata": {
        "id": "wXz7Boi92S3I"
      },
      "source": [
        "Integers and floats work as you would expect from other languages:"
      ]
    },
    {
      "cell_type": "code",
      "execution_count": null,
      "metadata": {
        "colab": {
          "base_uri": "https://localhost:8080/"
        },
        "id": "Jjkm0_zm2S3I",
        "outputId": "7d82b19d-97ad-44f5-8fe3-15a17f1005d4"
      },
      "outputs": [
        {
          "output_type": "stream",
          "name": "stdout",
          "text": [
            "3 <class 'int'>\n"
          ]
        }
      ],
      "source": [
        "x = 3\n",
        "print(x, type(x))"
      ]
    },
    {
      "cell_type": "code",
      "execution_count": null,
      "metadata": {
        "colab": {
          "base_uri": "https://localhost:8080/"
        },
        "id": "ZJangd2z2S3J",
        "outputId": "ca2152eb-63e7-465c-9b38-ee086e93efd6"
      },
      "outputs": [
        {
          "output_type": "stream",
          "name": "stdout",
          "text": [
            "4\n",
            "2\n",
            "6\n",
            "9\n",
            "1.5\n",
            "1\n",
            "0\n"
          ]
        }
      ],
      "source": [
        "print(x + 1)   # Addition\n",
        "print(x - 1)   # Subtraction\n",
        "print(x * 2)   # Multiplication\n",
        "print(x ** 2)  # Exponentiation\n",
        "print(x / 2)   # Division\n",
        "print(x // 2)  # Floor Division\n",
        "print(x % 1)   # Modulus"
      ]
    },
    {
      "cell_type": "code",
      "execution_count": null,
      "metadata": {
        "colab": {
          "base_uri": "https://localhost:8080/"
        },
        "id": "0a7Cynk-2S3J",
        "outputId": "3a3ece4d-d665-4483-f4e1-fc6b4bc35fac"
      },
      "outputs": [
        {
          "output_type": "stream",
          "name": "stdout",
          "text": [
            "4\n",
            "8\n"
          ]
        }
      ],
      "source": [
        "x += 1\n",
        "print(x)\n",
        "x *= 2\n",
        "print(x)"
      ]
    },
    {
      "cell_type": "code",
      "execution_count": null,
      "metadata": {
        "colab": {
          "base_uri": "https://localhost:8080/"
        },
        "id": "E5_6EwUJ2S3K",
        "outputId": "67fa7e92-0e60-4acc-c2e0-7be532d17149"
      },
      "outputs": [
        {
          "output_type": "stream",
          "name": "stdout",
          "text": [
            "<class 'float'>\n",
            "2.5 3.5 5.0 6.25\n"
          ]
        }
      ],
      "source": [
        "y = 2.5\n",
        "print(type(y)) # Prints \"<type 'float'>\"\n",
        "print(y, y + 1, y * 2, y ** 2)"
      ]
    },
    {
      "cell_type": "code",
      "execution_count": null,
      "metadata": {
        "colab": {
          "base_uri": "https://localhost:8080/"
        },
        "id": "_LC4BAUs2S3K",
        "outputId": "82c98882-8c16-42d3-d37a-386fac32cb58"
      },
      "outputs": [
        {
          "output_type": "stream",
          "name": "stdout",
          "text": [
            "8\n",
            "9\n"
          ]
        }
      ],
      "source": [
        "print(x)\n",
        "x += 1\n",
        "print(x)"
      ]
    },
    {
      "cell_type": "markdown",
      "metadata": {
        "id": "nkQBVHdT2S3K"
      },
      "source": [
        "Note that unlike many languages, Python does not have unary increment (x++) or decrement (x--) operators.\n",
        "\n",
        "Python also has built-in types for long integers and complex numbers; you can find all of the details in the [documentation](https://docs.python.org/2/library/stdtypes.html#numeric-types-int-float-long-complex)."
      ]
    },
    {
      "cell_type": "markdown",
      "metadata": {
        "id": "h1EjOIeE2S3L"
      },
      "source": [
        "#### Booleans"
      ]
    },
    {
      "cell_type": "markdown",
      "metadata": {
        "id": "hJ7Rh--H2S3L"
      },
      "source": [
        "Python implements all of the usual operators for Boolean logic, but uses English words rather than symbols (`&&`, `||`,\n",
        "etc.):"
      ]
    },
    {
      "cell_type": "code",
      "execution_count": null,
      "metadata": {
        "colab": {
          "base_uri": "https://localhost:8080/"
        },
        "id": "IXJAsMPN2S3L",
        "outputId": "651e4e1d-9d44-4abc-b6cc-df6d016ede73"
      },
      "outputs": [
        {
          "output_type": "stream",
          "name": "stdout",
          "text": [
            "<class 'bool'>\n"
          ]
        }
      ],
      "source": [
        "t, f = True, False\n",
        "print(type(t)) "
      ]
    },
    {
      "cell_type": "markdown",
      "metadata": {
        "id": "wOvH5eGG2S3L"
      },
      "source": [
        "Now we let's look at the operations:"
      ]
    },
    {
      "cell_type": "code",
      "execution_count": null,
      "metadata": {
        "colab": {
          "base_uri": "https://localhost:8080/"
        },
        "id": "PmuxQNsn2S3M",
        "outputId": "3c03213e-d662-4881-b138-c50614556473"
      },
      "outputs": [
        {
          "output_type": "stream",
          "name": "stdout",
          "text": [
            "False\n",
            "True\n",
            "False\n",
            "True\n"
          ]
        }
      ],
      "source": [
        "print(t and f) # Logical AND;\n",
        "print(t or f)  # Logical OR;\n",
        "print(not t)   # Logical NOT;\n",
        "print(t is not f)  # Logical XOR;"
      ]
    },
    {
      "cell_type": "markdown",
      "metadata": {
        "id": "mYc-hSd12S3M"
      },
      "source": [
        "Bitwise Operators:\n",
        "\n",
        "& - Bitwise And\n",
        "| - Bitwise Or\n",
        "^ - Bitwise XOR\n",
        "'>>' - Rightshift\n",
        "'<<' - LeftShift\n",
        "~ - Bitwise Not"
      ]
    },
    {
      "cell_type": "code",
      "source": [
        "# The range() function returns a sequence of numbers, starting from 0 (by default), and increments by 1 (by default), and stops before a specified number.\n",
        "# range function has the syntax as follows : range(start=Optional, stop=Required, step=Optional)\n",
        "\n",
        "range_example = range(5)\n",
        "print(range_example)\n",
        "print(type(range_example))"
      ],
      "metadata": {
        "colab": {
          "base_uri": "https://localhost:8080/"
        },
        "id": "nbwk1OJY4ET1",
        "outputId": "2495a1be-67e0-4c4e-dcca-0351215e68b7"
      },
      "execution_count": null,
      "outputs": [
        {
          "output_type": "stream",
          "name": "stdout",
          "text": [
            "range(0, 5)\n",
            "<class 'range'>\n"
          ]
        }
      ]
    },
    {
      "cell_type": "code",
      "execution_count": null,
      "metadata": {
        "colab": {
          "base_uri": "https://localhost:8080/"
        },
        "id": "WhCDg62U2S3M",
        "outputId": "f3c5b5be-b5da-4c17-feef-8970daee9c6d"
      },
      "outputs": [
        {
          "output_type": "stream",
          "name": "stdout",
          "text": [
            "True\n",
            "True\n",
            "True\n",
            "True\n"
          ]
        }
      ],
      "source": [
        "# Membership Operators\n",
        "print(3 in range(5))\n",
        "print(5 not in range(5))\n",
        "\n",
        "names = ['Marin', 'Cristina', 'Alex']\n",
        "print('Cristina' in names)\n",
        "print('Ana' not in names)"
      ]
    },
    {
      "cell_type": "code",
      "execution_count": null,
      "metadata": {
        "colab": {
          "base_uri": "https://localhost:8080/"
        },
        "id": "98e0yREM2S3N",
        "outputId": "5cde01f6-10a1-4bb4-9e76-cd7fd9b195d9"
      },
      "outputs": [
        {
          "output_type": "stream",
          "name": "stdout",
          "text": [
            "true\n",
            "true\n"
          ]
        }
      ],
      "source": [
        "# Identity Operators\n",
        "a = 5\n",
        "if (type(a) is int):\n",
        "    print(\"true\")\n",
        "else:\n",
        "    print(\"false\")\n",
        "\n",
        "a = 5.2\n",
        "if (type(a) is not int):\n",
        "    print(\"true\")\n",
        "else:\n",
        "    print(\"false\")"
      ]
    },
    {
      "cell_type": "markdown",
      "metadata": {
        "id": "D4CvDsSq2S3N"
      },
      "source": [
        "#### Strings"
      ]
    },
    {
      "cell_type": "code",
      "execution_count": null,
      "metadata": {
        "colab": {
          "base_uri": "https://localhost:8080/"
        },
        "id": "jjfPCyul2S3N",
        "outputId": "cbad4492-906d-4127-97fc-aea5e18dc1df"
      },
      "outputs": [
        {
          "output_type": "stream",
          "name": "stdout",
          "text": [
            "hello 5\n"
          ]
        }
      ],
      "source": [
        "hello = 'hello'   # String literals can use single quotes\n",
        "world = \"world\"   # or double quotes; it does not matter.\n",
        "print(hello, len(hello))"
      ]
    },
    {
      "cell_type": "code",
      "execution_count": null,
      "metadata": {
        "colab": {
          "base_uri": "https://localhost:8080/"
        },
        "id": "8gb9QiLe2S3N",
        "outputId": "fe9d6fe2-a44e-4d13-b742-c1a20dd7b264"
      },
      "outputs": [
        {
          "output_type": "stream",
          "name": "stdout",
          "text": [
            "hello world\n"
          ]
        }
      ],
      "source": [
        "hw = hello + ' ' + world  # String concatenation\n",
        "print(hw)"
      ]
    },
    {
      "cell_type": "code",
      "execution_count": null,
      "metadata": {
        "colab": {
          "base_uri": "https://localhost:8080/"
        },
        "id": "PFtQKRO-2S3O",
        "outputId": "5d59ad20-9aa1-4a80-af2c-f90941e8269f"
      },
      "outputs": [
        {
          "output_type": "stream",
          "name": "stdout",
          "text": [
            "hello1\n"
          ]
        }
      ],
      "source": [
        "print(hello + str(1))"
      ]
    },
    {
      "cell_type": "code",
      "execution_count": null,
      "metadata": {
        "colab": {
          "base_uri": "https://localhost:8080/"
        },
        "id": "oqt_wn192S3O",
        "outputId": "bf90bdc7-4c4e-4ad4-b9ba-075a8676e114"
      },
      "outputs": [
        {
          "output_type": "stream",
          "name": "stdout",
          "text": [
            "hello world 12\n"
          ]
        }
      ],
      "source": [
        "hw12 = '%s %s %d' % (hello, world, 12)  # sprintf style string formatting\n",
        "print(hw12)"
      ]
    },
    {
      "cell_type": "code",
      "execution_count": null,
      "metadata": {
        "colab": {
          "base_uri": "https://localhost:8080/"
        },
        "id": "rsRDGaNv2S3O",
        "outputId": "f647f6ea-74d8-4f9c-8628-4964a7be9d57"
      },
      "outputs": [
        {
          "output_type": "stream",
          "name": "stdout",
          "text": [
            "Hello Guys\n"
          ]
        }
      ],
      "source": [
        "text = 'Hello {name:}'\n",
        "print(text.format(name='Guys'))"
      ]
    },
    {
      "cell_type": "code",
      "execution_count": null,
      "metadata": {
        "colab": {
          "base_uri": "https://localhost:8080/"
        },
        "id": "3idgUHMe2S3O",
        "outputId": "d92ed55e-47a4-4c02-d86a-fc67655ec796"
      },
      "outputs": [
        {
          "output_type": "stream",
          "name": "stdout",
          "text": [
            "Hello Everyone\n"
          ]
        }
      ],
      "source": [
        "name = 'Everyone'\n",
        "print(f'Hello {name}')"
      ]
    },
    {
      "cell_type": "markdown",
      "metadata": {
        "id": "3mhA7uae2S3O"
      },
      "source": [
        "String objects have a bunch of useful methods; for example:"
      ]
    },
    {
      "cell_type": "code",
      "execution_count": null,
      "metadata": {
        "colab": {
          "base_uri": "https://localhost:8080/"
        },
        "id": "iIBPyGgr2S3P",
        "outputId": "2407f345-b687-4715-caf5-0bba39f7e37c"
      },
      "outputs": [
        {
          "output_type": "stream",
          "name": "stdout",
          "text": [
            "Hello\n",
            "HELLO\n",
            "hello\n",
            " hello \n",
            "he(ell)(ell)o\n",
            "  world\n"
          ]
        }
      ],
      "source": [
        "s = \"hello\"\n",
        "print(s.capitalize())  # Capitalize a string; prints \"Hello\"\n",
        "print(s.upper())      # Convert a string to uppercase; prints \"HELLO\"\n",
        "print(s.rjust(2))      # Right-justify a string, padding with spaces; prints \"  hello\"\n",
        "print(s.center(7))   # Center a string, padding with spaces; prints \" hello \"\n",
        "print(s.replace('l', '(ell)'))  # Replace all instances of one substring with another;\n",
        "                               # prints \"he(ell)(ell)o\"\n",
        "print('  world,'.strip(','))  # Strip leading; prints \"  world\""
      ]
    },
    {
      "cell_type": "markdown",
      "metadata": {
        "id": "Gv56m0Bg2S3P"
      },
      "source": [
        "You can find a list of all string methods in the [documentation](https://docs.python.org/2/library/stdtypes.html#string-methods)."
      ]
    },
    {
      "cell_type": "markdown",
      "metadata": {
        "id": "AqSRhJfc2S3P"
      },
      "source": [
        "### Containers"
      ]
    },
    {
      "cell_type": "code",
      "source": [
        ""
      ],
      "metadata": {
        "id": "35hBrpZ49Hyz"
      },
      "execution_count": null,
      "outputs": []
    },
    {
      "cell_type": "markdown",
      "metadata": {
        "id": "4f59wurk2S3P"
      },
      "source": [
        "Python includes several built-in container types: lists, dictionaries, sets, and tuples."
      ]
    },
    {
      "cell_type": "markdown",
      "source": [
        "![set,tuple,list,dict.png](data:image/png;base64,iVBORw0KGgoAAAANSUhEUgAAAxsAAAEnCAIAAABOm8lhAABJ20lEQVR42uzdb2gbV74//jOlZR8oiXO5qGnuxcRpyi001mY3IxJvQ8mCjG/TcZyyDcWpxahZSJxm90oYbFxCpbL2PlgjgbEuTeUaLo2QYhF2l8qNcnuDBAmLGynE3WZHNexSRwphbxppLzdupAc/yl39uP5893DujDSW//97vx4EeWY0czTz1szROXMmT1cqFQYAAAAAS/AUdgEAAAAAalQAAAAAqFEBAAAAoEYFAAAAgBoVAAAAAKBGBQAAAIAaFQAAAABqVAAAAACoUQEAAADAEjxddaokSdg1AAAAAEZV/7+Zpxe0NMCCSJKEIAGCBAgSbLIgVZ2OXj8AAACApUKNCgAAAAA1KgAAAADUqAAAAABQowIAAABAjQoAAAAAUKMCAAAAQI0KAAAAADUqAAAAANSoAAAAAAA1KgAAAADUqAAAAAC2Wo3K4/FIc4rFYq1lAoEALZPNZsXp7e3tkiAQCOjeqFvAKBqN4rBtDvUc61pBov+rUpKk9vZ2+rNYLNZaD19mEQGuxeS9sLZSqVSto5ZKpWqFcN58Gs88SwywMWPGUEWjUZrl8XjM81/1XVW3q1vASLeJqvvNpGAbne64GPdwnScHkzOS+dGBrVWjWpxsNitJUiKRECf29fXV+j+cAZZLIpFAHQgYY62trfXUAKi6oDtZOZ3O5UoRnQz7+vp005999tlaxQsGg/VffW/fvs1ff/bZZwstHr/SJ5NJmjI8PKxbxul00ov33ntvMyXEeFzo7IGqD6yvGtW7775r0uiFIwEr7dKlS9gJEAwGjU3juuoUry4YnT59eokFKBaLNpvNpHi1zocmp1Dd+oPBoPirdRGFHBsbY4w5HA632021CrGJju9Av99vtVo3TTZMgmFyyABWu0aVzWb5D77K32iaxk8i/Jff1atX+QJ+v58maprGJ3Z1deGwbQ4rdKzdbndFwH9n37hxYxFrE8sj2kwXks0qEomIhywSifBKhklTE69O+f1+Y4oSiQTvAltcgH/5y1/y14VCwVi8YDBo7GXTbdrE9evXefnphcm7ksmkuIsKhYLunMyboPhuKRaLvJbW29u7mQLDP5d4EPlc4240PzlYrVZxoqIouitgpVJpbm7G9xQ1qsXjX3LGWHNzM//z0aNHOBiwEhwOB53LdJ04sNV0dXXxEw6vdujwlhi/3y9WFxwOB9V4CoWCw+FYym9L3oCkq5d3dXXxetvExETVt7e2ts67ifHxccaYoigul8t8bUZWq5UapcQpvKpHTTi8rZeXdpNRFEWs6PCP+c033+BLBOuiRsUD2tfXJ7Ye9/b2oqoOKyqVSlFdiv9GhC2LVzIePnxYdQF+BxJfUqzxLL1t8u7du/SCV1Oq1v7Fbrtadb5aNTZK+49//GNePRI7AcyJPYb8k/KWNjp7U0OO2+1eSs1yfeJdnGLHq8PhQPcIrK8aldg6RTd4YsAUrJBgMCiOpuE/63/84x8vYm02mw0DTjcNXkt48OBB1QVmZmZ0Sy4vXpM7cOBA1QV4SnXnRt5S4nQ6TU6bvMb26quvMsY6Ojroz1ptcq2trWKwn332Wd3p2rh1erHJbkgnfHeJ5xCTPlOcHGDNalS9vb26bymNbTGPLMAyJhA7ATYuXq0xGWPBu/yo1Z83I9H0OimKovuy8FvUSSQS2ZT3ETocDmNXJlU6zUczAKx2jYr38VWNLMamQlW7d+9e+kroFmPsTFj/ajWeiX2CfX19VU+YYpefGH7qyarnHEvflKtXrxpn8UYpRVE2cf8X9fHxO/Q53f0qAGtfoxIjS/jvHhqsC7B0urF+lUplKa1TVYfz4I6KDYr3lzU2NlZdYN++fbolV+gXAu+e0zHvdvzVr35lcsLkj56i5/wRPn6t6oOp+Fg//sZajTFbanCrOEyP3/FmfKYGTg6wNjWqWk+pHhkZ0Z1HAKrSXYF4kPglEGBe/HaiWm2fhw4dohfGnjV6FPsSW9P57VNVH3kVjUapkUk34I5rbm7mN5sb55o/H8T8wVS8VWbLNsbwp8Dr7kLp6urihwM3/sK6qFHx8xS/85Hw30O4LsK8VyDxTMcftFirsQHAWCXi9Zi2traqy/DputaaVCpFQxxsNttSKhy8SiQ+mpyfDHnx+C3SRrVuCRef+WeyB2rNEp+SYH7z+6Y/1ejuQkmlUsbxjwDLX6Oi+8rn/Z+zxPG34v8VJbZI8yoXgO4KxF+L45L4xYPGNK1cgKsO58Fwig1BHFYsjvo0edK3WLEQ+87EB0EtsVvnzJkzVdPFT4bmDyawWq3GIT5ip57uoZ3iravmD6YSG2PEx5BunVMN//jiceGH3thwiJMDLGeNakH4E9KN3G43+p5hEcnx+/14khksiNvtNr+vrqurq+rDoojxnuVFXLnNT4b8XohaqpafV8iMtTE+Zd4HU/EGsFrPbd/czPf8vMcF4KnV/AUg3oouXi+RVJg3Ocbnc2qahgciwEJr5/WcbehhnrrI0Ti4Zen3oUgb622FQqHOk6Huvbz2U+sGrHkfFk/EJrp6ns+++VQ9LvTfGeHrA/OSqgZFkiQECJYhXggSIEiAIMHWCNJT2DUAAAAAS4QaFQAAAABqVAAAAACoUQEAAACgRgUAAACAGhUAAAAAoEYFAAAAgBoVAAAAAGpUAAAAAKhRAQAAAABqVAAAAACoUQEAAACgRgUAAACwlVX//5MlScKuAQAAADCqWnd6ekFLAyyswi5JCBIgSIAgwSYLUtXp6PUDAAAAWCrUqAAAAABQowIAAABAjQoAAAAANSoAAAAA1KgAAAAAADUqAAAAANSoAAAAAFCjAgAAAECNCgAAAABQowIAAABAjQoAAABgy9aoRkdHJUny+XzGWZ45xtfrgSRJ0Wh06evJZrOSJGWzWd3rpSgWi1X35+aGICFISzwQkiTl83mTHbt00Wi01n+PupTkLEuqy+VyNBpdrk+6ZSFICNJa1qg+/fRTWZYHBweLxSJ25bK4fv364ODgVvvUCBKCtHTvv//+lj3cuVzO6XQi9ggSgrRRa1SZTCaRSNDv4N/+9rdbfD82NzdXKpXm5mZECkFCkNZEOBxelibDVTYyB4cPQUKQtnSN6ne/+x1jzOFwqKo6NjZW/xuz2azL5aL2VZ/PxxsYqeunXC7Tn/l8XpIksRlzdHTUbrfT64mJCXElxnZaUTQatdvttCRfPzG2lIpTqHk2m822t7dLktTe3l7rm6ZrFqa2U9qo3W6PRqN8u+VyORAI0AolSXK5XJlMhm+afh+IHzybzfp8Pr7w5muPRZAQpKVzz3E6neZHsFZmqsrn8x6Ph45XKpUyOUzGKZIkjc6ZN1q65GSzWdooHTtxE5lMhs+y2+2BQIDCEI1GbTYbY8xms/HuJEoOxcNut4+OjuoSCwgSgrRealTlcrmvr8/r9VosljfeeGNqakoXlFpSqZTNZtuzZ096zuzsrM1moyvBkSNHKAe05B/+8AfG2OTkJH/v559//tprr1EgTpw40dbWpmlaOp2+f//+yZMna3UYBQIBp9PZ09OjadqLL7544cKFhX5Ym8126tQpTdOOHz/udDpHR0fnfcv58+eHh4dpoz09PU6nc2hoiM+KxWI0K5lMMsZaWlroS9LT0+P3+xlj9C7aGxTxdDqtadqePXv47tocECQEabm89957siybdNmYZKbqVfDkyZOPHz9Op9NerzccDt++fXtB5Tl37tznn39O2/riiy9MoiVe6vhhSqfTjx8/ttlsdEwzmUxLS0tDQ4M258yZM319fRSGtra2eDzOGIvH45qm0aouXLgwPDx89uxZTdOGhobGxsbOnz+PCx6ChCCtrEo1taZztN/T6XSlUimVSlS1Fxegmr7xtSzLuiWVOXy7fr+fXnu9XlmWqWe3UqkUCgXGWDKZpFn8LZVKJZfLybJMhdHJ5XKMsUgkwqdEIhFxilg24xTdwpVKhS5UhUKhUqlQ5jRN072myxsVlYRCIUVRSqUSFVWcRW/km6AtijvHWDzxs69zCBKCtApB4rGhOPGdIO7MeTOjQ7EplUr0Z6lUohRVXbNxCmNMfDuljmeyVnJ05aFvRDwep8Doiup2u2uVh5JjLJ4YmK0JQUKQVjRIi2yj+s1vfiPL8uHDhxljFovF6/UGg8F5K87ZbHZqaqqjo0OcePbs2UQiQS0KXq/3xo0bNP3atWt0bw21MdC/3//+9xlj//iP/5hIJEZHR6nS3dTUdOfOHSqMDrVMtLW18Sni6zq9/vrr/PWrr77KGLt165bJ8jdv3qRuLD6lu7v76tWrFouFiirOMrljJp/PJxKJxsbGrKCxsTGRSJi3SG8gCBKCtIw6OjpqddnMmxmdwcHBzs5Oi8VCf1osls7OzgUV5syZM/ztVqvV7XbHYjHzvqFEInHq1Ck+xWKxVCoVKnNvb+/Vq1fF5Q8dOmSeHPrURDcdECQEaSU8vYj35PP5cDhMP7LJ0aNHBwcHf/vb33Z3d5u88d69e4yxXbt2iROff/55/tput/MBX1NTU9///vfdbvef/vQnOoSqqlqtVsaY0+mcnp4+d+4c1d87OztfffXVqleUhw8fUgr5FPF1nXia+XXryZMnJsvPzs5Srd9kB87MzHzzzTd//OMfv/jii1qL0Q+LvjlVZ210CBKCtBJdNpOTk++///6lS5cWlBkRJWf37t3iRN2f89q2bZvuuhUMBk2Wp2Nx4MABky7yXC539+7dUqk0PT1tsrbZ2VnqZa46HRAkBGmFLKaN6j/+4z/oBC39TWtrK2NsQbcVV/WjH/2Ifrj/4Q9/kGW5qanp0KFD1Nhw7do13ipgsVhGRkZyuVwkEtm/f39fX9+q3RSy9JvyAoHA3r17W1tbb9++vWPHDrrNxUTVTqjNMRYMQUKQlp3VavX5fOtwuNYSK6/5fP7o0aM2m218fHx6evrQoUPiTxEjVVWNhxtjwRAkBGnd1ajGxsZkWY78X263e97biqki/+jRI2OVn4dYUZQ7d+78/ve/p3uHX3jhhUQikUqlpqam6I5jrqmpqaur69KlS4VCQZbly5cvG7dIvwbEXqR5e5TMq/90P81zzz1nskxDQ4NuJZlMxm635/P5iYmJvr4+6vkeGRnp7e3dt2+feXm+/PLLzRo+BAlBWgm8y0aMxLyZ0V1NecOkrp2ylrt375qXanp6WlGUeZsidOtxuVyBQIAxdvLkyeeee65QKFy9enVkZKSrq+vbb781WVs4HMaYLAQJQVrvNSq6Jp05c6br/zpz5gyNRTd5b3NzsyzLumU++ugjWZb5b+Uf//jHX3zxxY0bN2h8O00fHh5WFKWpqYmW8fl8LpdLTG2tKxO1Rly/fp1PEV+TmZkZ/rpqR7h4df/ss89oUJXJxzx69KjuXfSAAKvVSr084v004hg04+5SFGVsbEwMtM/ns9vtmyDiCBKCtHKoxW5gYGBBmRH5/f5YLCY+q8J484p4WTUO4BofHxfr38Fg8Pjx4yZlbmpqUhRF965wOEy1+ampqePHj/O+5nK5fO3aNZOqAGPsk08+EVsmlusR/1sKgoQgLcxCB0R4vV4+RklHVVU+q9YQLRo74Ha7aVQn3SYi9kek02kqGB9fQKvloxv4OCav10vjP6lIVTs1aHgUDYjQNI3eKI6PoDEdtKpkMinP0Q3RonYUTdOodbTqABDdEAlVVWkoFt8ojbOgj89L7vf7adyHrjzxeJwGptHeUFWVBr3TJw2FQptgZA2ChCAt+xAtET9GuoFLJpkRUYMl7bF0Ok3hEYtBh5gODR9PKg7R4ttKJpOKoogjtmoN0aLDRIeVNkpDO2n0Ft8cXyEvDzV5+v1+XdopbzyQVb9uGKKFICFIyxWkhdWoaOimMXNizuiKVetCSAebp4oOubgS3kmsG2euy2skEuErobCafPhIJELNpIqiUNR0w+ApUrQe46D3dDrN324cr171QlgqlUKhEK1WURS6CuoKI8uy3+8vFArqHP5G+n7yMvDrH5VQXNXGjR2ChCCt9IWQXwzEYJhnxvjIDL7H/H4/VanFubSHaf9THsQLYSgU4neo0AESC1zruRuapokl5O8SC6OqajKZpC3yxFLxeAlLpZKYEHFVuBAiSAjSCgVJ4rVgkSRVn77VRKNRp9OJXbFoCBKCtDWDJElSJBLp6urCsUOQEKStE6SnsGsAAAAAlgg1KgAAAADUqAAAAADWGu6jgpWMF4IECBIgSLA1goQ2KgAAAIClQo0KAAAAADUqAAAAANSoAAAAAFCjAgAAAECNauPIZrOSJFX9P2gBECRAkABBAtSoAAAAAFCjAgAAAECNakEkScpkMqOjo3a7XZIkj8eTn+NyuSRJstvt0WhUXD6bzfp8PmmOy+US2zaj0ajH48lms7r36lYuru3evXsej4cWDgQC5XJZnJtKpWhVkiT5fL5isSgWm8/1eDyMsWKx6PP5aEPt7e26YsNKQ5AAQUKQECQEafOoVFNrOp8ry7LX69U0LZlMyrKsqqqiKMlkUtM0r9fLGNM0jRbWNI0x5vV60+k0n5tOp2luJBKR54jvdbvd4srdbre4KlqbpmnxeJw2zQsWiUQYY6FQSNO0dDqtqqosy4VCQSx2JBKhuZVKRZ1DBePvrcDyQZAAQUKQECQEaYsEaZE1KkVR+J9+v58xlkwm6c9SqcQYi0Qi9KeiKDw3xO1287fTwebvLRQKupWHQiFeGJ5gPjeZTPK303v5dqkksiz7/X5ebDGjuVxO3HSlUvF6vbqiwkqfvxAkQJAQJAQJQdocQXp6cS1bx48f5693797NGGtpaaE/LRYLn5XP5xOJhN/vF5tDGxsbg8FgPp9vamqiKfy9VqtVt/Jt27bpNq0oCn/tcDgYY7///e8dDsetW7cYY9u3bxe3tX///lgs1tvbS3++/PLLfBZtKxwOUwEsFsvAwADaLFcZggQIEoKEICFIm8Mia1TGNIhp46hS3zen6qyq7zWu3GRDqqo+ePCAMfbkyRPG2IkTJ+ostsViSSaT/f39ra2ttJ433njD4XBU/SCwQhAkQJAQJAQJQdocVmOsH+9aFjU3N6/EtkqlUtUGuqocDsfNmzeTyaTf7//qq69OnDhx/vx5ZGLdQpAAQQIECUHa0jWqL7/8cuVWHg6HGxsb+Z8LfUiaxWJxOBy9vb137twJhULhcBiPWVu3ECRAkABBQpC2aI2qublZUZSxsTFxICiN6tQNDa3fZ599xl9PTEwwxl599VXGWFtbG2Ps8uXLfG65XG5vb6fRpEbZbNZut2cyGT7lhRdeQCDWJwQJECRAkBCkde7pld6A1+ttaWk5P8disVy5cmVwcDAUCi26T7evr2/79u1Hjhy5e/eu0+n0er3Uymq1WkOh0Llz5xoaGt58881yuXzx4sVEIpFOp6uuZ+/evYyxn/3sZ0NDQ7t27Xr06FF/f7+qqivUZgsIEiBICBKChCChjWrxDh8+rGnanj17WlpabDbb/fv34/F4d3f3olcYj8enp6dtNtvw8HAkEhFHMXR3dyeTyfv379tstpaWlp07d2qadvjw4arrsVgsv/71r1977bX+/n6bzdbf39/Z2Xnx4kVkYn1CkABBAgQJQVrPpKp3t0mSZHLXG0C98UKQAEECBAm2RpDw//oBAAAALBVqVAAAAACoUQEAAACgRgUAAACAGhUAAAAAalQAAAAAgBoVAAAAAGpUAAAAAKhRAQAAAKBGBQAAAACoUQEAAACgRgUAAACAGhUAAADAVlb9/0+WJAm7BgAAAMCoat3p6QUtDbCwCrskIUiAIAGCBJssSFWno9cPAAAAYKmexi4AAICN5b/+67++++67v/71r/Mu+dRTTz3zzDN///d/j50GqFEBAAD8H9999922bdueeeaZepYslUrYY4AaFQAAgN5f//rXZ5555nvf+16dC2OPwSrAfVQAAAAAqFEBAAAAoEYFAAAAsNHhPioAgM2PnqCz+Z7G9O233/7nf/5n1Vn/8A//sGPHDhx6QI0KAABgHt/73vd27NjxzTffiJVFSZKee+65Ou9bB0CNCgAAUKP6ntVq/Z//+Z///u///u677xhjzzzzzN/93d9ZrdZ6nq0AgBoVAAAAoypUY2PjX//619nZWcZYQ0NDY2MjdgugRgUAALBge/bsefDgAWMM1SlYK4sf65fP5wOBQHt7uzTH4/GkUilxAc+cdfiZzQsWjUZr/SeIsLwoOfl8Xjc9m81KkpTNZutZSblcjkajdS686K2st/0WjUYXF+9NbOOekcyZn5GW8XxlnqulnFRXzXNzVjpIayibzY6Ojq7tUdhAZ87VL+oia1SpVGrv3r0PHjzo6enRNC2dTjc0NLS2tgYCAVQUYEHef//9pbw9l8s5nU7sxi0OZySg7r8l3ju1zoM0NjY2PT2NA71uLabXL5PJtLa2+v3+3t5ePvHw4cM7duzo6+v74Q9/6HA4sGehTuFwuK2traurC7sCFgdnpGWx+R6sgCDBKltMG9Xg4KAsy++8845u+jvvvCPL8tdffy1OnJiYoObT9vZ2XZNyJpPxeDzUsmq32wOBQLlcplnUWFcsFn0+Hy3g8/nE7qFyuRwIBPisiYkJXeNeKpVyuVx8gWKxqCttNBq12+2SJLlcrkwmU+vDFovFQCBAS7a3t09MTCA0y8g9x+l0Gvv+RNlsVjya/EBHo1GbzcYYs9lstfo+qFuQjqDdbo9GozxmjLFHjx6ZZ4w3/uty4vF4otGoebzFWboGefNc5fN5n89Hc40FY4yVSiUx/yZ7L5vN8g/ocrk2Yi/nVjgjRaNRPtdYMGOcau0KSjstabfbR0dHxbSbE3v96o+3y+Uyxs8k3rSH+VuKxaLdbhe/GvPuKFrtU0899d133/1/dfjuu++eeuqp5Q2SyfGiLzs/ZS0iSKOjo3zXiecrSZKCc8z7Z00ubQu6nK3VmTOfz1NIaNeNjo6K53bzhPOvIc1am98lRrWmVyqVQqHAGPP7/ZX5uN1uxpiiKMlkUtM0r9fLGEsmkzQ3nU4zxrxerzYnFArRnzRX0zR6r9/v1zQtmUzKsqwoCs0tlUqqqsqyLK6ZMaZpGi0QiUQYY6FQiJptaeFCoSAWjL+d/kyn0+J7+YZkWVZVlZbkq61AfUyCRHPdbnehUKCdzKfT0edHM5lMUjbSc8TjVSgU4vE4Yywej/PldejoRyIRfgQpZrQVCrMxY/yNdOiTyaSqqtTJyFOkzKkab15mvmb6sPXkiu+QdDqtaVo8HpfniPuNMUYLpNNpRVF08eYbos9Iu44Xkkd9cwRpE5yRaFsU0XQ6TW+Px+Pie/kCtDBPi3i+os8oyzJ9HaiQ/JtlcsLnC0QikUXEW1EUVVXrj7f4XaAC811hvqP8fj/fD3/5y18ePnz45zo8fPjwL3/5yzIGad7jRV9J8ZzDV1tnkOgIRiIR8QhqmqbO0TSN7xNjwmtd2hZ6OVuTM2cul+NnPwqALrcmCTd+DWkP1Lo0rMQZacE1Ktqb/Is37/lLPPCyLPMvkt/vF48BX17cihhuOqK0a+giKu4mccfRF0MsISWJr40W5ge4UqnQATaeofx+vyzLpVJJV4yqaYbF1aj4AeWHTFejEmNjPF66hXXo1M+/rnQ2VBSlVCoZMybmir7Y4ht1yTfGW7xO6MpM7xXDb5IrKrO4ZjH8tCH6CFWvBGKNSlEU3a6j09lmCtImOCPR9bXqV4NviF+wecWCPoh4vqLkiMWgYlOMF1qjWqF48z+TyST/OSQmudaOyuVyurm0nnoO/fIGqZ7jJZ46lhIk3RlM/HbXSnitS9uCLmdrdeb0er1iISkAdSbc/Gu4Omeklf1//VRVtVqt/M8jR47w1729vVevXhUXPnTokO7tr7zyCn994MABsVlYUZTm5mY+5a233uKvb926xRjbvn179m9yudz+/ftjsZhYsKamJv7nqVOnEomEsWcwFovt378/l8vxVW3fvp1vApZLR0dHrb6/bDY7NTXV0dEhTjx79mwikainA+vmzZuMMfHuh+7u7qtXr1osFmPGnn/+ef66qanpzp074hvFvFWNN317q5a5ubmZ/9iaN1cOh6NSqYhrFsNPjh8/zj+C1Wp1u903btzQLZPP5xOJRGNjY1bQ2NiYSCTM+1g3sfV5Rrp69ap4446YJU6M4quvvsoY+8Mf/lA17ZRAopu+lH1lHm9FUeo/bXZ1damq2t/fPzAw4Ha7+arMd9Tk5CRjrK2tjW9IfL2a6jleLS0tyxIkh8Mhy3L9d5uYXNoWdDlbkzMndbx2dnbyrVgsljNnztSZcOPe0104VsHKPo9q586d5t20uVzu7t27pVJpeno6GAzqFuC7VWdyclI8FeqWfPLkCWPsxIkT9RfshRdeoI5h8TAzxqbmhMNh3dtpE7CM3nvvvcnJyffff//SpUvi9Hv37jHGdu3aJU4Uv8DmZmdnjSe7ejLGKyUzMzPffPPNH//4xy+++KLOeFcts7hwPbnKZrP37t178uTJ7du36Voi2rZtm/jnSy+9ZPz6lEolxljfnKqztqB1e0YqFov37t37+uuvHz58qGlaOBzW5VZc4d69exlj33zzjTHtdE9h1enLta8ePXpkjPe+ffsWFO9f/OIX9CnE2p75jnr48CH9fuBTdKfr1bSg41X/accYJF29f6FHTby0LehytiZnTvqlt3v37lrnOvOEz8zMiDk0pnQVLLiNiopI4TbyeDw+n6+e9eTz+aNHj9pstvHx8enp6UOHDlFTdj2mpqbmXUZs29TdgLIgVbuZMTBt2VmtVp/PFw6HF/1EnGUXCAT27t3b2tp6+/btHTt29PT01PnGeircJrkql8sul8tmsw0MDNy+ffull16qf9NGVe+aMv5q3Lg2wRkplUo9++yzLS0t169f//bbb9944w2xRXOhDUvGrYyMjKzyQZn3tMkb2IyPelquU/fKBWkZj9d6Oy5re+as55feOkn4stWorFarqqqxWMw4hKRYLBp/1dVy8uTJ5557rlAoXL16dWRkpKur69tvv63zvW63e2ZmRvfjUrfMgsY00SCOqvXZzz//HNWd1cH7/qiNR2yOop/FukagejQ0NOgymclk7Hb7vN1eExMTfX191Pc/MjLS29ur+/VjgprxdWV+/PhxnbkaGhoKh8Oapt25c2dkZKS7u5sa501MT0+L3S6iL7/8ctPXxTf0GSmfz7e2tnq93lKpdOnSpYGBgY6Ojq+++spkc3RHUdVHWYbD4foH9y2l5qGLt+7jm582i8Ui9fe53e6BgQHd7Ra1dhQ1XYgLG+/TWIUgLeJ41e/IkSO6Pcm7OxdHd2mr/3K2JmdO+qWnq9TqqlkmCd+3b59u7+lSuh5rVNSPMDU19eGHH+qm//KXv2SMvfnmm3X+qjt+/Dhvti2Xy9euXauzAA6HQ3cbTSKR4K+pc/3y5cvi2a29vV0coBsMBvm3sVwuj4+Pu91uYxuy3+8Ph8PihoyDomEZ0a+ZgYEB8TtmvI3go48+kmW5noaWo0eP6n4H/+53v6unv4DamV5//fVFnNeMZc7n82Jju3muZmdnVVUVP53xd/z4+Li48mAweOrUKWMxFEUZGxsTT0D0UIaVvuiusg19RqILhqIovBuFblTSbULMwJUrV2RZFu/U4b9JGGOffPKJmI2lPAm9VrwVRRHjnc1mxc8772mTjst7c6ampujPeXcUzb1+/TqfK75etSDVebwWxxikVCo1NTVV/3OwTC5tC7qcrcmZk4YTipXacrn86aef1pnwjo4O3d5b/acdPb24b1QkEnE6nQ8ePOjo6Ni1a9ejR4/Cc5LJZJ0dCnSuf+GFF+jtw8PDC4qdqqpvv/320NDQrl27rly5Mjg4KP7UCIVC586da2hoePPNN8vl8sWLFxOJBI2O5k6fPk3jNmku/ezTcblcsViMb+ju3btOp1N3tYNl1NTURNHStdm0trbyu30vX74sHk3qZf/ss8+q3gJJUenv7+dHsK+vLx6Pm98EwBsAhoaG6DT62WefiSMb5kVlpgQ+evSov7+//lw1NjYGg8G2trYDBw6Uy+XLly8bT0mJRMLj8Zw5c4ZWriiKeAoTT08tLS3n51gsFvqmhEKheT/+xrKhz0jUfnDx4kW6N+Xu3bvDw8M0vknU39/v8/mef/55WnnVDFMx6Otz4MAByoYsy+Id3JIkLb0TjXK1uHhPTEwEg8FIJELXZjpwDoejo6PDfEfRXP7paLWrH6Q6j9eia1QUpJ6eHvqMw8PDqqryO6wbGhquXbuWyWSef/75WpWbWpe2BV3O1urM+dOf/vTatWt0yuIfoc6EG7+GumY2j8cTDAY1TVvBK/giBr3zUYs00JF/x3RjFI3jPMUpuVyOP7WFnpBBXxu67cM4JF43pVQq8bscvF6vcVAlfwwGtcnrRlS63W561AfNFYeb6p7vUigUaNApnXNDoVDVbn5YytMTjM9B0R1N8cEkxqTR42FqbatUKoVCIX4E+VDteTNGz5Wh57v4/f5CoUAPg6kn3lRmejttVDfXJFeUbT4rEonQqHJ+DwS95vn3+/1iJnUbEh+PpKqqOAh/0wRpo5+RjPGmSNNhpTOSGCfx3jjd+apUKom59Xq9fJi6+Tnf+PSEeeNNZaZHFtUZb+PD52iEv/jQKZMdJX4raT8s49MT6g9SPcdLV2bd0xPmDZL49Re/3blcjj5+1U9tfmlb6OVsrc6cuVyOP1grNKfOhOv2ntvt1j1PYRkfplArSNV/ryzL75jVlMlkWlpaVrbuCQu34YK0clwu186dO9fPHZQI0lY7I9GDp2VZvnPnDoIEG8Xo6Oi5c+eW66h5PJ6enh7xARPLG6SnNuIupv8BQJxCXbyoTsE6YbfbxVsQisViOBw2PpYGNocNdEZ67bXXcLxg3fJ4PLr/PebTTz81f45D/fL5/OTk5NKrUyae3og7/cCBA06nc8+ePXR74OTkJA0uQBxhnThy5Ai/8YVuxZBlueqtTrAJbKAz0k9/+lMcL1i3Dh06RLdJHTlypFwuJ+bw//dmiSYnJ4eGhla0/Bu11y+TyVy8eJHGT1EfLf5X8HVoy7axl8vlDz/8MBaLTU1NybLc2dnpcrnW8IGECBLOSNTrt8X7vNDrt/5Fo9Hx8XG6Id3r9b755pvrsK23VpA2yX1UgPMXIEgACBKsYZCewq4BAAAAWCLUqAAAAABQowIAAABAjQoAAAAANSoAAAAA1KgAAAC2vKX8r9Llcjkaja75f6LvmbM+d+BSdm80GqXHf6BGBQAAsJnlcrll/5+bYcNBjQoAAAAANSoAAIDlUCqVAoGANMfn8+XzeT7L2KHGp0SjUZvNxhiz2Wy1OqeKxSJfc3t7u/j/fubzeZ/PZ7fbq25XkqRMJjM6OkoLuFyuTCZj/imi0WithakYNLe9vX1iYsJkPeYFEzfk8/nK5XKtYlSdm81mfT4frdnlcuk6TPP5vMfjMe4r1KgAAAA2gHPnzmmalp7zxRdfnDx5slgszvuutra2eDzOGIvH41X/E7pisXjs2LEbN24kk0lN0w4ePNja2kq1mWKxePLkyfv373/wwQeapsXj8WvXrp08eVJ8++Dg4PT09AcffJBOpxljLS0tJqUKBoPDw8NDQ0Oapu3cubOlpYVXqsrl8rFjxzRNo7mnTp06ceKE7n8mFstsXrBAIOB0Ont6ejRNe/HFFy9cuCC+3XxuNpulOmg6ndY0bc+ePTabjZczn8+fPHny8ePH6XTa6/WGw+Hbt29vjABVqqk1HWBBECRAkGCjBIkxpihKqVSiPwuFAmPM7/fTn+454vLiFKpIaZpWdc1+v58xVigU+BRVVb1eb6VSSSaTuln0f2zzVVGp+FzaUCQSqboht9tNN3XxKcocXgxZlvkH5NsSt86ZFyyXy+mKQXNpivlcKpVxZ/Jyer1esZylUkmW5XV1EqhVGLRRAQAA/K/jx49bLBZ6bbVa3W73jRs3lr7aWCzmdrvF/yv90qVLAwMDjDGHw1GpVMRZBw4cMJaKv573vw1WVbWpqYn/eerUqUQiQW1asVhs//79uVwu+zfbt29njN26dcu4HvOCTU5OUuOc2FBX59x8Pp9IJBobG7OCxsbGRCJBvYqDg4OdnZ38QFgsls7Ozg2Rn6fxFQIAAGCMbdu2TfzzpZdeCgaDS1/t1NRUT0+PyQLZbPbevXtPnjy5ffs2VUdMSmVu586d4p8vvPACY+zRo0dWq3VqTjgc1r3lyZMnCy3Yw4cPqdLJp4ivzeeWSiXGWN8c3eZKpRJV/nbv3i1O1/25bqGNCgAAYG2Uy2WXy2Wz2QYGBm7fvv3SSy+Z172WKBQKGfuqurq6Vr9g6XTaWJJ5W+BQowIAANh4pqenFUWpNbf+5itZlnX3Vo+Ojra3tzPGhoaGwuGwpml37twZGRnp7u6mnrjl8vXXXzPGdu3aRX9+/vnndb7RvGDUaCTeIC++Np9Lvvzyy6rbpdYsauXidH+iRgUAALCujY+P89f5fD4YDJ46dYpPmZmZ4a8X9Hj0zs7OYDAo1io+/fTTffv2McZmZ2dVVRXbZpb4sABxQ+VyeXx8nN/C5ff7w+GwWPKJiQlJkqp+FvOC0X1R169f51PE1+Zzm5ubFUUZGxsTH6lAj2mgKX6/PxaL8bnlcjkWi22I/OA+KgAAgP+VSCQ8Hs+ZM2cePXrU39+vKMrrr79OsxwORzAY9Pl8b775Js2lAWiEbnX67LPPqt487nK5YrFYb2/v+fPnLRbLlStXEokEDYhrbGwMBoNtbW0HDhwol8uXL1823ke1UKdPn/Z6vYyxixcv8g3xYrz99ttDQ0O7du26e/eu0+nUVZs484JZrdZQKESPiT9w4ACtqs65jDGv19vS0nJ+Du2QwcHBUChEd6NTOWkufYqpqSnx7fTQLxpzt75grDJg0DsgSIAg0W1G9KQDaikRHzRAjwCgWpSqqul0Wvc8hVAoZHJVLRQKVMuht/OHI5RKJXqoAT0lIRKJ0FMb+A1PxmclmD89we1283K63W7xSQpUDHFzoVBI9xm5eQtGO4R6RRVFoWdl6Z6YYDJX0zRxh8TjcXHruVyOz/X7/bRvxT2wtueEWluXqtbyJElaj7U/2GgQJECQAEGCZWe32+/cubPegoT7qAAAAGDDmJiYeO2119ZhwVCjAgAAgA3jzp07P/3pT9dhwdDrBysZLwQJECRAkGBrBAltVAAAAABLhRoVAAAAAGpUAAAAAKhRAQAAAKBGBQAAAIAaFQAAAKydbDZb6//Xq4ckSdFodGOVGTUqAAAAAKgC/1MyAADAWmpubsaDsjYBtFEBAAAwSZIymczo6KjdbpckyeVyZTIZcYFsNutyuaQ5Pp9P7PCKRqMej4cvYLfbA4FAuVyuc9NiDxq9LhaLPp+Pbyufz4vLR6NRKqTP5zNuJZvN8ve6XC5eznK5bLfb29vb+VsymYzYY1gsFgOBAK25vb19YmJCXG25XA4EAvTpRkdHERjUqAAAAKobHBycnp7+4IMP0uk0Y6ylpaVYLNKsVCpls9n27NmTnjM7O2uz2cQq18zMzNtvv93W1qZpWk9PT19f34cffrjokpw+fXrHjh2apiWTyWvXrv385z/nswKBgNPp7Onp0TTtxRdfvHDhgq46ZbPZGGPpdFrTtD179vByWiyWoaGhRCLxySefUA3pZz/7maqqXV1d9OexY8c0TRsaGtI07dSpUydOnOA1p3K5fP78+VgslkwmP/744z//+c9jY2MIjF6lmlrTARYEQQIECTZKkBhjiqLwPzVNY4xFIhH6U5Zlt9stLq/ModeRSIQxlkwm+Vy3211/bmlbmqbx136/n8+lldPcXC4nlorP5VMURdGV0+12i5+LClYoFLxeL2Msl8vRdL/fL8tyqVTSrblQKFQqlXg8zssgrkecgiChjQoAAOB/HT9+nL9ubm4WG36mpqY6OjrEhc+ePZtIJMS+v5aWFv760KFDSynJK6+8wl8fOHCAv56cnGSMtbW18Sni63w+n0gkGhsbs4LGxsZEIsH7Dd977z1Zlk+fPj04OBiJRJqammh6LBbbv39/Lpfjb9y+fTtj7NatW9REpyiKuE90ewNwZzoAAMD/s23btqrT7927xxjbtWuXOPH555/XLWaxWJarJLVW9fDhQ8aY1WrlU8TXpVKJMdY3R/dGmkXL+3y+EydO8P4+MjUnHA7r3vjkyRPq09y3b584Xbc3APdRAQAArCrp/1r29afTaWOHlNi8dOfOHcZYOBzW3fAeCoWMbxRrXYAaFQAAwOJRc9SjR4/EidRwtcp2795Ng/L4FPE1+fLLL03WkMlkBgcHQ6GQLMvvv/++OOvzzz+v9a59+/bNzMyIU3R7A1CjAgAAmEdzc7Msy7qnCXz00UeyLIttP3Uy3uZcP7pr6vr163yK+Lq5uVlRlLGxMfGRCj6fz2630xQ+vq+7u3toaCgcDvNHJ/j9/nA4LN4WNjExwZ/p0NHRobtpTLc3APdRAQAAzG9oaKi1tZUx9tZbbzHGLl++nEgk6CELq8lqtYZCIafTSXes3717l15zXq+3paXl/ByLxXLlyhVqkaIbs4aGhqampj7++GPGmMPhcLvdTqfzyJEjTU1NLpcrFou9/fbbQ0NDu3btojWrqkpVRofDoaoqn3vlypVgMIhU6KCNCgAAYB4OhyOdTj9+/LhlTkNDg6Zphw8fXv2SdHd3RyKR8fFxm802Pj6uq9UdPnyYHkPV0tJis9nu378fj8e7u7vF/j7ervbee+8xxqjvz2q1/vu//3tnZ2d/fz+tORQKXbx4ka/54sWLfO7s7Cw9TwFEUtUmR0mS8ER8WIZ4IUiAIAGCBFsjSGijAgAAAFgq1KgAAAAAUKMCAAAAQI0KAAAAADUqAAAAANSoAAAAAAA1KgAAAADUqAAAAABQowIAAABAjQoAAAAAUKMCAAAAQI0KAAAAADUqAAAAgK2s+v+fLEkSdg0AAACAUdW609MLWhpgYRV2SUKQAEECBAk2WZCqTkevHwAAAMBSoUYFAAAAgBoVAAAAAGpUAAAAAKhRAQAAAKBGBQAAAACoUQEAAACgRgUAAACAGhUAAAAAalQAAAAAgBoVAAAAAGpUAAAAAFuzRlUsFgOBQHt7uzTH5XJNTEwsYj2eOav2gSVJikajOPDrB4IES+TxeKr+x6XRaFSSpGw2uzrFyGazq7k5+nQ4+ggSgrTha1SpVOrZZ5+9cePG2bNnNU1Lp9M2m+3EiRMul6tcLmO3AoIEAABbytOLq0G3trb6/f533nnHYrHQxMOHD5+cc/78+UuXLmHPAoIEAABbx2LaqMbGxmRZFq+CpKmpqaenJxwOp1IpmuLxeKLRqM/nkySpvb29WCwyxjKZDHXxuFyufD6vWzn1AdntdnqL2AHE20JpLvW5lMvlaDRKK7Tb7aOjo7q2jWg0Ssv7fD40e6wrCBKsJkrRxMQEHeX29nZdv22xWKSMUah4/EwyEwgEeGCMW0ylUi6Xi1bo8/kot0SSJD6X91Zns1mxALp+n3w+T91S7e3tYtkAQUKQNmqNqlgsBoPBzs5O3VWQvP7664yxmzdv8inDw8OMMU3Tenp6rFZrKpVqaWk5ePCgpmmqqv785z9//PgxX7hcLh87dkzTtKGhIU3TTp06deLECV3C3n333aGhoXQ6feTIEcbYhQsXhoeHqc9oaGhobGzs/PnzfOFAIOB0Ont6ejRNe/HFFy9cuIBDvk4gSLD6xsfHP/roIzqOBw8edDqd/IqSz+ePHTt2//79ZDKpaZrNZmttbTXJTLlcPn/+fCwWSyaTH3/88Z///OexsTFdFby1tfXll1+m7uz79+8fO3ZMvBb29/e3tbVpmvbWW2/RVdBmszHG0um0pml79uyx2WyZTIYX7+TJk48fP06n016vNxwO3759GwcUQUKQ1pdKNbWmVyoVTdMYY5FIpNYCyhx67Xa7GWOlUonPlWXZ7Xbr1san+P1+WZbF5SORCGOsUCjwhUOhEJ+bTCbpKqtbYTKZrFQquVxOV1Ram0nhYXkhSLDSQeLxME6nw8QPKy1GGeCr5Znxer26zPj9fpPMxONxXWZo/TSlUCjoElIqlWRZ9vv9fNOqquoCL0aaVsi/Arri0drMdwsgSAjSKgdp+Z+esG/fvkQiwf9UVZU3QmSz2ampqY6ODj63ublZURT+ZywW279/fy6Xy/7N9u3bGWO3bt3iy/zgBz/gr3kbBl9enD45OckYa2tr48uLr2GdQ5Bg2amqarVa+Z906SKDg4O6FtOTJ08yxq5fv141M6lUSlGU5uZmPkUMJCVt+/btPFG5XG7//v2xWIwv8/LLL4sdMYlEorGxMStobGxMJBLUo60rnsVi6ezsxAFFkBCkdeXpZV/jzMyMeG3buXMnf/3o0SPG2K5du3QXTv56ak44HNat88mTJ/y1mNTZ2VnGGLVwimj6w4cPGWNi7sXXsM4hSLDsxBSJ6GKze/ducWJTU5NuMTEzMzMzYuR0gaSknThxwqQw27Zt469LpRJjrG+ObrFSqURdPLri6f4EBAlBWnMLbqOig03XGKNyuZxIJA4ePLjoAonNoVxXV5fJbwXj8iMjIzi06xyCBJue2PUj9hfUkk6njcuLrReAICFIm6pGZbVa3W53LBarOtzpk08+YYwdPXrU5CJKDQxiDV388/PPP19QecLhcK2BV1T1Fu/gE1/D2kKQYLk0NDRQLVw3nerrurbMqqgVQVe/Nw4gFe3bt08XOV0gqRN5QR/kyy+/rPVlMRav1q8RQJAQpA1To2KMnTlzZmpqamhoSJe8fD4/PDysqqrD4aj6RrrZRTeOXbxXxu/3h8NhMT0TExMmT4+l/ma6+vIy8CGpdLOL2HstvoY1hyDBsqCa94cffqhLUSwWUxSlzi5ar9erq9//+te/ZozRUNCqmUkkErqM8deUmcuXL/Mp5XK5vb291mP9KdJjY2NiAXw+n91upyl+v18sXrlcFu+kAQQJQVoXFjEggo+NUhQlHo/TkE4azqCqqtg+6Z4jvjGdTlPmNE1LJpM0yoAvUygU5Dk07pRGWPDuGBolIY6JqFQqqqrSUAi+QlmW+SiMUCjE59LaMERr/YysQZBguYJEh09V1cgcGuwpy3IulzNJkTgll8vJsqwoCmWGcsj7jmtlhmfM6/VSKvgylBmKaDqdphLy7hhjfijSqqrSoHdaIS8ARZrm8rVhiBaChCCtqyAtskZFB8bv9/N7h91uNw01r5Uz8XjTUZRlORKJ6Jah1dIFUlGUUCjEr6xVs1gqlSKRCBVDlmWv1ysOaqWBrzRXURSKGi6E6+f8hSDBcgUpEonwywMNLxevgvNeCOlayK9nqqqKOayVGZ4xt9ttHAafTCZ5kdxutziran7EC6qqqvF4XJwrFs/v99OFFtlAkBCk9RMkqeoNbpIkmd/4BlAPBAkQJECQYIsE6SnsGgAAAIAlQo0KAAAAADUqAAAAANSoAAAAAFCjAgAAAECNCgAAAABQowIAAABAjQoAAAAANSoAAAAA1KgAAAAAADUqAAAAANSoAAAAAFCjAgAAANjKqv//yZIkYdcAAAAAGFWtOz29oKUBFlZhlyQECRAkQJBgkwWp6nT0+gEAAAAsFWpUAAAAAKhRAQAAAKBGBQAAAIAaFQAAAABqVAAAAACAGhUAAAAAalQAAAAAqFEBAAAAoEYFAAAAAKhRAQAAAKBGBQAAALAFa1T5fN7n89ntdmmOx+PJZDIb5TN75qzChrLZrCRJ2Wx2Ee8tFos+n6/W3Gg0Kv1N/bPW4YGQDOx2eyAQKJfLa1Ik80MmSVI0Gt3QyZlXuVxub2+v+nUuFot2u71YLK7POOXz+UAg0N7ezk9KqVRqKSukr9Ii3rhqOVl0CSljo6Oj9S8fCASqfi7Kqsfjyefzm+OiiCAhSKtao8pms3v37r127VpnZ2ckEgmFQjMzMy0tLQvarWDu+vXrg4OD5stoc3QT29raNE3z+/0b5ZNq/9eZM2f6+vrOnz+PDKxcckxEIpF9+/YdPnzYOMtqtXZ2dv7yl79ch586lUrt3bv3wYMHPT09mqal0+mGhobW1tZAIIBIVDU2NjY9PV3nwhMTE319fYVCoaurSzerubm5VCo9fvz43/7t3zbBbkGQEKSleHoR7/H7/bIs37x502Kx0JTu7m6Px3Pu3Lmf/OQnVqsVIVsdzc3NVS97Vqv17t27G/RT0J/nzp07f/581es6rJxisXju3DljNZ1zuVzPPvvsmTNnqmZvrWQymdbWVr/f39vbyycePnx4x44dfX19P/zhDx0OBw7uUvzpT39yu921zu0Wi6WtrW18fHyjf0wECUFaosW0UYXD4SNHjvDqFHnrrbcYY7du3RLTSQ2n7e3tqVRK7GsztjHqpmQyGd4lpOsG4h0i1OfIGw9TqZTL5aK3+Hy+efsmotEorcHlcol9HNFo1OPxTExM0KZplkl5qKOEr81ut0ej0aqdVqlUSpIk8bdOrTJ7PB6n00mtvqvTQbmuHDlyhDH29ddf8ynZbFbcUWJ3mHmWKC3UEcbfLrYql8tlaoW22+31NLKWSiVa3rgqj8cTjUZpQ+3t7XQ0zZNTLBb52uhrUut386KTQ5+dwtne3m7eiXDp0iVFUUxqS1ar1e/3j42NravADA4OyrL8zjvv6Ka/8847sizzIBm7+3UnJeMXn5+OJEnSHR3qGFpETmhVdPjErfMDajxM2WyWp8jj8dTqDqYt8nLSeYlOwhRvnj1JkoJz+ClU3ITulMgYe/DgwbxHIZFIbPQzD4KEIK1BjcrtdgeDQV0sDh8+XKlUOjo6+Bm/paXl4MGDmqb19PT09/dPTk7W/0OhpaWloaFB7AYaGhoSl3n33XeHhobS6TRdfaPRaGtr68svv0zttPfv3z927JhJpSoYDA4PDw8NDWmatnPnzpaWFvHAT05O/uY3v0mn00NDQ83NzfOW5/z588PDw9RK3NPT43Q6daWlHaL79WNS5p6eHuq2oxVutRoVNbA999xzfNfZbLY9e/ak58zOztpstgXdt3f69OkdO3ZompZMJq9du/bzn/+cnynOnz8fi8WSyeTHH3/85z//ed66AjXhUEm++OKLkydPijEbHh7mR81qtZonp1gsHjt27MaNG8lkUtO0gwcPtra2TkxMLG9yent779+//8EHH2iadurUKafTaVJxjMVix48fN98Dr7zySjAYXD/3OhSLxUQi0dnZqfuNRz9579y5093dXeeqdF988eRGrfL17yvznPT391PvPP0QHR0ddTqdNCWdTh88eNDpdPIkZDIZm83GGKO1PX782GazGfd/IBDo6+tLJpO8HeXChQvDw8Nnz57VNG1oaGhsbIx3pmuaps7RNK2tra1YLL799ts8qHv27NGdErdIAy2ChCAtVaWaWtNJLpeTZZkxJsuy1+uNx+O5XE63jCzLbreb/0n9CHxKJBLRbUKc4vf7FUUR57rdbj6XVhUKhfjcQqFA93/wKaVSSZZlv99ftfy0NrHMyhyxJOl0ms81L08ymWSMJZNJPjcUCimKUiqVqKh0Iafe0vrLbNxFtXbX4hZYHeZlEHcjl0wmZVlWVbVWlqoer1qfnQ6BuOdprqZplUolHo/z12KRxCm6j0NHVjyIfOX0Xj533uRQ1adQKPC5qqp6vV5e7KUnJ5fL6cLp9Xp1O5NLp9Mmn13cnK4Aaxsk2lf1lMc9p9YU4xdf3JOhUEg8uLSvjOe9enLCGBPjTXnWnazEs6WYdr7/4/G4WELKknigKTni0aQdxZcRPzt9EcQoyrIs7lLjrlufJxwECUFa2yAtpo2qqanp5s2b8Xj8yJEjg4ODJ06c2Lt3rzg+KJvNTk1NiV3Ozc3NiqLUuf7e3t6rV6+KUw4dOqRb5gc/+AF/TV2N27dvz/5NLpfbv39/LBartQlVVZuamvifp06dSiQSYt1f/GFhXh76wSF+2O7u7qtXr/IfOvfu3evv7/d6vWLf/CLKvFnpxvq1trZ2dnZevHhRzBJv+yRnz55NJBL1D4V75ZVX+OsDBw6IzT+6Ti7dhoyOHz/Oj6zVanW73Tdu3BBzJf7ANU9OLBbT3VJw6dKlgYEB/ufSk0MrD4fDqVSKGuoHBgZGRkaqfjTq1Ni7d6/5HrBYLLIs//GPf9yUaazV4/nP//zPdJnkHROKoojnkAXl5OWXXxYXvnr1qniI6SpIL/L5fCKROHXqlLj/xd4AinFfX188HhfPQrwhhOdEN120a9cuxti//uu/8nP4nTt3xHuHHz9+3NjYaLLfqEV5rYboIkgI0jrx9OLeZrFYOuaMjIxks9nJycmxsbGWlpZ0Os3vJn7++efFt+zbt6/+9ZfL5Vwud/fu3VKpND09HQwGjQXgr588ecIYO3HiRP3r37lzp/jnCy+8wBh79OgRv7zpGn5NyjM7O8tTWxUvWH9/P1/tIsq8WfH7oK9cuXLt2rWenh7xG3jv3j3+ReV00aonrlWnz8zM6GKp25DRtm3bxD9feuklMQy6XJknZ2pqyrxLd+nJsVgsyWSyv7+/tbWVKnxvvPGGw+GoukMePnxosq9ER44cmZ2d3ZRprPXxm5qaFEW5efOmw+Eol8uDg4PU2LC4nOjmUpfTvXv3vv7664cPH2qaFg6HeZOn7meAER3cVColXh3pAFEvj6jqgTt8+HAoFDp37hyNEvV6vUePHuWX1VQq9dVXX/3iF78wKUNLS4uqqh9++KHuir5lIUhbM0hPLUtlvLu7+9e//vVy3VOWz+ePHj1qs9nGx8enp6cPHTpUz7MAxN4WsWlurcojtluk0+mpqakPP/xw1cq8sX7MkYGBgc7OTvMbfTaW9ZAch8Nx8+bNZDLp9/u/+uqrEydO1HoyRT03ja5DVAmm6qCRx+NZytO5dK0Fg4OD5XKZGhh+8pOfLNdHSKVSzz77bEtLy/Xr17/99ts33nhDVdX63+73+yORiPHeVl2XEKnVQtnd3V0oFOLxuNfrHRwcbG1tpa8h3bQ3NDRk0o5CFQi6/2bjjqRBkBCkNahR0RAG471mTU1NqqpSvZUqztS6IDb3maz29u3b/PXJkyefe+65QqFw9erVkZGRrq6ub7/9dt6CLe5xiIT6O2q1T5iXp6GhQdeElslk7HY7v+Ovr6/v8OHDfr+/r69PV8illHlT6u3tVVX13LlzfM9Qc9SjR4/ExXTRMsmSuX379s3MzIhTdBua1/T0tEl3tnlyZFnWFXV0dFQc9bNcybFYLA6Ho7e3986dO6FQKBwOV337Sy+9tBEzY7VaVVWNxWLGnoJisWhs3haZz9WhK186nb5586aqqgt6TIxJTvL5fGtrq9frLZVK1O3b0dHx1VdfiY0QuoehuFwuceBnb29vV1eXoij9/f3iTgiHwwvqPbFarR0dHQMDA6VSye12nzt3jjHW1dWVTCZbW1vNxyKUy+XTp0/7/f5aF1oECUHaCkFacI3qRz/6EWPs4sWLul2cyWTC4TCdlKlh8ze/+Y14sMPhsDGmfCeKIwGnpqaOHz/Oc1Yul69du2ZSpLa2NsbY5cuXxaPS3t5uUskNBoPi1sfHx00ekmFenqNHj9KPAz7ld7/7Hb+FhaPxt+++++6iy7xF9PX10VhOClhzc7Msy7oRcB999JEsy+KdCrWyZK6jo0N3P5ZxqJ2O+KyUfD4fDAbFWxMWlJzOzk4xh4yxTz/91Ng5vpTk0ENGxN8/1MFdFZ1z63kkejAYbGhoWFeZqdqSRw8jffPNN/kUsQK90N8zdMW9efPmtWvX3njjjeXKCXXHKIrC+4no3kH+S1VRFHFtxWIxHA7v3r1bt55f/epX4k6gjptPPvlELEatZ3DT72R+SrdYLOLNLg6HQ1VV6oWoJZ1OJxIJ43MHNtzJB0FCkJZkEUO06OZ/GugXmeP1eqltUDeEwev10ngleQ6/yZ+GIFGnRjqdVlWVBg/yIQmyLNOQ8mQySX/qRm/pRiRRVzRtjlaoG21hHG+lKArfujjawjjWwLw8NESLL0BvpwEUuqLSOAg+8MG8zLRw1XGUm3usH98zfDgn5c3tdtPxonfxHWWeJWNadFPEY0cxNh/rRyXhqRZH4hiHsZgnp1Ao0KjGdDrNt06He7mSQ8MAxTLoxlEaxzrV+tboBhtSwtdJkHjg3W43/6S0W8RRS7Rnap2UzAeN8jXQERRHMy00J7oBZbQ/eQwikYiuYOK5lA43X5uuhBQhMdu0LfHz8pJ7vV5ZltPpdKFQoEMvlkE3nnorjPVDkBCkpQeJLS52dAGgTFDtJBKJ6O7toCdV0Nx4PK7blel0mlov6b26Id/82qaqajKZpCjQub5qjYquu7zPmCJoPvaVAkcLi7UW4xE1Lw8NQw2FQrQ2+rC1LudUQp5FkzJTe6k49nXr1KhKpRJlgx8XXm/gZwTdsP9aWZq3RlUqlej/AKBdbXyegu7jhEIhfi+U3+8XM288WcybnEKhIC7At7uMyaEy8Med6MpsfOiJePoz+UFlfiVY/Quh8aRkzAl9L2gBOukbB72bf4n4RWve0prkxDhE3xhv3Rh7fi6lBfjO15WQ6uh8hHypVIpEIvTVoB/A4lHL5XI0iwrDf6vw75H58wI2a40KQUKQlhIkqeoNrZIkLfst0tQrsXF72deVaDTqdDpNjtG8C6yOlQgSrJxAIHDjxg3dEx90fD7f7OzsKn+R10mQyuXytm3bxIcfbhHznr3XyQkHQUKQ1jZIT+EqAgDE5XKZP+irWCwODg6eOXNma+4ful2ypaVlq31w82cI8QYJfIMQpC0eJNSoNjDxeWviNS+bzdYaAwxgwmq1hkIhk/+K59KlS263e139N8mrdgkcHR0dGBgIhUL1PLJrk/mnf/on3SgKUblcvn79+sGDB/ENQpC2eJBQo9rAbHN0E69fv26z2WjEHMBCOZ3OmZmZqs1UxWIxFou99957W3C33Lx589y5c0eOHKH/iHqr6ejo8Pv9zz77rHGEVzab3bZt286dO//lX/4FXx8EaYsHafXuo4ItCEECBAkQJNgiQUIbFQAAAMBSoUYFAAAAgBoVAAAAAGpUAAAAAKhRAQAAAKBGBQAAAACoUQEAAACgRgUAAACAGhUAAADA1lbzmenYNQAAAABGVetOT9e/KAAAAABUhV4/AAAAANSoAAAAAFCjAgAAAECNCgAAAAA1KgAAAABAjQoAAAAANSoAAAAA1KgAAAAAtrb/PwAA//+Rpgx16bLA2QAAAABJRU5ErkJggg==)"
      ],
      "metadata": {
        "id": "Kul40dyJ9D97"
      }
    },
    {
      "cell_type": "markdown",
      "metadata": {
        "id": "5-Eins3O2S3P"
      },
      "source": [
        "#### Lists"
      ]
    },
    {
      "cell_type": "markdown",
      "metadata": {
        "id": "V7Htdbb02S3Q"
      },
      "source": [
        "A list is the Python equivalent of an array, but is resizeable and can contain elements of different types:"
      ]
    },
    {
      "cell_type": "code",
      "execution_count": null,
      "metadata": {
        "colab": {
          "base_uri": "https://localhost:8080/"
        },
        "id": "gbY0kjXq2S3Q",
        "outputId": "725c7b20-63eb-495a-8fa7-334f9540e170"
      },
      "outputs": [
        {
          "output_type": "stream",
          "name": "stdout",
          "text": [
            "[3, 1, 2, 8, 4, 0] 2\n",
            "2\n"
          ]
        }
      ],
      "source": [
        "xs = [3, 1, 2, 8, 4, 0]   # Create a list\n",
        "print(xs, xs[2])\n",
        "print(xs[-4])     # Negative indices count from the end of the list; prints \"2\""
      ]
    },
    {
      "cell_type": "code",
      "execution_count": null,
      "metadata": {
        "colab": {
          "base_uri": "https://localhost:8080/"
        },
        "id": "W6G3wq5q2S3Q",
        "outputId": "ce81d527-7010-4786-cca4-26b4e9e524c9"
      },
      "outputs": [
        {
          "output_type": "stream",
          "name": "stdout",
          "text": [
            "[3, 1, 'foo', 8, 4, 0]\n",
            "[3, True, 'foo', 8, 4, 0]\n"
          ]
        }
      ],
      "source": [
        "xs[2] = 'foo'    # Lists can contain elements of different types\n",
        "print(xs)\n",
        "xs[1] = True\n",
        "print(xs)"
      ]
    },
    {
      "cell_type": "code",
      "execution_count": null,
      "metadata": {
        "colab": {
          "base_uri": "https://localhost:8080/"
        },
        "id": "PLAZylp92S3Q",
        "outputId": "796d0465-0d75-4599-b8e9-8a4e135df77f"
      },
      "outputs": [
        {
          "output_type": "stream",
          "name": "stdout",
          "text": [
            "[3, True, 'foo', 8, 4, 0, 'bar']\n"
          ]
        }
      ],
      "source": [
        "xs.append('bar') # Add a new element to the end of the list\n",
        "print(xs)"
      ]
    },
    {
      "cell_type": "code",
      "execution_count": null,
      "metadata": {
        "colab": {
          "base_uri": "https://localhost:8080/"
        },
        "id": "xnWs_rhZ2S3Q",
        "outputId": "149d15a3-951a-4708-a388-3aad3f3f51cf"
      },
      "outputs": [
        {
          "output_type": "stream",
          "name": "stdout",
          "text": [
            "bar [3, True, 'foo', 8, 4, 0]\n"
          ]
        }
      ],
      "source": [
        "x = xs.pop()     # Remove and return the last element of the list\n",
        "print(x, xs)"
      ]
    },
    {
      "cell_type": "markdown",
      "metadata": {
        "id": "Ua5gdzPJ2S3Q"
      },
      "source": [
        "As usual, you can find all the gory details about lists in the [documentation](https://docs.python.org/2/tutorial/datastructures.html#more-on-lists)."
      ]
    },
    {
      "cell_type": "markdown",
      "metadata": {
        "id": "2ZkXuqE22S3R"
      },
      "source": [
        "#### Slicing"
      ]
    },
    {
      "cell_type": "markdown",
      "metadata": {
        "id": "WfyAEsDL2S3R"
      },
      "source": [
        "In addition to accessing list elements one at a time, Python provides concise syntax to access sublists; this is known as slicing:"
      ]
    },
    {
      "cell_type": "code",
      "execution_count": null,
      "metadata": {
        "colab": {
          "base_uri": "https://localhost:8080/"
        },
        "id": "QKiT_cA-2S3R",
        "outputId": "e8b88bd7-dbef-4735-ccb1-b76921218fc9"
      },
      "outputs": [
        {
          "output_type": "stream",
          "name": "stdout",
          "text": [
            "[0, 1, 2, 3, 4]\n",
            "[2, 3]\n",
            "[2, 3, 4]\n",
            "[0, 1]\n",
            "[0, 1, 2, 3, 4]\n",
            "[0, 1, 2, 3]\n",
            "[0, 1, 8, 9, 4]\n"
          ]
        }
      ],
      "source": [
        "nums = [i for i in range(5)]   # range is a built-in function that creates a list of integers\n",
        "print(nums)         # Prints \"[0, 1, 2, 3, 4]\"\n",
        "print(nums[2:4])    # Get a slice from index 2 to 4 (exclusive); prints \"[2, 3]\"\n",
        "print(nums[2:])    # Get a slice from index 2 to the end; prints \"[2, 3, 4]\"\n",
        "print(nums[:2])    # Get a slice from the start to index 2 (exclusive); prints \"[0, 1]\"\n",
        "print(nums[:])      # Get a slice of the whole list; prints [\"0, 1, 2, 3, 4]\"\n",
        "print(nums[:-1])    # Slice indices can be negative; prints [\"0, 1, 2, 3]\"\n",
        "nums[2:4] = [8, 9] # Assign a new sublist to a slice\n",
        "print(nums)        # Prints \"[0, 1, 8, 9, 4]\""
      ]
    },
    {
      "cell_type": "markdown",
      "metadata": {
        "id": "aMcI7nIX2S3R"
      },
      "source": [
        "#### Loops"
      ]
    },
    {
      "cell_type": "markdown",
      "metadata": {
        "id": "dcoFAM9n2S3R"
      },
      "source": [
        "You can loop over the elements of a list like this:"
      ]
    },
    {
      "cell_type": "code",
      "execution_count": null,
      "metadata": {
        "colab": {
          "base_uri": "https://localhost:8080/"
        },
        "id": "RU1Te1Dt2S3R",
        "outputId": "bc47bf62-b6c0-43e7-9ab2-e88b42b59a1b"
      },
      "outputs": [
        {
          "output_type": "stream",
          "name": "stdout",
          "text": [
            "cat\n",
            "dog\n",
            "monkey\n"
          ]
        }
      ],
      "source": [
        "animals = ['cat', 'dog', 'monkey']\n",
        "for animal in animals:\n",
        "    print(animal)"
      ]
    },
    {
      "cell_type": "markdown",
      "metadata": {
        "id": "XPU8ZyUB2S3R"
      },
      "source": [
        "If you want access to the index of each element within the body of a loop, use the built-in `enumerate` function:"
      ]
    },
    {
      "cell_type": "code",
      "execution_count": null,
      "metadata": {
        "colab": {
          "base_uri": "https://localhost:8080/"
        },
        "id": "uwZZ6JRZ2S3S",
        "outputId": "130bfc2c-bd95-4271-b0c8-391979bb629b"
      },
      "outputs": [
        {
          "output_type": "stream",
          "name": "stdout",
          "text": [
            "1 cat\n",
            "2 dog\n",
            "3 monkey\n"
          ]
        }
      ],
      "source": [
        "animals = ['cat', 'dog', 'monkey']\n",
        "for idx, animal in enumerate(animals):\n",
        "    print(idx + 1, animal)"
      ]
    },
    {
      "cell_type": "markdown",
      "metadata": {
        "id": "Y4D-ARJH2S3S"
      },
      "source": [
        "#### List comprehensions:"
      ]
    },
    {
      "cell_type": "markdown",
      "metadata": {
        "id": "H_44a61Q2S3S"
      },
      "source": [
        "When programming, frequently we want to transform one type of data into another. As a simple example, consider the following code that computes square numbers:"
      ]
    },
    {
      "cell_type": "code",
      "execution_count": null,
      "metadata": {
        "colab": {
          "base_uri": "https://localhost:8080/"
        },
        "id": "qY-tofHe2S3S",
        "outputId": "d713d646-3a88-4ee5-af8f-b3155914d3ce"
      },
      "outputs": [
        {
          "output_type": "stream",
          "name": "stdout",
          "text": [
            "[0, 1, 4, 9, 16]\n"
          ]
        }
      ],
      "source": [
        "nums = [0, 1, 2, 3, 4]\n",
        "squares = []\n",
        "for x in nums:\n",
        "    squares.append(x ** 2)\n",
        "print(squares)"
      ]
    },
    {
      "cell_type": "markdown",
      "metadata": {
        "id": "Fit8WS9I2S3S"
      },
      "source": [
        "You can make this code simpler using a list comprehension:"
      ]
    },
    {
      "cell_type": "code",
      "execution_count": null,
      "metadata": {
        "colab": {
          "base_uri": "https://localhost:8080/"
        },
        "id": "mLanIb1j2S3S",
        "outputId": "f7c690d1-7a2a-4d32-8e86-f68e4b6f2058"
      },
      "outputs": [
        {
          "output_type": "stream",
          "name": "stdout",
          "text": [
            "[0, 1, 4, 9, 16]\n"
          ]
        }
      ],
      "source": [
        "nums = [0, 1, 2, 3, 4]\n",
        "squares = [x ** 2 for x in nums]\n",
        "print(squares)"
      ]
    },
    {
      "cell_type": "markdown",
      "metadata": {
        "id": "_ovP0Ezk2S3T"
      },
      "source": [
        "List comprehensions can also contain conditions:"
      ]
    },
    {
      "cell_type": "code",
      "execution_count": null,
      "metadata": {
        "colab": {
          "base_uri": "https://localhost:8080/"
        },
        "id": "V_ZihVgB2S3T",
        "outputId": "533d10b4-a3af-4d5e-d0e6-57efd3a3bca1"
      },
      "outputs": [
        {
          "output_type": "stream",
          "name": "stdout",
          "text": [
            "[0, 4, 16]\n"
          ]
        }
      ],
      "source": [
        "nums = [0, 1, 2, 3, 4]\n",
        "even_squares = [x ** 2 for x in nums if x % 2 == 0]\n",
        "print(even_squares)"
      ]
    },
    {
      "cell_type": "markdown",
      "metadata": {
        "id": "-fMdXFOA2S3T"
      },
      "source": [
        "#### Dictionaries"
      ]
    },
    {
      "cell_type": "markdown",
      "metadata": {
        "id": "J58gBbyB2S3T"
      },
      "source": [
        "A dictionary stores (key, value) pairs, similar to a `Map` in Java or an object in Javascript. You can use it like this:"
      ]
    },
    {
      "cell_type": "code",
      "execution_count": null,
      "metadata": {
        "colab": {
          "base_uri": "https://localhost:8080/"
        },
        "id": "sG5DY9xl2S3T",
        "outputId": "3b992fb5-03e1-4171-aad8-ff700c7167ca"
      },
      "outputs": [
        {
          "output_type": "stream",
          "name": "stdout",
          "text": [
            "cute\n",
            "furry\n",
            "True\n"
          ]
        }
      ],
      "source": [
        "e = dict()\n",
        "f = {}\n",
        "d = {'cat': 'cute', 'dog': 'furry'}  # Create a new dictionary with some data\n",
        "print(d['cat'])\n",
        "print(d['dog']) # Get an entry from a dictionary\n",
        "print('cat' in d)    # Check if a dictionary has a given key"
      ]
    },
    {
      "cell_type": "code",
      "execution_count": null,
      "metadata": {
        "colab": {
          "base_uri": "https://localhost:8080/"
        },
        "id": "wZcCZ8BR2S3T",
        "outputId": "c81f2b8e-1f02-4712-f9a8-6595755ee944"
      },
      "outputs": [
        {
          "output_type": "stream",
          "name": "stdout",
          "text": [
            "wet\n"
          ]
        }
      ],
      "source": [
        "d['fish'] = 'wet'    # Set an entry in a dictionary\n",
        "print(d['fish'])     "
      ]
    },
    {
      "cell_type": "code",
      "execution_count": null,
      "metadata": {
        "colab": {
          "base_uri": "https://localhost:8080/",
          "height": 165
        },
        "id": "mv7rCJtn2S3T",
        "outputId": "8cce0730-797a-4a86-e72f-492036fff499"
      },
      "outputs": [
        {
          "output_type": "error",
          "ename": "KeyError",
          "evalue": "ignored",
          "traceback": [
            "\u001b[0;31m---------------------------------------------------------------------------\u001b[0m",
            "\u001b[0;31mKeyError\u001b[0m                                  Traceback (most recent call last)",
            "\u001b[0;32m<ipython-input-56-78fc9745d9cf>\u001b[0m in \u001b[0;36m<module>\u001b[0;34m()\u001b[0m\n\u001b[0;32m----> 1\u001b[0;31m \u001b[0mprint\u001b[0m\u001b[0;34m(\u001b[0m\u001b[0md\u001b[0m\u001b[0;34m[\u001b[0m\u001b[0;34m'monkey'\u001b[0m\u001b[0;34m]\u001b[0m\u001b[0;34m)\u001b[0m  \u001b[0;31m# KeyError: 'monkey' not a key of d\u001b[0m\u001b[0;34m\u001b[0m\u001b[0;34m\u001b[0m\u001b[0m\n\u001b[0m",
            "\u001b[0;31mKeyError\u001b[0m: 'monkey'"
          ]
        }
      ],
      "source": [
        "print(d['monkey'])  # KeyError: 'monkey' not a key of d"
      ]
    },
    {
      "cell_type": "code",
      "execution_count": null,
      "metadata": {
        "colab": {
          "base_uri": "https://localhost:8080/"
        },
        "id": "0gkm7dvy2S3U",
        "outputId": "afefadec-f3e5-46fb-f746-e5bdc62472f4"
      },
      "outputs": [
        {
          "output_type": "stream",
          "name": "stdout",
          "text": [
            "N/A\n",
            "wet\n"
          ]
        }
      ],
      "source": [
        "print(d.get('monkey', 'N/A'))  # Get an element with a default; prints \"N/A\"\n",
        "print(d.get('fish', 'N/A'))    # Get an element with a default; prints \"wet\""
      ]
    },
    {
      "cell_type": "code",
      "execution_count": null,
      "metadata": {
        "colab": {
          "base_uri": "https://localhost:8080/"
        },
        "id": "qBdXzPBq2S3U",
        "outputId": "53f264c8-99b6-4dc8-b957-5254f342a954"
      },
      "outputs": [
        {
          "output_type": "stream",
          "name": "stdout",
          "text": [
            "N/A\n"
          ]
        }
      ],
      "source": [
        "del d['fish']        # Remove an element from a dictionary\n",
        "print(d.get('fish', 'N/A')) # \"fish\" is no longer a key; prints \"N/A\""
      ]
    },
    {
      "cell_type": "markdown",
      "metadata": {
        "id": "xW9b0XCn2S3U"
      },
      "source": [
        "You can find all you need to know about dictionaries in the [documentation](https://docs.python.org/2/library/stdtypes.html#dict)."
      ]
    },
    {
      "cell_type": "markdown",
      "metadata": {
        "id": "bOEN4mmQ2S3U"
      },
      "source": [
        "It is easy to iterate over the keys in a dictionary:"
      ]
    },
    {
      "cell_type": "code",
      "execution_count": null,
      "metadata": {
        "colab": {
          "base_uri": "https://localhost:8080/"
        },
        "id": "PBFk-C3r2S3U",
        "outputId": "257b27bc-c500-4a10-c096-8d10eb080a01"
      },
      "outputs": [
        {
          "output_type": "stream",
          "name": "stdout",
          "text": [
            "A person has 2 legs\n",
            "A cat has 4 legs\n",
            "A spider has 8 legs\n"
          ]
        }
      ],
      "source": [
        "d = {'person': 2, 'cat': 4, 'spider': 8}\n",
        "for animal in d:\n",
        "    legs = d[animal]\n",
        "    print(f'A {animal} has {legs} legs')"
      ]
    },
    {
      "cell_type": "markdown",
      "metadata": {
        "id": "dITSsQI92S3U"
      },
      "source": [
        "If you want access to keys and their corresponding values, use the iteritems method:"
      ]
    },
    {
      "cell_type": "code",
      "execution_count": null,
      "metadata": {
        "colab": {
          "base_uri": "https://localhost:8080/"
        },
        "id": "i4hrYb-w2S3U",
        "outputId": "4a0cf9d2-56ea-48b0-d06a-3c786e32a618"
      },
      "outputs": [
        {
          "output_type": "stream",
          "name": "stdout",
          "text": [
            "A person has 2 legs\n",
            "A cat has 4 legs\n",
            "A spider has 8 legs\n"
          ]
        }
      ],
      "source": [
        "d = {'person': 2, 'cat': 4, 'spider': 8}\n",
        "for pair in d.items():\n",
        "\n",
        "    print(f'A {pair[0]} has {pair[1]} legs')"
      ]
    },
    {
      "cell_type": "markdown",
      "metadata": {
        "id": "6-HenJLZ2S3U"
      },
      "source": [
        "Dictionary comprehensions: These are similar to list comprehensions, but allow you to easily construct dictionaries. For example:"
      ]
    },
    {
      "cell_type": "code",
      "execution_count": null,
      "metadata": {
        "colab": {
          "base_uri": "https://localhost:8080/"
        },
        "id": "i81aBU2w2S3V",
        "outputId": "d98e99e6-4bd0-483c-fd85-f4df83de6bba"
      },
      "outputs": [
        {
          "output_type": "stream",
          "name": "stdout",
          "text": [
            "{0: 0, 2: 4, 4: 16}\n"
          ]
        }
      ],
      "source": [
        "nums = [0, 1, 2, 3, 4]\n",
        "even_num_to_square = {x: x ** 2 for x in nums if x % 2 == 0}\n",
        "print(even_num_to_square)"
      ]
    },
    {
      "cell_type": "markdown",
      "metadata": {
        "id": "p7ETqb5O2S3V"
      },
      "source": [
        "#### Sets"
      ]
    },
    {
      "cell_type": "markdown",
      "metadata": {
        "id": "ncF3EZc72S3V"
      },
      "source": [
        "A set is an unordered collection of distinct elements. As a simple example, consider the following:"
      ]
    },
    {
      "cell_type": "code",
      "execution_count": null,
      "metadata": {
        "colab": {
          "base_uri": "https://localhost:8080/"
        },
        "id": "0U4NIr0v2S3V",
        "outputId": "00b881e6-ca4d-4759-e548-44d265a5a52c"
      },
      "outputs": [
        {
          "output_type": "stream",
          "name": "stdout",
          "text": [
            "True\n",
            "False\n"
          ]
        }
      ],
      "source": [
        "animals = {'cat', 'dog'}\n",
        "print('cat' in animals)   \n",
        "print('fish' in animals)\n"
      ]
    },
    {
      "cell_type": "code",
      "execution_count": null,
      "metadata": {
        "colab": {
          "base_uri": "https://localhost:8080/"
        },
        "id": "mRhJETNy2S3V",
        "outputId": "6c7915f8-a251-4f95-e859-b7d521629b47"
      },
      "outputs": [
        {
          "output_type": "stream",
          "name": "stdout",
          "text": [
            "True\n",
            "3\n"
          ]
        }
      ],
      "source": [
        "animals.add('fish')      # Add an element to a set\n",
        "print('fish' in animals)\n",
        "print(len(animals))      # Number of elements in a set;"
      ]
    },
    {
      "cell_type": "code",
      "execution_count": null,
      "metadata": {
        "colab": {
          "base_uri": "https://localhost:8080/"
        },
        "id": "ZQ0Ag2dq2S3V",
        "outputId": "d1d3a21a-43a5-4737-99ac-16570a18ef82"
      },
      "outputs": [
        {
          "output_type": "stream",
          "name": "stdout",
          "text": [
            "3\n",
            "2\n"
          ]
        }
      ],
      "source": [
        "animals.add('cat')       # Adding an element that is already in the set does nothing\n",
        "print(len(animals))      \n",
        "animals.remove('cat')    # Remove an element from a set\n",
        "print(len(animals))      "
      ]
    },
    {
      "cell_type": "markdown",
      "metadata": {
        "id": "2lYEHgQm2S3V"
      },
      "source": [
        "_Loops_: Iterating over a set has the same syntax as iterating over a list; however since sets are unordered, you cannot make assumptions about the order in which you visit the elements of the set:"
      ]
    },
    {
      "cell_type": "code",
      "execution_count": null,
      "metadata": {
        "colab": {
          "base_uri": "https://localhost:8080/"
        },
        "id": "7Uteyqc42S3W",
        "outputId": "b01debf8-95ec-4f42-e588-62b12a04163a"
      },
      "outputs": [
        {
          "output_type": "stream",
          "name": "stdout",
          "text": [
            "1 cat\n",
            "2 fish\n",
            "3 dog\n"
          ]
        }
      ],
      "source": [
        "animals = {'cat', 'dog', 'fish'}\n",
        "for idx, animal in enumerate(animals):\n",
        "    print(idx + 1, animal)"
      ]
    },
    {
      "cell_type": "markdown",
      "metadata": {
        "id": "SVBHTzbK2S3W"
      },
      "source": [
        "Set comprehensions: Like lists and dictionaries, we can easily construct sets using set comprehensions:"
      ]
    },
    {
      "cell_type": "code",
      "execution_count": null,
      "metadata": {
        "colab": {
          "base_uri": "https://localhost:8080/"
        },
        "id": "n2J9Z_kZ2S3W",
        "outputId": "4d1dcfd1-6dcb-46b0-8645-0cb6a1bb7520"
      },
      "outputs": [
        {
          "output_type": "stream",
          "name": "stdout",
          "text": [
            "{0, 1, 2, 3, 4, 5}\n"
          ]
        }
      ],
      "source": [
        "from math import sqrt\n",
        "print({int(sqrt(x)) for x in range(30)})"
      ]
    },
    {
      "cell_type": "markdown",
      "metadata": {
        "id": "aCD82J8F2S3W"
      },
      "source": [
        "#### Tuples"
      ]
    },
    {
      "cell_type": "markdown",
      "metadata": {
        "id": "WiJswAIY2S3W"
      },
      "source": [
        "A tuple is an (immutable) ordered list of values. A tuple is in many ways similar to a list; one of the most important differences is that tuples can be used as keys in dictionaries and as elements of sets, while lists cannot. Here is a trivial example:"
      ]
    },
    {
      "cell_type": "code",
      "execution_count": null,
      "metadata": {
        "colab": {
          "base_uri": "https://localhost:8080/"
        },
        "id": "SHY34rqm2S3W",
        "outputId": "8a09e053-0281-4960-94e7-0d806e847503"
      },
      "outputs": [
        {
          "output_type": "stream",
          "name": "stdout",
          "text": [
            "<class 'tuple'>\n",
            "5\n",
            "1\n"
          ]
        }
      ],
      "source": [
        "d = {(x, x + 1): x for x in range(10)}  # Create a dictionary with tuple keys\n",
        "t = (5, 6)       # Create a tuple\n",
        "print(type(t))\n",
        "print(d[t])      \n",
        "print(d[(1, 2)])"
      ]
    },
    {
      "cell_type": "code",
      "execution_count": null,
      "metadata": {
        "colab": {
          "base_uri": "https://localhost:8080/",
          "height": 165
        },
        "id": "TWrz0p4Z2S3W",
        "outputId": "c4f4d01d-0040-4489-bfb2-4dc245351b2a"
      },
      "outputs": [
        {
          "output_type": "error",
          "ename": "TypeError",
          "evalue": "ignored",
          "traceback": [
            "\u001b[0;31m---------------------------------------------------------------------------\u001b[0m",
            "\u001b[0;31mTypeError\u001b[0m                                 Traceback (most recent call last)",
            "\u001b[0;32m<ipython-input-70-c8aeb8cd20ae>\u001b[0m in \u001b[0;36m<module>\u001b[0;34m()\u001b[0m\n\u001b[0;32m----> 1\u001b[0;31m \u001b[0mt\u001b[0m\u001b[0;34m[\u001b[0m\u001b[0;36m0\u001b[0m\u001b[0;34m]\u001b[0m \u001b[0;34m=\u001b[0m \u001b[0;36m1\u001b[0m\u001b[0;34m\u001b[0m\u001b[0;34m\u001b[0m\u001b[0m\n\u001b[0m",
            "\u001b[0;31mTypeError\u001b[0m: 'tuple' object does not support item assignment"
          ]
        }
      ],
      "source": [
        "t[0] = 1"
      ]
    },
    {
      "cell_type": "markdown",
      "metadata": {
        "id": "tRXVy6N22S3X"
      },
      "source": [
        "### Functions"
      ]
    },
    {
      "cell_type": "markdown",
      "metadata": {
        "id": "4P8iydSX2S3X"
      },
      "source": [
        "Python functions are defined using the `def` keyword. For example:"
      ]
    },
    {
      "cell_type": "code",
      "execution_count": null,
      "metadata": {
        "colab": {
          "base_uri": "https://localhost:8080/"
        },
        "id": "30fwb0q82S3X",
        "outputId": "b4a4a50b-f784-4964-9299-1877f4fdc37a"
      },
      "outputs": [
        {
          "output_type": "stream",
          "name": "stdout",
          "text": [
            "Negative\n",
            "Zero\n",
            "Positive\n"
          ]
        }
      ],
      "source": [
        "def sign(x):\n",
        "    if x > 0:\n",
        "        return 'Positive'\n",
        "    elif x < 0:\n",
        "        return 'Negative'\n",
        "    else:\n",
        "        return 'Zero'\n",
        "\n",
        "for x in [-1, 0, 1]:\n",
        "    print(sign(x))"
      ]
    },
    {
      "cell_type": "markdown",
      "metadata": {
        "id": "4rri90LT2S3X"
      },
      "source": [
        "We will often define functions to take optional keyword arguments, like this:"
      ]
    },
    {
      "cell_type": "code",
      "execution_count": null,
      "metadata": {
        "colab": {
          "base_uri": "https://localhost:8080/"
        },
        "id": "zzVVt5tD2S3X",
        "outputId": "2ce2abb0-fd47-4272-9f4f-5f4ec43b0a70"
      },
      "outputs": [
        {
          "output_type": "stream",
          "name": "stdout",
          "text": [
            "Hello, Bob\n",
            "HELLO, FRED\n"
          ]
        }
      ],
      "source": [
        "def hello(name, loud=False):\n",
        "    if loud:\n",
        "        print(f'HELLO, {name.upper()}')\n",
        "    else:\n",
        "        print(f'Hello, {name}')\n",
        "\n",
        "hello('Bob')\n",
        "hello('Fred', loud=True)"
      ]
    },
    {
      "cell_type": "markdown",
      "metadata": {
        "id": "F89NJ69v2S3X"
      },
      "source": [
        "### Classes"
      ]
    },
    {
      "cell_type": "markdown",
      "metadata": {
        "id": "HO56o6P72S3X"
      },
      "source": [
        "The syntax for defining classes in Python is straightforward:"
      ]
    },
    {
      "cell_type": "code",
      "execution_count": null,
      "metadata": {
        "colab": {
          "base_uri": "https://localhost:8080/"
        },
        "id": "AKIYMNba2S3Y",
        "outputId": "eb4581a8-e317-464b-dab4-b7c135c1991b"
      },
      "outputs": [
        {
          "output_type": "stream",
          "name": "stdout",
          "text": [
            "Hello, Fred\n",
            "HELLO, FRED!\n"
          ]
        }
      ],
      "source": [
        "class Greeter():\n",
        "\n",
        "    # Constructor\n",
        "    def __init__(self, name):\n",
        "        self.name = name  # Create an instance variable\n",
        "\n",
        "    # Instance method\n",
        "    def greet(self, loud=False):\n",
        "        if loud:\n",
        "            print('HELLO, %s!' % self.name.upper())\n",
        "        else:\n",
        "            print('Hello, %s' % self.name)\n",
        "            \n",
        "g = Greeter('Fred')  # Construct an instance of the Greeter class\n",
        "g.greet()            # Call an instance method; prints \"Hello, Fred\"\n",
        "g.greet(loud=True)   # Call an instance method; prints \"HELLO, FRED!\""
      ]
    },
    {
      "cell_type": "markdown",
      "metadata": {
        "id": "QTa_Ctcf2S3Y"
      },
      "source": [
        "## Numpy"
      ]
    },
    {
      "cell_type": "markdown",
      "metadata": {
        "id": "AZGnSbON2S3Y"
      },
      "source": [
        "Numpy is the core library for scientific computing in Python. It provides a high-performance multidimensional array object, and tools for working with these arrays. If you are already familiar with MATLAB, you might find this [tutorial](http://wiki.scipy.org/NumPy_for_Matlab_Users) useful to get started with Numpy."
      ]
    },
    {
      "cell_type": "markdown",
      "metadata": {
        "id": "dWLwMwaK2S3Y"
      },
      "source": [
        "To use Numpy, we first need to import the `numpy` package:"
      ]
    },
    {
      "cell_type": "code",
      "execution_count": null,
      "metadata": {
        "id": "v1ALq-Bg2S3Y"
      },
      "outputs": [],
      "source": [
        "import numpy as np"
      ]
    },
    {
      "cell_type": "markdown",
      "metadata": {
        "id": "RiiqUNKL2S3Y"
      },
      "source": [
        "### Arrays"
      ]
    },
    {
      "cell_type": "markdown",
      "metadata": {
        "id": "5BlR6xr52S3Y"
      },
      "source": [
        "A numpy array is a grid of values, all of the same type, and is indexed by a tuple of nonnegative integers. The number of dimensions is the rank of the array; the shape of an array is a tuple of integers giving the size of the array along each dimension.\n"
      ]
    },
    {
      "cell_type": "markdown",
      "metadata": {
        "id": "NNNxeCww2S3Y"
      },
      "source": [
        "We can initialize numpy arrays from nested Python lists, and access elements using square brackets:"
      ]
    },
    {
      "cell_type": "code",
      "execution_count": null,
      "metadata": {
        "colab": {
          "base_uri": "https://localhost:8080/"
        },
        "id": "cgvGhSqL2S3Z",
        "outputId": "1b288526-1dec-4669-c61a-1eaabd97801c"
      },
      "outputs": [
        {
          "output_type": "stream",
          "name": "stdout",
          "text": [
            "<class 'numpy.ndarray'> () 0\n"
          ]
        }
      ],
      "source": [
        "# 0D Tensors - Scalars\n",
        "# shape = the shape of an array\n",
        "# ndim = Number of array dimensions.\n",
        "scalar = np.array(12)\n",
        "print(type(scalar), scalar.shape, scalar.ndim)"
      ]
    },
    {
      "cell_type": "code",
      "execution_count": null,
      "metadata": {
        "id": "nDHFiZ3V2S3Z"
      },
      "outputs": [],
      "source": [
        ""
      ]
    },
    {
      "cell_type": "code",
      "execution_count": null,
      "metadata": {
        "colab": {
          "base_uri": "https://localhost:8080/"
        },
        "id": "aEcOKPdu2S3Z",
        "outputId": "9256eb3a-23fe-4058-f95d-a05c52c80953"
      },
      "outputs": [
        {
          "output_type": "stream",
          "name": "stdout",
          "text": [
            "<class 'numpy.ndarray'> (3,) 1\n",
            "[1 2 3]\n"
          ]
        }
      ],
      "source": [
        "# 1D Tensors - Vectors\n",
        "a = np.array([1, 2, 3])  # Create a rank 1 array\n",
        "print(type(a), a.shape, a.ndim) # 3-dimensional vector\n",
        "print(a)                  "
      ]
    },
    {
      "cell_type": "markdown",
      "metadata": {
        "id": "_s_JoJ8r2S3Z"
      },
      "source": [
        "3D Vector -> 1 axis with 3 dimensions along its axis\n"
      ]
    },
    {
      "cell_type": "markdown",
      "metadata": {
        "id": "-2v-wkF42S3Z"
      },
      "source": [
        "3D Tensor -> 3 axis with any number of dimensions"
      ]
    },
    {
      "cell_type": "code",
      "execution_count": null,
      "metadata": {
        "colab": {
          "base_uri": "https://localhost:8080/"
        },
        "id": "tyQTSp8a2S3Z",
        "outputId": "75b480d4-24af-4e98-af35-3e8be8db1f7f"
      },
      "outputs": [
        {
          "output_type": "stream",
          "name": "stdout",
          "text": [
            "[[1 2 3]\n",
            " [4 5 6]] (2, 3) 2\n"
          ]
        }
      ],
      "source": [
        "# 2D Tensors - Vector of vectors (matrix)\n",
        "# ex: (samples, features) - Vector data\n",
        "# ex: each single data point can be encoded as a vector\n",
        "\n",
        "b = np.array([[1,2,3],[4,5,6]])   # Create a rank 2 array\n",
        "print(b, b.shape, b.ndim)"
      ]
    },
    {
      "cell_type": "code",
      "execution_count": null,
      "metadata": {
        "colab": {
          "base_uri": "https://localhost:8080/"
        },
        "id": "qdTAK6bZ2S3Z",
        "outputId": "d960b6ae-9057-42bf-c881-2dca8e17133d"
      },
      "outputs": [
        {
          "output_type": "stream",
          "name": "stdout",
          "text": [
            "(2, 3)\n",
            "1 2 4\n"
          ]
        }
      ],
      "source": [
        "print(b.shape)                  \n",
        "print(b[0, 0], b[0, 1], b[1, 0])"
      ]
    },
    {
      "cell_type": "code",
      "execution_count": null,
      "metadata": {
        "colab": {
          "base_uri": "https://localhost:8080/"
        },
        "id": "6YX1OFp92S3a",
        "outputId": "b9da5afa-38b8-4856-ca17-f1a6d2a93ee2"
      },
      "outputs": [
        {
          "output_type": "stream",
          "name": "stdout",
          "text": [
            "[[[ 5 78  2 34  0]\n",
            "  [ 6 79  3 35  1]\n",
            "  [ 7 80  4 36  2]]\n",
            "\n",
            " [[ 5 78  2 34  0]\n",
            "  [ 6 79  3 35  1]\n",
            "  [ 7 80  4 36  2]]\n",
            "\n",
            " [[ 5 78  2 34  0]\n",
            "  [ 6 79  3 35  1]\n",
            "  [ 7 80  4 36  2]]] (3, 3, 5) 3\n"
          ]
        }
      ],
      "source": [
        "# 3D Tensors - Vector of matrices, cube of numbers\n",
        "# ex: (samples, timesteps, features) - Timeseries/Sequence data\n",
        "# ex: whenever time matters in the dataset, for example stock prices: \n",
        "# (250, 390, 3) - 250 days of 390 minutes having recorded current price,\n",
        "# highest price and lowest price\n",
        "vector_matrices = np.array([[[5, 78, 2, 34, 0],\n",
        " [6, 79, 3, 35, 1],\n",
        " [7, 80, 4, 36, 2]],\n",
        " [[5, 78, 2, 34, 0],\n",
        " [6, 79, 3, 35, 1],\n",
        " [7, 80, 4, 36, 2]],\n",
        " [[5, 78, 2, 34, 0],\n",
        " [6, 79, 3, 35, 1],\n",
        " [7, 80, 4, 36, 2]]])\n",
        "\n",
        "print(vector_matrices, vector_matrices.shape, vector_matrices.ndim)"
      ]
    },
    {
      "cell_type": "markdown",
      "metadata": {
        "id": "9QkB8xq82S3a"
      },
      "source": [
        "4D Tensors - Matrix of matrices\n",
        "ex: (samples, height, width, channels) - Image data\n",
        "ex: MNIST Dataset: (128, 256, 256, 1)\n",
        "    128 images with height and width of 256 and only 1 channel, i.e grayscale"
      ]
    },
    {
      "cell_type": "markdown",
      "metadata": {
        "id": "TTCd0prI2S3a"
      },
      "source": [
        "5D Tensors - Vector containing matrices of matrices\n",
        "ex: (samples, frames, height, width, channels) - Video data\n",
        "ex: A batch (samples) of sequences of frames with height, width and channels"
      ]
    },
    {
      "cell_type": "markdown",
      "metadata": {
        "id": "jhN8IwlZ2S3a"
      },
      "source": [
        "Numpy also provides many functions to create arrays:"
      ]
    },
    {
      "cell_type": "code",
      "execution_count": null,
      "metadata": {
        "colab": {
          "base_uri": "https://localhost:8080/"
        },
        "id": "DftIRPyp2S3a",
        "outputId": "4a603efd-fe12-42e0-dc9c-fbe26465ba0b"
      },
      "outputs": [
        {
          "output_type": "stream",
          "name": "stdout",
          "text": [
            "[[0. 0.]\n",
            " [0. 0.]]\n"
          ]
        }
      ],
      "source": [
        "a = np.zeros((2,2))  # Create an array of all zeros\n",
        "print(a)"
      ]
    },
    {
      "cell_type": "code",
      "execution_count": null,
      "metadata": {
        "colab": {
          "base_uri": "https://localhost:8080/"
        },
        "id": "OlXc26Y62S3a",
        "outputId": "dbc01c78-a287-4af4-ea0f-aae3e32e779b"
      },
      "outputs": [
        {
          "output_type": "stream",
          "name": "stdout",
          "text": [
            "[[1. 1.]\n",
            " [1. 1.]]\n"
          ]
        }
      ],
      "source": [
        "b = np.ones((2,2))   # Create an array of all ones\n",
        "print(b)"
      ]
    },
    {
      "cell_type": "code",
      "execution_count": null,
      "metadata": {
        "colab": {
          "base_uri": "https://localhost:8080/"
        },
        "id": "Zs9EY8fU2S3b",
        "outputId": "fe9c5b1b-efc7-41a9-93cc-0fece693a641"
      },
      "outputs": [
        {
          "output_type": "stream",
          "name": "stdout",
          "text": [
            "[[3 3]\n",
            " [3 3]]\n"
          ]
        }
      ],
      "source": [
        "c = np.full((2,2), 3) # Create a constant array\n",
        "print(c)"
      ]
    },
    {
      "cell_type": "code",
      "execution_count": null,
      "metadata": {
        "colab": {
          "base_uri": "https://localhost:8080/"
        },
        "id": "X8g2Pymu2S3b",
        "outputId": "a95ab2ec-c87b-4efb-c156-cca6069258a3"
      },
      "outputs": [
        {
          "output_type": "stream",
          "name": "stdout",
          "text": [
            "[[1. 0. 0.]\n",
            " [0. 1. 0.]\n",
            " [0. 0. 1.]]\n"
          ]
        }
      ],
      "source": [
        "d = np.eye(3)        # Create a 2x2 identity matrix\n",
        "print(d)"
      ]
    },
    {
      "cell_type": "code",
      "execution_count": null,
      "metadata": {
        "colab": {
          "base_uri": "https://localhost:8080/"
        },
        "id": "MaXnJ-8D2S3b",
        "outputId": "70b34adc-a942-42f9-daad-74fe1f6cf3a2"
      },
      "outputs": [
        {
          "output_type": "stream",
          "name": "stdout",
          "text": [
            "[[0.79976919 0.95086342]\n",
            " [0.88770277 0.02766805]]\n"
          ]
        }
      ],
      "source": [
        "e = np.random.random((2,2)) # Create an array filled with random values\n",
        "print(e)"
      ]
    },
    {
      "cell_type": "markdown",
      "metadata": {
        "id": "hP07SpPc2S3b"
      },
      "source": [
        "### Array indexing"
      ]
    },
    {
      "cell_type": "markdown",
      "metadata": {
        "id": "mJtDgxvd2S3b"
      },
      "source": [
        "Numpy offers several ways to index into arrays."
      ]
    },
    {
      "cell_type": "markdown",
      "metadata": {
        "id": "Wj7t_hKZ2S3b"
      },
      "source": [
        "Slicing: Similar to Python lists, numpy arrays can be sliced. Since arrays may be multidimensional, you must specify a slice for each dimension of the array:"
      ]
    },
    {
      "cell_type": "code",
      "execution_count": null,
      "metadata": {
        "colab": {
          "base_uri": "https://localhost:8080/"
        },
        "id": "BQtGmotd2S3c",
        "outputId": "b612294d-1ae5-4872-8221-59f7526029fe"
      },
      "outputs": [
        {
          "output_type": "stream",
          "name": "stdout",
          "text": [
            "[[2 3]\n",
            " [6 7]]\n",
            "1\n"
          ]
        }
      ],
      "source": [
        "# Create the following rank 2 array with shape (3, 4)\n",
        "# [[ 1  2  3  4]\n",
        "#  [ 5  6  7  8]\n",
        "#  [ 9 10 11 12]]\n",
        "a = np.array([[1,2,3,4], [5,6,7,8], [9,10,11,12]])\n",
        "\n",
        "# Use slicing to pull out the subarray consisting of the first 2 rows\n",
        "# and columns 1 and 2; b is the following array of shape (2, 2):\n",
        "\n",
        "b = a[:2, 1:3]\n",
        "print(b)\n",
        "print(a[0,0])"
      ]
    },
    {
      "cell_type": "markdown",
      "metadata": {
        "id": "Pt0HwpFI2S3c"
      },
      "source": [
        "A slice of an array is a view into the same data, so modifying it will modify the original array."
      ]
    },
    {
      "cell_type": "code",
      "execution_count": null,
      "metadata": {
        "colab": {
          "base_uri": "https://localhost:8080/"
        },
        "id": "zWYG4RFk2S3c",
        "outputId": "2b682426-5414-43d6-b912-960074f51dc2"
      },
      "outputs": [
        {
          "output_type": "stream",
          "name": "stdout",
          "text": [
            "2\n",
            "77\n"
          ]
        }
      ],
      "source": [
        "print(a[0, 1])\n",
        "b[0, 0] = 77    # b[0, 0] is the same piece of data as a[0, 1]\n",
        "print(a[0, 1])"
      ]
    },
    {
      "cell_type": "markdown",
      "metadata": {
        "id": "bWZ7_MZy2S3c"
      },
      "source": [
        "You can also mix integer indexing with slice indexing. However, doing so will yield an array of lower rank than the original array. Note that this is quite different from the way that MATLAB handles array slicing:"
      ]
    },
    {
      "cell_type": "code",
      "execution_count": null,
      "metadata": {
        "colab": {
          "base_uri": "https://localhost:8080/"
        },
        "id": "AOC8t1j52S3c",
        "outputId": "32f99b0b-8d15-4861-f777-76663f79e5eb"
      },
      "outputs": [
        {
          "output_type": "stream",
          "name": "stdout",
          "text": [
            "[[ 1  2  3  4]\n",
            " [ 5  6  7  8]\n",
            " [ 9 10 11 12]]\n"
          ]
        }
      ],
      "source": [
        "# Create the following rank 2 array with shape (3, 4)\n",
        "a = np.array([[1,2,3,4], [5,6,7,8], [9,10,11,12]])\n",
        "print(a)"
      ]
    },
    {
      "cell_type": "markdown",
      "metadata": {
        "id": "KkWR4rwL2S3c"
      },
      "source": [
        "Two ways of accessing the data in the middle row of the array.\n",
        "Mixing integer indexing with slices yields an array of lower rank,\n",
        "while using only slices yields an array of the same rank as the\n",
        "original array:"
      ]
    },
    {
      "cell_type": "code",
      "execution_count": null,
      "metadata": {
        "colab": {
          "base_uri": "https://localhost:8080/"
        },
        "id": "jrIfyGbV2S3c",
        "outputId": "fab97b8f-17f0-4ac8-8107-2388a92bf001"
      },
      "outputs": [
        {
          "output_type": "stream",
          "name": "stdout",
          "text": [
            "[5 6 7 8] (4,)\n",
            "[[5 6 7 8]] (1, 4)\n",
            "[[5 6 7 8]] (1, 4)\n"
          ]
        }
      ],
      "source": [
        "row_r1 = a[1, :]    # Rank 1 view of the second row of a  \n",
        "row_r2 = a[1:2, :]  # Rank 2 view of the second row of a\n",
        "row_r3 = a[[1], :]  # Rank 2 view of the second row of a, could be [0,1]\n",
        "print(row_r1, row_r1.shape)\n",
        "print(row_r2, row_r2.shape)\n",
        "print(row_r3, row_r3.shape)"
      ]
    },
    {
      "cell_type": "code",
      "execution_count": null,
      "metadata": {
        "colab": {
          "base_uri": "https://localhost:8080/"
        },
        "id": "4iQEVE3d2S3d",
        "outputId": "ce4eec3f-6e4b-4548-e878-0f65abb6ada4"
      },
      "outputs": [
        {
          "output_type": "stream",
          "name": "stdout",
          "text": [
            "[ 2  6 10] (3,)\n",
            "[[ 2]\n",
            " [ 6]\n",
            " [10]] (3, 1)\n"
          ]
        }
      ],
      "source": [
        "# We can make the same distinction when accessing columns of an array:\n",
        "col_r1 = a[:, 1]\n",
        "col_r2 = a[:, 1:2]\n",
        "print(col_r1, col_r1.shape)\n",
        "print(col_r2, col_r2.shape)"
      ]
    },
    {
      "cell_type": "markdown",
      "metadata": {
        "id": "Rhb_bjKx2S3d"
      },
      "source": [
        "Integer array indexing: When you index into numpy arrays using slicing, the resulting array view will always be a subarray of the original array. In contrast, integer array indexing allows you to construct arbitrary arrays using the data from another array. Here is an example:"
      ]
    },
    {
      "cell_type": "code",
      "execution_count": null,
      "metadata": {
        "colab": {
          "base_uri": "https://localhost:8080/"
        },
        "id": "1ZZL0JeS2S3d",
        "outputId": "656136a7-796f-4d44-ee0a-4ea914db7253"
      },
      "outputs": [
        {
          "output_type": "stream",
          "name": "stdout",
          "text": [
            "[[1 2]\n",
            " [3 4]\n",
            " [5 6]]\n",
            "[1 4 5]\n",
            "[1 4 5]\n"
          ]
        }
      ],
      "source": [
        "a = np.array([[1,2], [3, 4], [5, 6]])\n",
        "\n",
        "print(a)\n",
        "\n",
        "# An example of integer array indexing.\n",
        "# The returned array will have shape (3,) and \n",
        "print(a[[0, 1, 2], [0, 1, 0]])\n",
        "\n",
        "# The above example of integer array indexing is equivalent to this:\n",
        "print(np.array([a[0, 0], a[1, 1], a[2, 0]]))"
      ]
    },
    {
      "cell_type": "code",
      "execution_count": null,
      "metadata": {
        "colab": {
          "base_uri": "https://localhost:8080/"
        },
        "id": "FdrELSmC2S3d",
        "outputId": "8cca13e2-45f4-4aac-e844-13cab5f63a56"
      },
      "outputs": [
        {
          "output_type": "stream",
          "name": "stdout",
          "text": [
            "[2 2]\n",
            "[2 2]\n"
          ]
        }
      ],
      "source": [
        "# When using integer array indexing, you can reuse the same\n",
        "# element from the source array:\n",
        "print(a[[0, 0], [1, 1]])\n",
        "\n",
        "# Equivalent to the previous integer array indexing example\n",
        "print(np.array([a[0, 1], a[0, 1]]))"
      ]
    },
    {
      "cell_type": "markdown",
      "metadata": {
        "id": "18-qb3jp2S3d"
      },
      "source": [
        "One useful trick with integer array indexing is selecting or mutating one element from each row of a matrix:"
      ]
    },
    {
      "cell_type": "code",
      "execution_count": null,
      "metadata": {
        "colab": {
          "base_uri": "https://localhost:8080/"
        },
        "id": "FLXkmv992S3e",
        "outputId": "b667b9f3-0ca8-487f-cac3-4a54d79a0f62"
      },
      "outputs": [
        {
          "output_type": "stream",
          "name": "stdout",
          "text": [
            "[[ 1  2  3]\n",
            " [ 4  5  6]\n",
            " [ 7  8  9]\n",
            " [10 11 12]]\n"
          ]
        }
      ],
      "source": [
        "# Create a new array from which we will select elements\n",
        "a = np.array([[1,2,3], [4,5,6], [7,8,9], [10, 11, 12]])\n",
        "print(a)"
      ]
    },
    {
      "cell_type": "code",
      "execution_count": null,
      "metadata": {
        "colab": {
          "base_uri": "https://localhost:8080/"
        },
        "id": "uNWbrpRq2S3e",
        "outputId": "5b782398-5495-4e55-c19f-2feabeec3718"
      },
      "outputs": [
        {
          "output_type": "stream",
          "name": "stdout",
          "text": [
            "[ 1  6  7 11]\n"
          ]
        }
      ],
      "source": [
        "# Create an array of indices\n",
        "b = np.array([0, 2, 0, 1])\n",
        "\n",
        "# Select one element from each row of a using the indices in b\n",
        "print(a[np.arange(4), b])  # Prints \"[ 1  6  7 11]\""
      ]
    },
    {
      "cell_type": "code",
      "execution_count": null,
      "metadata": {
        "colab": {
          "base_uri": "https://localhost:8080/"
        },
        "id": "mmFg6RiB2S3e",
        "outputId": "20d02577-e6d1-411b-e3a2-db1670438b66"
      },
      "outputs": [
        {
          "output_type": "stream",
          "name": "stdout",
          "text": [
            "[[11  2  3]\n",
            " [ 4  5 16]\n",
            " [17  8  9]\n",
            " [10 21 12]]\n"
          ]
        }
      ],
      "source": [
        "# Mutate one element from each row of a using the indices in b\n",
        "a[np.arange(4), b] += 10\n",
        "print(a)"
      ]
    },
    {
      "cell_type": "markdown",
      "metadata": {
        "id": "fsG_nJEg2S3e"
      },
      "source": [
        "Boolean array indexing: Boolean array indexing lets you pick out arbitrary elements of an array. Frequently this type of indexing is used to select the elements of an array that satisfy some condition. Here is an example:"
      ]
    },
    {
      "cell_type": "code",
      "execution_count": null,
      "metadata": {
        "colab": {
          "base_uri": "https://localhost:8080/"
        },
        "id": "D4hYVRW02S3e",
        "outputId": "c0d6004e-69b9-4fdb-b01a-950ceef76d86"
      },
      "outputs": [
        {
          "output_type": "stream",
          "name": "stdout",
          "text": [
            "[[False False]\n",
            " [ True  True]\n",
            " [ True  True]]\n"
          ]
        }
      ],
      "source": [
        "a = np.array([[1,2], [3, 4], [5, 6]])\n",
        "\n",
        "bool_idx = (a > 2)  # Find the elements of a that are bigger than 2;\n",
        "                    # this returns a numpy array of Booleans of the same\n",
        "                    # shape as a, where each slot of bool_idx tells\n",
        "                    # whether that element of a is > 2.\n",
        "\n",
        "print(bool_idx)"
      ]
    },
    {
      "cell_type": "code",
      "execution_count": null,
      "metadata": {
        "colab": {
          "base_uri": "https://localhost:8080/"
        },
        "id": "3kbUTpqJ2S3e",
        "outputId": "d7bfefd7-8902-41f8-97c6-ff16cab0a342"
      },
      "outputs": [
        {
          "output_type": "stream",
          "name": "stdout",
          "text": [
            "[3 4 5 6]\n",
            "[3 4 5 6]\n"
          ]
        }
      ],
      "source": [
        "# We use boolean array indexing to construct a rank 1 array\n",
        "# consisting of the elements of a corresponding to the True values\n",
        "# of bool_idx\n",
        "print(a[bool_idx])\n",
        "\n",
        "# We can do all of the above in a single concise statement:\n",
        "print(a[a > 2])"
      ]
    },
    {
      "cell_type": "markdown",
      "metadata": {
        "id": "ptF1-4DG2S3e"
      },
      "source": [
        "For brevity we have left out a lot of details about numpy array indexing; if you want to know more you should read the documentation."
      ]
    },
    {
      "cell_type": "markdown",
      "metadata": {
        "id": "_hsABmVL2S3f"
      },
      "source": [
        "### Datatypes"
      ]
    },
    {
      "cell_type": "markdown",
      "metadata": {
        "id": "L8O3v6LN2S3f"
      },
      "source": [
        "Every numpy array is a grid of elements of the same type. Numpy provides a large set of numeric datatypes that you can use to construct arrays. Numpy tries to guess a datatype when you create an array, but functions that construct arrays usually also include an optional argument to explicitly specify the datatype. Here is an example:"
      ]
    },
    {
      "cell_type": "code",
      "execution_count": null,
      "metadata": {
        "colab": {
          "base_uri": "https://localhost:8080/"
        },
        "id": "Yg405NJt2S3f",
        "outputId": "24ff3b05-5d16-4a39-b115-de999c471cb2"
      },
      "outputs": [
        {
          "output_type": "stream",
          "name": "stdout",
          "text": [
            "int64 float64 int32\n"
          ]
        }
      ],
      "source": [
        "x = np.array([1, 2])  # Let numpy choose the datatype\n",
        "y = np.array([1.0, 2.0])  # Let numpy choose the datatype\n",
        "z = np.array([1, 2], dtype=np.int32)  # Force a particular datatype\n",
        "\n",
        "print(x.dtype, y.dtype, z.dtype)"
      ]
    },
    {
      "cell_type": "markdown",
      "metadata": {
        "id": "DTik1rny2S3f"
      },
      "source": [
        "You can read all about numpy datatypes in the [documentation](http://docs.scipy.org/doc/numpy/reference/arrays.dtypes.html)."
      ]
    },
    {
      "cell_type": "markdown",
      "metadata": {
        "id": "Hb_L1tCD2S3f"
      },
      "source": [
        "### Array math"
      ]
    },
    {
      "cell_type": "markdown",
      "metadata": {
        "id": "Jvtn4L7U2S3f"
      },
      "source": [
        "Basic mathematical functions operate elementwise on arrays, and are available both as operator overloads and as functions in the numpy module:"
      ]
    },
    {
      "cell_type": "code",
      "execution_count": null,
      "metadata": {
        "colab": {
          "base_uri": "https://localhost:8080/"
        },
        "id": "P-MSoNii2S3f",
        "outputId": "495aa509-a99f-4a7d-9be6-d1fd1f8871a7"
      },
      "outputs": [
        {
          "output_type": "stream",
          "name": "stdout",
          "text": [
            "[[ 6.  8.]\n",
            " [10. 12.]]\n",
            "[[ 6.  8.]\n",
            " [10. 12.]]\n"
          ]
        }
      ],
      "source": [
        "x = np.array([[1,2],[3,4]], dtype=np.float64)\n",
        "y = np.array([[5,6],[7,8]], dtype=np.float64)\n",
        "\n",
        "# Elementwise sum; both produce the array\n",
        "print(x + y)\n",
        "print(np.add(x, y))"
      ]
    },
    {
      "cell_type": "code",
      "execution_count": null,
      "metadata": {
        "colab": {
          "base_uri": "https://localhost:8080/"
        },
        "id": "ozWc6zGB2S3f",
        "outputId": "11974ff8-e3bd-408a-bc2a-79c61d80b527"
      },
      "outputs": [
        {
          "output_type": "stream",
          "name": "stdout",
          "text": [
            "[[-4. -4.]\n",
            " [-4. -4.]]\n",
            "[[-4. -4.]\n",
            " [-4. -4.]]\n"
          ]
        }
      ],
      "source": [
        "# Elementwise difference; both produce the array\n",
        "print(x - y)\n",
        "print(np.subtract(x, y))"
      ]
    },
    {
      "cell_type": "code",
      "execution_count": null,
      "metadata": {
        "colab": {
          "base_uri": "https://localhost:8080/"
        },
        "id": "GHYayCTu2S3g",
        "outputId": "31ca1f4a-e8eb-43df-91c0-3db228d05c18"
      },
      "outputs": [
        {
          "output_type": "stream",
          "name": "stdout",
          "text": [
            "[[ 5. 12.]\n",
            " [21. 32.]]\n",
            "[[ 5. 12.]\n",
            " [21. 32.]]\n"
          ]
        }
      ],
      "source": [
        "# Elementwise product; both produce the array\n",
        "print(x * y)\n",
        "print(np.multiply(x, y))"
      ]
    },
    {
      "cell_type": "code",
      "execution_count": null,
      "metadata": {
        "colab": {
          "base_uri": "https://localhost:8080/"
        },
        "id": "hV35zqC12S3g",
        "outputId": "efc563c0-7b64-40e2-a40e-fcdc84ced181"
      },
      "outputs": [
        {
          "output_type": "stream",
          "name": "stdout",
          "text": [
            "[[0.2        0.33333333]\n",
            " [0.42857143 0.5       ]]\n",
            "[[0.2        0.33333333]\n",
            " [0.42857143 0.5       ]]\n"
          ]
        }
      ],
      "source": [
        "# Elementwise division; both produce the array\n",
        "# [[ 0.2         0.33333333]\n",
        "#  [ 0.42857143  0.5       ]]\n",
        "print(x / y)\n",
        "print(np.divide(x, y))"
      ]
    },
    {
      "cell_type": "code",
      "execution_count": null,
      "metadata": {
        "colab": {
          "base_uri": "https://localhost:8080/"
        },
        "id": "8PNkCQiR2S3g",
        "outputId": "d4a1dd36-01a1-454a-ded2-7d50be792338"
      },
      "outputs": [
        {
          "output_type": "stream",
          "name": "stdout",
          "text": [
            "[[1.         1.41421356]\n",
            " [1.73205081 2.        ]]\n"
          ]
        }
      ],
      "source": [
        "# Elementwise square root; produces the array\n",
        "# [[ 1.          1.41421356]\n",
        "#  [ 1.73205081  2.        ]]\n",
        "print(np.sqrt(x))"
      ]
    },
    {
      "cell_type": "markdown",
      "metadata": {
        "id": "mlrlXPvT2S3g"
      },
      "source": [
        "Note that unlike MATLAB, `*` is elementwise multiplication, not matrix multiplication. We instead use the dot function to compute inner products of vectors, to multiply a vector by a matrix, and to multiply matrices. dot is available both as a function in the numpy module and as an instance method of array objects:"
      ]
    },
    {
      "cell_type": "code",
      "execution_count": null,
      "metadata": {
        "colab": {
          "base_uri": "https://localhost:8080/"
        },
        "id": "OPrs1VMC2S3g",
        "outputId": "7ed18795-b25d-4b4e-9dcc-f08735a1956c"
      },
      "outputs": [
        {
          "output_type": "stream",
          "name": "stdout",
          "text": [
            "219\n",
            "219\n"
          ]
        }
      ],
      "source": [
        "x = np.array([[1,2],[3,4]])\n",
        "y = np.array([[5,6],[7,8]])\n",
        "\n",
        "v = np.array([9,10])\n",
        "w = np.array([11, 12])\n",
        "\n",
        "# Inner product of vectors; both produce 219\n",
        "print(v.dot(w))\n",
        "print(np.dot(v, w))"
      ]
    },
    {
      "cell_type": "code",
      "execution_count": null,
      "metadata": {
        "colab": {
          "base_uri": "https://localhost:8080/"
        },
        "id": "4GYTGZDZ2S3g",
        "outputId": "278a1d28-8d02-4641-9ee7-7c7bdff50e30"
      },
      "outputs": [
        {
          "output_type": "stream",
          "name": "stdout",
          "text": [
            "[29 67]\n",
            "[29 67]\n"
          ]
        }
      ],
      "source": [
        "# Matrix / vector product; both produce the rank 1 array [29 67]\n",
        "print(x.dot(v))\n",
        "print(np.dot(x, v))"
      ]
    },
    {
      "cell_type": "code",
      "execution_count": null,
      "metadata": {
        "colab": {
          "base_uri": "https://localhost:8080/"
        },
        "id": "KAkgnYAB2S3h",
        "outputId": "e84f7240-661a-4437-b361-140a20743386"
      },
      "outputs": [
        {
          "output_type": "stream",
          "name": "stdout",
          "text": [
            "[[19 22]\n",
            " [43 50]]\n",
            "[[19 22]\n",
            " [43 50]]\n"
          ]
        }
      ],
      "source": [
        "# Matrix / matrix product; both produce the rank 2 array\n",
        "# [[19 22]\n",
        "#  [43 50]]\n",
        "print(x.dot(y))\n",
        "print(np.dot(x, y))"
      ]
    },
    {
      "cell_type": "markdown",
      "metadata": {
        "id": "1pR6n1My2S3h"
      },
      "source": [
        "Numpy provides many useful functions for performing computations on arrays; one of the most useful is `sum`:"
      ]
    },
    {
      "cell_type": "code",
      "execution_count": null,
      "metadata": {
        "colab": {
          "base_uri": "https://localhost:8080/"
        },
        "id": "km8db_qz2S3h",
        "outputId": "ee37c8ec-09a6-4de4-ad45-024603234e19"
      },
      "outputs": [
        {
          "output_type": "stream",
          "name": "stdout",
          "text": [
            "[[1 2]\n",
            " [3 4]]\n",
            "10\n",
            "[4 6]\n",
            "[3 7]\n"
          ]
        }
      ],
      "source": [
        "x = np.array([[1,2],[3,4]])\n",
        "\n",
        "print(x)\n",
        "print(np.sum(x))  # Compute sum of all elements; prints \"10\"\n",
        "print(np.sum(x, axis=0))  # Compute sum of each column; prints \"[4 6]\"\n",
        "print(np.sum(x, axis=1)) # Compute sum of each row; prints \"[3 7]\""
      ]
    },
    {
      "cell_type": "markdown",
      "metadata": {
        "id": "HhgiCPSq2S3h"
      },
      "source": [
        "You can find the full list of mathematical functions provided by numpy in the [documentation](http://docs.scipy.org/doc/numpy/reference/routines.math.html).\n",
        "\n",
        "Apart from computing mathematical functions using arrays, we frequently need to reshape or otherwise manipulate data in arrays. The simplest example of this type of operation is transposing a matrix; to transpose a matrix, simply use the T attribute of an array object:"
      ]
    },
    {
      "cell_type": "code",
      "execution_count": null,
      "metadata": {
        "colab": {
          "base_uri": "https://localhost:8080/"
        },
        "id": "JQw3V_3U2S3h",
        "outputId": "08b03ed7-47d4-4abb-e9db-e2bbfe865b8c"
      },
      "outputs": [
        {
          "output_type": "stream",
          "name": "stdout",
          "text": [
            "[[1 2]\n",
            " [3 4]]\n",
            "[[1 3]\n",
            " [2 4]]\n"
          ]
        }
      ],
      "source": [
        "print(x)\n",
        "print(x.T)"
      ]
    },
    {
      "cell_type": "markdown",
      "metadata": {
        "id": "AHGxSyzJ2S3h"
      },
      "source": [
        "### Broadcasting"
      ]
    },
    {
      "cell_type": "markdown",
      "metadata": {
        "id": "r72bz5Il2S3i"
      },
      "source": [
        "Broadcasting is a powerful mechanism that allows numpy to work with arrays of different shapes when performing arithmetic operations. Frequently we have a smaller array and a larger array, and we want to use the smaller array multiple times to perform some operation on the larger array.\n",
        "\n",
        "For example, suppose that we want to add a constant vector to each row of a matrix. We could do it like this:"
      ]
    },
    {
      "cell_type": "code",
      "execution_count": null,
      "metadata": {
        "colab": {
          "base_uri": "https://localhost:8080/"
        },
        "id": "ResBx7FF2S3i",
        "outputId": "df2510e7-8d61-4b7a-fcdb-459c1b570f7a"
      },
      "outputs": [
        {
          "output_type": "stream",
          "name": "stdout",
          "text": [
            "[[ 2  2  4]\n",
            " [ 5  5  7]\n",
            " [ 8  8 10]\n",
            " [11 11 13]]\n"
          ]
        }
      ],
      "source": [
        "# We will add the vector v to each row of the matrix x,\n",
        "# storing the result in the matrix y\n",
        "x = np.array([[1,2,3], [4,5,6], [7,8,9], [10, 11, 12]])\n",
        "v = np.array([1, 0, 1])\n",
        "y = np.empty_like(x)   # Create an empty matrix with the same shape as x\n",
        "\n",
        "# Add the vector v to each row of the matrix x with an explicit loop\n",
        "for i in range(4):\n",
        "    y[i, :] = x[i, :] + v\n",
        "\n",
        "print(y)"
      ]
    },
    {
      "cell_type": "markdown",
      "metadata": {
        "id": "QCyJTVK52S3i"
      },
      "source": [
        "This works; however when the matrix `x` is very large, computing an explicit loop in Python could be slow. Note that adding the vector v to each row of the matrix `x` is equivalent to forming a matrix `vv` by stacking multiple copies of `v` vertically, then performing elementwise summation of `x` and `vv`. We could implement this approach like this:"
      ]
    },
    {
      "cell_type": "code",
      "execution_count": null,
      "metadata": {
        "colab": {
          "base_uri": "https://localhost:8080/"
        },
        "id": "_eZFMdMm2S3i",
        "outputId": "62815f8a-6123-408a-a5e8-6c91af761115"
      },
      "outputs": [
        {
          "output_type": "stream",
          "name": "stdout",
          "text": [
            "[[1 0 1]\n",
            " [1 0 1]\n",
            " [1 0 1]\n",
            " [1 0 1]]\n"
          ]
        }
      ],
      "source": [
        "vv = np.tile(v, (4, 1))  # Stack 4 copies of v on top of each other\n",
        "print(vv)               # Prints \"[[1 0 1]\n",
        "                         #          [1 0 1]\n",
        "                         #          [1 0 1]\n",
        "                         #          [1 0 1]]\""
      ]
    },
    {
      "cell_type": "code",
      "execution_count": null,
      "metadata": {
        "colab": {
          "base_uri": "https://localhost:8080/"
        },
        "id": "aPrQf7Mc2S3i",
        "outputId": "7f4cbbed-739a-4f75-d58a-a4d1684da2e3"
      },
      "outputs": [
        {
          "output_type": "stream",
          "name": "stdout",
          "text": [
            "[[ 2  2  4]\n",
            " [ 5  5  7]\n",
            " [ 8  8 10]\n",
            " [11 11 13]]\n"
          ]
        }
      ],
      "source": [
        "y = x + vv  # Add x and vv elementwise\n",
        "print(y)"
      ]
    },
    {
      "cell_type": "markdown",
      "metadata": {
        "id": "Hg96Aqf-2S3i"
      },
      "source": [
        "Numpy broadcasting allows us to perform this computation without actually creating multiple copies of v. Consider this version, using broadcasting:"
      ]
    },
    {
      "cell_type": "code",
      "execution_count": null,
      "metadata": {
        "colab": {
          "base_uri": "https://localhost:8080/"
        },
        "id": "HfB7adbD2S3i",
        "outputId": "f57e5b85-40c2-4fcd-eb20-f4b955f4d8ac"
      },
      "outputs": [
        {
          "output_type": "stream",
          "name": "stdout",
          "text": [
            "[[ 2  2  4]\n",
            " [ 5  5  7]\n",
            " [ 8  8 10]\n",
            " [11 11 13]]\n"
          ]
        }
      ],
      "source": [
        "# We will add the vector v to each row of the matrix x,\n",
        "# storing the result in the matrix y\n",
        "x = np.array([[1,2,3], [4,5,6], [7,8,9], [10, 11, 12]])\n",
        "v = np.array([1, 0, 1])\n",
        "y = x + v  # Add v to each row of x using broadcasting\n",
        "print(y)"
      ]
    },
    {
      "cell_type": "markdown",
      "metadata": {
        "id": "Ux2laU6n2S3i"
      },
      "source": [
        "The line `y = x + v` works even though `x` has shape `(4, 3)` and `v` has shape `(3,)` due to broadcasting; this line works as if v actually had shape `(4, 3)`, where each row was a copy of `v`, and the sum was performed elementwise.\n",
        "\n",
        "Broadcasting two arrays together follows these rules:\n",
        "\n",
        "1. If the arrays do not have the same rank, prepend the shape of the lower rank array with 1s until both shapes have the same length.\n",
        "2. The two arrays are said to be compatible in a dimension if they have the same size in the dimension, or if one of the arrays has size 1 in that dimension.\n",
        "3. The arrays can be broadcast together if they are compatible in all dimensions.\n",
        "4. After broadcasting, each array behaves as if it had shape equal to the elementwise maximum of shapes of the two input arrays.\n",
        "5. In any dimension where one array had size 1 and the other array had size greater than 1, the first array behaves as if it were copied along that dimension\n",
        "\n",
        "If this explanation does not make sense, try reading the explanation from the [documentation](http://docs.scipy.org/doc/numpy/user/basics.broadcasting.html) or this [explanation](http://wiki.scipy.org/EricsBroadcastingDoc).\n",
        "\n",
        "Functions that support broadcasting are known as universal functions. You can find the list of all universal functions in the [documentation](http://docs.scipy.org/doc/numpy/reference/ufuncs.html#available-ufuncs).\n",
        "\n",
        "Here are some applications of broadcasting:"
      ]
    },
    {
      "cell_type": "code",
      "execution_count": null,
      "metadata": {
        "colab": {
          "base_uri": "https://localhost:8080/"
        },
        "id": "Friui2832S3j",
        "outputId": "a053abdb-c33f-49e4-80a9-c4b19485f55d"
      },
      "outputs": [
        {
          "output_type": "stream",
          "name": "stdout",
          "text": [
            "[1 2 3]\n",
            "[4 5]\n",
            "[[1]\n",
            " [2]\n",
            " [3]]\n",
            "[[ 4  5]\n",
            " [ 8 10]\n",
            " [12 15]]\n"
          ]
        }
      ],
      "source": [
        "# Compute outer product of vectors\n",
        "v = np.array([1,2,3])  # v has shape (3,)\n",
        "w = np.array([4,5])    # w has shape (2,)\n",
        "# To compute an outer product, we first reshape v to be a column\n",
        "# vector of shape (3, 1); we can then broadcast it against w to yield\n",
        "# an output of shape (3, 2), which is the outer product of v and w:\n",
        "print(v)\n",
        "print(w)\n",
        "print(np.reshape(v, (3, 1)))\n",
        "print(np.reshape(v, (3, 1)) * w)"
      ]
    },
    {
      "cell_type": "code",
      "execution_count": null,
      "metadata": {
        "colab": {
          "base_uri": "https://localhost:8080/"
        },
        "id": "TaV9SXS52S3j",
        "outputId": "f2b78a02-b1ee-4084-c1d1-ea519b6d4b1e"
      },
      "outputs": [
        {
          "output_type": "stream",
          "name": "stdout",
          "text": [
            "[[2 4 6]\n",
            " [5 7 9]]\n"
          ]
        }
      ],
      "source": [
        "# Add a vector to each row of a matrix\n",
        "x = np.array([[1,2,3], [4,5,6]])\n",
        "# x has shape (2, 3) and v has shape (3,) so they broadcast to (2, 3),\n",
        "# giving the following matrix:\n",
        "\n",
        "print(x + v)"
      ]
    },
    {
      "cell_type": "code",
      "execution_count": null,
      "metadata": {
        "colab": {
          "base_uri": "https://localhost:8080/"
        },
        "id": "yARvmXc72S3j",
        "outputId": "fbca728b-e65e-40dc-9f6c-0f2df1ec5ff8"
      },
      "outputs": [
        {
          "output_type": "stream",
          "name": "stdout",
          "text": [
            "[[ 5  6  7]\n",
            " [ 9 10 11]]\n"
          ]
        }
      ],
      "source": [
        "# Add a vector to each column of a matrix\n",
        "# x has shape (2, 3) and w has shape (2,).\n",
        "# If we transpose x then it has shape (3, 2) and can be broadcast\n",
        "# against w to yield a result of shape (3, 2); transposing this result\n",
        "# yields the final result of shape (2, 3) which is the matrix x with\n",
        "# the vector w added to each column. Gives the following matrix:\n",
        "\n",
        "print((x.T + w).T)"
      ]
    },
    {
      "cell_type": "code",
      "execution_count": null,
      "metadata": {
        "colab": {
          "base_uri": "https://localhost:8080/"
        },
        "id": "xjCStWF82S3j",
        "outputId": "0ad8a108-2a9f-41cd-803f-7ebf0596e71a"
      },
      "outputs": [
        {
          "output_type": "stream",
          "name": "stdout",
          "text": [
            "[[1 2 3]\n",
            " [4 5 6]]\n",
            "[[4]\n",
            " [5]]\n",
            "[[ 5  6  7]\n",
            " [ 9 10 11]]\n"
          ]
        }
      ],
      "source": [
        "# Another solution is to reshape w to be a row vector of shape (2, 1);\n",
        "# we can then broadcast it directly against x to produce the same\n",
        "# output.\n",
        "print(x)\n",
        "print(np.reshape(w, (2, 1)))\n",
        "print(x + np.reshape(w, (2, 1)))"
      ]
    },
    {
      "cell_type": "code",
      "execution_count": null,
      "metadata": {
        "colab": {
          "base_uri": "https://localhost:8080/"
        },
        "id": "v3l2mB-w2S3j",
        "outputId": "5fec139e-fddf-47b5-9ee8-e83d9ae2cf05"
      },
      "outputs": [
        {
          "output_type": "stream",
          "name": "stdout",
          "text": [
            "[[ 2  4  6]\n",
            " [ 8 10 12]]\n"
          ]
        }
      ],
      "source": [
        "# Multiply a matrix by a constant:\n",
        "# x has shape (2, 3). Numpy treats scalars as arrays of shape ();\n",
        "# these can be broadcast together to shape (2, 3), producing the\n",
        "# following array:\n",
        "print(x * 2)"
      ]
    },
    {
      "cell_type": "markdown",
      "metadata": {
        "id": "kd0Ox_rq2S3j"
      },
      "source": [
        "Broadcasting typically makes your code more concise and faster, so you should strive to use it where possible."
      ]
    },
    {
      "cell_type": "markdown",
      "metadata": {
        "id": "akrKyKxS2S3j"
      },
      "source": [
        "This brief overview has touched on many of the important things that you need to know about numpy, but is far from complete. Check out the [numpy reference](http://docs.scipy.org/doc/numpy/reference/) to find out much more about numpy."
      ]
    },
    {
      "cell_type": "markdown",
      "metadata": {
        "id": "I_dSsrXn2S3k"
      },
      "source": [
        "## Matplotlib"
      ]
    },
    {
      "cell_type": "markdown",
      "metadata": {
        "id": "ch9pczNs2S3k"
      },
      "source": [
        "Matplotlib is a plotting library. In this section give a brief introduction to the `matplotlib.pyplot` module, which provides a plotting system similar to that of MATLAB."
      ]
    },
    {
      "cell_type": "code",
      "execution_count": null,
      "metadata": {
        "id": "8qdc6pdI2S3k"
      },
      "outputs": [],
      "source": [
        "import matplotlib.pyplot as plt"
      ]
    },
    {
      "cell_type": "markdown",
      "metadata": {
        "id": "F0dB9BTS2S3k"
      },
      "source": [
        "By running this special iPython command, we will be displaying plots inline:"
      ]
    },
    {
      "cell_type": "code",
      "execution_count": null,
      "metadata": {
        "id": "KKgd3VWC2S3k"
      },
      "outputs": [],
      "source": [
        "%matplotlib inline"
      ]
    },
    {
      "cell_type": "markdown",
      "metadata": {
        "id": "yD0dYCaV2S3k"
      },
      "source": [
        "### Plotting"
      ]
    },
    {
      "cell_type": "markdown",
      "metadata": {
        "id": "wHnf7y7I2S3k"
      },
      "source": [
        "The most important function in `matplotlib` is plot, which allows you to plot 2D data. Here is a simple example:"
      ]
    },
    {
      "cell_type": "code",
      "execution_count": null,
      "metadata": {
        "colab": {
          "base_uri": "https://localhost:8080/",
          "height": 282
        },
        "id": "qh5i54uC2S3k",
        "outputId": "c1dac87a-82e9-458c-d005-4edcfab1f979"
      },
      "outputs": [
        {
          "output_type": "execute_result",
          "data": {
            "text/plain": [
              "[<matplotlib.lines.Line2D at 0x7efe629415d0>]"
            ]
          },
          "metadata": {},
          "execution_count": 133
        },
        {
          "output_type": "display_data",
          "data": {
            "text/plain": [
              "<Figure size 432x288 with 1 Axes>"
            ],
            "image/png": "[encoded data removed]"
          },
          "metadata": {
            "needs_background": "light"
          }
        }
      ],
      "source": [
        "# Compute the x and y coordinates for points on a sine curve\n",
        "x = np.arange(0, 3 * np.pi, 0.1)\n",
        "y = np.sin(x)\n",
        "\n",
        "# Plot the points using matplotlib\n",
        "plt.plot(x, y)"
      ]
    },
    {
      "cell_type": "markdown",
      "metadata": {
        "id": "XpNOJI1M2S3l"
      },
      "source": [
        "With just a little bit of extra work we can easily plot multiple lines at once, and add a title, legend, and axis labels:"
      ]
    },
    {
      "cell_type": "code",
      "execution_count": null,
      "metadata": {
        "colab": {
          "base_uri": "https://localhost:8080/",
          "height": 312
        },
        "id": "WRbc5FNv2S3l",
        "outputId": "63161663-7f01-4fa3-ca84-35965a6d5182"
      },
      "outputs": [
        {
          "output_type": "execute_result",
          "data": {
            "text/plain": [
              "<matplotlib.legend.Legend at 0x7efe62990fd0>"
            ]
          },
          "metadata": {},
          "execution_count": 134
        },
        {
          "output_type": "display_data",
          "data": {
            "text/plain": [
              "<Figure size 432x288 with 1 Axes>"
            ],
            "image/png": "[encoded data removed]"
          },
          "metadata": {
            "needs_background": "light"
          }
        }
      ],
      "source": [
        "y_sin = np.sin(x)\n",
        "y_cos = np.cos(x)\n",
        "\n",
        "# Plot the points using matplotlib\n",
        "plt.plot(x, y_sin)\n",
        "plt.plot(x, y_cos)\n",
        "plt.xlabel('x axis label')\n",
        "plt.ylabel('y axis label')\n",
        "plt.title('Sine and Cosine')\n",
        "plt.legend(['Sine', 'Cosine'])"
      ]
    },
    {
      "cell_type": "markdown",
      "metadata": {
        "id": "KtsP4KZA2S3l"
      },
      "source": [
        "### Subplots "
      ]
    },
    {
      "cell_type": "markdown",
      "metadata": {
        "id": "zTNuKOW82S3l"
      },
      "source": [
        "You can plot different things in the same figure using the subplot function. Here is an example:"
      ]
    },
    {
      "cell_type": "code",
      "execution_count": null,
      "metadata": {
        "colab": {
          "base_uri": "https://localhost:8080/",
          "height": 281
        },
        "id": "tUeU3F4F2S3l",
        "outputId": "7adaaf88-a3af-4d3d-c560-e217e80d880c"
      },
      "outputs": [
        {
          "output_type": "display_data",
          "data": {
            "text/plain": [
              "<Figure size 432x288 with 2 Axes>"
            ],
            "image/png": "[encoded data removed]"
          },
          "metadata": {
            "needs_background": "light"
          }
        }
      ],
      "source": [
        "# Compute the x and y coordinates for points on sine and cosine curves\n",
        "x = np.arange(0, 3 * np.pi, 0.1)\n",
        "y_sin = np.sin(x)\n",
        "y_cos = np.cos(x)\n",
        "\n",
        "# Set up a subplot grid that has height 2 and width 1,\n",
        "# and set the first such subplot as active.\n",
        "plt.subplot(2, 1, 1)\n",
        "\n",
        "# Make the first plot\n",
        "plt.plot(x, y_sin)\n",
        "plt.title('Sine')\n",
        "\n",
        "# Set the second subplot as active, and make the second plot.\n",
        "plt.subplot(2, 1, 2)\n",
        "plt.plot(x, y_cos)\n",
        "plt.title('Cosine')\n",
        "\n",
        "# Show the figure.\n",
        "plt.show()"
      ]
    },
    {
      "cell_type": "markdown",
      "metadata": {
        "id": "dCPo0mnV2S3l"
      },
      "source": [
        "You can read much more about the `subplot` function in the [documentation](http://matplotlib.org/api/pyplot_api.html#matplotlib.pyplot.subplot)."
      ]
    },
    {
      "cell_type": "code",
      "execution_count": null,
      "metadata": {
        "id": "hdC5ZQ8n2S3l"
      },
      "outputs": [],
      "source": [
        ""
      ]
    }
  ],
  "metadata": {
    "kernelspec": {
      "display_name": "Python 3",
      "language": "python",
      "name": "python3"
    },
    "language_info": {
      "codemirror_mode": {
        "name": "ipython",
        "version": 3
      },
      "file_extension": ".py",
      "mimetype": "text/x-python",
      "name": "python",
      "nbconvert_exporter": "python",
      "pygments_lexer": "ipython3",
      "version": "3.8.6"
    },
    "colab": {
      "name": "python-tutorial.ipynb",
      "provenance": [],
      "collapsed_sections": [
        "e_CkSXJk2S2_",
        "sDyPUfdE2S3B",
        "H6dSW2ZI2S3D",
        "gdQm4r3o2S3G",
        "vsvqkPkN2S3H",
        "Ohu4ayw-2S3I",
        "h1EjOIeE2S3L",
        "D4CvDsSq2S3N",
        "AqSRhJfc2S3P",
        "5-Eins3O2S3P",
        "2ZkXuqE22S3R",
        "aMcI7nIX2S3R",
        "Y4D-ARJH2S3S",
        "-fMdXFOA2S3T",
        "p7ETqb5O2S3V",
        "aCD82J8F2S3W",
        "tRXVy6N22S3X",
        "F89NJ69v2S3X",
        "QTa_Ctcf2S3Y",
        "RiiqUNKL2S3Y",
        "hP07SpPc2S3b",
        "_hsABmVL2S3f",
        "Hb_L1tCD2S3f",
        "AHGxSyzJ2S3h",
        "I_dSsrXn2S3k",
        "yD0dYCaV2S3k",
        "KtsP4KZA2S3l"
      ]
    }
  },
  "nbformat": 4,
  "nbformat_minor": 0
}