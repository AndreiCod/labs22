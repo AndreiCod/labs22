{
  "cells": [
    {
      "cell_type": "markdown",
      "metadata": {
        "id": "aiCnttWik4jo"
      },
      "source": [
        "# Introduction to Python"
      ]
    },
    {
      "cell_type": "markdown",
      "metadata": {
        "id": "ud4j-1Axk6uC"
      },
      "source": [
        "Python is a great general-purpose programming language on its own, but with the help of a few popular libraries (numpy, scipy, matplotlib) it becomes a powerful environment for scientific computing.\n",
        "\n",
        "We expect that some of you will have some experience with Python and Numpy; for the rest of you, this notebook will serve as a quick crash course both on the Python programming language and on the use of Python for scientific computing.\n",
        "\n",
        "Some of you may have previous knowledge in Matlab, in which case we also recommend the numpy for Matlab users [page](https://docs.scipy.org/doc/numpy-dev/user/numpy-for-matlab-users.html).\n"
      ]
    },
    {
      "cell_type": "markdown",
      "metadata": {
        "id": "f3uQ5OrRlLG3"
      },
      "source": [
        "In this tutorial, we will cover:\n",
        "\n",
        "* Fundamentals of Python\n",
        "* Data Types\n",
        "* Functions\n",
        "* Classes"
      ]
    },
    {
      "cell_type": "markdown",
      "metadata": {
        "id": "mNQOmm0HlbOh"
      },
      "source": [
        "## Fundamentals of Python"
      ]
    },
    {
      "cell_type": "markdown",
      "metadata": {
        "id": "hPVPzsivleU6"
      },
      "source": [
        "Python is a high-level, dynamically typed multiparadigm programming language. Python code is often said to be almost like pseudocode, since it allows you to express very powerful ideas in very few lines of code while being very readable.\n",
        "\n",
        "Python does not use curly brackets to delimit code blocks, but instead uses alignment (1 tab is equivalent to opening curly brackets, and the block ends when the code is realligned without the tab).\n",
        "\n",
        "The [Zen of Python](https://en.wikipedia.org/wiki/Zen_of_Python) suggests that the language should be, among others, simple. It usually takes half the lines of code to accomplish something in Python than it does in C/C++, and it certainly has less \"keywords\" than Java (don't we all hate the **public static void main** thing? Of course, Java is less verbose since version 13, but that's another story).\n",
        "\n",
        "\n",
        "There are two ways to write and execute Python code. "
      ]
    },
    {
      "cell_type": "markdown",
      "metadata": {
        "id": "ClhTqOkFny3D"
      },
      "source": [
        "### Non-interactive Python\n",
        "\n",
        "The first one is **non-interactive** and covers scripts and executables that can be ran from an IDE or the command line. Similar to JVM langauges, it is interpreted, meaning the code is converted into bytecode and then executed by the python virtual machine. Without going too much into details here, the steps to run a Python file is for it to have a [main function](https://realpython.com/python-main-function/) -- yes, it is ugly, we know, and then to run it via a terminal or from the IDE with *python file.py\". \n",
        "\n",
        "In order to be able to run the scripts, you will need Python installed on your machine (usually any version between 3.6 and 3.10). As with any other production-level langauge, Python has packages (or libraries, if you want) that must be installed and imported into the project to bring extra funcitonality. As these packages have various versions and compatibility issues, we suggest having a separate environment for each project. This can be achieved with Anaconda or VirtualEnv, but details on this will be given at a later point."
      ]
    },
    {
      "cell_type": "markdown",
      "metadata": {
        "id": "nEhwBX22n2pr"
      },
      "source": [
        "### Interactive Python\n",
        "\n",
        "\n",
        "The second way of running hte code is in interactive mode (or notebook mode), like this example. Notebooks are great ways to combine text and code. They are composed of cells that can be executed independently, and which can be intertwined with text blocks. This is great for writing proofs-of-concept or for demos, but in the real world, most of the times, the first way described is used. Of course, managed notebooks such as Google Colab allow you to run the code without installing anything on your machine, so less hassle.\n",
        "\n",
        "**Important** Executing a cell will always print the result of the last operation (no need to use \"print\" for the last operation, but if you want to print other values, explicitly use print in the cell at appropriate points)"
      ]
    },
    {
      "cell_type": "markdown",
      "metadata": {
        "id": "BX7Vr1C_okHL"
      },
      "source": [
        "##Data Types\n",
        "\n",
        "Python has a few basic data types:\n",
        "\n",
        "* Numeric types: int, float, complex (64-bit precision by default)\n",
        "* String: str\n",
        "* Collections: list, dict, set, tuple, range\n",
        "* bool\n",
        "* bytes (rarely used)\n",
        "* object (for user-defined classes)"
      ]
    },
    {
      "cell_type": "markdown",
      "metadata": {
        "id": "4-mIDp_Ops-G"
      },
      "source": [
        "### Numeric Types"
      ]
    },
    {
      "cell_type": "code",
      "execution_count": 58,
      "metadata": {
        "colab": {
          "base_uri": "https://localhost:8080/"
        },
        "id": "lRmV_4Upk8Jp",
        "outputId": "f20857f6-829b-40f9-941d-ea750195d0c3"
      },
      "outputs": [
        {
          "data": {
            "text/plain": [
              "int"
            ]
          },
          "execution_count": 58,
          "metadata": {},
          "output_type": "execute_result"
        }
      ],
      "source": [
        "# This is how you comment, by the way.\n",
        "# No need to specify the type of variables in Python.\n",
        "\n",
        "an_integer = 10\n",
        "\n",
        "type(an_integer)"
      ]
    },
    {
      "cell_type": "code",
      "execution_count": 59,
      "metadata": {
        "colab": {
          "base_uri": "https://localhost:8080/"
        },
        "id": "duJOgf3ApDfE",
        "outputId": "3c0d8d10-3acd-43f0-fddd-1898da811a01"
      },
      "outputs": [
        {
          "data": {
            "text/plain": [
              "float"
            ]
          },
          "execution_count": 59,
          "metadata": {},
          "output_type": "execute_result"
        }
      ],
      "source": [
        "a_float = 1/4\n",
        "another_float = 0.5\n",
        "\n",
        "sum_of_floats = a_float + another_float\n",
        "type(sum_of_floats)"
      ]
    },
    {
      "cell_type": "code",
      "execution_count": 60,
      "metadata": {
        "colab": {
          "base_uri": "https://localhost:8080/"
        },
        "id": "9ZXmJJJoqLUg",
        "outputId": "7cea5e44-4c61-4f40-b1ae-5b35fe12831d"
      },
      "outputs": [
        {
          "data": {
            "text/plain": [
              "float"
            ]
          },
          "execution_count": 60,
          "metadata": {},
          "output_type": "execute_result"
        }
      ],
      "source": [
        "sum_of_numbers = a_float + an_integer\n",
        "\n",
        "# Summing two numbers will give you a result of the appropriate type - The casting is done automatically\n",
        "type(sum_of_numbers)"
      ]
    },
    {
      "cell_type": "markdown",
      "metadata": {
        "id": "iEQ7Ek3Sqc7f"
      },
      "source": [
        "#### Numeric Operations\n",
        "\n",
        "Python provides the usual operands for numeric types:\n",
        "* Addition, subtraction, multiplicaiton, division, modulus\n",
        "* Exponential (different syntax)"
      ]
    },
    {
      "cell_type": "code",
      "execution_count": 61,
      "metadata": {
        "colab": {
          "base_uri": "https://localhost:8080/"
        },
        "id": "JhF0WtqJrErd",
        "outputId": "635ca544-4c85-4a22-ac7b-dd23c7623b8c"
      },
      "outputs": [
        {
          "name": "stdout",
          "output_type": "stream",
          "text": [
            "Addition:  5\n",
            "Subtraction: -1\n",
            "Division: 0.6666666666666666\n",
            "Integer Division: 0\n",
            "Mod: 2\n"
          ]
        }
      ],
      "source": [
        "a = 2\n",
        "b = 3 \n",
        "\n",
        "print(\"Addition: \", a+b)\n",
        "\n",
        "# Quick trick: Adding an \"f\" before a string value allows it to implicitly compute values enclosed in {}.\n",
        "print(f\"Subtraction: {a-b}\")\n",
        "\n",
        "print(f\"Division: {a/b}\")\n",
        "\n",
        "# Integer division is double slash\n",
        "print(f\"Integer Division: {a//b}\")\n",
        "\n",
        "print(f\"Mod: {a%b}\")"
      ]
    },
    {
      "cell_type": "code",
      "execution_count": 62,
      "metadata": {
        "colab": {
          "base_uri": "https://localhost:8080/"
        },
        "id": "xOEVt0sUqbs7",
        "outputId": "a06aa09f-e612-452b-c257-03cb4afc1911"
      },
      "outputs": [
        {
          "data": {
            "text/plain": [
              "8"
            ]
          },
          "execution_count": 62,
          "metadata": {},
          "output_type": "execute_result"
        }
      ],
      "source": [
        "exponential = 2 ** 3\n",
        "\n",
        "# Remember, the result of the last evaluated value is automatically printed\n",
        "exponential"
      ]
    },
    {
      "cell_type": "markdown",
      "metadata": {
        "id": "kyn1ViyFrlz0"
      },
      "source": [
        "### Strings"
      ]
    },
    {
      "cell_type": "code",
      "execution_count": 63,
      "metadata": {
        "colab": {
          "base_uri": "https://localhost:8080/"
        },
        "id": "cYuwCpiiqQV_",
        "outputId": "833b82ab-46d1-4b80-8c63-a7b77484a2c1"
      },
      "outputs": [
        {
          "name": "stdout",
          "output_type": "stream",
          "text": [
            "hello 5\n"
          ]
        }
      ],
      "source": [
        "hello = 'hello'   # String literals can use single quotes\n",
        "world = \"world\"   # or double quotes; it does not matter.\n",
        "print(hello, len(hello))"
      ]
    },
    {
      "cell_type": "markdown",
      "metadata": {
        "id": "iV746oUGsHCc"
      },
      "source": [
        "#### Concatenation\n",
        "\n",
        "Stings can be concatenated - Strings can also be indexed to create substrings."
      ]
    },
    {
      "cell_type": "code",
      "execution_count": 64,
      "metadata": {
        "colab": {
          "base_uri": "https://localhost:8080/"
        },
        "id": "DUAedNrhr9MO",
        "outputId": "1128412c-e118-44cb-a1d5-a34a462b636a"
      },
      "outputs": [
        {
          "name": "stdout",
          "output_type": "stream",
          "text": [
            "hello world\n"
          ]
        }
      ],
      "source": [
        "full_concatenation = hello + ' ' + world  # String concatenation\n",
        "print(full_concatenation)"
      ]
    },
    {
      "cell_type": "code",
      "execution_count": 65,
      "metadata": {
        "colab": {
          "base_uri": "https://localhost:8080/"
        },
        "id": "aX1Xuuzar_hv",
        "outputId": "b6af4457-38aa-4f94-e579-2643f905a3bd"
      },
      "outputs": [
        {
          "name": "stdout",
          "output_type": "stream",
          "text": [
            "h w\n"
          ]
        }
      ],
      "source": [
        "first_letter_concatenation = hello[0] + ' ' + world[0]\n",
        "print(first_letter_concatenation)"
      ]
    },
    {
      "cell_type": "code",
      "execution_count": 66,
      "metadata": {
        "colab": {
          "base_uri": "https://localhost:8080/",
          "height": 35
        },
        "id": "wy1FC7ZVsUaC",
        "outputId": "6e40c31c-3bf0-4a2c-d5eb-fbe59660bb88"
      },
      "outputs": [
        {
          "data": {
            "text/plain": [
              "'lo ld'"
            ]
          },
          "execution_count": 66,
          "metadata": {},
          "output_type": "execute_result"
        }
      ],
      "source": [
        "# Just a sneak peek on how to index the last two elements of an iterable. Don't worry, we will explain it in detail later\n",
        "last_two_letters_concatenation = hello[-2:] + ' ' + world[-2:]\n",
        "last_two_letters_concatenation"
      ]
    },
    {
      "cell_type": "markdown",
      "metadata": {
        "id": "tr4cZraKs18n"
      },
      "source": [
        "#### Formatting\n",
        "\n",
        "Formatting a string allows it to be parameterized. Strings can be formatted in multiple ways."
      ]
    },
    {
      "cell_type": "code",
      "execution_count": 67,
      "metadata": {
        "colab": {
          "base_uri": "https://localhost:8080/"
        },
        "id": "UFa28w9gsbmk",
        "outputId": "220e8012-66ba-40f2-843f-0bb3fe664582"
      },
      "outputs": [
        {
          "name": "stdout",
          "output_type": "stream",
          "text": [
            "Hello Girls 1\n",
            "Hello Guys\n",
            "Hello Everyone 3\n"
          ]
        }
      ],
      "source": [
        "hw12 = '%s %s %d' % (\"Hello\", \"Girls\", 1)  # sprintf style string formatting\n",
        "print(hw12)\n",
        "\n",
        "text = 'Hello {name:}'\n",
        "print(text.format(name='Guys'))\n",
        "\n",
        "# Everyone's favourite since Python 3\n",
        "name = 'Everyone'\n",
        "print(f'Hello {name} {1+2}')"
      ]
    },
    {
      "cell_type": "code",
      "execution_count": 68,
      "metadata": {
        "id": "XidR9ZSrtHQs"
      },
      "outputs": [],
      "source": [
        "###"
      ]
    },
    {
      "cell_type": "markdown",
      "metadata": {
        "id": "VtfE4Ui5yL_8"
      },
      "source": []
    },
    {
      "cell_type": "markdown",
      "metadata": {
        "id": "cnzOzUg0yOQc"
      },
      "source": [
        "### Containers\n",
        "\n",
        "Containers hold together multiple values of the same or of different types."
      ]
    },
    {
      "cell_type": "markdown",
      "metadata": {
        "id": "N-nvWmxnzHmz"
      },
      "source": [
        "#### Lists\n",
        "\n",
        "A list is the Python equivalent of an array, but is resizeable and can contain elements of different types:"
      ]
    },
    {
      "cell_type": "code",
      "execution_count": 69,
      "metadata": {
        "colab": {
          "base_uri": "https://localhost:8080/"
        },
        "id": "2BiWtwdAyPjA",
        "outputId": "c19ef773-db21-4e46-e0ca-44644ec7b8d7"
      },
      "outputs": [
        {
          "name": "stdout",
          "output_type": "stream",
          "text": [
            "The array is: [2, True, 'two']\n",
            "The first element of the array is: 2\n",
            "The last element of the array is: two\n"
          ]
        }
      ],
      "source": [
        "x = [2, True, \"two\"]   # Create a list\n",
        "print(\"The array is:\", x)\n",
        "print(\"The first element of the array is:\", x[0]) \n",
        "print(\"The last element of the array is:\", x[-1])     # Negative indices count from the end of the list; prints \"2\""
      ]
    },
    {
      "cell_type": "markdown",
      "metadata": {
        "id": "bzajnTilzrRD"
      },
      "source": [
        "You can add elements (at the end) to the list by calling append on the list. \n",
        "\n",
        "The syntax is similar to object-oriented programming: \"On x, append .2\""
      ]
    },
    {
      "cell_type": "code",
      "execution_count": 70,
      "metadata": {
        "colab": {
          "base_uri": "https://localhost:8080/"
        },
        "id": "E9d3Dkn2zeox",
        "outputId": "012ae6c1-cb16-4c61-bc80-cc063e157565"
      },
      "outputs": [
        {
          "data": {
            "text/plain": [
              "[2, True, 'two', 0.2]"
            ]
          },
          "execution_count": 70,
          "metadata": {},
          "output_type": "execute_result"
        }
      ],
      "source": [
        "x.append(.2)\n",
        "x"
      ]
    },
    {
      "cell_type": "markdown",
      "metadata": {
        "id": "mtTu-S7b0DUc"
      },
      "source": [
        "Certain data types have overrides for basic opreators. For instance, adding two lists appends one after the other."
      ]
    },
    {
      "cell_type": "code",
      "execution_count": 71,
      "metadata": {
        "colab": {
          "base_uri": "https://localhost:8080/"
        },
        "id": "cR-TvpBM0AUX",
        "outputId": "0f68df03-3dbf-4ce1-9d7c-028e15b69a75"
      },
      "outputs": [
        {
          "data": {
            "text/plain": [
              "[2, True, 'two', 0.2, 2, True, 'two', 0.2, 4, False, 'four', 0.4]"
            ]
          },
          "execution_count": 71,
          "metadata": {},
          "output_type": "execute_result"
        }
      ],
      "source": [
        "y = x + [4, False, \"four\", .4]\n",
        "x + y"
      ]
    },
    {
      "cell_type": "markdown",
      "metadata": {
        "id": "qIU9-ZAk0R59"
      },
      "source": [
        "Of course, not all operations work on lists. Some may work on other containers, for example."
      ]
    },
    {
      "cell_type": "code",
      "execution_count": 72,
      "metadata": {
        "colab": {
          "base_uri": "https://localhost:8080/",
          "height": 165
        },
        "id": "ZgtFTaZk0RjK",
        "outputId": "d1193870-23e6-4ad3-b1c8-e0ef782726d7"
      },
      "outputs": [
        {
          "name": "stdout",
          "output_type": "stream",
          "text": [
            "unsupported operand type(s) for -: 'list' and 'list'\n"
          ]
        }
      ],
      "source": [
        "try:\n",
        "    x - y\n",
        "except Exception as e:\n",
        "    print(e)"
      ]
    },
    {
      "cell_type": "markdown",
      "metadata": {
        "id": "BfWOYWuJ0Z6U"
      },
      "source": [
        "##### Slicing\n",
        "\n",
        "Slicing is indexing on steroids. \n",
        "* You want to get a single element? Slicing. \n",
        "* You want to get a sub-sequence? Slicing. \n",
        "* You want to get a reverse sub-sequence? Slicing.\n",
        "\n",
        "The syntax of slicing is \n",
        "\n",
        "```\n",
        "array[start:end(:step)]\n",
        "```\n",
        "Where start defaults to 0, end to the length of sequence - 1, and step to 1 (optional)."
      ]
    },
    {
      "cell_type": "code",
      "execution_count": 73,
      "metadata": {
        "colab": {
          "base_uri": "https://localhost:8080/"
        },
        "id": "PONJGA3Gz6mW",
        "outputId": "17c79c0c-6fa1-4301-ddb8-9ce0f997e8a8"
      },
      "outputs": [
        {
          "name": "stdout",
          "output_type": "stream",
          "text": [
            "[0, 1, 2, 3, 4]\n",
            "[0, 1, 2, 3, 4]\n",
            "[2, 3]\n",
            "[2, 3, 4]\n",
            "[0, 1]\n",
            "[0, 1, 2, 3, 4]\n",
            "[0, 1, 2, 3]\n",
            "[0, 1, 8, 9, 4]\n"
          ]
        }
      ],
      "source": [
        "nums = [i for i in range(5)]   # range is a built-in function that creates a list of integers\n",
        "\n",
        "print(nums)         # Prints \"[0, 1, 2, 3, 4]\"\n",
        "print(nums[:])      # Prints all the numbers.\n",
        "print(nums[2:4])    # Get a slice from index 2 to 4 (exclusive); prints \"[2, 3]\"\n",
        "print(nums[2:])     # Get a slice from index 2 to the end; prints \"[2, 3, 4]\"\n",
        "print(nums[:2])     # Get a slice from the start to index 2 (exclusive); prints \"[0, 1]\"\n",
        "print(nums[:])      # Get a slice of the whole list; prints [\"0, 1, 2, 3, 4]\"\n",
        "print(nums[:-1])    # Slice indices can be negative; prints [\"0, 1, 2, 3]\"\n",
        "nums[2:4] = [8, 9]  # Assign a new sublist to a slice\n",
        "print(nums)         # Prints \"[0, 1, 8, 9, 4]\""
      ]
    },
    {
      "cell_type": "markdown",
      "metadata": {
        "id": "8tOLyI411U9Q"
      },
      "source": [
        "##### Iterating\n",
        "\n",
        "Iterating a list in Python can be done with a for loop, and the elements are guaranteed to come in order."
      ]
    },
    {
      "cell_type": "code",
      "execution_count": 74,
      "metadata": {
        "colab": {
          "base_uri": "https://localhost:8080/"
        },
        "id": "qVabrJtS00db",
        "outputId": "8fe482b0-b9b2-4f2f-b0c4-66d9b59a343a"
      },
      "outputs": [
        {
          "name": "stdout",
          "output_type": "stream",
          "text": [
            "cat\n",
            "dog\n",
            "monkey\n"
          ]
        }
      ],
      "source": [
        "animals = ['cat', 'dog', 'monkey']\n",
        "for animal in animals:\n",
        "    print(animal)"
      ]
    },
    {
      "cell_type": "markdown",
      "metadata": {
        "id": "RT3JXyBT1gjH"
      },
      "source": [
        "You can also get the index along with the value using \"enumerate\"."
      ]
    },
    {
      "cell_type": "code",
      "execution_count": 75,
      "metadata": {
        "colab": {
          "base_uri": "https://localhost:8080/"
        },
        "id": "hsXRmigb1ea2",
        "outputId": "e4c2b484-d47b-4275-8f28-31ea15973b8c"
      },
      "outputs": [
        {
          "name": "stdout",
          "output_type": "stream",
          "text": [
            "0 cat\n",
            "1 dog\n",
            "2 monkey\n"
          ]
        }
      ],
      "source": [
        "animals = ['cat', 'dog', 'monkey']\n",
        "for idx, animal in enumerate(animals):\n",
        "    print(idx, animal)"
      ]
    },
    {
      "cell_type": "markdown",
      "metadata": {
        "id": "kQ9lCmvA2W0u"
      },
      "source": [
        "#### Tuples\n",
        "\n",
        "Tuples are similar to arrays, but they are not mutable - You cannot append or remove items from a tuple. They are a better choice when you know the exact structure of a collection (i.e. the coordinates of a point can be a tuple instead of a list, if they do not change)."
      ]
    },
    {
      "cell_type": "code",
      "execution_count": 76,
      "metadata": {
        "colab": {
          "base_uri": "https://localhost:8080/",
          "height": 200
        },
        "id": "VQ1uG7Jm266b",
        "outputId": "ff9a8150-70ad-46f4-f579-a8b24720bc37"
      },
      "outputs": [
        {
          "name": "stdout",
          "output_type": "stream",
          "text": [
            "'tuple' object has no attribute 'append'\n"
          ]
        }
      ],
      "source": [
        "coordinates = (1.0, 2.0)\n",
        "try:\n",
        "    coordinates.append(3.0)\n",
        "except Exception as e:\n",
        "    print(e)"
      ]
    },
    {
      "cell_type": "code",
      "execution_count": 77,
      "metadata": {
        "colab": {
          "base_uri": "https://localhost:8080/",
          "height": 165
        },
        "id": "5gU1KYt_3GQ6",
        "outputId": "9409c287-f76b-4353-c9be-5a51d31c23b1"
      },
      "outputs": [
        {
          "name": "stdout",
          "output_type": "stream",
          "text": [
            "'tuple' object does not support item assignment\n"
          ]
        }
      ],
      "source": [
        "try:\n",
        "    coordinates[0] = 2.0\n",
        "except Exception as e:\n",
        "    print(e)"
      ]
    },
    {
      "cell_type": "markdown",
      "metadata": {
        "id": "3fwxIYbE2HsF"
      },
      "source": [
        "#### Dictionaries\n",
        "\n",
        "Dictionaries are key-value mappings of any type, similar to Map in Java or object in JS."
      ]
    },
    {
      "cell_type": "code",
      "execution_count": 78,
      "metadata": {
        "colab": {
          "base_uri": "https://localhost:8080/"
        },
        "id": "Cf5b_WQ32I8x",
        "outputId": "a565f6e4-7e61-4370-c35d-5a54868ae4a8"
      },
      "outputs": [
        {
          "name": "stdout",
          "output_type": "stream",
          "text": [
            "cute\n",
            "furry\n",
            "True\n"
          ]
        }
      ],
      "source": [
        "d = {'cat': 'cute', \n",
        "     'dog': 'furry'}  # Create a new dictionary with some data\n",
        "print(d['cat'])\n",
        "print(d['dog']) # Get an entry from a dictionary\n",
        "print('cat' in d)    # Check if a dictionary has a given key"
      ]
    },
    {
      "cell_type": "code",
      "execution_count": 79,
      "metadata": {
        "colab": {
          "base_uri": "https://localhost:8080/"
        },
        "id": "t8xQb1hU32Uh",
        "outputId": "c0d86c13-adb4-4b2f-f6ea-678626943a87"
      },
      "outputs": [
        {
          "name": "stdout",
          "output_type": "stream",
          "text": [
            "wet\n"
          ]
        }
      ],
      "source": [
        "d['fish'] = 'wet'    # Set an entry in a dictionary\n",
        "print(d['fish'])     "
      ]
    },
    {
      "cell_type": "code",
      "execution_count": 80,
      "metadata": {
        "colab": {
          "base_uri": "https://localhost:8080/",
          "height": 165
        },
        "id": "qrIblrC934pY",
        "outputId": "ae27f406-653f-4691-d324-40e7dd3f0846"
      },
      "outputs": [
        {
          "name": "stdout",
          "output_type": "stream",
          "text": [
            "'monkey'\n"
          ]
        }
      ],
      "source": [
        "try:\n",
        "    print(d['monkey'])  # KeyError: 'monkey' not a key of d\n",
        "except Exception as e:\n",
        "    print(e)"
      ]
    },
    {
      "cell_type": "code",
      "execution_count": 81,
      "metadata": {
        "colab": {
          "base_uri": "https://localhost:8080/"
        },
        "id": "SqJXOBff4AHn",
        "outputId": "e6033a31-535b-4209-b306-3eafd2361fec"
      },
      "outputs": [
        {
          "name": "stdout",
          "output_type": "stream",
          "text": [
            "A person has 2 legs\n",
            "A cat has 4 legs\n",
            "A spider has 8 legs\n"
          ]
        }
      ],
      "source": [
        "d = {'person': 2, 'cat': 4, 'spider': 8}\n",
        "for animal in d:\n",
        "    legs = d[animal]\n",
        "    print(f'A {animal} has {legs} legs')"
      ]
    },
    {
      "cell_type": "markdown",
      "metadata": {
        "id": "vdxgEuw92KbV"
      },
      "source": [
        "#### Sets\n",
        "\n",
        "A set is an unordered collection of distinct elements. Sets are advantageous as testing membership and adding a new element takes O(1) time."
      ]
    },
    {
      "cell_type": "code",
      "execution_count": 82,
      "metadata": {
        "colab": {
          "base_uri": "https://localhost:8080/"
        },
        "id": "Yr6ybaEl2K6_",
        "outputId": "15add4f2-2558-4d17-fe40-f2958e150fb9"
      },
      "outputs": [
        {
          "name": "stdout",
          "output_type": "stream",
          "text": [
            "True\n",
            "False\n"
          ]
        }
      ],
      "source": [
        "animals = {'cat', 'dog'}\n",
        "print('cat' in animals)   \n",
        "print('fish' in animals)"
      ]
    },
    {
      "cell_type": "code",
      "execution_count": 83,
      "metadata": {
        "colab": {
          "base_uri": "https://localhost:8080/"
        },
        "id": "L1wQxpOr4bek",
        "outputId": "a336af88-e9af-476f-ca4b-4dbee7a08d14"
      },
      "outputs": [
        {
          "name": "stdout",
          "output_type": "stream",
          "text": [
            "2  animals in the set.\n",
            "1  animals in the set.\n"
          ]
        }
      ],
      "source": [
        "animals.add('cat')       # Adding an element that is already in the set does nothing\n",
        "print(len(animals), \" animals in the set.\")      \n",
        "animals.remove('cat')    # Remove an element from a set\n",
        "print(len(animals), \" animals in the set.\")      "
      ]
    },
    {
      "cell_type": "markdown",
      "metadata": {
        "id": "uuk6i4TS4oV0"
      },
      "source": [
        "Iterating over a set has the same syntax as iterating over a list; however since sets are unordered, you cannot make assumptions about the order in which you visit the elements of the set:"
      ]
    },
    {
      "cell_type": "code",
      "execution_count": 84,
      "metadata": {
        "colab": {
          "base_uri": "https://localhost:8080/"
        },
        "id": "i4q9xPBb4oFX",
        "outputId": "c985d002-d3f6-41cf-92fe-9c7b247ba903"
      },
      "outputs": [
        {
          "name": "stdout",
          "output_type": "stream",
          "text": [
            "0 aardvark\n",
            "1 fish\n",
            "2 cat\n",
            "3 dog\n"
          ]
        }
      ],
      "source": [
        "animals = {'cat', 'dog', 'fish', 'aardvark'}\n",
        "for idx, animal in enumerate(animals):\n",
        "    print(idx, animal)"
      ]
    },
    {
      "cell_type": "markdown",
      "metadata": {
        "id": "3xlKxBFx2MJI"
      },
      "source": [
        "#### Comprehensions\n",
        "\n",
        "Comprehension is a powerful syntax that allows the construction of a collection based on a \"formula\"."
      ]
    },
    {
      "cell_type": "code",
      "execution_count": 85,
      "metadata": {
        "colab": {
          "base_uri": "https://localhost:8080/"
        },
        "id": "Dntcez8Z2OUd",
        "outputId": "c38a0eec-3132-4486-8cf8-f2cf877b11bd"
      },
      "outputs": [
        {
          "name": "stdout",
          "output_type": "stream",
          "text": [
            "[0, 1, 4, 9, 16]\n",
            "{0, 1}\n",
            "{0: 0, 1: 1, 2: 4, 3: 9, 4: 16}\n"
          ]
        }
      ],
      "source": [
        "a_list = [i**2 for i in range(5)] # Squares of each element from 0 to 5\n",
        "a_set = {i%2 for i in range(5)} # A set of all modulo-2 values of each element from 0 to 5\n",
        "a_dict = {i:i**2 for i in range(5)} # A dictionary of key-value pairs where the key is a a number from 0 to 5 and the value is its square\n",
        "\n",
        "print(a_list)\n",
        "print(a_set)\n",
        "print(a_dict)"
      ]
    },
    {
      "cell_type": "markdown",
      "metadata": {
        "id": "KAvNx9hC6clX"
      },
      "source": [
        "## Control Structures\n",
        "\n",
        "The control structures are quite similar to pseudocode, and they do not require parantheses most of the times."
      ]
    },
    {
      "cell_type": "code",
      "execution_count": 86,
      "metadata": {
        "colab": {
          "base_uri": "https://localhost:8080/"
        },
        "id": "CclE8Ddz6kM7",
        "outputId": "231f1fd7-5ff8-490b-eb76-16d0f5422f24"
      },
      "outputs": [
        {
          "name": "stdout",
          "output_type": "stream",
          "text": [
            "Lesser\n"
          ]
        }
      ],
      "source": [
        "# Conditional structures\n",
        "\n",
        "a = 1\n",
        "b = 2\n",
        "\n",
        "if a > b: # condition\n",
        "  print('Greater')\n",
        "elif a == b: # alternative branch\n",
        "  print('Equal')\n",
        "else: # else\n",
        "  print('Lesser')"
      ]
    },
    {
      "cell_type": "code",
      "execution_count": 87,
      "metadata": {
        "colab": {
          "base_uri": "https://localhost:8080/"
        },
        "id": "yXkJRYJD60je",
        "outputId": "75ee7ec3-4b59-45bd-e301-51c7db5b6c56"
      },
      "outputs": [
        {
          "name": "stdout",
          "output_type": "stream",
          "text": [
            "For I am 0\n",
            "For I am 1\n",
            "For I am 2\n",
            "For I am 3\n",
            "For I am 4\n",
            "For I am 5\n",
            "While I am 0\n",
            "While I am 1\n",
            "While I am 2\n",
            "While I am 3\n",
            "While I am 4\n",
            "While I am 5\n"
          ]
        }
      ],
      "source": [
        "# Loops\n",
        "\n",
        "array = [0, 1, 2, 3, 4, 5]\n",
        "\n",
        "for i in array:\n",
        "  print(f\"For I am {i}\")\n",
        "\n",
        "i = 0\n",
        "while i < len(array):\n",
        "  print(f\"While I am {i}\")\n",
        "  i+=1 # i++ is not a valid syntax :("
      ]
    },
    {
      "cell_type": "markdown",
      "metadata": {
        "id": "g56xEcHH2huZ"
      },
      "source": [
        "## Functions. Elements of Functional Programming"
      ]
    },
    {
      "cell_type": "markdown",
      "metadata": {
        "id": "muY971gh6Ls0"
      },
      "source": [
        "Functions are defined in a simple syntax. The keyword is \"def\", and you dont have to specify the variable types or the return types. You can however, but it is optional. "
      ]
    },
    {
      "cell_type": "code",
      "execution_count": 88,
      "metadata": {
        "colab": {
          "base_uri": "https://localhost:8080/"
        },
        "id": "KqNJ_HGU6KJT",
        "outputId": "87d14b79-9034-4e5f-ec39-44fbe8294aa7"
      },
      "outputs": [
        {
          "name": "stdout",
          "output_type": "stream",
          "text": [
            "3\n",
            "4\n"
          ]
        }
      ],
      "source": [
        "def a_function(a_parameter, another_parameter):\n",
        "  return a_parameter + another_parameter\n",
        "\n",
        "\n",
        "def a_nice_function(a_parameter: int, another_parameter: int) -> int:\n",
        "  \"\"\"Add two integers\"\"\"\n",
        "  return a_parameter + another_parameter + 1\n",
        "\n",
        "\n",
        "a = 1\n",
        "b = 2\n",
        "\n",
        "print(a_function(a, b))\n",
        "print(a_nice_function(a, b))"
      ]
    },
    {
      "cell_type": "markdown",
      "metadata": {
        "id": "yctmUhws72rT"
      },
      "source": [
        "In Python, functions are first-class citizens. You can have functions as items in a collection, you can pass functions as parameters to other functions, and so on."
      ]
    },
    {
      "cell_type": "code",
      "execution_count": 89,
      "metadata": {
        "colab": {
          "base_uri": "https://localhost:8080/"
        },
        "id": "w2phimHp72Rn",
        "outputId": "b1acbbaf-a904-43f7-fc9d-714341401c4f"
      },
      "outputs": [
        {
          "name": "stdout",
          "output_type": "stream",
          "text": [
            "i'm actually calling the function passed as parameter to me\n"
          ]
        },
        {
          "data": {
            "text/plain": [
              "3"
            ]
          },
          "execution_count": 89,
          "metadata": {},
          "output_type": "execute_result"
        }
      ],
      "source": [
        "def a_wrapper_function(a_parameter:int, another_parameter: int, function) -> int:\n",
        "  print(\"i'm actually calling the function passed as parameter to me\")\n",
        "  return function(a_parameter, another_parameter)\n",
        "\n",
        "a_wrapper_function(a, b, a_function)"
      ]
    },
    {
      "cell_type": "code",
      "execution_count": 90,
      "metadata": {
        "colab": {
          "base_uri": "https://localhost:8080/"
        },
        "id": "ZBtly5jJ8ZqB",
        "outputId": "2f878929-ff8c-4444-e0b0-2d10e65e3bc0"
      },
      "outputs": [
        {
          "name": "stdout",
          "output_type": "stream",
          "text": [
            "3\n",
            "4\n"
          ]
        }
      ],
      "source": [
        "functions = [a_function, a_nice_function]\n",
        "for function in functions:\n",
        "  print(function(a, b))"
      ]
    },
    {
      "cell_type": "markdown",
      "metadata": {
        "id": "MQ4nfahW8f8H"
      },
      "source": [
        "### Elements of functional programming\n",
        "\n",
        "Python has built-in functions from functional programming, such as map, filter, zip, etc.\n",
        "\n",
        "It also allows the use of annonymous (lambda) functions. If you have not seen funcitonal program before, don't worry, it's not one of the key features of Python. Feel free to optionally explore it if you would like."
      ]
    },
    {
      "cell_type": "code",
      "execution_count": 91,
      "metadata": {
        "colab": {
          "base_uri": "https://localhost:8080/"
        },
        "id": "KbpLHsZ78qqW",
        "outputId": "2a028ef8-be83-4c8c-d34a-aa01b533b209"
      },
      "outputs": [
        {
          "name": "stdout",
          "output_type": "stream",
          "text": [
            "[1, 4, 9, 16, 25]\n",
            "[2, 3, 4, 5]\n"
          ]
        }
      ],
      "source": [
        "x = [1, 2, 3, 4, 5]\n",
        "print(list(map(lambda i: i**2, x)))\n",
        "\n",
        "print(list(filter(lambda i: i >= 2, x)))"
      ]
    },
    {
      "cell_type": "markdown",
      "metadata": {
        "id": "VmQ8rEVJ2YgK"
      },
      "source": [
        "## Object-oriented Programming - Classes and Objects\n",
        "\n",
        "Classes must define a constructor, provided in the `__init__` method. The constructor can take default values for the parameters.\n",
        "\n",
        "The class itself is represented by a dictionary named \"self\", in which you can store the instance variables of the class. All the class methods can access that \"self\". \n",
        "\n",
        "Classes have [\"magic methods\"](https://www.tutorialsteacher.com/python/magic-methods-in-python#:~:text=Magic%20methods%20in%20Python%20are,class%20on%20a%20certain%20action.), which allow you to define what certain operations with objects of the class should do.\n",
        "\n",
        "* Want to implement \">\" operator for people? Implement the `__ge__` magic method and compare the age of the two people to see which is \"greater\".\n"
      ]
    },
    {
      "cell_type": "code",
      "execution_count": 92,
      "metadata": {
        "colab": {
          "base_uri": "https://localhost:8080/"
        },
        "id": "Wk-7uRdK2gE8",
        "outputId": "d9d4f983-e2f0-4c24-8543-272565687775"
      },
      "outputs": [
        {
          "name": "stdout",
          "output_type": "stream",
          "text": [
            "Hi, my name is Alex, and I am 20 years old.\n"
          ]
        }
      ],
      "source": [
        "class Person():\n",
        "\n",
        "    # Constructor\n",
        "    def __init__(self, \n",
        "                 name,\n",
        "                 age):\n",
        "        self.name = name  # Create an instance variable\n",
        "        self.age = age\n",
        "\n",
        "    # Instance method\n",
        "    def introduce(self):\n",
        "        print(f'Hi, my name is {self.name}, and I am {self.age} years old.')\n",
        "\n",
        "\n",
        "alex = Person('Alex', 20)\n",
        "\n",
        "alex.introduce()"
      ]
    }
  ],
  "metadata": {
    "colab": {
      "name": "introduction-to-python.ipynb",
      "provenance": []
    },
    "kernelspec": {
      "display_name": "Python 3",
      "name": "python3"
    },
    "language_info": {
      "codemirror_mode": {
        "name": "ipython",
        "version": 3
      },
      "file_extension": ".py",
      "mimetype": "text/x-python",
      "name": "python",
      "nbconvert_exporter": "python",
      "pygments_lexer": "ipython3",
      "version": "3.10.4"
    }
  },
  "nbformat": 4,
  "nbformat_minor": 0
}
