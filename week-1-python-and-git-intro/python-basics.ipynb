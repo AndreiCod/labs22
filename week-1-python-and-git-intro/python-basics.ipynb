{
  "nbformat": 4,
  "nbformat_minor": 0,
  "metadata": {
    "colab": {
      "name": "introduction-to-python.ipynb",
      "provenance": []
    },
    "kernelspec": {
      "name": "python3",
      "display_name": "Python 3"
    },
    "language_info": {
      "name": "python"
    }
  },
  "cells": [
    {
      "cell_type": "markdown",
      "source": [
        "# Introduction to Python"
      ],
      "metadata": {
        "id": "aiCnttWik4jo"
      }
    },
    {
      "cell_type": "markdown",
      "source": [
        "Python is a great general-purpose programming language on its own, but with the help of a few popular libraries (numpy, scipy, matplotlib) it becomes a powerful environment for scientific computing.\n",
        "\n",
        "We expect that some of you will have some experience with Python and Numpy; for the rest of you, this notebook will serve as a quick crash course both on the Python programming language and on the use of Python for scientific computing.\n",
        "\n",
        "Some of you may have previous knowledge in Matlab, in which case we also recommend the numpy for Matlab users [page](https://docs.scipy.org/doc/numpy-dev/user/numpy-for-matlab-users.html).\n"
      ],
      "metadata": {
        "id": "ud4j-1Axk6uC"
      }
    },
    {
      "cell_type": "markdown",
      "source": [
        "In this tutorial, we will cover:\n",
        "\n",
        "* Fundamentals of Python\n",
        "* Data Types\n",
        "* Functions\n",
        "* Classes"
      ],
      "metadata": {
        "id": "f3uQ5OrRlLG3"
      }
    },
    {
      "cell_type": "markdown",
      "source": [
        "## Fundamentals of Python"
      ],
      "metadata": {
        "id": "mNQOmm0HlbOh"
      }
    },
    {
      "cell_type": "markdown",
      "source": [
        "Python is a high-level, dynamically typed multiparadigm programming language. Python code is often said to be almost like pseudocode, since it allows you to express very powerful ideas in very few lines of code while being very readable.\n",
        "\n",
        "Python does not use curly brackets to delimit code blocks, but instead uses alignment (1 tab is equivalent to opening curly brackets, and the block ends when the code is realligned without the tab).\n",
        "\n",
        "The [Zen of Python](https://en.wikipedia.org/wiki/Zen_of_Python) suggests that the language should be, among others, simple. It usually takes half the lines of code to accomplish something in Python than it does in C/C++, and it certainly has less \"keywords\" than Java (don't we all hate the **public static void main** thing? Of course, Java is less verbose since version 13, but that's another story).\n",
        "\n",
        "\n",
        "There are two ways to write and execute Python code. "
      ],
      "metadata": {
        "id": "hPVPzsivleU6"
      }
    },
    {
      "cell_type": "markdown",
      "source": [
        "### Non-interactive Python\n",
        "\n",
        "The first one is **non-interactive** and covers scripts and executables that can be ran from an IDE or the command line. Similar to JVM langauges, it is interpreted, meaning the code is converted into bytecode and then executed by the python virtual machine. Without going too much into details here, the steps to run a Python file is for it to have a [main function](https://realpython.com/python-main-function/) -- yes, it is ugly, we know, and then to run it via a terminal or from the IDE with *python file.py\". \n",
        "\n",
        "In order to be able to run the scripts, you will need Python installed on your machine (usually any version between 3.6 and 3.10). As with any other production-level langauge, Python has packages (or libraries, if you want) that must be installed and imported into the project to bring extra funcitonality. As these packages have various versions and compatibility issues, we suggest having a separate environment for each project. This can be achieved with Anaconda or VirtualEnv, but details on this will be given at a later point."
      ],
      "metadata": {
        "id": "ClhTqOkFny3D"
      }
    },
    {
      "cell_type": "markdown",
      "source": [
        "### Interactive Python\n",
        "\n",
        "\n",
        "The second way of running hte code is in interactive mode (or notebook mode), like this example. Notebooks are great ways to combine text and code. They are composed of cells that can be executed independently, and which can be intertwined with text blocks. This is great for writing proofs-of-concept or for demos, but in the real world, most of the times, the first way described is used. Of course, managed notebooks such as Google Colab allow you to run the code without installing anything on your machine, so less hassle.\n",
        "\n",
        "**Important** Executing a cell will always print the result of the last operation (no need to use \"print\" for the last operation, but if you want to print other values, explicitly use print in the cell at appropriate points)"
      ],
      "metadata": {
        "id": "nEhwBX22n2pr"
      }
    },
    {
      "cell_type": "markdown",
      "source": [
        "##Data Types\n",
        "\n",
        "Python has a few basic data types:\n",
        "\n",
        "* Numeric types: int, float, complex (64-bit precision by default)\n",
        "* String: str\n",
        "* Collections: list, dict, set, tuple, range\n",
        "* bool\n",
        "* bytes (rarely used)\n",
        "* object (for user-defined classes)"
      ],
      "metadata": {
        "id": "BX7Vr1C_okHL"
      }
    },
    {
      "cell_type": "markdown",
      "source": [
        "### Numeric Types"
      ],
      "metadata": {
        "id": "4-mIDp_Ops-G"
      }
    },
    {
      "cell_type": "code",
      "source": [
        "# This is how you comment, by the way.\n",
        "# No need to specify the type of variables in Python.\n",
        "\n",
        "an_integer = 10\n",
        "\n",
        "type(an_integer)"
      ],
      "metadata": {
        "colab": {
          "base_uri": "https://localhost:8080/"
        },
        "id": "lRmV_4Upk8Jp",
        "outputId": "f20857f6-829b-40f9-941d-ea750195d0c3"
      },
      "execution_count": null,
      "outputs": [
        {
          "output_type": "execute_result",
          "data": {
            "text/plain": [
              "int"
            ]
          },
          "metadata": {},
          "execution_count": 5
        }
      ]
    },
    {
      "cell_type": "code",
      "source": [
        "a_float = 1/4\n",
        "another_float = 0.5\n",
        "\n",
        "sum_of_floats = a_float + another_float\n",
        "type(sum_of_floats)"
      ],
      "metadata": {
        "colab": {
          "base_uri": "https://localhost:8080/"
        },
        "id": "duJOgf3ApDfE",
        "outputId": "3c0d8d10-3acd-43f0-fddd-1898da811a01"
      },
      "execution_count": null,
      "outputs": [
        {
          "output_type": "execute_result",
          "data": {
            "text/plain": [
              "float"
            ]
          },
          "metadata": {},
          "execution_count": 6
        }
      ]
    },
    {
      "cell_type": "code",
      "source": [
        "sum_of_numbers = a_float + an_integer\n",
        "\n",
        "# Summing two numbers will give you a result of the appropriate type - The casting is done automatically\n",
        "type(sum_of_numbers)"
      ],
      "metadata": {
        "colab": {
          "base_uri": "https://localhost:8080/"
        },
        "id": "9ZXmJJJoqLUg",
        "outputId": "7cea5e44-4c61-4f40-b1ae-5b35fe12831d"
      },
      "execution_count": null,
      "outputs": [
        {
          "output_type": "execute_result",
          "data": {
            "text/plain": [
              "float"
            ]
          },
          "metadata": {},
          "execution_count": 8
        }
      ]
    },
    {
      "cell_type": "markdown",
      "source": [
        "#### Numeric Operations\n",
        "\n",
        "Python provides the usual operands for numeric types:\n",
        "* Addition, subtraction, multiplicaiton, division, modulus\n",
        "* Exponential (different syntax)"
      ],
      "metadata": {
        "id": "iEQ7Ek3Sqc7f"
      }
    },
    {
      "cell_type": "code",
      "source": [
        "a = 2\n",
        "b = 3 \n",
        "\n",
        "print(\"Addition: \", a+b)\n",
        "\n",
        "# Quick trick: Adding an \"f\" before a string value allows it to implicitly compute values enclosed in {}.\n",
        "print(f\"Subtraction: {a-b}\")\n",
        "\n",
        "print(f\"Division: {a/b}\")\n",
        "\n",
        "# Integer division is double slash\n",
        "print(f\"Integer Division: {a//b}\")\n",
        "\n",
        "print(f\"Mod: {a%b}\")"
      ],
      "metadata": {
        "colab": {
          "base_uri": "https://localhost:8080/"
        },
        "id": "JhF0WtqJrErd",
        "outputId": "635ca544-4c85-4a22-ac7b-dd23c7623b8c"
      },
      "execution_count": null,
      "outputs": [
        {
          "output_type": "stream",
          "name": "stdout",
          "text": [
            "Addition:  5\n",
            "Subtraction: -1\n",
            "Division: 0.6666666666666666\n",
            "Integer Division: 0\n",
            "Mod: 2\n"
          ]
        }
      ]
    },
    {
      "cell_type": "code",
      "source": [
        "exponential = 2 ** 3\n",
        "\n",
        "# Remember, the result of the last evaluated value is automatically printed\n",
        "exponential"
      ],
      "metadata": {
        "colab": {
          "base_uri": "https://localhost:8080/"
        },
        "id": "xOEVt0sUqbs7",
        "outputId": "a06aa09f-e612-452b-c257-03cb4afc1911"
      },
      "execution_count": null,
      "outputs": [
        {
          "output_type": "execute_result",
          "data": {
            "text/plain": [
              "8"
            ]
          },
          "metadata": {},
          "execution_count": 11
        }
      ]
    },
    {
      "cell_type": "markdown",
      "source": [
        "### Strings"
      ],
      "metadata": {
        "id": "kyn1ViyFrlz0"
      }
    },
    {
      "cell_type": "code",
      "source": [
        "hello = 'hello'   # String literals can use single quotes\n",
        "world = \"world\"   # or double quotes; it does not matter.\n",
        "print(hello, len(hello))"
      ],
      "metadata": {
        "colab": {
          "base_uri": "https://localhost:8080/"
        },
        "id": "cYuwCpiiqQV_",
        "outputId": "833b82ab-46d1-4b80-8c63-a7b77484a2c1"
      },
      "execution_count": null,
      "outputs": [
        {
          "output_type": "stream",
          "name": "stdout",
          "text": [
            "hello 5\n"
          ]
        }
      ]
    },
    {
      "cell_type": "markdown",
      "source": [
        "#### Concatenation\n",
        "\n",
        "Stings can be concatenated - Strings can also be indexed to create substrings."
      ],
      "metadata": {
        "id": "iV746oUGsHCc"
      }
    },
    {
      "cell_type": "code",
      "source": [
        "full_concatenation = hello + ' ' + world  # String concatenation\n",
        "print(full_concatenation)"
      ],
      "metadata": {
        "colab": {
          "base_uri": "https://localhost:8080/"
        },
        "id": "DUAedNrhr9MO",
        "outputId": "1128412c-e118-44cb-a1d5-a34a462b636a"
      },
      "execution_count": null,
      "outputs": [
        {
          "output_type": "stream",
          "name": "stdout",
          "text": [
            "hello world\n"
          ]
        }
      ]
    },
    {
      "cell_type": "code",
      "source": [
        "first_letter_concatenation = hello[0] + ' ' + world[0]\n",
        "print(first_letter_concatenation)"
      ],
      "metadata": {
        "colab": {
          "base_uri": "https://localhost:8080/"
        },
        "id": "aX1Xuuzar_hv",
        "outputId": "b6af4457-38aa-4f94-e579-2643f905a3bd"
      },
      "execution_count": null,
      "outputs": [
        {
          "output_type": "stream",
          "name": "stdout",
          "text": [
            "h w\n"
          ]
        }
      ]
    },
    {
      "cell_type": "code",
      "source": [
        "# Just a sneak peek on how to index the last two elements of an iterable. Don't worry, we will explain it in detail later\n",
        "last_two_letters_concatenation = hello[-2:] + ' ' + world[-2:]\n",
        "last_two_letters_concatenation"
      ],
      "metadata": {
        "colab": {
          "base_uri": "https://localhost:8080/",
          "height": 35
        },
        "id": "wy1FC7ZVsUaC",
        "outputId": "6e40c31c-3bf0-4a2c-d5eb-fbe59660bb88"
      },
      "execution_count": null,
      "outputs": [
        {
          "output_type": "execute_result",
          "data": {
            "text/plain": [
              "'lo ld'"
            ],
            "application/vnd.google.colaboratory.intrinsic+json": {
              "type": "string"
            }
          },
          "metadata": {},
          "execution_count": 23
        }
      ]
    },
    {
      "cell_type": "markdown",
      "source": [
        "#### Formatting\n",
        "\n",
        "Formatting a string allows it to be parameterized. Strings can be formatted in multiple ways."
      ],
      "metadata": {
        "id": "tr4cZraKs18n"
      }
    },
    {
      "cell_type": "code",
      "source": [
        "hw12 = '%s %s %d' % (\"Hello\", \"Girls\", 1)  # sprintf style string formatting\n",
        "print(hw12)\n",
        "\n",
        "text = 'Hello {name:}'\n",
        "print(text.format(name='Guys'))\n",
        "\n",
        "# Everyone's favourite since Python 3\n",
        "name = 'Everyone'\n",
        "print(f'Hello {name} {1+2}')"
      ],
      "metadata": {
        "colab": {
          "base_uri": "https://localhost:8080/"
        },
        "id": "UFa28w9gsbmk",
        "outputId": "220e8012-66ba-40f2-843f-0bb3fe664582"
      },
      "execution_count": null,
      "outputs": [
        {
          "output_type": "stream",
          "name": "stdout",
          "text": [
            "Hello Girls 1\n",
            "Hello Guys\n",
            "Hello Everyone 3\n"
          ]
        }
      ]
    },
    {
      "cell_type": "code",
      "source": [
        "###"
      ],
      "metadata": {
        "id": "XidR9ZSrtHQs"
      },
      "execution_count": null,
      "outputs": []
    },
    {
      "cell_type": "markdown",
      "source": [
        ""
      ],
      "metadata": {
        "id": "VtfE4Ui5yL_8"
      }
    },
    {
      "cell_type": "markdown",
      "source": [
        "### Containers\n",
        "\n",
        "Containers hold together multiple values of the same or of different types."
      ],
      "metadata": {
        "id": "cnzOzUg0yOQc"
      }
    },
    {
      "cell_type": "markdown",
      "source": [
        "#### Lists\n",
        "\n",
        "A list is the Python equivalent of an array, but is resizeable and can contain elements of different types:"
      ],
      "metadata": {
        "id": "N-nvWmxnzHmz"
      }
    },
    {
      "cell_type": "code",
      "source": [
        "x = [2, True, \"two\"]   # Create a list\n",
        "print(\"The array is:\", x)\n",
        "print(\"The first element of the array is:\", x[0]) \n",
        "print(\"The last element of the array is:\", x[-1])     # Negative indices count from the end of the list; prints \"2\""
      ],
      "metadata": {
        "colab": {
          "base_uri": "https://localhost:8080/"
        },
        "id": "2BiWtwdAyPjA",
        "outputId": "c19ef773-db21-4e46-e0ca-44644ec7b8d7"
      },
      "execution_count": null,
      "outputs": [
        {
          "output_type": "stream",
          "name": "stdout",
          "text": [
            "The array is: [2, True, 'two']\n",
            "The first element of the array is: 2\n",
            "The last element of the array is: two\n"
          ]
        }
      ]
    },
    {
      "cell_type": "markdown",
      "source": [
        "You can add elements (at the end) to the list by calling append on the list. \n",
        "\n",
        "The syntax is similar to object-oriented programming: \"On x, append .2\""
      ],
      "metadata": {
        "id": "bzajnTilzrRD"
      }
    },
    {
      "cell_type": "code",
      "source": [
        "x.append(.2)\n",
        "x"
      ],
      "metadata": {
        "colab": {
          "base_uri": "https://localhost:8080/"
        },
        "id": "E9d3Dkn2zeox",
        "outputId": "012ae6c1-cb16-4c61-bc80-cc063e157565"
      },
      "execution_count": null,
      "outputs": [
        {
          "output_type": "execute_result",
          "data": {
            "text/plain": [
              "[2, True, 'two', 0.2]"
            ]
          },
          "metadata": {},
          "execution_count": 34
        }
      ]
    },
    {
      "cell_type": "markdown",
      "source": [
        "Certain data types have overrides for basic opreators. For instance, adding two lists appends one after the other."
      ],
      "metadata": {
        "id": "mtTu-S7b0DUc"
      }
    },
    {
      "cell_type": "code",
      "source": [
        "y = x + [4, False, \"four\", .4]\n",
        "x + y"
      ],
      "metadata": {
        "colab": {
          "base_uri": "https://localhost:8080/"
        },
        "id": "cR-TvpBM0AUX",
        "outputId": "0f68df03-3dbf-4ce1-9d7c-028e15b69a75"
      },
      "execution_count": null,
      "outputs": [
        {
          "output_type": "execute_result",
          "data": {
            "text/plain": [
              "[2, True, 'two', 0.2, 2, True, 'two', 0.2, 4, False, 'four', 0.4]"
            ]
          },
          "metadata": {},
          "execution_count": 36
        }
      ]
    },
    {
      "cell_type": "markdown",
      "source": [
        "Of course, not all operations work on lists. Some may work on other containers, for example."
      ],
      "metadata": {
        "id": "qIU9-ZAk0R59"
      }
    },
    {
      "cell_type": "code",
      "source": [
        "x - y"
      ],
      "metadata": {
        "colab": {
          "base_uri": "https://localhost:8080/",
          "height": 165
        },
        "id": "ZgtFTaZk0RjK",
        "outputId": "d1193870-23e6-4ad3-b1c8-e0ef782726d7"
      },
      "execution_count": null,
      "outputs": [
        {
          "output_type": "error",
          "ename": "TypeError",
          "evalue": "ignored",
          "traceback": [
            "\u001b[0;31m---------------------------------------------------------------------------\u001b[0m",
            "\u001b[0;31mTypeError\u001b[0m                                 Traceback (most recent call last)",
            "\u001b[0;32m<ipython-input-37-86286c876b5e>\u001b[0m in \u001b[0;36m<module>\u001b[0;34m()\u001b[0m\n\u001b[0;32m----> 1\u001b[0;31m \u001b[0mx\u001b[0m \u001b[0;34m-\u001b[0m \u001b[0my\u001b[0m\u001b[0;34m\u001b[0m\u001b[0;34m\u001b[0m\u001b[0m\n\u001b[0m",
            "\u001b[0;31mTypeError\u001b[0m: unsupported operand type(s) for -: 'list' and 'list'"
          ]
        }
      ]
    },
    {
      "cell_type": "markdown",
      "source": [
        "##### Slicing\n",
        "\n",
        "Slicing is indexing on steroids. \n",
        "* You want to get a single element? Slicing. \n",
        "* You want to get a sub-sequence? Slicing. \n",
        "* You want to get a reverse sub-sequence? Slicing.\n",
        "\n",
        "The syntax of slicing is \n",
        "\n",
        "```\n",
        "array[start:end(:step)]\n",
        "```\n",
        "Where start defaults to 0, end to the length of sequence - 1, and step to 1 (optional)."
      ],
      "metadata": {
        "id": "BfWOYWuJ0Z6U"
      }
    },
    {
      "cell_type": "code",
      "source": [
        "nums = [i for i in range(5)]   # range is a built-in function that creates a list of integers\n",
        "\n",
        "print(nums)         # Prints \"[0, 1, 2, 3, 4]\"\n",
        "print(nums[:])      # Prints all the numbers.\n",
        "print(nums[2:4])    # Get a slice from index 2 to 4 (exclusive); prints \"[2, 3]\"\n",
        "print(nums[2:])     # Get a slice from index 2 to the end; prints \"[2, 3, 4]\"\n",
        "print(nums[:2])     # Get a slice from the start to index 2 (exclusive); prints \"[0, 1]\"\n",
        "print(nums[:])      # Get a slice of the whole list; prints [\"0, 1, 2, 3, 4]\"\n",
        "print(nums[:-1])    # Slice indices can be negative; prints [\"0, 1, 2, 3]\"\n",
        "nums[2:4] = [8, 9]  # Assign a new sublist to a slice\n",
        "print(nums)         # Prints \"[0, 1, 8, 9, 4]\""
      ],
      "metadata": {
        "colab": {
          "base_uri": "https://localhost:8080/"
        },
        "id": "PONJGA3Gz6mW",
        "outputId": "17c79c0c-6fa1-4301-ddb8-9ce0f997e8a8"
      },
      "execution_count": null,
      "outputs": [
        {
          "output_type": "stream",
          "name": "stdout",
          "text": [
            "[0, 1, 2, 3, 4]\n",
            "[0, 1, 2, 3, 4]\n",
            "[2, 3]\n",
            "[2, 3, 4]\n",
            "[0, 1]\n",
            "[0, 1, 2, 3, 4]\n",
            "[0, 1, 2, 3]\n",
            "[0, 1, 8, 9, 4]\n"
          ]
        }
      ]
    },
    {
      "cell_type": "markdown",
      "source": [
        "##### Iterating\n",
        "\n",
        "Iterating a list in Python can be done with a for loop, and the elements are guaranteed to come in order."
      ],
      "metadata": {
        "id": "8tOLyI411U9Q"
      }
    },
    {
      "cell_type": "code",
      "source": [
        "animals = ['cat', 'dog', 'monkey']\n",
        "for animal in animals:\n",
        "    print(animal)"
      ],
      "metadata": {
        "colab": {
          "base_uri": "https://localhost:8080/"
        },
        "id": "qVabrJtS00db",
        "outputId": "8fe482b0-b9b2-4f2f-b0c4-66d9b59a343a"
      },
      "execution_count": null,
      "outputs": [
        {
          "output_type": "stream",
          "name": "stdout",
          "text": [
            "cat\n",
            "dog\n",
            "monkey\n"
          ]
        }
      ]
    },
    {
      "cell_type": "markdown",
      "source": [
        "You can also get the index along with the value using \"enumerate\"."
      ],
      "metadata": {
        "id": "RT3JXyBT1gjH"
      }
    },
    {
      "cell_type": "code",
      "source": [
        "animals = ['cat', 'dog', 'monkey']\n",
        "for idx, animal in enumerate(animals):\n",
        "    print(idx, animal)"
      ],
      "metadata": {
        "colab": {
          "base_uri": "https://localhost:8080/"
        },
        "id": "hsXRmigb1ea2",
        "outputId": "e4c2b484-d47b-4275-8f28-31ea15973b8c"
      },
      "execution_count": null,
      "outputs": [
        {
          "output_type": "stream",
          "name": "stdout",
          "text": [
            "0 cat\n",
            "1 dog\n",
            "2 monkey\n"
          ]
        }
      ]
    },
    {
      "cell_type": "markdown",
      "source": [
        "#### Tuples\n",
        "\n",
        "Tuples are similar to arrays, but they are not mutable - You cannot append or remove items from a tuple. They are a better choice when you know the exact structure of a collection (i.e. the coordinates of a point can be a tuple instead of a list, if they do not change)."
      ],
      "metadata": {
        "id": "kQ9lCmvA2W0u"
      }
    },
    {
      "cell_type": "code",
      "source": [
        "coordinates = (1.0, 2.0)\n",
        "\n",
        "coordinates.append(3.0)"
      ],
      "metadata": {
        "colab": {
          "base_uri": "https://localhost:8080/",
          "height": 200
        },
        "id": "VQ1uG7Jm266b",
        "outputId": "ff9a8150-70ad-46f4-f579-a8b24720bc37"
      },
      "execution_count": null,
      "outputs": [
        {
          "output_type": "error",
          "ename": "AttributeError",
          "evalue": "ignored",
          "traceback": [
            "\u001b[0;31m---------------------------------------------------------------------------\u001b[0m",
            "\u001b[0;31mAttributeError\u001b[0m                            Traceback (most recent call last)",
            "\u001b[0;32m<ipython-input-42-6c24a70b40d3>\u001b[0m in \u001b[0;36m<module>\u001b[0;34m()\u001b[0m\n\u001b[1;32m      1\u001b[0m \u001b[0mcoordinates\u001b[0m \u001b[0;34m=\u001b[0m \u001b[0;34m(\u001b[0m\u001b[0;36m1.0\u001b[0m\u001b[0;34m,\u001b[0m \u001b[0;36m2.0\u001b[0m\u001b[0;34m)\u001b[0m\u001b[0;34m\u001b[0m\u001b[0;34m\u001b[0m\u001b[0m\n\u001b[1;32m      2\u001b[0m \u001b[0;34m\u001b[0m\u001b[0m\n\u001b[0;32m----> 3\u001b[0;31m \u001b[0mcoordinates\u001b[0m\u001b[0;34m.\u001b[0m\u001b[0mappend\u001b[0m\u001b[0;34m(\u001b[0m\u001b[0;36m3.0\u001b[0m\u001b[0;34m)\u001b[0m\u001b[0;34m\u001b[0m\u001b[0;34m\u001b[0m\u001b[0m\n\u001b[0m",
            "\u001b[0;31mAttributeError\u001b[0m: 'tuple' object has no attribute 'append'"
          ]
        }
      ]
    },
    {
      "cell_type": "code",
      "source": [
        "coordinates[0] = 2.0"
      ],
      "metadata": {
        "colab": {
          "base_uri": "https://localhost:8080/",
          "height": 165
        },
        "id": "5gU1KYt_3GQ6",
        "outputId": "9409c287-f76b-4353-c9be-5a51d31c23b1"
      },
      "execution_count": null,
      "outputs": [
        {
          "output_type": "error",
          "ename": "TypeError",
          "evalue": "ignored",
          "traceback": [
            "\u001b[0;31m---------------------------------------------------------------------------\u001b[0m",
            "\u001b[0;31mTypeError\u001b[0m                                 Traceback (most recent call last)",
            "\u001b[0;32m<ipython-input-43-d8cc99a6b543>\u001b[0m in \u001b[0;36m<module>\u001b[0;34m()\u001b[0m\n\u001b[0;32m----> 1\u001b[0;31m \u001b[0mcoordinates\u001b[0m\u001b[0;34m[\u001b[0m\u001b[0;36m0\u001b[0m\u001b[0;34m]\u001b[0m \u001b[0;34m=\u001b[0m \u001b[0;36m2.0\u001b[0m\u001b[0;34m\u001b[0m\u001b[0;34m\u001b[0m\u001b[0m\n\u001b[0m",
            "\u001b[0;31mTypeError\u001b[0m: 'tuple' object does not support item assignment"
          ]
        }
      ]
    },
    {
      "cell_type": "markdown",
      "source": [
        "#### Dictionaries\n",
        "\n",
        "Dictionaries are key-value mappings of any type, similar to Map in Java or object in JS."
      ],
      "metadata": {
        "id": "3fwxIYbE2HsF"
      }
    },
    {
      "cell_type": "code",
      "source": [
        "d = {'cat': 'cute', \n",
        "     'dog': 'furry'}  # Create a new dictionary with some data\n",
        "print(d['cat'])\n",
        "print(d['dog']) # Get an entry from a dictionary\n",
        "print('cat' in d)    # Check if a dictionary has a given key"
      ],
      "metadata": {
        "colab": {
          "base_uri": "https://localhost:8080/"
        },
        "id": "Cf5b_WQ32I8x",
        "outputId": "a565f6e4-7e61-4370-c35d-5a54868ae4a8"
      },
      "execution_count": null,
      "outputs": [
        {
          "output_type": "stream",
          "name": "stdout",
          "text": [
            "cute\n",
            "furry\n",
            "True\n"
          ]
        }
      ]
    },
    {
      "cell_type": "code",
      "source": [
        "d['fish'] = 'wet'    # Set an entry in a dictionary\n",
        "print(d['fish'])     "
      ],
      "metadata": {
        "colab": {
          "base_uri": "https://localhost:8080/"
        },
        "id": "t8xQb1hU32Uh",
        "outputId": "c0d86c13-adb4-4b2f-f6ea-678626943a87"
      },
      "execution_count": null,
      "outputs": [
        {
          "output_type": "stream",
          "name": "stdout",
          "text": [
            "wet\n"
          ]
        }
      ]
    },
    {
      "cell_type": "code",
      "source": [
        "print(d['monkey'])  # KeyError: 'monkey' not a key of d"
      ],
      "metadata": {
        "colab": {
          "base_uri": "https://localhost:8080/",
          "height": 165
        },
        "id": "qrIblrC934pY",
        "outputId": "ae27f406-653f-4691-d324-40e7dd3f0846"
      },
      "execution_count": null,
      "outputs": [
        {
          "output_type": "error",
          "ename": "KeyError",
          "evalue": "ignored",
          "traceback": [
            "\u001b[0;31m---------------------------------------------------------------------------\u001b[0m",
            "\u001b[0;31mKeyError\u001b[0m                                  Traceback (most recent call last)",
            "\u001b[0;32m<ipython-input-48-78fc9745d9cf>\u001b[0m in \u001b[0;36m<module>\u001b[0;34m()\u001b[0m\n\u001b[0;32m----> 1\u001b[0;31m \u001b[0mprint\u001b[0m\u001b[0;34m(\u001b[0m\u001b[0md\u001b[0m\u001b[0;34m[\u001b[0m\u001b[0;34m'monkey'\u001b[0m\u001b[0;34m]\u001b[0m\u001b[0;34m)\u001b[0m  \u001b[0;31m# KeyError: 'monkey' not a key of d\u001b[0m\u001b[0;34m\u001b[0m\u001b[0;34m\u001b[0m\u001b[0m\n\u001b[0m",
            "\u001b[0;31mKeyError\u001b[0m: 'monkey'"
          ]
        }
      ]
    },
    {
      "cell_type": "code",
      "source": [
        "d = {'person': 2, 'cat': 4, 'spider': 8}\n",
        "for animal in d:\n",
        "    legs = d[animal]\n",
        "    print(f'A {animal} has {legs} legs')"
      ],
      "metadata": {
        "colab": {
          "base_uri": "https://localhost:8080/"
        },
        "id": "SqJXOBff4AHn",
        "outputId": "e6033a31-535b-4209-b306-3eafd2361fec"
      },
      "execution_count": null,
      "outputs": [
        {
          "output_type": "stream",
          "name": "stdout",
          "text": [
            "A person has 2 legs\n",
            "A cat has 4 legs\n",
            "A spider has 8 legs\n"
          ]
        }
      ]
    },
    {
      "cell_type": "markdown",
      "source": [
        "#### Sets\n",
        "\n",
        "A set is an unordered collection of distinct elements. Sets are advantageous as testing membership and adding a new element takes O(1) time."
      ],
      "metadata": {
        "id": "vdxgEuw92KbV"
      }
    },
    {
      "cell_type": "code",
      "source": [
        "animals = {'cat', 'dog'}\n",
        "print('cat' in animals)   \n",
        "print('fish' in animals)"
      ],
      "metadata": {
        "colab": {
          "base_uri": "https://localhost:8080/"
        },
        "id": "Yr6ybaEl2K6_",
        "outputId": "15add4f2-2558-4d17-fe40-f2958e150fb9"
      },
      "execution_count": null,
      "outputs": [
        {
          "output_type": "stream",
          "name": "stdout",
          "text": [
            "True\n",
            "False\n"
          ]
        }
      ]
    },
    {
      "cell_type": "code",
      "source": [
        "animals.add('cat')       # Adding an element that is already in the set does nothing\n",
        "print(len(animals), \" animals in the set.\")      \n",
        "animals.remove('cat')    # Remove an element from a set\n",
        "print(len(animals), \" animals in the set.\")      "
      ],
      "metadata": {
        "colab": {
          "base_uri": "https://localhost:8080/"
        },
        "id": "L1wQxpOr4bek",
        "outputId": "a336af88-e9af-476f-ca4b-4dbee7a08d14"
      },
      "execution_count": null,
      "outputs": [
        {
          "output_type": "stream",
          "name": "stdout",
          "text": [
            "2  animals in the set.\n",
            "1  animals in the set.\n"
          ]
        }
      ]
    },
    {
      "cell_type": "markdown",
      "source": [
        "Iterating over a set has the same syntax as iterating over a list; however since sets are unordered, you cannot make assumptions about the order in which you visit the elements of the set:"
      ],
      "metadata": {
        "id": "uuk6i4TS4oV0"
      }
    },
    {
      "cell_type": "code",
      "source": [
        "animals = {'cat', 'dog', 'fish', 'aardvark'}\n",
        "for idx, animal in enumerate(animals):\n",
        "    print(idx, animal)"
      ],
      "metadata": {
        "colab": {
          "base_uri": "https://localhost:8080/"
        },
        "id": "i4q9xPBb4oFX",
        "outputId": "c985d002-d3f6-41cf-92fe-9c7b247ba903"
      },
      "execution_count": null,
      "outputs": [
        {
          "output_type": "stream",
          "name": "stdout",
          "text": [
            "0 cat\n",
            "1 dog\n",
            "2 aardvark\n",
            "3 fish\n"
          ]
        }
      ]
    },
    {
      "cell_type": "markdown",
      "source": [
        "#### Comprehensions\n",
        "\n",
        "Comprehension is a powerful syntax that allows the construction of a collection based on a \"formula\"."
      ],
      "metadata": {
        "id": "3xlKxBFx2MJI"
      }
    },
    {
      "cell_type": "code",
      "source": [
        "a_list = [i**2 for i in range(5)] # Squares of each element from 0 to 5\n",
        "a_set = {i%2 for i in range(5)} # A set of all modulo-2 values of each element from 0 to 5\n",
        "a_dict = {i:i**2 for i in range(5)} # A dictionary of key-value pairs where the key is a a number from 0 to 5 and the value is its square\n",
        "\n",
        "print(a_list)\n",
        "print(a_set)\n",
        "print(a_dict)"
      ],
      "metadata": {
        "colab": {
          "base_uri": "https://localhost:8080/"
        },
        "id": "Dntcez8Z2OUd",
        "outputId": "c38a0eec-3132-4486-8cf8-f2cf877b11bd"
      },
      "execution_count": null,
      "outputs": [
        {
          "output_type": "stream",
          "name": "stdout",
          "text": [
            "[0, 1, 4, 9, 16]\n",
            "{0, 1}\n",
            "{0: 0, 1: 1, 2: 4, 3: 9, 4: 16}\n"
          ]
        }
      ]
    },
    {
      "cell_type": "markdown",
      "source": [
        "## Control Structures\n",
        "\n",
        "The control structures are quite similar to pseudocode, and they do not require parantheses most of the times."
      ],
      "metadata": {
        "id": "KAvNx9hC6clX"
      }
    },
    {
      "cell_type": "code",
      "source": [
        "# Conditional structures\n",
        "\n",
        "a = 1\n",
        "b = 2\n",
        "\n",
        "if a > b: # condition\n",
        "  print('Greater')\n",
        "elif a == b: # alternative branch\n",
        "  print('Equal')\n",
        "else: # else\n",
        "  print('Lesser')"
      ],
      "metadata": {
        "colab": {
          "base_uri": "https://localhost:8080/"
        },
        "id": "CclE8Ddz6kM7",
        "outputId": "231f1fd7-5ff8-490b-eb76-16d0f5422f24"
      },
      "execution_count": null,
      "outputs": [
        {
          "output_type": "stream",
          "name": "stdout",
          "text": [
            "Lesser\n"
          ]
        }
      ]
    },
    {
      "cell_type": "code",
      "source": [
        "# Loops\n",
        "\n",
        "array = [0, 1, 2, 3, 4, 5]\n",
        "\n",
        "for i in array:\n",
        "  print(f\"For I am {i}\")\n",
        "\n",
        "i = 0\n",
        "while i < len(array):\n",
        "  print(f\"While I am {i}\")\n",
        "  i+=1 # i++ is not a valid syntax :("
      ],
      "metadata": {
        "colab": {
          "base_uri": "https://localhost:8080/"
        },
        "id": "yXkJRYJD60je",
        "outputId": "75ee7ec3-4b59-45bd-e301-51c7db5b6c56"
      },
      "execution_count": null,
      "outputs": [
        {
          "output_type": "stream",
          "name": "stdout",
          "text": [
            "For I am 0\n",
            "For I am 1\n",
            "For I am 2\n",
            "For I am 3\n",
            "For I am 4\n",
            "For I am 5\n",
            "While I am 0\n",
            "While I am 1\n",
            "While I am 2\n",
            "While I am 3\n",
            "While I am 4\n",
            "While I am 5\n"
          ]
        }
      ]
    },
    {
      "cell_type": "markdown",
      "source": [
        "## Functions. Elements of Functional Programming"
      ],
      "metadata": {
        "id": "g56xEcHH2huZ"
      }
    },
    {
      "cell_type": "markdown",
      "source": [
        "Functions are defined in a simple syntax. The keyword is \"def\", and you dont have to specify the variable types or the return types. You can however, but it is optional. "
      ],
      "metadata": {
        "id": "muY971gh6Ls0"
      }
    },
    {
      "cell_type": "code",
      "source": [
        "def a_function(a_parameter, another_parameter):\n",
        "  return a_parameter + another_parameter\n",
        "\n",
        "\n",
        "def a_nice_function(a_parameter: int, another_parameter: int) -> int:\n",
        "  \"\"\"Add two integers\"\"\"\n",
        "  return a_parameter + another_parameter + 1\n",
        "\n",
        "\n",
        "a = 1\n",
        "b = 2\n",
        "\n",
        "print(a_function(a, b))\n",
        "print(a_nice_function(a, b))"
      ],
      "metadata": {
        "colab": {
          "base_uri": "https://localhost:8080/"
        },
        "id": "KqNJ_HGU6KJT",
        "outputId": "87d14b79-9034-4e5f-ec39-44fbe8294aa7"
      },
      "execution_count": null,
      "outputs": [
        {
          "output_type": "stream",
          "name": "stdout",
          "text": [
            "3\n",
            "4\n"
          ]
        }
      ]
    },
    {
      "cell_type": "markdown",
      "source": [
        "In Python, functions are first-class citizens. You can have functions as items in a collection, you can pass functions as parameters to other functions, and so on."
      ],
      "metadata": {
        "id": "yctmUhws72rT"
      }
    },
    {
      "cell_type": "code",
      "source": [
        "def a_wrapper_function(a_parameter:int, another_parameter: int, function) -> int:\n",
        "  print(\"i'm actually calling the function passed as parameter to me\")\n",
        "  return function(a_parameter, another_parameter)\n",
        "\n",
        "a_wrapper_function(a, b, a_function)"
      ],
      "metadata": {
        "colab": {
          "base_uri": "https://localhost:8080/"
        },
        "id": "w2phimHp72Rn",
        "outputId": "b1acbbaf-a904-43f7-fc9d-714341401c4f"
      },
      "execution_count": null,
      "outputs": [
        {
          "output_type": "stream",
          "name": "stdout",
          "text": [
            "i'm actually calling the function passed as parameter to me\n"
          ]
        },
        {
          "output_type": "execute_result",
          "data": {
            "text/plain": [
              "3"
            ]
          },
          "metadata": {},
          "execution_count": 66
        }
      ]
    },
    {
      "cell_type": "code",
      "source": [
        "functions = [a_function, a_nice_function]\n",
        "for function in functions:\n",
        "  print(function(a, b))"
      ],
      "metadata": {
        "colab": {
          "base_uri": "https://localhost:8080/"
        },
        "id": "ZBtly5jJ8ZqB",
        "outputId": "2f878929-ff8c-4444-e0b0-2d10e65e3bc0"
      },
      "execution_count": null,
      "outputs": [
        {
          "output_type": "stream",
          "name": "stdout",
          "text": [
            "3\n",
            "4\n"
          ]
        }
      ]
    },
    {
      "cell_type": "markdown",
      "source": [
        "### Elements of functional programming\n",
        "\n",
        "Python has built-in functions from functional programming, such as map, filter, zip, etc.\n",
        "\n",
        "It also allows the use of annonymous (lambda) functions. If you have not seen funcitonal program before, don't worry, it's not one of the key features of Python. Feel free to optionally explore it if you would like."
      ],
      "metadata": {
        "id": "MQ4nfahW8f8H"
      }
    },
    {
      "cell_type": "code",
      "source": [
        "x = [1, 2, 3, 4, 5]\n",
        "print(list(map(lambda i: i**2, x)))\n",
        "\n",
        "print(list(filter(lambda i: i >= 2, x)))"
      ],
      "metadata": {
        "colab": {
          "base_uri": "https://localhost:8080/"
        },
        "id": "KbpLHsZ78qqW",
        "outputId": "2a028ef8-be83-4c8c-d34a-aa01b533b209"
      },
      "execution_count": null,
      "outputs": [
        {
          "output_type": "stream",
          "name": "stdout",
          "text": [
            "[1, 4, 9, 16, 25]\n",
            "[2, 3, 4, 5]\n"
          ]
        }
      ]
    },
    {
      "cell_type": "markdown",
      "source": [
        "## Object-oriented Programming - Classes and Objects\n",
        "\n",
        "Classes must define a constructor, provided in the `__init__` method. The constructor can take default values for the parameters.\n",
        "\n",
        "The class itself is represented by a dictionary named \"self\", in which you can store the instance variables of the class. All the class methods can access that \"self\". \n",
        "\n",
        "Classes have [\"magic methods\"](https://www.tutorialsteacher.com/python/magic-methods-in-python#:~:text=Magic%20methods%20in%20Python%20are,class%20on%20a%20certain%20action.), which allow you to define what certain operations with objects of the class should do.\n",
        "\n",
        "* Want to implement \">\" operator for people? Implement the `__ge__` magic method and compare the age of the two people to see which is \"greater\".\n"
      ],
      "metadata": {
        "id": "VmQ8rEVJ2YgK"
      }
    },
    {
      "cell_type": "code",
      "source": [
        "class Person():\n",
        "\n",
        "    # Constructor\n",
        "    def __init__(self, \n",
        "                 name,\n",
        "                 age):\n",
        "        self.name = name  # Create an instance variable\n",
        "        self.age = age\n",
        "\n",
        "    # Instance method\n",
        "    def introduce(self):\n",
        "        print(f'Hi, my name is {self.name}, and I am {self.age} years old.')\n",
        "\n",
        "\n",
        "alex = Person('Alex', 20)\n",
        "\n",
        "alex.introduce()"
      ],
      "metadata": {
        "colab": {
          "base_uri": "https://localhost:8080/"
        },
        "id": "Wk-7uRdK2gE8",
        "outputId": "d9d4f983-e2f0-4c24-8543-272565687775"
      },
      "execution_count": null,
      "outputs": [
        {
          "output_type": "stream",
          "name": "stdout",
          "text": [
            "Hi, my name is Alex, and I am 20 years old.\n"
          ]
        }
      ]
    },
    {
      "cell_type": "code",
      "source": [
        ""
      ],
      "metadata": {
        "id": "Z-EUAc799fGE"
      },
      "execution_count": null,
      "outputs": []
    }
  ]
}