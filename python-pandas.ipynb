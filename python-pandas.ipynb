{
  "cells": [
    {
      "cell_type": "markdown",
      "metadata": {
        "id": "view-in-github",
        "colab_type": "text"
      },
      "source": [
        "<a href=\"https://colab.research.google.com/github/alexbelengeanu/labs22/blob/master/python-pandas.ipynb\" target=\"_parent\"><img src=\"https://colab.research.google.com/assets/colab-badge.svg\" alt=\"Open In Colab\"/></a>"
      ]
    },
    {
      "cell_type": "markdown",
      "metadata": {
        "id": "ogsobcjD2pEJ"
      },
      "source": [
        "<center><br><font size=10>Pandas Tutorial</font><br>\n",
        "<b>Introduction to Machine Learning</b>\n",
        "<br><br>\n"
      ]
    },
    {
      "cell_type": "markdown",
      "metadata": {
        "id": "jwHX5m942pEM"
      },
      "source": [
        "In this notebook, we'll learn the basics of data analysis with the Python Pandas library.\n",
        "\n",
        "<img src=\"https://pandas.pydata.org/_static/pandas_logo.png\" width=500>\n",
        "<br><br>For that, we will use an **IMDb** Data Set!\n",
        "<img src=\"https://m.media-amazon.com/images/G/01/IMDb/BG_rectangle._CB1509060989_SY230_SX307_AL_.png\" width=200>"
      ]
    },
    {
      "cell_type": "markdown",
      "metadata": {
        "id": "o_hVY31m2pEN"
      },
      "source": [
        "# Table of Contents\n",
        "* [Pandas Objects](#Pandas-Objects)\n",
        "* [DataFrame Attributes and Methods](#DataFrame-Attributes-and-Methods)\n",
        "* [Relational Algebra](#Relational-Algebra)\n",
        "* [Data Exploration and Preparation](#Data-Exploration-and-Preparation)\n",
        "* [Plotting](#Plotting)"
      ]
    },
    {
      "cell_type": "markdown",
      "metadata": {
        "id": "uqB9hz2E2pEN"
      },
      "source": [
        "**Import Libraries**"
      ]
    },
    {
      "cell_type": "code",
      "execution_count": null,
      "metadata": {
        "id": "FQAL2XTp2pEO"
      },
      "outputs": [],
      "source": [
        "import pandas as pd\n",
        "import numpy as np"
      ]
    },
    {
      "cell_type": "markdown",
      "metadata": {
        "id": "0Mccwlyt2pEP"
      },
      "source": [
        "# Pandas Objects"
      ]
    },
    {
      "cell_type": "markdown",
      "metadata": {
        "id": "xZpGE-1W2pEP"
      },
      "source": [
        "## Series\n",
        "The basic Pandas object: **A one-Dimentional array, with index and values.**\n",
        "<br>Equivilant to 1-d numpy array."
      ]
    },
    {
      "cell_type": "code",
      "execution_count": null,
      "metadata": {
        "id": "G1tfOsCQ2pEQ",
        "outputId": "9198db3f-9f18-49e7-a1ea-fdb3da4005fe"
      },
      "outputs": [
        {
          "data": {
            "text/plain": [
              "A    1.0\n",
              "B    3.0\n",
              "C    5.0\n",
              "D    NaN\n",
              "E    6.0\n",
              "F    8.0\n",
              "dtype: float64"
            ]
          },
          "execution_count": 2,
          "metadata": {},
          "output_type": "execute_result"
        }
      ],
      "source": [
        "s = pd.Series([1,3,5,np.nan,6,8], index = [\"A\", \"B\", \"C\", \"D\", \"E\", \"F\"])\n",
        "s"
      ]
    },
    {
      "cell_type": "code",
      "execution_count": null,
      "metadata": {
        "id": "Ry9htrXE2pER",
        "outputId": "ec2aa08c-1e30-4acf-ccc1-dd1109097b70"
      },
      "outputs": [
        {
          "name": "stdout",
          "output_type": "stream",
          "text": [
            "4.6\n",
            "2.701851217221259\n"
          ]
        }
      ],
      "source": [
        "print(s.mean())\n",
        "print(s.std())"
      ]
    },
    {
      "cell_type": "markdown",
      "metadata": {
        "id": "993VRxMd2pES"
      },
      "source": [
        "## DataFrame\n",
        "**The MOST IMPORTANT pandas object**, equivilant to 2-d numpy array.\n",
        "<br><br>\n",
        "**Main features**:\n",
        "- The **DataFrame** has both row and column index!\n",
        "- Each column can be in a different type\n",
        "- Size mutable: insert and delet columns"
      ]
    },
    {
      "cell_type": "code",
      "execution_count": null,
      "metadata": {
        "id": "-NRhHpVf2pES",
        "outputId": "a8d30ee3-2f57-4c33-8450-c0146ddbe032"
      },
      "outputs": [
        {
          "data": {
            "text/html": [
              "<div>\n",
              "<style scoped>\n",
              "    .dataframe tbody tr th:only-of-type {\n",
              "        vertical-align: middle;\n",
              "    }\n",
              "\n",
              "    .dataframe tbody tr th {\n",
              "        vertical-align: top;\n",
              "    }\n",
              "\n",
              "    .dataframe thead th {\n",
              "        text-align: right;\n",
              "    }\n",
              "</style>\n",
              "<table border=\"1\" class=\"dataframe\">\n",
              "  <thead>\n",
              "    <tr style=\"text-align: right;\">\n",
              "      <th></th>\n",
              "      <th>A</th>\n",
              "      <th>B</th>\n",
              "      <th>C</th>\n",
              "      <th>D</th>\n",
              "    </tr>\n",
              "  </thead>\n",
              "  <tbody>\n",
              "    <tr>\n",
              "      <th>2</th>\n",
              "      <td>1.176558</td>\n",
              "      <td>0.747154</td>\n",
              "      <td>0.424457</td>\n",
              "      <td>0.218032</td>\n",
              "    </tr>\n",
              "    <tr>\n",
              "      <th>3</th>\n",
              "      <td>-1.272130</td>\n",
              "      <td>-0.243693</td>\n",
              "      <td>-0.318332</td>\n",
              "      <td>-0.243238</td>\n",
              "    </tr>\n",
              "    <tr>\n",
              "      <th>4</th>\n",
              "      <td>-0.390637</td>\n",
              "      <td>0.955622</td>\n",
              "      <td>-0.401864</td>\n",
              "      <td>-0.651599</td>\n",
              "    </tr>\n",
              "    <tr>\n",
              "      <th>5</th>\n",
              "      <td>-0.757475</td>\n",
              "      <td>0.908752</td>\n",
              "      <td>-1.149353</td>\n",
              "      <td>1.725969</td>\n",
              "    </tr>\n",
              "    <tr>\n",
              "      <th>6</th>\n",
              "      <td>-0.757746</td>\n",
              "      <td>-0.179248</td>\n",
              "      <td>0.418377</td>\n",
              "      <td>0.732502</td>\n",
              "    </tr>\n",
              "    <tr>\n",
              "      <th>7</th>\n",
              "      <td>-0.317588</td>\n",
              "      <td>-0.078619</td>\n",
              "      <td>-0.099936</td>\n",
              "      <td>1.079928</td>\n",
              "    </tr>\n",
              "  </tbody>\n",
              "</table>\n",
              "</div>"
            ],
            "text/plain": [
              "          A         B         C         D\n",
              "2  1.176558  0.747154  0.424457  0.218032\n",
              "3 -1.272130 -0.243693 -0.318332 -0.243238\n",
              "4 -0.390637  0.955622 -0.401864 -0.651599\n",
              "5 -0.757475  0.908752 -1.149353  1.725969\n",
              "6 -0.757746 -0.179248  0.418377  0.732502\n",
              "7 -0.317588 -0.078619 -0.099936  1.079928"
            ]
          },
          "execution_count": 36,
          "metadata": {},
          "output_type": "execute_result"
        }
      ],
      "source": [
        "df = pd.DataFrame(np.random.randn(6,4), columns=[\"A\",\"B\",\"C\",\"D\"], index = [2,3,4,5,6,7])\n",
        "df"
      ]
    },
    {
      "cell_type": "markdown",
      "metadata": {
        "id": "ckDTJgyL2pET"
      },
      "source": [
        "Creating a DataFrame by passing a dict of objects that can be converted to series-like (less common)."
      ]
    },
    {
      "cell_type": "code",
      "execution_count": null,
      "metadata": {
        "scrolled": true,
        "id": "7VFp_kzZ2pET",
        "outputId": "7448e1ff-b173-4cfc-9e02-5c0bfc3e0709"
      },
      "outputs": [
        {
          "data": {
            "text/html": [
              "<div>\n",
              "<style scoped>\n",
              "    .dataframe tbody tr th:only-of-type {\n",
              "        vertical-align: middle;\n",
              "    }\n",
              "\n",
              "    .dataframe tbody tr th {\n",
              "        vertical-align: top;\n",
              "    }\n",
              "\n",
              "    .dataframe thead th {\n",
              "        text-align: right;\n",
              "    }\n",
              "</style>\n",
              "<table border=\"1\" class=\"dataframe\">\n",
              "  <thead>\n",
              "    <tr style=\"text-align: right;\">\n",
              "      <th></th>\n",
              "      <th>A</th>\n",
              "      <th>B</th>\n",
              "      <th>C</th>\n",
              "      <th>D</th>\n",
              "      <th>E</th>\n",
              "      <th>F</th>\n",
              "    </tr>\n",
              "  </thead>\n",
              "  <tbody>\n",
              "    <tr>\n",
              "      <th>0</th>\n",
              "      <td>1.0</td>\n",
              "      <td>2013-01-02</td>\n",
              "      <td>1.0</td>\n",
              "      <td>3</td>\n",
              "      <td>test</td>\n",
              "      <td>foo</td>\n",
              "    </tr>\n",
              "    <tr>\n",
              "      <th>1</th>\n",
              "      <td>1.0</td>\n",
              "      <td>2013-01-02</td>\n",
              "      <td>1.0</td>\n",
              "      <td>3</td>\n",
              "      <td>train</td>\n",
              "      <td>foo</td>\n",
              "    </tr>\n",
              "    <tr>\n",
              "      <th>2</th>\n",
              "      <td>1.0</td>\n",
              "      <td>2013-01-02</td>\n",
              "      <td>1.0</td>\n",
              "      <td>3</td>\n",
              "      <td>test</td>\n",
              "      <td>foo</td>\n",
              "    </tr>\n",
              "    <tr>\n",
              "      <th>3</th>\n",
              "      <td>1.0</td>\n",
              "      <td>2013-01-02</td>\n",
              "      <td>1.0</td>\n",
              "      <td>3</td>\n",
              "      <td>train</td>\n",
              "      <td>foo</td>\n",
              "    </tr>\n",
              "  </tbody>\n",
              "</table>\n",
              "</div>"
            ],
            "text/plain": [
              "     A          B    C  D      E    F\n",
              "0  1.0 2013-01-02  1.0  3   test  foo\n",
              "1  1.0 2013-01-02  1.0  3  train  foo\n",
              "2  1.0 2013-01-02  1.0  3   test  foo\n",
              "3  1.0 2013-01-02  1.0  3  train  foo"
            ]
          },
          "execution_count": 5,
          "metadata": {},
          "output_type": "execute_result"
        }
      ],
      "source": [
        "df2 = pd.DataFrame({'A': 1.,\n",
        "                    'B': pd.Timestamp('20130102'), # a one timestanp object ('2013-01-02')\n",
        "                    'C': pd.Series(1, index=list(range(4)), dtype='float32'),  # a series of \"1\"s, length=4\n",
        "                    'D': np.array([3] * 4, dtype='int32'),  # a numpy array of \"3\"s, length=4\n",
        "                    'E': pd.Categorical([\"test\", \"train\", \"test\", \"train\"]),  # a pandas catergorical array (like a list)\n",
        "                    'F': 'foo'})\n",
        "df2"
      ]
    },
    {
      "cell_type": "markdown",
      "metadata": {
        "id": "m_IgkAx62pEU"
      },
      "source": [
        "### Create DataFrame from .csv file"
      ]
    },
    {
      "cell_type": "code",
      "execution_count": null,
      "metadata": {
        "scrolled": true,
        "id": "KkWVNfhA2pEU"
      },
      "outputs": [],
      "source": [
        "df = pd.read_csv(\"./IMDB-Movie-Data.csv\", index_col=0) # index_col - Choose which column of the data is going to be the index."
      ]
    },
    {
      "cell_type": "markdown",
      "metadata": {
        "id": "0u-3jzEa2pEU"
      },
      "source": [
        "---\n",
        "# DataFrame Attributes and Methods"
      ]
    },
    {
      "cell_type": "markdown",
      "metadata": {
        "id": "JD7WgFUt2pEU"
      },
      "source": [
        "## `head()` & `tail()`\n",
        "Viewing the top (or bottom) rows of your data (5 rows if not defined other)."
      ]
    },
    {
      "cell_type": "code",
      "execution_count": null,
      "metadata": {
        "id": "R4Q-RZbr2pEV",
        "outputId": "ce094058-fd69-45d7-c160-4d5490c12022"
      },
      "outputs": [
        {
          "data": {
            "text/html": [
              "<div>\n",
              "<style scoped>\n",
              "    .dataframe tbody tr th:only-of-type {\n",
              "        vertical-align: middle;\n",
              "    }\n",
              "\n",
              "    .dataframe tbody tr th {\n",
              "        vertical-align: top;\n",
              "    }\n",
              "\n",
              "    .dataframe thead th {\n",
              "        text-align: right;\n",
              "    }\n",
              "</style>\n",
              "<table border=\"1\" class=\"dataframe\">\n",
              "  <thead>\n",
              "    <tr style=\"text-align: right;\">\n",
              "      <th></th>\n",
              "      <th>Title</th>\n",
              "      <th>Genre</th>\n",
              "      <th>Description</th>\n",
              "      <th>Director</th>\n",
              "      <th>Actors</th>\n",
              "      <th>Year</th>\n",
              "      <th>Runtime (Minutes)</th>\n",
              "      <th>Rating</th>\n",
              "      <th>Votes</th>\n",
              "      <th>Revenue (Millions)</th>\n",
              "      <th>Metascore</th>\n",
              "    </tr>\n",
              "    <tr>\n",
              "      <th>Rank</th>\n",
              "      <th></th>\n",
              "      <th></th>\n",
              "      <th></th>\n",
              "      <th></th>\n",
              "      <th></th>\n",
              "      <th></th>\n",
              "      <th></th>\n",
              "      <th></th>\n",
              "      <th></th>\n",
              "      <th></th>\n",
              "      <th></th>\n",
              "    </tr>\n",
              "  </thead>\n",
              "  <tbody>\n",
              "    <tr>\n",
              "      <th>1</th>\n",
              "      <td>Guardians of the Galaxy</td>\n",
              "      <td>Action,Adventure,Sci-Fi</td>\n",
              "      <td>A group of intergalactic criminals are forced ...</td>\n",
              "      <td>James Gunn</td>\n",
              "      <td>Chris Pratt, Vin Diesel, Bradley Cooper, Zoe S...</td>\n",
              "      <td>2014</td>\n",
              "      <td>121</td>\n",
              "      <td>8.1</td>\n",
              "      <td>757074</td>\n",
              "      <td>333.13</td>\n",
              "      <td>76.0</td>\n",
              "    </tr>\n",
              "    <tr>\n",
              "      <th>2</th>\n",
              "      <td>Prometheus</td>\n",
              "      <td>Adventure,Mystery,Sci-Fi</td>\n",
              "      <td>Following clues to the origin of mankind, a te...</td>\n",
              "      <td>Ridley Scott</td>\n",
              "      <td>Noomi Rapace, Logan Marshall-Green, Michael Fa...</td>\n",
              "      <td>2012</td>\n",
              "      <td>124</td>\n",
              "      <td>7.0</td>\n",
              "      <td>485820</td>\n",
              "      <td>126.46</td>\n",
              "      <td>65.0</td>\n",
              "    </tr>\n",
              "    <tr>\n",
              "      <th>3</th>\n",
              "      <td>Split</td>\n",
              "      <td>Horror,Thriller</td>\n",
              "      <td>Three girls are kidnapped by a man with a diag...</td>\n",
              "      <td>M. Night Shyamalan</td>\n",
              "      <td>James McAvoy, Anya Taylor-Joy, Haley Lu Richar...</td>\n",
              "      <td>2016</td>\n",
              "      <td>117</td>\n",
              "      <td>7.3</td>\n",
              "      <td>157606</td>\n",
              "      <td>138.12</td>\n",
              "      <td>62.0</td>\n",
              "    </tr>\n",
              "  </tbody>\n",
              "</table>\n",
              "</div>"
            ],
            "text/plain": [
              "                        Title                     Genre  \\\n",
              "Rank                                                      \n",
              "1     Guardians of the Galaxy   Action,Adventure,Sci-Fi   \n",
              "2                  Prometheus  Adventure,Mystery,Sci-Fi   \n",
              "3                       Split           Horror,Thriller   \n",
              "\n",
              "                                            Description            Director  \\\n",
              "Rank                                                                          \n",
              "1     A group of intergalactic criminals are forced ...          James Gunn   \n",
              "2     Following clues to the origin of mankind, a te...        Ridley Scott   \n",
              "3     Three girls are kidnapped by a man with a diag...  M. Night Shyamalan   \n",
              "\n",
              "                                                 Actors  Year  \\\n",
              "Rank                                                            \n",
              "1     Chris Pratt, Vin Diesel, Bradley Cooper, Zoe S...  2014   \n",
              "2     Noomi Rapace, Logan Marshall-Green, Michael Fa...  2012   \n",
              "3     James McAvoy, Anya Taylor-Joy, Haley Lu Richar...  2016   \n",
              "\n",
              "      Runtime (Minutes)  Rating   Votes  Revenue (Millions)  Metascore  \n",
              "Rank                                                                    \n",
              "1                   121     8.1  757074              333.13       76.0  \n",
              "2                   124     7.0  485820              126.46       65.0  \n",
              "3                   117     7.3  157606              138.12       62.0  "
            ]
          },
          "execution_count": 39,
          "metadata": {},
          "output_type": "execute_result"
        }
      ],
      "source": [
        "df.head(3)"
      ]
    },
    {
      "cell_type": "code",
      "execution_count": null,
      "metadata": {
        "id": "Gq95Zo9m2pEV",
        "outputId": "a48dd641-54e1-4fcc-e1df-7d1bfadf2e51"
      },
      "outputs": [
        {
          "data": {
            "text/html": [
              "<div>\n",
              "<style scoped>\n",
              "    .dataframe tbody tr th:only-of-type {\n",
              "        vertical-align: middle;\n",
              "    }\n",
              "\n",
              "    .dataframe tbody tr th {\n",
              "        vertical-align: top;\n",
              "    }\n",
              "\n",
              "    .dataframe thead th {\n",
              "        text-align: right;\n",
              "    }\n",
              "</style>\n",
              "<table border=\"1\" class=\"dataframe\">\n",
              "  <thead>\n",
              "    <tr style=\"text-align: right;\">\n",
              "      <th></th>\n",
              "      <th>Title</th>\n",
              "      <th>Genre</th>\n",
              "      <th>Description</th>\n",
              "      <th>Director</th>\n",
              "      <th>Actors</th>\n",
              "      <th>Year</th>\n",
              "      <th>Runtime (Minutes)</th>\n",
              "      <th>Rating</th>\n",
              "      <th>Votes</th>\n",
              "      <th>Revenue (Millions)</th>\n",
              "      <th>Metascore</th>\n",
              "    </tr>\n",
              "    <tr>\n",
              "      <th>Rank</th>\n",
              "      <th></th>\n",
              "      <th></th>\n",
              "      <th></th>\n",
              "      <th></th>\n",
              "      <th></th>\n",
              "      <th></th>\n",
              "      <th></th>\n",
              "      <th></th>\n",
              "      <th></th>\n",
              "      <th></th>\n",
              "      <th></th>\n",
              "    </tr>\n",
              "  </thead>\n",
              "  <tbody>\n",
              "    <tr>\n",
              "      <th>999</th>\n",
              "      <td>Search Party</td>\n",
              "      <td>Adventure,Comedy</td>\n",
              "      <td>A pair of friends embark on a mission to reuni...</td>\n",
              "      <td>Scot Armstrong</td>\n",
              "      <td>Adam Pally, T.J. Miller, Thomas Middleditch,Sh...</td>\n",
              "      <td>2014</td>\n",
              "      <td>93</td>\n",
              "      <td>5.6</td>\n",
              "      <td>4881</td>\n",
              "      <td>NaN</td>\n",
              "      <td>22.0</td>\n",
              "    </tr>\n",
              "    <tr>\n",
              "      <th>1000</th>\n",
              "      <td>Nine Lives</td>\n",
              "      <td>Comedy,Family,Fantasy</td>\n",
              "      <td>A stuffy businessman finds himself trapped ins...</td>\n",
              "      <td>Barry Sonnenfeld</td>\n",
              "      <td>Kevin Spacey, Jennifer Garner, Robbie Amell,Ch...</td>\n",
              "      <td>2016</td>\n",
              "      <td>87</td>\n",
              "      <td>5.3</td>\n",
              "      <td>12435</td>\n",
              "      <td>19.64</td>\n",
              "      <td>11.0</td>\n",
              "    </tr>\n",
              "  </tbody>\n",
              "</table>\n",
              "</div>"
            ],
            "text/plain": [
              "             Title                  Genre  \\\n",
              "Rank                                        \n",
              "999   Search Party       Adventure,Comedy   \n",
              "1000    Nine Lives  Comedy,Family,Fantasy   \n",
              "\n",
              "                                            Description          Director  \\\n",
              "Rank                                                                        \n",
              "999   A pair of friends embark on a mission to reuni...    Scot Armstrong   \n",
              "1000  A stuffy businessman finds himself trapped ins...  Barry Sonnenfeld   \n",
              "\n",
              "                                                 Actors  Year  \\\n",
              "Rank                                                            \n",
              "999   Adam Pally, T.J. Miller, Thomas Middleditch,Sh...  2014   \n",
              "1000  Kevin Spacey, Jennifer Garner, Robbie Amell,Ch...  2016   \n",
              "\n",
              "      Runtime (Minutes)  Rating  Votes  Revenue (Millions)  Metascore  \n",
              "Rank                                                                   \n",
              "999                  93     5.6   4881                 NaN       22.0  \n",
              "1000                 87     5.3  12435               19.64       11.0  "
            ]
          },
          "execution_count": 9,
          "metadata": {},
          "output_type": "execute_result"
        }
      ],
      "source": [
        "df.tail(2)"
      ]
    },
    {
      "cell_type": "markdown",
      "metadata": {
        "id": "iBb8cug72pEV"
      },
      "source": [
        "## `columns`"
      ]
    },
    {
      "cell_type": "code",
      "execution_count": null,
      "metadata": {
        "id": "TN0u1Wjz2pEV",
        "outputId": "7c0790e7-1175-4ac9-ba38-88307674d02b"
      },
      "outputs": [
        {
          "data": {
            "text/plain": [
              "Index(['Title', 'Genre', 'Description', 'Director', 'Actors', 'Year',\n",
              "       'Runtime (Minutes)', 'Rating', 'Votes', 'Revenue (Millions)',\n",
              "       'Metascore'],\n",
              "      dtype='object')"
            ]
          },
          "execution_count": 10,
          "metadata": {},
          "output_type": "execute_result"
        }
      ],
      "source": [
        "df.columns"
      ]
    },
    {
      "cell_type": "markdown",
      "metadata": {
        "id": "EosfAzQT2pEW"
      },
      "source": [
        "## `rename`\n",
        "Let's do a tiny columns cleanup."
      ]
    },
    {
      "cell_type": "code",
      "execution_count": null,
      "metadata": {
        "id": "8kDFPFy-2pEW",
        "outputId": "2824f586-47c1-4271-fbdf-0565fba726a2"
      },
      "outputs": [
        {
          "data": {
            "text/plain": [
              "Index(['Title', 'Genre', 'Description', 'Director', 'Actors', 'Year',\n",
              "       'Runtime', 'Rating', 'Votes', 'Revenue_millions', 'Metascore'],\n",
              "      dtype='object')"
            ]
          },
          "execution_count": 11,
          "metadata": {},
          "output_type": "execute_result"
        }
      ],
      "source": [
        "df.rename(columns={ 'Runtime (Minutes)': 'Runtime', \n",
        "                    'Revenue (Millions)': 'Revenue_millions'\n",
        "                   }, inplace=True) # Note the inplace!\n",
        "\n",
        "df.columns"
      ]
    },
    {
      "cell_type": "code",
      "execution_count": null,
      "metadata": {
        "id": "8wG_waI_2pEW",
        "outputId": "cdfc819a-d7e3-4e99-d638-c14a3ccf4476"
      },
      "outputs": [
        {
          "data": {
            "text/plain": [
              "Index(['title', 'genre', 'description', 'director', 'actors', 'year',\n",
              "       'runtime', 'rating', 'votes', 'revenue_millions', 'metascore'],\n",
              "      dtype='object')"
            ]
          },
          "execution_count": 12,
          "metadata": {},
          "output_type": "execute_result"
        }
      ],
      "source": [
        "df.columns = [col.lower() for col in df]\n",
        "df.columns"
      ]
    },
    {
      "cell_type": "markdown",
      "metadata": {
        "id": "tnBPEcQr2pEX"
      },
      "source": [
        "## `shape`"
      ]
    },
    {
      "cell_type": "code",
      "execution_count": null,
      "metadata": {
        "id": "RVcx12IY2pEX",
        "outputId": "942ac3d8-bf03-4668-8754-a66c14746e62"
      },
      "outputs": [
        {
          "data": {
            "text/plain": [
              "(1000, 11)"
            ]
          },
          "execution_count": 13,
          "metadata": {},
          "output_type": "execute_result"
        }
      ],
      "source": [
        "df.shape"
      ]
    },
    {
      "cell_type": "markdown",
      "metadata": {
        "id": "ZNkF57QZ2pEX"
      },
      "source": [
        "## `dtype`\n",
        "The columns of the resulting DataFrame have different **dtypes** (data types)."
      ]
    },
    {
      "cell_type": "code",
      "execution_count": null,
      "metadata": {
        "id": "BY3R9l6M2pEX",
        "outputId": "bb39af36-2bc8-40aa-86af-9dbf9a433eae"
      },
      "outputs": [
        {
          "data": {
            "text/plain": [
              "title                object\n",
              "genre                object\n",
              "description          object\n",
              "director             object\n",
              "actors               object\n",
              "year                  int64\n",
              "runtime               int64\n",
              "rating              float64\n",
              "votes                 int64\n",
              "revenue_millions    float64\n",
              "metascore           float64\n",
              "dtype: object"
            ]
          },
          "execution_count": 14,
          "metadata": {},
          "output_type": "execute_result"
        }
      ],
      "source": [
        "df.dtypes"
      ]
    },
    {
      "cell_type": "markdown",
      "metadata": {
        "id": "rW82E0tk2pEX"
      },
      "source": [
        "*__note__: \"object\" dtype means string. Will be assigned to your column if column has mixed types (numbers and strings).*"
      ]
    },
    {
      "cell_type": "markdown",
      "metadata": {
        "id": "n_CLUXgm2pEY"
      },
      "source": [
        "## `index`\n",
        "The indeces of the data (row)"
      ]
    },
    {
      "cell_type": "code",
      "execution_count": null,
      "metadata": {
        "id": "ztGO0K2w2pEY",
        "outputId": "cf842976-cc62-4aa0-81b7-5fbe53c0879f"
      },
      "outputs": [
        {
          "data": {
            "text/plain": [
              "Int64Index([   1,    2,    3,    4,    5,    6,    7,    8,    9,   10,\n",
              "            ...\n",
              "             991,  992,  993,  994,  995,  996,  997,  998,  999, 1000],\n",
              "           dtype='int64', name='Rank', length=1000)"
            ]
          },
          "execution_count": 15,
          "metadata": {},
          "output_type": "execute_result"
        }
      ],
      "source": [
        "df.index"
      ]
    },
    {
      "cell_type": "markdown",
      "metadata": {
        "id": "i0h7O32u2pEY"
      },
      "source": [
        "We can also reset the index:"
      ]
    },
    {
      "cell_type": "code",
      "execution_count": null,
      "metadata": {
        "id": "Dkbc3Ni52pEY",
        "outputId": "a9601632-6a1b-45ff-d351-ab43ae9a3be4"
      },
      "outputs": [
        {
          "data": {
            "text/html": [
              "<div>\n",
              "<style scoped>\n",
              "    .dataframe tbody tr th:only-of-type {\n",
              "        vertical-align: middle;\n",
              "    }\n",
              "\n",
              "    .dataframe tbody tr th {\n",
              "        vertical-align: top;\n",
              "    }\n",
              "\n",
              "    .dataframe thead th {\n",
              "        text-align: right;\n",
              "    }\n",
              "</style>\n",
              "<table border=\"1\" class=\"dataframe\">\n",
              "  <thead>\n",
              "    <tr style=\"text-align: right;\">\n",
              "      <th></th>\n",
              "      <th>Rank</th>\n",
              "      <th>title</th>\n",
              "      <th>genre</th>\n",
              "      <th>description</th>\n",
              "      <th>director</th>\n",
              "      <th>actors</th>\n",
              "      <th>year</th>\n",
              "      <th>runtime</th>\n",
              "      <th>rating</th>\n",
              "      <th>votes</th>\n",
              "      <th>revenue_millions</th>\n",
              "      <th>metascore</th>\n",
              "    </tr>\n",
              "  </thead>\n",
              "  <tbody>\n",
              "    <tr>\n",
              "      <th>0</th>\n",
              "      <td>1</td>\n",
              "      <td>Guardians of the Galaxy</td>\n",
              "      <td>Action,Adventure,Sci-Fi</td>\n",
              "      <td>A group of intergalactic criminals are forced ...</td>\n",
              "      <td>James Gunn</td>\n",
              "      <td>Chris Pratt, Vin Diesel, Bradley Cooper, Zoe S...</td>\n",
              "      <td>2014</td>\n",
              "      <td>121</td>\n",
              "      <td>8.1</td>\n",
              "      <td>757074</td>\n",
              "      <td>333.13</td>\n",
              "      <td>76.0</td>\n",
              "    </tr>\n",
              "    <tr>\n",
              "      <th>1</th>\n",
              "      <td>2</td>\n",
              "      <td>Prometheus</td>\n",
              "      <td>Adventure,Mystery,Sci-Fi</td>\n",
              "      <td>Following clues to the origin of mankind, a te...</td>\n",
              "      <td>Ridley Scott</td>\n",
              "      <td>Noomi Rapace, Logan Marshall-Green, Michael Fa...</td>\n",
              "      <td>2012</td>\n",
              "      <td>124</td>\n",
              "      <td>7.0</td>\n",
              "      <td>485820</td>\n",
              "      <td>126.46</td>\n",
              "      <td>65.0</td>\n",
              "    </tr>\n",
              "    <tr>\n",
              "      <th>2</th>\n",
              "      <td>3</td>\n",
              "      <td>Split</td>\n",
              "      <td>Horror,Thriller</td>\n",
              "      <td>Three girls are kidnapped by a man with a diag...</td>\n",
              "      <td>M. Night Shyamalan</td>\n",
              "      <td>James McAvoy, Anya Taylor-Joy, Haley Lu Richar...</td>\n",
              "      <td>2016</td>\n",
              "      <td>117</td>\n",
              "      <td>7.3</td>\n",
              "      <td>157606</td>\n",
              "      <td>138.12</td>\n",
              "      <td>62.0</td>\n",
              "    </tr>\n",
              "  </tbody>\n",
              "</table>\n",
              "</div>"
            ],
            "text/plain": [
              "   Rank                    title                     genre  \\\n",
              "0     1  Guardians of the Galaxy   Action,Adventure,Sci-Fi   \n",
              "1     2               Prometheus  Adventure,Mystery,Sci-Fi   \n",
              "2     3                    Split           Horror,Thriller   \n",
              "\n",
              "                                         description            director  \\\n",
              "0  A group of intergalactic criminals are forced ...          James Gunn   \n",
              "1  Following clues to the origin of mankind, a te...        Ridley Scott   \n",
              "2  Three girls are kidnapped by a man with a diag...  M. Night Shyamalan   \n",
              "\n",
              "                                              actors  year  runtime  rating  \\\n",
              "0  Chris Pratt, Vin Diesel, Bradley Cooper, Zoe S...  2014      121     8.1   \n",
              "1  Noomi Rapace, Logan Marshall-Green, Michael Fa...  2012      124     7.0   \n",
              "2  James McAvoy, Anya Taylor-Joy, Haley Lu Richar...  2016      117     7.3   \n",
              "\n",
              "    votes  revenue_millions  metascore  \n",
              "0  757074            333.13       76.0  \n",
              "1  485820            126.46       65.0  \n",
              "2  157606            138.12       62.0  "
            ]
          },
          "execution_count": 16,
          "metadata": {},
          "output_type": "execute_result"
        }
      ],
      "source": [
        "new_idx_df = df.reset_index()\n",
        "new_idx_df.head(3)"
      ]
    },
    {
      "cell_type": "markdown",
      "metadata": {
        "id": "NgE6dVrh2pEY"
      },
      "source": [
        "## `values`\n",
        "Returns the DataFrame as a numpy array."
      ]
    },
    {
      "cell_type": "code",
      "execution_count": null,
      "metadata": {
        "id": "Msx7ScqQ2pEZ",
        "outputId": "100305d6-787d-4bee-dcf3-88ca617a5e9e"
      },
      "outputs": [
        {
          "data": {
            "text/plain": [
              "array(['Prometheus', 'Adventure,Mystery,Sci-Fi',\n",
              "       'Following clues to the origin of mankind, a team finds a structure on a distant moon, but they soon realize they are not alone.',\n",
              "       'Ridley Scott',\n",
              "       'Noomi Rapace, Logan Marshall-Green, Michael Fassbender, Charlize Theron',\n",
              "       2012, 124, 7.0, 485820, 126.46, 65.0], dtype=object)"
            ]
          },
          "execution_count": 17,
          "metadata": {},
          "output_type": "execute_result"
        }
      ],
      "source": [
        "df.iloc[1].values"
      ]
    },
    {
      "cell_type": "markdown",
      "metadata": {
        "id": "VZe_k87d2pEZ"
      },
      "source": [
        "## `describe()` (statistics)\n",
        "shows a quick statistic summary of your data."
      ]
    },
    {
      "cell_type": "code",
      "execution_count": null,
      "metadata": {
        "scrolled": true,
        "id": "ovLdSR1A2pEZ",
        "outputId": "dc90f005-a494-489c-bc28-235b8e2fba50"
      },
      "outputs": [
        {
          "data": {
            "text/html": [
              "<div>\n",
              "<style scoped>\n",
              "    .dataframe tbody tr th:only-of-type {\n",
              "        vertical-align: middle;\n",
              "    }\n",
              "\n",
              "    .dataframe tbody tr th {\n",
              "        vertical-align: top;\n",
              "    }\n",
              "\n",
              "    .dataframe thead th {\n",
              "        text-align: right;\n",
              "    }\n",
              "</style>\n",
              "<table border=\"1\" class=\"dataframe\">\n",
              "  <thead>\n",
              "    <tr style=\"text-align: right;\">\n",
              "      <th></th>\n",
              "      <th>year</th>\n",
              "      <th>runtime</th>\n",
              "      <th>rating</th>\n",
              "      <th>votes</th>\n",
              "      <th>revenue_millions</th>\n",
              "      <th>metascore</th>\n",
              "    </tr>\n",
              "  </thead>\n",
              "  <tbody>\n",
              "    <tr>\n",
              "      <th>count</th>\n",
              "      <td>1000.000000</td>\n",
              "      <td>1000.000000</td>\n",
              "      <td>1000.000000</td>\n",
              "      <td>1.000000e+03</td>\n",
              "      <td>872.000000</td>\n",
              "      <td>936.000000</td>\n",
              "    </tr>\n",
              "    <tr>\n",
              "      <th>mean</th>\n",
              "      <td>2012.783000</td>\n",
              "      <td>113.172000</td>\n",
              "      <td>6.723200</td>\n",
              "      <td>1.698083e+05</td>\n",
              "      <td>82.956376</td>\n",
              "      <td>58.985043</td>\n",
              "    </tr>\n",
              "    <tr>\n",
              "      <th>std</th>\n",
              "      <td>3.205962</td>\n",
              "      <td>18.810908</td>\n",
              "      <td>0.945429</td>\n",
              "      <td>1.887626e+05</td>\n",
              "      <td>103.253540</td>\n",
              "      <td>17.194757</td>\n",
              "    </tr>\n",
              "    <tr>\n",
              "      <th>min</th>\n",
              "      <td>2006.000000</td>\n",
              "      <td>66.000000</td>\n",
              "      <td>1.900000</td>\n",
              "      <td>6.100000e+01</td>\n",
              "      <td>0.000000</td>\n",
              "      <td>11.000000</td>\n",
              "    </tr>\n",
              "    <tr>\n",
              "      <th>25%</th>\n",
              "      <td>2010.000000</td>\n",
              "      <td>100.000000</td>\n",
              "      <td>6.200000</td>\n",
              "      <td>3.630900e+04</td>\n",
              "      <td>13.270000</td>\n",
              "      <td>47.000000</td>\n",
              "    </tr>\n",
              "    <tr>\n",
              "      <th>50%</th>\n",
              "      <td>2014.000000</td>\n",
              "      <td>111.000000</td>\n",
              "      <td>6.800000</td>\n",
              "      <td>1.107990e+05</td>\n",
              "      <td>47.985000</td>\n",
              "      <td>59.500000</td>\n",
              "    </tr>\n",
              "    <tr>\n",
              "      <th>75%</th>\n",
              "      <td>2016.000000</td>\n",
              "      <td>123.000000</td>\n",
              "      <td>7.400000</td>\n",
              "      <td>2.399098e+05</td>\n",
              "      <td>113.715000</td>\n",
              "      <td>72.000000</td>\n",
              "    </tr>\n",
              "    <tr>\n",
              "      <th>max</th>\n",
              "      <td>2016.000000</td>\n",
              "      <td>191.000000</td>\n",
              "      <td>9.000000</td>\n",
              "      <td>1.791916e+06</td>\n",
              "      <td>936.630000</td>\n",
              "      <td>100.000000</td>\n",
              "    </tr>\n",
              "  </tbody>\n",
              "</table>\n",
              "</div>"
            ],
            "text/plain": [
              "              year      runtime       rating         votes  revenue_millions  \\\n",
              "count  1000.000000  1000.000000  1000.000000  1.000000e+03        872.000000   \n",
              "mean   2012.783000   113.172000     6.723200  1.698083e+05         82.956376   \n",
              "std       3.205962    18.810908     0.945429  1.887626e+05        103.253540   \n",
              "min    2006.000000    66.000000     1.900000  6.100000e+01          0.000000   \n",
              "25%    2010.000000   100.000000     6.200000  3.630900e+04         13.270000   \n",
              "50%    2014.000000   111.000000     6.800000  1.107990e+05         47.985000   \n",
              "75%    2016.000000   123.000000     7.400000  2.399098e+05        113.715000   \n",
              "max    2016.000000   191.000000     9.000000  1.791916e+06        936.630000   \n",
              "\n",
              "        metascore  \n",
              "count  936.000000  \n",
              "mean    58.985043  \n",
              "std     17.194757  \n",
              "min     11.000000  \n",
              "25%     47.000000  \n",
              "50%     59.500000  \n",
              "75%     72.000000  \n",
              "max    100.000000  "
            ]
          },
          "execution_count": 18,
          "metadata": {},
          "output_type": "execute_result"
        }
      ],
      "source": [
        "df.describe()"
      ]
    },
    {
      "cell_type": "markdown",
      "metadata": {
        "id": "e-Oy-7xB2pEZ"
      },
      "source": [
        "All statistics above can be generated seperetly with their names as methods:\n",
        "- `df.count()`\n",
        "- `df.mean()`\n",
        "- `df.std()`\n",
        "- `df.max()`\n",
        "- `df.min()`"
      ]
    },
    {
      "cell_type": "markdown",
      "metadata": {
        "id": "cMicVjLj2pEZ"
      },
      "source": [
        "## Sorting (Order By in SQL)\n",
        "### `sort_values()`\n",
        "Sorting by a specific column."
      ]
    },
    {
      "cell_type": "code",
      "execution_count": null,
      "metadata": {
        "id": "aIz4L4Ap2pEa",
        "outputId": "6038acaf-9880-4303-806b-84745d6249b5"
      },
      "outputs": [
        {
          "data": {
            "text/html": [
              "<div>\n",
              "<style scoped>\n",
              "    .dataframe tbody tr th:only-of-type {\n",
              "        vertical-align: middle;\n",
              "    }\n",
              "\n",
              "    .dataframe tbody tr th {\n",
              "        vertical-align: top;\n",
              "    }\n",
              "\n",
              "    .dataframe thead th {\n",
              "        text-align: right;\n",
              "    }\n",
              "</style>\n",
              "<table border=\"1\" class=\"dataframe\">\n",
              "  <thead>\n",
              "    <tr style=\"text-align: right;\">\n",
              "      <th></th>\n",
              "      <th>title</th>\n",
              "      <th>genre</th>\n",
              "      <th>description</th>\n",
              "      <th>director</th>\n",
              "      <th>actors</th>\n",
              "      <th>year</th>\n",
              "      <th>runtime</th>\n",
              "      <th>rating</th>\n",
              "      <th>votes</th>\n",
              "      <th>revenue_millions</th>\n",
              "      <th>metascore</th>\n",
              "    </tr>\n",
              "    <tr>\n",
              "      <th>Rank</th>\n",
              "      <th></th>\n",
              "      <th></th>\n",
              "      <th></th>\n",
              "      <th></th>\n",
              "      <th></th>\n",
              "      <th></th>\n",
              "      <th></th>\n",
              "      <th></th>\n",
              "      <th></th>\n",
              "      <th></th>\n",
              "      <th></th>\n",
              "    </tr>\n",
              "  </thead>\n",
              "  <tbody>\n",
              "    <tr>\n",
              "      <th>55</th>\n",
              "      <td>The Dark Knight</td>\n",
              "      <td>Action,Crime,Drama</td>\n",
              "      <td>When the menace known as the Joker wreaks havo...</td>\n",
              "      <td>Christopher Nolan</td>\n",
              "      <td>Christian Bale, Heath Ledger, Aaron Eckhart,Mi...</td>\n",
              "      <td>2008</td>\n",
              "      <td>152</td>\n",
              "      <td>9.0</td>\n",
              "      <td>1791916</td>\n",
              "      <td>533.32</td>\n",
              "      <td>82.0</td>\n",
              "    </tr>\n",
              "    <tr>\n",
              "      <th>81</th>\n",
              "      <td>Inception</td>\n",
              "      <td>Action,Adventure,Sci-Fi</td>\n",
              "      <td>A thief, who steals corporate secrets through ...</td>\n",
              "      <td>Christopher Nolan</td>\n",
              "      <td>Leonardo DiCaprio, Joseph Gordon-Levitt, Ellen...</td>\n",
              "      <td>2010</td>\n",
              "      <td>148</td>\n",
              "      <td>8.8</td>\n",
              "      <td>1583625</td>\n",
              "      <td>292.57</td>\n",
              "      <td>74.0</td>\n",
              "    </tr>\n",
              "    <tr>\n",
              "      <th>118</th>\n",
              "      <td>Dangal</td>\n",
              "      <td>Action,Biography,Drama</td>\n",
              "      <td>Former wrestler Mahavir Singh Phogat and his t...</td>\n",
              "      <td>Nitesh Tiwari</td>\n",
              "      <td>Aamir Khan, Sakshi Tanwar, Fatima Sana Shaikh,...</td>\n",
              "      <td>2016</td>\n",
              "      <td>161</td>\n",
              "      <td>8.8</td>\n",
              "      <td>48969</td>\n",
              "      <td>11.15</td>\n",
              "      <td>NaN</td>\n",
              "    </tr>\n",
              "  </tbody>\n",
              "</table>\n",
              "</div>"
            ],
            "text/plain": [
              "                title                    genre  \\\n",
              "Rank                                             \n",
              "55    The Dark Knight       Action,Crime,Drama   \n",
              "81          Inception  Action,Adventure,Sci-Fi   \n",
              "118            Dangal   Action,Biography,Drama   \n",
              "\n",
              "                                            description           director  \\\n",
              "Rank                                                                         \n",
              "55    When the menace known as the Joker wreaks havo...  Christopher Nolan   \n",
              "81    A thief, who steals corporate secrets through ...  Christopher Nolan   \n",
              "118   Former wrestler Mahavir Singh Phogat and his t...      Nitesh Tiwari   \n",
              "\n",
              "                                                 actors  year  runtime  \\\n",
              "Rank                                                                     \n",
              "55    Christian Bale, Heath Ledger, Aaron Eckhart,Mi...  2008      152   \n",
              "81    Leonardo DiCaprio, Joseph Gordon-Levitt, Ellen...  2010      148   \n",
              "118   Aamir Khan, Sakshi Tanwar, Fatima Sana Shaikh,...  2016      161   \n",
              "\n",
              "      rating    votes  revenue_millions  metascore  \n",
              "Rank                                                \n",
              "55       9.0  1791916            533.32       82.0  \n",
              "81       8.8  1583625            292.57       74.0  \n",
              "118      8.8    48969             11.15        NaN  "
            ]
          },
          "execution_count": 19,
          "metadata": {},
          "output_type": "execute_result"
        }
      ],
      "source": [
        "df = df.sort_values(by =\"rating\", ascending = False)  # default - ascending=True\n",
        "df = df.sort_values(by =[\"rating\", \"votes\"], ascending = False)\n",
        "df.head(3)"
      ]
    },
    {
      "cell_type": "markdown",
      "metadata": {
        "id": "Hc2dUD7N2pEa"
      },
      "source": [
        "### `sort_index()`\n",
        "Sort index - using **index (axis = 0)** or **columns (axis = 1)** - important!"
      ]
    },
    {
      "cell_type": "code",
      "execution_count": null,
      "metadata": {
        "scrolled": true,
        "id": "nsM5-36c2pEa",
        "outputId": "6d2be912-23a8-4133-8d8f-400595b38c83"
      },
      "outputs": [
        {
          "data": {
            "text/html": [
              "<div>\n",
              "<style scoped>\n",
              "    .dataframe tbody tr th:only-of-type {\n",
              "        vertical-align: middle;\n",
              "    }\n",
              "\n",
              "    .dataframe tbody tr th {\n",
              "        vertical-align: top;\n",
              "    }\n",
              "\n",
              "    .dataframe thead th {\n",
              "        text-align: right;\n",
              "    }\n",
              "</style>\n",
              "<table border=\"1\" class=\"dataframe\">\n",
              "  <thead>\n",
              "    <tr style=\"text-align: right;\">\n",
              "      <th></th>\n",
              "      <th>title</th>\n",
              "      <th>genre</th>\n",
              "      <th>description</th>\n",
              "      <th>director</th>\n",
              "      <th>actors</th>\n",
              "      <th>year</th>\n",
              "      <th>runtime</th>\n",
              "      <th>rating</th>\n",
              "      <th>votes</th>\n",
              "      <th>revenue_millions</th>\n",
              "      <th>metascore</th>\n",
              "    </tr>\n",
              "    <tr>\n",
              "      <th>ID</th>\n",
              "      <th></th>\n",
              "      <th></th>\n",
              "      <th></th>\n",
              "      <th></th>\n",
              "      <th></th>\n",
              "      <th></th>\n",
              "      <th></th>\n",
              "      <th></th>\n",
              "      <th></th>\n",
              "      <th></th>\n",
              "      <th></th>\n",
              "    </tr>\n",
              "  </thead>\n",
              "  <tbody>\n",
              "    <tr>\n",
              "      <th>10033</th>\n",
              "      <td>La La Land</td>\n",
              "      <td>Comedy,Drama,Music</td>\n",
              "      <td>A jazz pianist falls for an aspiring actress i...</td>\n",
              "      <td>Damien Chazelle</td>\n",
              "      <td>Ryan Gosling, Emma Stone, Rosemarie DeWitt, J....</td>\n",
              "      <td>2016</td>\n",
              "      <td>128</td>\n",
              "      <td>8.3</td>\n",
              "      <td>258682</td>\n",
              "      <td>151.06</td>\n",
              "      <td>93.0</td>\n",
              "    </tr>\n",
              "    <tr>\n",
              "      <th>10066</th>\n",
              "      <td>Guardians of the Galaxy</td>\n",
              "      <td>Action,Adventure,Sci-Fi</td>\n",
              "      <td>A group of intergalactic criminals are forced ...</td>\n",
              "      <td>James Gunn</td>\n",
              "      <td>Chris Pratt, Vin Diesel, Bradley Cooper, Zoe S...</td>\n",
              "      <td>2014</td>\n",
              "      <td>121</td>\n",
              "      <td>8.1</td>\n",
              "      <td>757074</td>\n",
              "      <td>333.13</td>\n",
              "      <td>76.0</td>\n",
              "    </tr>\n",
              "    <tr>\n",
              "      <th>10073</th>\n",
              "      <td>Room</td>\n",
              "      <td>Drama</td>\n",
              "      <td>A young boy is raised within the confines of a...</td>\n",
              "      <td>Lenny Abrahamson</td>\n",
              "      <td>Brie Larson, Jacob Tremblay, Sean Bridgers,Wen...</td>\n",
              "      <td>2015</td>\n",
              "      <td>118</td>\n",
              "      <td>8.2</td>\n",
              "      <td>224132</td>\n",
              "      <td>14.68</td>\n",
              "      <td>86.0</td>\n",
              "    </tr>\n",
              "  </tbody>\n",
              "</table>\n",
              "</div>"
            ],
            "text/plain": [
              "                         title                    genre  \\\n",
              "ID                                                        \n",
              "10033               La La Land       Comedy,Drama,Music   \n",
              "10066  Guardians of the Galaxy  Action,Adventure,Sci-Fi   \n",
              "10073                     Room                    Drama   \n",
              "\n",
              "                                             description          director  \\\n",
              "ID                                                                           \n",
              "10033  A jazz pianist falls for an aspiring actress i...   Damien Chazelle   \n",
              "10066  A group of intergalactic criminals are forced ...        James Gunn   \n",
              "10073  A young boy is raised within the confines of a...  Lenny Abrahamson   \n",
              "\n",
              "                                                  actors  year  runtime  \\\n",
              "ID                                                                        \n",
              "10033  Ryan Gosling, Emma Stone, Rosemarie DeWitt, J....  2016      128   \n",
              "10066  Chris Pratt, Vin Diesel, Bradley Cooper, Zoe S...  2014      121   \n",
              "10073  Brie Larson, Jacob Tremblay, Sean Bridgers,Wen...  2015      118   \n",
              "\n",
              "       rating   votes  revenue_millions  metascore  \n",
              "ID                                                  \n",
              "10033     8.3  258682            151.06       93.0  \n",
              "10066     8.1  757074            333.13       76.0  \n",
              "10073     8.2  224132             14.68       86.0  "
            ]
          },
          "execution_count": 19,
          "metadata": {},
          "output_type": "execute_result"
        }
      ],
      "source": [
        "df = df.sort_index(axis = 0, ascending = True)\n",
        "df.head(3)"
      ]
    },
    {
      "cell_type": "markdown",
      "metadata": {
        "id": "31Ud4orn2pEa"
      },
      "source": [
        "## `append()`"
      ]
    },
    {
      "cell_type": "markdown",
      "metadata": {
        "id": "D8dHMhNA2pEa"
      },
      "source": [
        "Append rows of another DataFrame to the end of this frame, returning a new object.<br>\n",
        "Columns not in this frame are added as new columns."
      ]
    },
    {
      "cell_type": "code",
      "execution_count": null,
      "metadata": {
        "id": "muYIK2Vp2pEa",
        "outputId": "39109c1f-63e9-4d61-dcbb-b20ce821cedb"
      },
      "outputs": [
        {
          "data": {
            "text/plain": [
              "(2000, 11)"
            ]
          },
          "execution_count": 20,
          "metadata": {},
          "output_type": "execute_result"
        }
      ],
      "source": [
        "temp_df = df.append(df)\n",
        "temp_df.shape"
      ]
    },
    {
      "cell_type": "markdown",
      "metadata": {
        "id": "zE-1_j4m2pEb"
      },
      "source": [
        "## `remove_duplicates()`"
      ]
    },
    {
      "cell_type": "code",
      "execution_count": null,
      "metadata": {
        "id": "U3QYwWz22pEb",
        "outputId": "804ffbe2-7148-4143-8c49-5056b760f456"
      },
      "outputs": [
        {
          "data": {
            "text/plain": [
              "(1000, 11)"
            ]
          },
          "execution_count": 21,
          "metadata": {},
          "output_type": "execute_result"
        }
      ],
      "source": [
        "temp_df = temp_df.drop_duplicates()\n",
        "temp_df.shape"
      ]
    },
    {
      "cell_type": "markdown",
      "metadata": {
        "id": "ge0Savh92pEb"
      },
      "source": [
        "method will also return a copy of your DataFrame, but this time with duplicates removed. Calling ``.shape`` confirms we're back to the 1000 rows of our original dataset.<br>  Using ``inplace=True`` will modify the DataFrame object in place"
      ]
    },
    {
      "cell_type": "code",
      "execution_count": null,
      "metadata": {
        "id": "rGEuWlfa2pEb"
      },
      "outputs": [],
      "source": [
        "temp_df.drop_duplicates(inplace=True)"
      ]
    },
    {
      "cell_type": "markdown",
      "metadata": {
        "id": "DjINzkUJ2pEb"
      },
      "source": [
        "---\n",
        "# Relational Algebra"
      ]
    },
    {
      "cell_type": "markdown",
      "metadata": {
        "id": "rPntM0Fz2pEb"
      },
      "source": [
        "## Projection (\"Select\" in SQL)"
      ]
    },
    {
      "cell_type": "markdown",
      "metadata": {
        "id": "CUXeEt0b2pEc"
      },
      "source": [
        "**Single column**"
      ]
    },
    {
      "cell_type": "code",
      "execution_count": null,
      "metadata": {
        "id": "ue2vGrJt2pEc",
        "outputId": "3341f77a-26a5-4d42-9eca-218fb988ca1b"
      },
      "outputs": [
        {
          "data": {
            "text/plain": [
              "Rank\n",
              "55           The Dark Knight\n",
              "81                 Inception\n",
              "118                   Dangal\n",
              "37              Interstellar\n",
              "250         The Intouchables\n",
              "97             Kimi no na wa\n",
              "125    The Dark Knight Rises\n",
              "Name: title, dtype: object"
            ]
          },
          "execution_count": 23,
          "metadata": {},
          "output_type": "execute_result"
        }
      ],
      "source": [
        "df[\"title\"][0:7] # Will yield a *Series*"
      ]
    },
    {
      "cell_type": "markdown",
      "metadata": {
        "id": "ClwTMBPB2pEc"
      },
      "source": [
        "**Multiple Columns**"
      ]
    },
    {
      "cell_type": "code",
      "execution_count": null,
      "metadata": {
        "scrolled": true,
        "id": "_ZIrD3aG2pEc",
        "outputId": "fa06dabf-66b7-4d3d-f6e2-c3133b44b785"
      },
      "outputs": [
        {
          "data": {
            "text/html": [
              "<div>\n",
              "<style scoped>\n",
              "    .dataframe tbody tr th:only-of-type {\n",
              "        vertical-align: middle;\n",
              "    }\n",
              "\n",
              "    .dataframe tbody tr th {\n",
              "        vertical-align: top;\n",
              "    }\n",
              "\n",
              "    .dataframe thead th {\n",
              "        text-align: right;\n",
              "    }\n",
              "</style>\n",
              "<table border=\"1\" class=\"dataframe\">\n",
              "  <thead>\n",
              "    <tr style=\"text-align: right;\">\n",
              "      <th></th>\n",
              "      <th>title</th>\n",
              "      <th>genre</th>\n",
              "    </tr>\n",
              "    <tr>\n",
              "      <th>ID</th>\n",
              "      <th></th>\n",
              "      <th></th>\n",
              "    </tr>\n",
              "  </thead>\n",
              "  <tbody>\n",
              "    <tr>\n",
              "      <th>10033</th>\n",
              "      <td>La La Land</td>\n",
              "      <td>Comedy,Drama,Music</td>\n",
              "    </tr>\n",
              "    <tr>\n",
              "      <th>10066</th>\n",
              "      <td>Guardians of the Galaxy</td>\n",
              "      <td>Action,Adventure,Sci-Fi</td>\n",
              "    </tr>\n",
              "    <tr>\n",
              "      <th>10073</th>\n",
              "      <td>Room</td>\n",
              "      <td>Drama</td>\n",
              "    </tr>\n",
              "    <tr>\n",
              "      <th>10078</th>\n",
              "      <td>Frozen</td>\n",
              "      <td>Animation,Adventure,Comedy</td>\n",
              "    </tr>\n",
              "    <tr>\n",
              "      <th>10083</th>\n",
              "      <td>Harry Potter and the Deathly Hallows: Part 1</td>\n",
              "      <td>Adventure,Family,Fantasy</td>\n",
              "    </tr>\n",
              "    <tr>\n",
              "      <th>10102</th>\n",
              "      <td>The Intent</td>\n",
              "      <td>Crime,Drama</td>\n",
              "    </tr>\n",
              "    <tr>\n",
              "      <th>10430</th>\n",
              "      <td>Youth</td>\n",
              "      <td>Comedy,Drama,Music</td>\n",
              "    </tr>\n",
              "  </tbody>\n",
              "</table>\n",
              "</div>"
            ],
            "text/plain": [
              "                                              title  \\\n",
              "ID                                                    \n",
              "10033                                    La La Land   \n",
              "10066                       Guardians of the Galaxy   \n",
              "10073                                          Room   \n",
              "10078                                        Frozen   \n",
              "10083  Harry Potter and the Deathly Hallows: Part 1   \n",
              "10102                                    The Intent   \n",
              "10430                                         Youth   \n",
              "\n",
              "                            genre  \n",
              "ID                                 \n",
              "10033          Comedy,Drama,Music  \n",
              "10066     Action,Adventure,Sci-Fi  \n",
              "10073                       Drama  \n",
              "10078  Animation,Adventure,Comedy  \n",
              "10083    Adventure,Family,Fantasy  \n",
              "10102                 Crime,Drama  \n",
              "10430          Comedy,Drama,Music  "
            ]
          },
          "execution_count": 24,
          "metadata": {},
          "output_type": "execute_result"
        }
      ],
      "source": [
        "df[[\"title\",\"genre\"]][0:7]  # Will yeild a DataFrame"
      ]
    },
    {
      "cell_type": "markdown",
      "metadata": {
        "id": "Sp6-mneq2pEc"
      },
      "source": [
        "## Selection / Slicing (\"Where\" in SQL)"
      ]
    },
    {
      "cell_type": "markdown",
      "metadata": {
        "id": "U_VFFMPD2pEc"
      },
      "source": [
        "### `.loc` - Slicing by Label"
      ]
    },
    {
      "cell_type": "markdown",
      "metadata": {
        "id": "7qUC8xch2pEd"
      },
      "source": [
        "``.loc`` is primarily **index label based**, but may also be used with a boolean array. ``.loc`` will raise ``KeyError`` when the items are not found."
      ]
    },
    {
      "cell_type": "code",
      "execution_count": null,
      "metadata": {
        "id": "xxFMpl3p2pEd",
        "outputId": "74b4f5d0-a122-47db-b06e-f4a45cd49428"
      },
      "outputs": [
        {
          "ename": "KeyError",
          "evalue": "10078",
          "output_type": "error",
          "traceback": [
            "\u001b[1;31m---------------------------------------------------------------------------\u001b[0m",
            "\u001b[1;31mKeyError\u001b[0m                                  Traceback (most recent call last)",
            "\u001b[1;32mc:\\users\\coreai\\appdata\\local\\programs\\python\\python38\\lib\\site-packages\\pandas\\core\\indexes\\base.py\u001b[0m in \u001b[0;36mget_loc\u001b[1;34m(self, key, method, tolerance)\u001b[0m\n\u001b[0;32m   3079\u001b[0m             \u001b[1;32mtry\u001b[0m\u001b[1;33m:\u001b[0m\u001b[1;33m\u001b[0m\u001b[1;33m\u001b[0m\u001b[0m\n\u001b[1;32m-> 3080\u001b[1;33m                 \u001b[1;32mreturn\u001b[0m \u001b[0mself\u001b[0m\u001b[1;33m.\u001b[0m\u001b[0m_engine\u001b[0m\u001b[1;33m.\u001b[0m\u001b[0mget_loc\u001b[0m\u001b[1;33m(\u001b[0m\u001b[0mcasted_key\u001b[0m\u001b[1;33m)\u001b[0m\u001b[1;33m\u001b[0m\u001b[1;33m\u001b[0m\u001b[0m\n\u001b[0m\u001b[0;32m   3081\u001b[0m             \u001b[1;32mexcept\u001b[0m \u001b[0mKeyError\u001b[0m \u001b[1;32mas\u001b[0m \u001b[0merr\u001b[0m\u001b[1;33m:\u001b[0m\u001b[1;33m\u001b[0m\u001b[1;33m\u001b[0m\u001b[0m\n",
            "\u001b[1;32mpandas\\_libs\\index.pyx\u001b[0m in \u001b[0;36mpandas._libs.index.IndexEngine.get_loc\u001b[1;34m()\u001b[0m\n",
            "\u001b[1;32mpandas\\_libs\\index.pyx\u001b[0m in \u001b[0;36mpandas._libs.index.IndexEngine.get_loc\u001b[1;34m()\u001b[0m\n",
            "\u001b[1;32mpandas\\_libs\\hashtable_class_helper.pxi\u001b[0m in \u001b[0;36mpandas._libs.hashtable.Int64HashTable.get_item\u001b[1;34m()\u001b[0m\n",
            "\u001b[1;32mpandas\\_libs\\hashtable_class_helper.pxi\u001b[0m in \u001b[0;36mpandas._libs.hashtable.Int64HashTable.get_item\u001b[1;34m()\u001b[0m\n",
            "\u001b[1;31mKeyError\u001b[0m: 10078",
            "\nThe above exception was the direct cause of the following exception:\n",
            "\u001b[1;31mKeyError\u001b[0m                                  Traceback (most recent call last)",
            "\u001b[1;32m<ipython-input-24-fbfc8dd97022>\u001b[0m in \u001b[0;36m<module>\u001b[1;34m\u001b[0m\n\u001b[1;32m----> 1\u001b[1;33m \u001b[0mdf\u001b[0m\u001b[1;33m.\u001b[0m\u001b[0mloc\u001b[0m\u001b[1;33m[\u001b[0m\u001b[1;36m10078\u001b[0m\u001b[1;33m]\u001b[0m\u001b[1;33m\u001b[0m\u001b[1;33m\u001b[0m\u001b[0m\n\u001b[0m",
            "\u001b[1;32mc:\\users\\coreai\\appdata\\local\\programs\\python\\python38\\lib\\site-packages\\pandas\\core\\indexing.py\u001b[0m in \u001b[0;36m__getitem__\u001b[1;34m(self, key)\u001b[0m\n\u001b[0;32m    893\u001b[0m \u001b[1;33m\u001b[0m\u001b[0m\n\u001b[0;32m    894\u001b[0m             \u001b[0mmaybe_callable\u001b[0m \u001b[1;33m=\u001b[0m \u001b[0mcom\u001b[0m\u001b[1;33m.\u001b[0m\u001b[0mapply_if_callable\u001b[0m\u001b[1;33m(\u001b[0m\u001b[0mkey\u001b[0m\u001b[1;33m,\u001b[0m \u001b[0mself\u001b[0m\u001b[1;33m.\u001b[0m\u001b[0mobj\u001b[0m\u001b[1;33m)\u001b[0m\u001b[1;33m\u001b[0m\u001b[1;33m\u001b[0m\u001b[0m\n\u001b[1;32m--> 895\u001b[1;33m             \u001b[1;32mreturn\u001b[0m \u001b[0mself\u001b[0m\u001b[1;33m.\u001b[0m\u001b[0m_getitem_axis\u001b[0m\u001b[1;33m(\u001b[0m\u001b[0mmaybe_callable\u001b[0m\u001b[1;33m,\u001b[0m \u001b[0maxis\u001b[0m\u001b[1;33m=\u001b[0m\u001b[0maxis\u001b[0m\u001b[1;33m)\u001b[0m\u001b[1;33m\u001b[0m\u001b[1;33m\u001b[0m\u001b[0m\n\u001b[0m\u001b[0;32m    896\u001b[0m \u001b[1;33m\u001b[0m\u001b[0m\n\u001b[0;32m    897\u001b[0m     \u001b[1;32mdef\u001b[0m \u001b[0m_is_scalar_access\u001b[0m\u001b[1;33m(\u001b[0m\u001b[0mself\u001b[0m\u001b[1;33m,\u001b[0m \u001b[0mkey\u001b[0m\u001b[1;33m:\u001b[0m \u001b[0mTuple\u001b[0m\u001b[1;33m)\u001b[0m\u001b[1;33m:\u001b[0m\u001b[1;33m\u001b[0m\u001b[1;33m\u001b[0m\u001b[0m\n",
            "\u001b[1;32mc:\\users\\coreai\\appdata\\local\\programs\\python\\python38\\lib\\site-packages\\pandas\\core\\indexing.py\u001b[0m in \u001b[0;36m_getitem_axis\u001b[1;34m(self, key, axis)\u001b[0m\n\u001b[0;32m   1122\u001b[0m         \u001b[1;31m# fall thru to straight lookup\u001b[0m\u001b[1;33m\u001b[0m\u001b[1;33m\u001b[0m\u001b[1;33m\u001b[0m\u001b[0m\n\u001b[0;32m   1123\u001b[0m         \u001b[0mself\u001b[0m\u001b[1;33m.\u001b[0m\u001b[0m_validate_key\u001b[0m\u001b[1;33m(\u001b[0m\u001b[0mkey\u001b[0m\u001b[1;33m,\u001b[0m \u001b[0maxis\u001b[0m\u001b[1;33m)\u001b[0m\u001b[1;33m\u001b[0m\u001b[1;33m\u001b[0m\u001b[0m\n\u001b[1;32m-> 1124\u001b[1;33m         \u001b[1;32mreturn\u001b[0m \u001b[0mself\u001b[0m\u001b[1;33m.\u001b[0m\u001b[0m_get_label\u001b[0m\u001b[1;33m(\u001b[0m\u001b[0mkey\u001b[0m\u001b[1;33m,\u001b[0m \u001b[0maxis\u001b[0m\u001b[1;33m=\u001b[0m\u001b[0maxis\u001b[0m\u001b[1;33m)\u001b[0m\u001b[1;33m\u001b[0m\u001b[1;33m\u001b[0m\u001b[0m\n\u001b[0m\u001b[0;32m   1125\u001b[0m \u001b[1;33m\u001b[0m\u001b[0m\n\u001b[0;32m   1126\u001b[0m     \u001b[1;32mdef\u001b[0m \u001b[0m_get_slice_axis\u001b[0m\u001b[1;33m(\u001b[0m\u001b[0mself\u001b[0m\u001b[1;33m,\u001b[0m \u001b[0mslice_obj\u001b[0m\u001b[1;33m:\u001b[0m \u001b[0mslice\u001b[0m\u001b[1;33m,\u001b[0m \u001b[0maxis\u001b[0m\u001b[1;33m:\u001b[0m \u001b[0mint\u001b[0m\u001b[1;33m)\u001b[0m\u001b[1;33m:\u001b[0m\u001b[1;33m\u001b[0m\u001b[1;33m\u001b[0m\u001b[0m\n",
            "\u001b[1;32mc:\\users\\coreai\\appdata\\local\\programs\\python\\python38\\lib\\site-packages\\pandas\\core\\indexing.py\u001b[0m in \u001b[0;36m_get_label\u001b[1;34m(self, label, axis)\u001b[0m\n\u001b[0;32m   1071\u001b[0m     \u001b[1;32mdef\u001b[0m \u001b[0m_get_label\u001b[0m\u001b[1;33m(\u001b[0m\u001b[0mself\u001b[0m\u001b[1;33m,\u001b[0m \u001b[0mlabel\u001b[0m\u001b[1;33m,\u001b[0m \u001b[0maxis\u001b[0m\u001b[1;33m:\u001b[0m \u001b[0mint\u001b[0m\u001b[1;33m)\u001b[0m\u001b[1;33m:\u001b[0m\u001b[1;33m\u001b[0m\u001b[1;33m\u001b[0m\u001b[0m\n\u001b[0;32m   1072\u001b[0m         \u001b[1;31m# GH#5667 this will fail if the label is not present in the axis.\u001b[0m\u001b[1;33m\u001b[0m\u001b[1;33m\u001b[0m\u001b[1;33m\u001b[0m\u001b[0m\n\u001b[1;32m-> 1073\u001b[1;33m         \u001b[1;32mreturn\u001b[0m \u001b[0mself\u001b[0m\u001b[1;33m.\u001b[0m\u001b[0mobj\u001b[0m\u001b[1;33m.\u001b[0m\u001b[0mxs\u001b[0m\u001b[1;33m(\u001b[0m\u001b[0mlabel\u001b[0m\u001b[1;33m,\u001b[0m \u001b[0maxis\u001b[0m\u001b[1;33m=\u001b[0m\u001b[0maxis\u001b[0m\u001b[1;33m)\u001b[0m\u001b[1;33m\u001b[0m\u001b[1;33m\u001b[0m\u001b[0m\n\u001b[0m\u001b[0;32m   1074\u001b[0m \u001b[1;33m\u001b[0m\u001b[0m\n\u001b[0;32m   1075\u001b[0m     \u001b[1;32mdef\u001b[0m \u001b[0m_handle_lowerdim_multi_index_axis0\u001b[0m\u001b[1;33m(\u001b[0m\u001b[0mself\u001b[0m\u001b[1;33m,\u001b[0m \u001b[0mtup\u001b[0m\u001b[1;33m:\u001b[0m \u001b[0mTuple\u001b[0m\u001b[1;33m)\u001b[0m\u001b[1;33m:\u001b[0m\u001b[1;33m\u001b[0m\u001b[1;33m\u001b[0m\u001b[0m\n",
            "\u001b[1;32mc:\\users\\coreai\\appdata\\local\\programs\\python\\python38\\lib\\site-packages\\pandas\\core\\generic.py\u001b[0m in \u001b[0;36mxs\u001b[1;34m(self, key, axis, level, drop_level)\u001b[0m\n\u001b[0;32m   3737\u001b[0m                 \u001b[1;32mraise\u001b[0m \u001b[0mTypeError\u001b[0m\u001b[1;33m(\u001b[0m\u001b[1;34mf\"Expected label or tuple of labels, got {key}\"\u001b[0m\u001b[1;33m)\u001b[0m \u001b[1;32mfrom\u001b[0m \u001b[0me\u001b[0m\u001b[1;33m\u001b[0m\u001b[1;33m\u001b[0m\u001b[0m\n\u001b[0;32m   3738\u001b[0m         \u001b[1;32melse\u001b[0m\u001b[1;33m:\u001b[0m\u001b[1;33m\u001b[0m\u001b[1;33m\u001b[0m\u001b[0m\n\u001b[1;32m-> 3739\u001b[1;33m             \u001b[0mloc\u001b[0m \u001b[1;33m=\u001b[0m \u001b[0mindex\u001b[0m\u001b[1;33m.\u001b[0m\u001b[0mget_loc\u001b[0m\u001b[1;33m(\u001b[0m\u001b[0mkey\u001b[0m\u001b[1;33m)\u001b[0m\u001b[1;33m\u001b[0m\u001b[1;33m\u001b[0m\u001b[0m\n\u001b[0m\u001b[0;32m   3740\u001b[0m \u001b[1;33m\u001b[0m\u001b[0m\n\u001b[0;32m   3741\u001b[0m             \u001b[1;32mif\u001b[0m \u001b[0misinstance\u001b[0m\u001b[1;33m(\u001b[0m\u001b[0mloc\u001b[0m\u001b[1;33m,\u001b[0m \u001b[0mnp\u001b[0m\u001b[1;33m.\u001b[0m\u001b[0mndarray\u001b[0m\u001b[1;33m)\u001b[0m\u001b[1;33m:\u001b[0m\u001b[1;33m\u001b[0m\u001b[1;33m\u001b[0m\u001b[0m\n",
            "\u001b[1;32mc:\\users\\coreai\\appdata\\local\\programs\\python\\python38\\lib\\site-packages\\pandas\\core\\indexes\\base.py\u001b[0m in \u001b[0;36mget_loc\u001b[1;34m(self, key, method, tolerance)\u001b[0m\n\u001b[0;32m   3080\u001b[0m                 \u001b[1;32mreturn\u001b[0m \u001b[0mself\u001b[0m\u001b[1;33m.\u001b[0m\u001b[0m_engine\u001b[0m\u001b[1;33m.\u001b[0m\u001b[0mget_loc\u001b[0m\u001b[1;33m(\u001b[0m\u001b[0mcasted_key\u001b[0m\u001b[1;33m)\u001b[0m\u001b[1;33m\u001b[0m\u001b[1;33m\u001b[0m\u001b[0m\n\u001b[0;32m   3081\u001b[0m             \u001b[1;32mexcept\u001b[0m \u001b[0mKeyError\u001b[0m \u001b[1;32mas\u001b[0m \u001b[0merr\u001b[0m\u001b[1;33m:\u001b[0m\u001b[1;33m\u001b[0m\u001b[1;33m\u001b[0m\u001b[0m\n\u001b[1;32m-> 3082\u001b[1;33m                 \u001b[1;32mraise\u001b[0m \u001b[0mKeyError\u001b[0m\u001b[1;33m(\u001b[0m\u001b[0mkey\u001b[0m\u001b[1;33m)\u001b[0m \u001b[1;32mfrom\u001b[0m \u001b[0merr\u001b[0m\u001b[1;33m\u001b[0m\u001b[1;33m\u001b[0m\u001b[0m\n\u001b[0m\u001b[0;32m   3083\u001b[0m \u001b[1;33m\u001b[0m\u001b[0m\n\u001b[0;32m   3084\u001b[0m         \u001b[1;32mif\u001b[0m \u001b[0mtolerance\u001b[0m \u001b[1;32mis\u001b[0m \u001b[1;32mnot\u001b[0m \u001b[1;32mNone\u001b[0m\u001b[1;33m:\u001b[0m\u001b[1;33m\u001b[0m\u001b[1;33m\u001b[0m\u001b[0m\n",
            "\u001b[1;31mKeyError\u001b[0m: 10078"
          ]
        }
      ],
      "source": [
        "df.loc[10078]"
      ]
    },
    {
      "cell_type": "markdown",
      "metadata": {
        "id": "_rfqsO-f2pEd"
      },
      "source": [
        "### `.iloc` - Slicing by position\n",
        "(index position or column position)"
      ]
    },
    {
      "cell_type": "code",
      "execution_count": null,
      "metadata": {
        "id": "r8yzuEAO2pEd",
        "outputId": "7164a87d-a6a7-4825-eabb-3c0f3df4d29c"
      },
      "outputs": [
        {
          "data": {
            "text/html": [
              "<div>\n",
              "<style scoped>\n",
              "    .dataframe tbody tr th:only-of-type {\n",
              "        vertical-align: middle;\n",
              "    }\n",
              "\n",
              "    .dataframe tbody tr th {\n",
              "        vertical-align: top;\n",
              "    }\n",
              "\n",
              "    .dataframe thead th {\n",
              "        text-align: right;\n",
              "    }\n",
              "</style>\n",
              "<table border=\"1\" class=\"dataframe\">\n",
              "  <thead>\n",
              "    <tr style=\"text-align: right;\">\n",
              "      <th></th>\n",
              "      <th>title</th>\n",
              "      <th>genre</th>\n",
              "      <th>description</th>\n",
              "      <th>director</th>\n",
              "    </tr>\n",
              "    <tr>\n",
              "      <th>Rank</th>\n",
              "      <th></th>\n",
              "      <th></th>\n",
              "      <th></th>\n",
              "      <th></th>\n",
              "    </tr>\n",
              "  </thead>\n",
              "  <tbody>\n",
              "    <tr>\n",
              "      <th>37</th>\n",
              "      <td>Interstellar</td>\n",
              "      <td>Adventure,Drama,Sci-Fi</td>\n",
              "      <td>A team of explorers travel through a wormhole ...</td>\n",
              "      <td>Christopher Nolan</td>\n",
              "    </tr>\n",
              "    <tr>\n",
              "      <th>250</th>\n",
              "      <td>The Intouchables</td>\n",
              "      <td>Biography,Comedy,Drama</td>\n",
              "      <td>After he becomes a quadriplegic from a paragli...</td>\n",
              "      <td>Olivier Nakache</td>\n",
              "    </tr>\n",
              "  </tbody>\n",
              "</table>\n",
              "</div>"
            ],
            "text/plain": [
              "                 title                   genre  \\\n",
              "Rank                                             \n",
              "37        Interstellar  Adventure,Drama,Sci-Fi   \n",
              "250   The Intouchables  Biography,Comedy,Drama   \n",
              "\n",
              "                                            description           director  \n",
              "Rank                                                                        \n",
              "37    A team of explorers travel through a wormhole ...  Christopher Nolan  \n",
              "250   After he becomes a quadriplegic from a paragli...    Olivier Nakache  "
            ]
          },
          "execution_count": 26,
          "metadata": {},
          "output_type": "execute_result"
        }
      ],
      "source": [
        "df.iloc[3:5, 0:4]"
      ]
    },
    {
      "cell_type": "markdown",
      "metadata": {
        "id": "CtNftA2a2pEd"
      },
      "source": [
        "### Slicing by Conditions -  Boolean Masks\n",
        "**Important!!**"
      ]
    },
    {
      "cell_type": "code",
      "execution_count": null,
      "metadata": {
        "id": "XTWmJPwt2pEd"
      },
      "outputs": [],
      "source": [
        "short_df = df.head()"
      ]
    },
    {
      "cell_type": "code",
      "execution_count": null,
      "metadata": {
        "id": "BIcqLmSJ2pEd",
        "outputId": "0324090c-3dd1-44d1-e8ae-35c6faa2ad06"
      },
      "outputs": [
        {
          "data": {
            "text/plain": [
              "Rank\n",
              "55     False\n",
              "81     False\n",
              "118     True\n",
              "37     False\n",
              "250    False\n",
              "Name: year, dtype: bool"
            ]
          },
          "execution_count": 28,
          "metadata": {},
          "output_type": "execute_result"
        }
      ],
      "source": [
        "short_df[\"year\"] >= 2015"
      ]
    },
    {
      "cell_type": "code",
      "execution_count": null,
      "metadata": {
        "id": "boFE8uOX2pEe",
        "outputId": "77a9ff08-b210-43da-bde3-e69717e592a1"
      },
      "outputs": [
        {
          "data": {
            "text/html": [
              "<div>\n",
              "<style scoped>\n",
              "    .dataframe tbody tr th:only-of-type {\n",
              "        vertical-align: middle;\n",
              "    }\n",
              "\n",
              "    .dataframe tbody tr th {\n",
              "        vertical-align: top;\n",
              "    }\n",
              "\n",
              "    .dataframe thead th {\n",
              "        text-align: right;\n",
              "    }\n",
              "</style>\n",
              "<table border=\"1\" class=\"dataframe\">\n",
              "  <thead>\n",
              "    <tr style=\"text-align: right;\">\n",
              "      <th></th>\n",
              "      <th>title</th>\n",
              "      <th>genre</th>\n",
              "      <th>description</th>\n",
              "      <th>director</th>\n",
              "      <th>actors</th>\n",
              "      <th>year</th>\n",
              "      <th>runtime</th>\n",
              "      <th>rating</th>\n",
              "      <th>votes</th>\n",
              "      <th>revenue_millions</th>\n",
              "      <th>metascore</th>\n",
              "    </tr>\n",
              "    <tr>\n",
              "      <th>Rank</th>\n",
              "      <th></th>\n",
              "      <th></th>\n",
              "      <th></th>\n",
              "      <th></th>\n",
              "      <th></th>\n",
              "      <th></th>\n",
              "      <th></th>\n",
              "      <th></th>\n",
              "      <th></th>\n",
              "      <th></th>\n",
              "      <th></th>\n",
              "    </tr>\n",
              "  </thead>\n",
              "  <tbody>\n",
              "    <tr>\n",
              "      <th>118</th>\n",
              "      <td>Dangal</td>\n",
              "      <td>Action,Biography,Drama</td>\n",
              "      <td>Former wrestler Mahavir Singh Phogat and his t...</td>\n",
              "      <td>Nitesh Tiwari</td>\n",
              "      <td>Aamir Khan, Sakshi Tanwar, Fatima Sana Shaikh,...</td>\n",
              "      <td>2016</td>\n",
              "      <td>161</td>\n",
              "      <td>8.8</td>\n",
              "      <td>48969</td>\n",
              "      <td>11.15</td>\n",
              "      <td>NaN</td>\n",
              "    </tr>\n",
              "  </tbody>\n",
              "</table>\n",
              "</div>"
            ],
            "text/plain": [
              "       title                   genre  \\\n",
              "Rank                                   \n",
              "118   Dangal  Action,Biography,Drama   \n",
              "\n",
              "                                            description       director  \\\n",
              "Rank                                                                     \n",
              "118   Former wrestler Mahavir Singh Phogat and his t...  Nitesh Tiwari   \n",
              "\n",
              "                                                 actors  year  runtime  \\\n",
              "Rank                                                                     \n",
              "118   Aamir Khan, Sakshi Tanwar, Fatima Sana Shaikh,...  2016      161   \n",
              "\n",
              "      rating  votes  revenue_millions  metascore  \n",
              "Rank                                              \n",
              "118      8.8  48969             11.15        NaN  "
            ]
          },
          "execution_count": 29,
          "metadata": {},
          "output_type": "execute_result"
        }
      ],
      "source": [
        "short_df2 = short_df[short_df[\"year\"] >= 2015]\n",
        "short_df2"
      ]
    },
    {
      "cell_type": "markdown",
      "metadata": {
        "id": "j_55CDhT2pEe"
      },
      "source": [
        "#### and / or\n",
        "**We can also use the and (\"&\") or (\"|\") operators.**"
      ]
    },
    {
      "cell_type": "code",
      "execution_count": null,
      "metadata": {
        "id": "EOpY2xa22pEe",
        "outputId": "965abccd-6178-4bc1-ac2d-fe7781def7c1"
      },
      "outputs": [
        {
          "data": {
            "text/html": [
              "<div>\n",
              "<style scoped>\n",
              "    .dataframe tbody tr th:only-of-type {\n",
              "        vertical-align: middle;\n",
              "    }\n",
              "\n",
              "    .dataframe tbody tr th {\n",
              "        vertical-align: top;\n",
              "    }\n",
              "\n",
              "    .dataframe thead th {\n",
              "        text-align: right;\n",
              "    }\n",
              "</style>\n",
              "<table border=\"1\" class=\"dataframe\">\n",
              "  <thead>\n",
              "    <tr style=\"text-align: right;\">\n",
              "      <th></th>\n",
              "      <th>title</th>\n",
              "      <th>genre</th>\n",
              "      <th>description</th>\n",
              "      <th>director</th>\n",
              "      <th>actors</th>\n",
              "      <th>year</th>\n",
              "      <th>runtime</th>\n",
              "      <th>rating</th>\n",
              "      <th>votes</th>\n",
              "      <th>revenue_millions</th>\n",
              "      <th>metascore</th>\n",
              "    </tr>\n",
              "    <tr>\n",
              "      <th>Rank</th>\n",
              "      <th></th>\n",
              "      <th></th>\n",
              "      <th></th>\n",
              "      <th></th>\n",
              "      <th></th>\n",
              "      <th></th>\n",
              "      <th></th>\n",
              "      <th></th>\n",
              "      <th></th>\n",
              "      <th></th>\n",
              "      <th></th>\n",
              "    </tr>\n",
              "  </thead>\n",
              "  <tbody>\n",
              "    <tr>\n",
              "      <th>81</th>\n",
              "      <td>Inception</td>\n",
              "      <td>Action,Adventure,Sci-Fi</td>\n",
              "      <td>A thief, who steals corporate secrets through ...</td>\n",
              "      <td>Christopher Nolan</td>\n",
              "      <td>Leonardo DiCaprio, Joseph Gordon-Levitt, Ellen...</td>\n",
              "      <td>2010</td>\n",
              "      <td>148</td>\n",
              "      <td>8.8</td>\n",
              "      <td>1583625</td>\n",
              "      <td>292.57</td>\n",
              "      <td>74.0</td>\n",
              "    </tr>\n",
              "    <tr>\n",
              "      <th>37</th>\n",
              "      <td>Interstellar</td>\n",
              "      <td>Adventure,Drama,Sci-Fi</td>\n",
              "      <td>A team of explorers travel through a wormhole ...</td>\n",
              "      <td>Christopher Nolan</td>\n",
              "      <td>Matthew McConaughey, Anne Hathaway, Jessica Ch...</td>\n",
              "      <td>2014</td>\n",
              "      <td>169</td>\n",
              "      <td>8.6</td>\n",
              "      <td>1047747</td>\n",
              "      <td>187.99</td>\n",
              "      <td>74.0</td>\n",
              "    </tr>\n",
              "    <tr>\n",
              "      <th>125</th>\n",
              "      <td>The Dark Knight Rises</td>\n",
              "      <td>Action,Thriller</td>\n",
              "      <td>Eight years after the Joker's reign of anarchy...</td>\n",
              "      <td>Christopher Nolan</td>\n",
              "      <td>Christian Bale, Tom Hardy, Anne Hathaway,Gary ...</td>\n",
              "      <td>2012</td>\n",
              "      <td>164</td>\n",
              "      <td>8.5</td>\n",
              "      <td>1222645</td>\n",
              "      <td>448.13</td>\n",
              "      <td>78.0</td>\n",
              "    </tr>\n",
              "  </tbody>\n",
              "</table>\n",
              "</div>"
            ],
            "text/plain": [
              "                      title                    genre  \\\n",
              "Rank                                                   \n",
              "81                Inception  Action,Adventure,Sci-Fi   \n",
              "37             Interstellar   Adventure,Drama,Sci-Fi   \n",
              "125   The Dark Knight Rises          Action,Thriller   \n",
              "\n",
              "                                            description           director  \\\n",
              "Rank                                                                         \n",
              "81    A thief, who steals corporate secrets through ...  Christopher Nolan   \n",
              "37    A team of explorers travel through a wormhole ...  Christopher Nolan   \n",
              "125   Eight years after the Joker's reign of anarchy...  Christopher Nolan   \n",
              "\n",
              "                                                 actors  year  runtime  \\\n",
              "Rank                                                                     \n",
              "81    Leonardo DiCaprio, Joseph Gordon-Levitt, Ellen...  2010      148   \n",
              "37    Matthew McConaughey, Anne Hathaway, Jessica Ch...  2014      169   \n",
              "125   Christian Bale, Tom Hardy, Anne Hathaway,Gary ...  2012      164   \n",
              "\n",
              "      rating    votes  revenue_millions  metascore  \n",
              "Rank                                                \n",
              "81       8.8  1583625            292.57       74.0  \n",
              "37       8.6  1047747            187.99       74.0  \n",
              "125      8.5  1222645            448.13       78.0  "
            ]
          },
          "execution_count": 30,
          "metadata": {},
          "output_type": "execute_result"
        }
      ],
      "source": [
        "df[(df['director'] == 'Christopher Nolan') & (df[\"year\"] >= 2009)].head()"
      ]
    },
    {
      "cell_type": "markdown",
      "metadata": {
        "id": "-OEg7myE2pEe"
      },
      "source": [
        "#### `isin()`"
      ]
    },
    {
      "cell_type": "markdown",
      "metadata": {
        "id": "B53qYgBZ2pEe"
      },
      "source": [
        "**We can also use the `isin()` function:**"
      ]
    },
    {
      "cell_type": "code",
      "execution_count": null,
      "metadata": {
        "id": "hBkNYBdA2pEe",
        "outputId": "413a8c6c-335f-4bf7-cd5a-7fd737cb9d99"
      },
      "outputs": [
        {
          "data": {
            "text/html": [
              "<div>\n",
              "<style scoped>\n",
              "    .dataframe tbody tr th:only-of-type {\n",
              "        vertical-align: middle;\n",
              "    }\n",
              "\n",
              "    .dataframe tbody tr th {\n",
              "        vertical-align: top;\n",
              "    }\n",
              "\n",
              "    .dataframe thead th {\n",
              "        text-align: right;\n",
              "    }\n",
              "</style>\n",
              "<table border=\"1\" class=\"dataframe\">\n",
              "  <thead>\n",
              "    <tr style=\"text-align: right;\">\n",
              "      <th></th>\n",
              "      <th>title</th>\n",
              "      <th>genre</th>\n",
              "      <th>description</th>\n",
              "      <th>director</th>\n",
              "      <th>actors</th>\n",
              "      <th>year</th>\n",
              "      <th>runtime</th>\n",
              "      <th>rating</th>\n",
              "      <th>votes</th>\n",
              "      <th>revenue_millions</th>\n",
              "      <th>metascore</th>\n",
              "    </tr>\n",
              "    <tr>\n",
              "      <th>Rank</th>\n",
              "      <th></th>\n",
              "      <th></th>\n",
              "      <th></th>\n",
              "      <th></th>\n",
              "      <th></th>\n",
              "      <th></th>\n",
              "      <th></th>\n",
              "      <th></th>\n",
              "      <th></th>\n",
              "      <th></th>\n",
              "      <th></th>\n",
              "    </tr>\n",
              "  </thead>\n",
              "  <tbody>\n",
              "    <tr>\n",
              "      <th>247</th>\n",
              "      <td>Children of Men</td>\n",
              "      <td>Drama,Sci-Fi,Thriller</td>\n",
              "      <td>In 2027, in a chaotic world in which women hav...</td>\n",
              "      <td>Alfonso Cuarón</td>\n",
              "      <td>Julianne Moore, Clive Owen, Chiwetel Ejiofor,M...</td>\n",
              "      <td>2006</td>\n",
              "      <td>109</td>\n",
              "      <td>7.9</td>\n",
              "      <td>382910</td>\n",
              "      <td>35.29</td>\n",
              "      <td>84.0</td>\n",
              "    </tr>\n",
              "    <tr>\n",
              "      <th>510</th>\n",
              "      <td>Gravity</td>\n",
              "      <td>Drama,Sci-Fi,Thriller</td>\n",
              "      <td>Two astronauts work together to survive after ...</td>\n",
              "      <td>Alfonso Cuarón</td>\n",
              "      <td>Sandra Bullock, George Clooney, Ed Harris, Ort...</td>\n",
              "      <td>2013</td>\n",
              "      <td>91</td>\n",
              "      <td>7.8</td>\n",
              "      <td>622089</td>\n",
              "      <td>274.08</td>\n",
              "      <td>96.0</td>\n",
              "    </tr>\n",
              "    <tr>\n",
              "      <th>673</th>\n",
              "      <td>The Hurt Locker</td>\n",
              "      <td>Drama,History,Thriller</td>\n",
              "      <td>During the Iraq War, a Sergeant recently assig...</td>\n",
              "      <td>Kathryn Bigelow</td>\n",
              "      <td>Jeremy Renner, Anthony Mackie, Brian Geraghty,...</td>\n",
              "      <td>2008</td>\n",
              "      <td>131</td>\n",
              "      <td>7.6</td>\n",
              "      <td>352023</td>\n",
              "      <td>15.70</td>\n",
              "      <td>94.0</td>\n",
              "    </tr>\n",
              "    <tr>\n",
              "      <th>407</th>\n",
              "      <td>Zero Dark Thirty</td>\n",
              "      <td>Drama,History,Thriller</td>\n",
              "      <td>A chronicle of the decade-long hunt for al-Qae...</td>\n",
              "      <td>Kathryn Bigelow</td>\n",
              "      <td>Jessica Chastain, Joel Edgerton, Chris Pratt, ...</td>\n",
              "      <td>2012</td>\n",
              "      <td>157</td>\n",
              "      <td>7.4</td>\n",
              "      <td>226661</td>\n",
              "      <td>95.72</td>\n",
              "      <td>95.0</td>\n",
              "    </tr>\n",
              "  </tbody>\n",
              "</table>\n",
              "</div>"
            ],
            "text/plain": [
              "                 title                   genre  \\\n",
              "Rank                                             \n",
              "247    Children of Men   Drama,Sci-Fi,Thriller   \n",
              "510            Gravity   Drama,Sci-Fi,Thriller   \n",
              "673    The Hurt Locker  Drama,History,Thriller   \n",
              "407   Zero Dark Thirty  Drama,History,Thriller   \n",
              "\n",
              "                                            description         director  \\\n",
              "Rank                                                                       \n",
              "247   In 2027, in a chaotic world in which women hav...   Alfonso Cuarón   \n",
              "510   Two astronauts work together to survive after ...   Alfonso Cuarón   \n",
              "673   During the Iraq War, a Sergeant recently assig...  Kathryn Bigelow   \n",
              "407   A chronicle of the decade-long hunt for al-Qae...  Kathryn Bigelow   \n",
              "\n",
              "                                                 actors  year  runtime  \\\n",
              "Rank                                                                     \n",
              "247   Julianne Moore, Clive Owen, Chiwetel Ejiofor,M...  2006      109   \n",
              "510   Sandra Bullock, George Clooney, Ed Harris, Ort...  2013       91   \n",
              "673   Jeremy Renner, Anthony Mackie, Brian Geraghty,...  2008      131   \n",
              "407   Jessica Chastain, Joel Edgerton, Chris Pratt, ...  2012      157   \n",
              "\n",
              "      rating   votes  revenue_millions  metascore  \n",
              "Rank                                               \n",
              "247      7.9  382910             35.29       84.0  \n",
              "510      7.8  622089            274.08       96.0  \n",
              "673      7.6  352023             15.70       94.0  \n",
              "407      7.4  226661             95.72       95.0  "
            ]
          },
          "execution_count": 31,
          "metadata": {},
          "output_type": "execute_result"
        }
      ],
      "source": [
        "df[df['director'].isin(['Alfonso Cuarón', 'Kathryn Bigelow'])]"
      ]
    },
    {
      "cell_type": "markdown",
      "metadata": {
        "id": "IjfSA-qV2pEf"
      },
      "source": [
        "## Grouping (GroupBy in SQL)"
      ]
    },
    {
      "cell_type": "markdown",
      "metadata": {
        "id": "CeQLj0o52pEf"
      },
      "source": [
        "A ``groupby`` operation involves some combination of splitting the object, applying a function, and combining the results. This can be used to group large amounts of data and compute operations on these groups."
      ]
    },
    {
      "cell_type": "code",
      "execution_count": null,
      "metadata": {
        "id": "H3n9KV8y2pEf",
        "outputId": "13b55611-fbff-4d91-d3d2-8810d1255e6f"
      },
      "outputs": [
        {
          "data": {
            "text/plain": [
              "director\n",
              "Aamir Khan             1\n",
              "Abdellatif Kechiche    1\n",
              "Adam Leon              1\n",
              "Adam McKay             4\n",
              "Adam Shankman          2\n",
              "dtype: int64"
            ]
          },
          "execution_count": 32,
          "metadata": {},
          "output_type": "execute_result"
        }
      ],
      "source": [
        "df.groupby(\"director\").size()[:5]"
      ]
    },
    {
      "cell_type": "markdown",
      "metadata": {
        "id": "HQ6AH0k72pEf"
      },
      "source": [
        "** We can use aggregate functions except counting.**\n",
        "```\n",
        "SELECT director, AVG(rating) as average_rating, COUNT(*)\n",
        "\n",
        "FROM movies\n",
        "\n",
        "GROUP BY director\n",
        "\n",
        "ORDER BY average_rating\n",
        "```"
      ]
    },
    {
      "cell_type": "code",
      "execution_count": null,
      "metadata": {
        "id": "R8dm-pDH2pEf",
        "outputId": "5b81935c-d71e-48e8-d971-4233dfd09eff"
      },
      "outputs": [
        {
          "data": {
            "text/html": [
              "<div>\n",
              "<style scoped>\n",
              "    .dataframe tbody tr th:only-of-type {\n",
              "        vertical-align: middle;\n",
              "    }\n",
              "\n",
              "    .dataframe tbody tr th {\n",
              "        vertical-align: top;\n",
              "    }\n",
              "\n",
              "    .dataframe thead th {\n",
              "        text-align: right;\n",
              "    }\n",
              "</style>\n",
              "<table border=\"1\" class=\"dataframe\">\n",
              "  <thead>\n",
              "    <tr style=\"text-align: right;\">\n",
              "      <th></th>\n",
              "      <th>rating</th>\n",
              "      <th>director</th>\n",
              "    </tr>\n",
              "    <tr>\n",
              "      <th>director</th>\n",
              "      <th></th>\n",
              "      <th></th>\n",
              "    </tr>\n",
              "  </thead>\n",
              "  <tbody>\n",
              "    <tr>\n",
              "      <th>Nitesh Tiwari</th>\n",
              "      <td>8.80</td>\n",
              "      <td>1</td>\n",
              "    </tr>\n",
              "    <tr>\n",
              "      <th>Christopher Nolan</th>\n",
              "      <td>8.68</td>\n",
              "      <td>5</td>\n",
              "    </tr>\n",
              "    <tr>\n",
              "      <th>Makoto Shinkai</th>\n",
              "      <td>8.60</td>\n",
              "      <td>1</td>\n",
              "    </tr>\n",
              "    <tr>\n",
              "      <th>Olivier Nakache</th>\n",
              "      <td>8.60</td>\n",
              "      <td>1</td>\n",
              "    </tr>\n",
              "    <tr>\n",
              "      <th>Florian Henckel von Donnersmarck</th>\n",
              "      <td>8.50</td>\n",
              "      <td>1</td>\n",
              "    </tr>\n",
              "  </tbody>\n",
              "</table>\n",
              "</div>"
            ],
            "text/plain": [
              "                                  rating  director\n",
              "director                                          \n",
              "Nitesh Tiwari                       8.80         1\n",
              "Christopher Nolan                   8.68         5\n",
              "Makoto Shinkai                      8.60         1\n",
              "Olivier Nakache                     8.60         1\n",
              "Florian Henckel von Donnersmarck    8.50         1"
            ]
          },
          "execution_count": 33,
          "metadata": {},
          "output_type": "execute_result"
        }
      ],
      "source": [
        "df.groupby(\"director\").agg({'rating': np.mean, \"director\":np.size}).sort_values(by =\"rating\", ascending = False).head()"
      ]
    },
    {
      "cell_type": "markdown",
      "metadata": {
        "id": "yPwqJDsi2pEf"
      },
      "source": [
        "Notice that in the new DataFrame object, created by the groupby, the index is the column grouped by."
      ]
    },
    {
      "cell_type": "markdown",
      "metadata": {
        "id": "jy2awHoi2pEf"
      },
      "source": [
        "For more SQL comparisons: https://pandas.pydata.org/pandas-docs/stable/getting_started/comparison/comparison_with_sql.html"
      ]
    },
    {
      "cell_type": "markdown",
      "metadata": {
        "id": "6ZDeOX9m2pEg"
      },
      "source": [
        "---\n",
        "## Exercise"
      ]
    },
    {
      "cell_type": "markdown",
      "metadata": {
        "id": "rSmRGC4m2pEg"
      },
      "source": [
        "### Ex.1\n",
        "Let's say we want all movies that were **released between 2010 and 2015**, have a **rating above 8.0**, but made **below the median revenue.**<br>\n",
        "Show **top 5 by number of votes**."
      ]
    },
    {
      "cell_type": "markdown",
      "metadata": {
        "id": "BSxvojaB2pEg"
      },
      "source": [
        "Here's how we could do all of that:"
      ]
    },
    {
      "cell_type": "code",
      "execution_count": null,
      "metadata": {
        "collapsed": true,
        "jupyter": {
          "outputs_hidden": true
        },
        "id": "MMbErw472pEg"
      },
      "outputs": [],
      "source": [
        ""
      ]
    },
    {
      "cell_type": "markdown",
      "metadata": {
        "id": "0srj8_9n2pEg"
      },
      "source": [
        "### Ex.2\n",
        "Who are the most \"highest-grossing\" directors? -<br>\n",
        "AKA, Who are the top 5 directors that directed have the highest total revenue, and how many films each one directed?"
      ]
    },
    {
      "cell_type": "code",
      "execution_count": null,
      "metadata": {
        "collapsed": true,
        "jupyter": {
          "outputs_hidden": true
        },
        "id": "JdMHvTyC2pEg"
      },
      "outputs": [],
      "source": [
        ""
      ]
    },
    {
      "cell_type": "markdown",
      "metadata": {
        "id": "4_kkL-mp2pEg"
      },
      "source": [
        "### Ex.3\n",
        "Create a table of the highest rated film by each of the directors from ex.2 (the table will contain directors name, title, and rating)"
      ]
    },
    {
      "cell_type": "code",
      "execution_count": null,
      "metadata": {
        "collapsed": true,
        "jupyter": {
          "outputs_hidden": true
        },
        "id": "5v7BHBtC2pEg"
      },
      "outputs": [],
      "source": [
        ""
      ]
    },
    {
      "cell_type": "markdown",
      "metadata": {
        "id": "c0RTgPti2pEg"
      },
      "source": [
        "---\n",
        "# Data Exploration and Preparation"
      ]
    },
    {
      "cell_type": "markdown",
      "metadata": {
        "id": "zVq3yQeU2pEh"
      },
      "source": [
        "## Missing Values"
      ]
    },
    {
      "cell_type": "markdown",
      "metadata": {
        "id": "pcblMTgu2pEh"
      },
      "source": [
        "`isnull()` returns a DataFrame where each cell is either True or False depending on that cell's null status."
      ]
    },
    {
      "cell_type": "code",
      "execution_count": null,
      "metadata": {
        "id": "w74QA1ia2pEh",
        "outputId": "4e2cbcd9-bc24-4973-ca22-9aa3705532bc"
      },
      "outputs": [
        {
          "data": {
            "text/html": [
              "<div>\n",
              "<style scoped>\n",
              "    .dataframe tbody tr th:only-of-type {\n",
              "        vertical-align: middle;\n",
              "    }\n",
              "\n",
              "    .dataframe tbody tr th {\n",
              "        vertical-align: top;\n",
              "    }\n",
              "\n",
              "    .dataframe thead th {\n",
              "        text-align: right;\n",
              "    }\n",
              "</style>\n",
              "<table border=\"1\" class=\"dataframe\">\n",
              "  <thead>\n",
              "    <tr style=\"text-align: right;\">\n",
              "      <th></th>\n",
              "      <th>title</th>\n",
              "      <th>genre</th>\n",
              "      <th>description</th>\n",
              "      <th>director</th>\n",
              "      <th>actors</th>\n",
              "      <th>year</th>\n",
              "      <th>runtime</th>\n",
              "      <th>rating</th>\n",
              "      <th>votes</th>\n",
              "      <th>revenue_millions</th>\n",
              "      <th>metascore</th>\n",
              "    </tr>\n",
              "    <tr>\n",
              "      <th>ID</th>\n",
              "      <th></th>\n",
              "      <th></th>\n",
              "      <th></th>\n",
              "      <th></th>\n",
              "      <th></th>\n",
              "      <th></th>\n",
              "      <th></th>\n",
              "      <th></th>\n",
              "      <th></th>\n",
              "      <th></th>\n",
              "      <th></th>\n",
              "    </tr>\n",
              "  </thead>\n",
              "  <tbody>\n",
              "    <tr>\n",
              "      <th>10033</th>\n",
              "      <td>False</td>\n",
              "      <td>False</td>\n",
              "      <td>False</td>\n",
              "      <td>False</td>\n",
              "      <td>False</td>\n",
              "      <td>False</td>\n",
              "      <td>False</td>\n",
              "      <td>False</td>\n",
              "      <td>False</td>\n",
              "      <td>False</td>\n",
              "      <td>False</td>\n",
              "    </tr>\n",
              "    <tr>\n",
              "      <th>10066</th>\n",
              "      <td>False</td>\n",
              "      <td>False</td>\n",
              "      <td>False</td>\n",
              "      <td>False</td>\n",
              "      <td>False</td>\n",
              "      <td>False</td>\n",
              "      <td>False</td>\n",
              "      <td>False</td>\n",
              "      <td>False</td>\n",
              "      <td>False</td>\n",
              "      <td>False</td>\n",
              "    </tr>\n",
              "    <tr>\n",
              "      <th>10073</th>\n",
              "      <td>False</td>\n",
              "      <td>False</td>\n",
              "      <td>False</td>\n",
              "      <td>False</td>\n",
              "      <td>False</td>\n",
              "      <td>False</td>\n",
              "      <td>False</td>\n",
              "      <td>False</td>\n",
              "      <td>False</td>\n",
              "      <td>False</td>\n",
              "      <td>False</td>\n",
              "    </tr>\n",
              "    <tr>\n",
              "      <th>10078</th>\n",
              "      <td>False</td>\n",
              "      <td>False</td>\n",
              "      <td>False</td>\n",
              "      <td>False</td>\n",
              "      <td>False</td>\n",
              "      <td>False</td>\n",
              "      <td>False</td>\n",
              "      <td>False</td>\n",
              "      <td>False</td>\n",
              "      <td>False</td>\n",
              "      <td>False</td>\n",
              "    </tr>\n",
              "    <tr>\n",
              "      <th>10083</th>\n",
              "      <td>False</td>\n",
              "      <td>False</td>\n",
              "      <td>False</td>\n",
              "      <td>False</td>\n",
              "      <td>False</td>\n",
              "      <td>False</td>\n",
              "      <td>False</td>\n",
              "      <td>False</td>\n",
              "      <td>False</td>\n",
              "      <td>False</td>\n",
              "      <td>False</td>\n",
              "    </tr>\n",
              "  </tbody>\n",
              "</table>\n",
              "</div>"
            ],
            "text/plain": [
              "       title  genre  description  director  actors   year  runtime  rating  \\\n",
              "ID                                                                           \n",
              "10033  False  False        False     False   False  False    False   False   \n",
              "10066  False  False        False     False   False  False    False   False   \n",
              "10073  False  False        False     False   False  False    False   False   \n",
              "10078  False  False        False     False   False  False    False   False   \n",
              "10083  False  False        False     False   False  False    False   False   \n",
              "\n",
              "       votes  revenue_millions  metascore  \n",
              "ID                                         \n",
              "10033  False             False      False  \n",
              "10066  False             False      False  \n",
              "10073  False             False      False  \n",
              "10078  False             False      False  \n",
              "10083  False             False      False  "
            ]
          },
          "execution_count": 35,
          "metadata": {},
          "output_type": "execute_result"
        }
      ],
      "source": [
        "df.iloc[0:5].isnull()"
      ]
    },
    {
      "cell_type": "markdown",
      "metadata": {
        "id": "-MB7v1Lz2pEh"
      },
      "source": [
        "To count the number of nulls in each column we use an aggregate function for summing:"
      ]
    },
    {
      "cell_type": "code",
      "execution_count": null,
      "metadata": {
        "id": "op-9aLN02pEh",
        "outputId": "d09ec79c-09c1-4084-c81b-f6b7210df0a5"
      },
      "outputs": [
        {
          "data": {
            "text/plain": [
              "title                 0\n",
              "genre                 0\n",
              "description           0\n",
              "director              0\n",
              "actors                0\n",
              "year                  0\n",
              "runtime               0\n",
              "rating                0\n",
              "votes                 0\n",
              "revenue_millions    128\n",
              "metascore            64\n",
              "dtype: int64"
            ]
          },
          "execution_count": 36,
          "metadata": {},
          "output_type": "execute_result"
        }
      ],
      "source": [
        "df.isnull().sum()"
      ]
    },
    {
      "cell_type": "markdown",
      "metadata": {
        "id": "qcGlwBqm2pEh"
      },
      "source": [
        "### Dropping missing values - `dropna()`"
      ]
    },
    {
      "cell_type": "code",
      "execution_count": null,
      "metadata": {
        "id": "HNM-Ffd22pEh",
        "outputId": "6237b8c3-1518-437f-92c9-08999a8a1f8c"
      },
      "outputs": [
        {
          "data": {
            "text/plain": [
              "title               0\n",
              "genre               0\n",
              "description         0\n",
              "director            0\n",
              "actors              0\n",
              "year                0\n",
              "runtime             0\n",
              "rating              0\n",
              "votes               0\n",
              "revenue_millions    0\n",
              "metascore           0\n",
              "dtype: int64"
            ]
          },
          "execution_count": 37,
          "metadata": {},
          "output_type": "execute_result"
        }
      ],
      "source": [
        "df.dropna().isnull().sum()"
      ]
    },
    {
      "cell_type": "markdown",
      "metadata": {
        "id": "vRyi6GK62pEi"
      },
      "source": [
        "We can also drop columns (and not rows) by adding `axis = 1`"
      ]
    },
    {
      "cell_type": "code",
      "execution_count": null,
      "metadata": {
        "id": "vKUOh5Lu2pEi",
        "outputId": "e7e12cd2-6166-4c47-d5aa-e13c3d3dd379"
      },
      "outputs": [
        {
          "data": {
            "text/plain": [
              "title          0\n",
              "genre          0\n",
              "description    0\n",
              "director       0\n",
              "actors         0\n",
              "year           0\n",
              "runtime        0\n",
              "rating         0\n",
              "votes          0\n",
              "dtype: int64"
            ]
          },
          "execution_count": 38,
          "metadata": {},
          "output_type": "execute_result"
        }
      ],
      "source": [
        "df.dropna(axis = 1).isnull().sum()"
      ]
    },
    {
      "cell_type": "markdown",
      "metadata": {
        "id": "Lu5IxdXQ2pEi"
      },
      "source": [
        "### Imputing Missing Values - `fillna()`"
      ]
    },
    {
      "cell_type": "code",
      "execution_count": null,
      "metadata": {
        "id": "0QScg6uj2pEi",
        "outputId": "ddb87d9b-9938-487a-ef65-6406c9c8e2b1"
      },
      "outputs": [
        {
          "data": {
            "text/plain": [
              "128"
            ]
          },
          "execution_count": 39,
          "metadata": {},
          "output_type": "execute_result"
        }
      ],
      "source": [
        "revenue = df[\"revenue_millions\"]\n",
        "revenue.isnull().sum()"
      ]
    },
    {
      "cell_type": "code",
      "execution_count": null,
      "metadata": {
        "id": "qc4WOSbX2pEi",
        "outputId": "4864ff5d-85c7-42c7-a7c2-b3cb3e627525"
      },
      "outputs": [
        {
          "data": {
            "text/plain": [
              "0"
            ]
          },
          "execution_count": 40,
          "metadata": {},
          "output_type": "execute_result"
        }
      ],
      "source": [
        "revenue_mean = revenue.mean()\n",
        "revenue.fillna(revenue_mean, inplace=True) # note the \"inplace\". Values can also be imputer by row, by adding axis = 0\n",
        "revenue.isnull().sum()"
      ]
    },
    {
      "cell_type": "markdown",
      "metadata": {
        "id": "RIzxlGE32pEi"
      },
      "source": [
        "##  Normalization - Arithmetic Operations"
      ]
    },
    {
      "cell_type": "markdown",
      "metadata": {
        "id": "YMCGNjZa2pEi"
      },
      "source": [
        "For example, lest's normalize the votes column to be between 1 to 0 (min-max normalization)"
      ]
    },
    {
      "cell_type": "code",
      "execution_count": null,
      "metadata": {
        "id": "m85rjYEw2pEj",
        "outputId": "2e53a620-2719-42a5-e028-87e170581745"
      },
      "outputs": [
        {
          "data": {
            "text/html": [
              "<div>\n",
              "<style scoped>\n",
              "    .dataframe tbody tr th:only-of-type {\n",
              "        vertical-align: middle;\n",
              "    }\n",
              "\n",
              "    .dataframe tbody tr th {\n",
              "        vertical-align: top;\n",
              "    }\n",
              "\n",
              "    .dataframe thead th {\n",
              "        text-align: right;\n",
              "    }\n",
              "</style>\n",
              "<table border=\"1\" class=\"dataframe\">\n",
              "  <thead>\n",
              "    <tr style=\"text-align: right;\">\n",
              "      <th></th>\n",
              "      <th>norm_votes</th>\n",
              "      <th>votes</th>\n",
              "    </tr>\n",
              "    <tr>\n",
              "      <th>ID</th>\n",
              "      <th></th>\n",
              "      <th></th>\n",
              "    </tr>\n",
              "  </thead>\n",
              "  <tbody>\n",
              "    <tr>\n",
              "      <th>10033</th>\n",
              "      <td>0.144331</td>\n",
              "      <td>258682</td>\n",
              "    </tr>\n",
              "    <tr>\n",
              "      <th>10066</th>\n",
              "      <td>0.422474</td>\n",
              "      <td>757074</td>\n",
              "    </tr>\n",
              "    <tr>\n",
              "      <th>10073</th>\n",
              "      <td>0.125050</td>\n",
              "      <td>224132</td>\n",
              "    </tr>\n",
              "    <tr>\n",
              "      <th>10078</th>\n",
              "      <td>0.252159</td>\n",
              "      <td>451894</td>\n",
              "    </tr>\n",
              "    <tr>\n",
              "      <th>10083</th>\n",
              "      <td>0.199320</td>\n",
              "      <td>357213</td>\n",
              "    </tr>\n",
              "  </tbody>\n",
              "</table>\n",
              "</div>"
            ],
            "text/plain": [
              "       norm_votes   votes\n",
              "ID                       \n",
              "10033    0.144331  258682\n",
              "10066    0.422474  757074\n",
              "10073    0.125050  224132\n",
              "10078    0.252159  451894\n",
              "10083    0.199320  357213"
            ]
          },
          "execution_count": 41,
          "metadata": {},
          "output_type": "execute_result"
        }
      ],
      "source": [
        "df_copy = df.copy() # We want to COPY the DataFrame. Without using the \"copy()\" function, the new df will be a pointer to the old one.\n",
        "df_copy[\"norm_votes\"] = (df_copy[\"votes\"] - df_copy[\"votes\"].min()) / (df_copy[\"votes\"].max() - df_copy[\"votes\"].min())\n",
        "df_copy[[\"norm_votes\",\"votes\"]].head()"
      ]
    },
    {
      "cell_type": "markdown",
      "metadata": {
        "id": "025W1lHi2pEj"
      },
      "source": [
        "### Broadcasting\n",
        "Notice the Broadcasting in last line, in the `df_copy[\"votes\"] - df_copy[\"votes\"].min()` operation (an integer minus a series)!"
      ]
    },
    {
      "cell_type": "markdown",
      "metadata": {
        "id": "Lp-EIV5Y2pEj"
      },
      "source": [
        "## Feature Extraction / Engineering - `apply`"
      ]
    },
    {
      "cell_type": "markdown",
      "metadata": {
        "id": "ygcKmBJC2pEj"
      },
      "source": [
        "It is possible to iterate over a DataFrame or Series as you would with a list, but doing so — especially on large datasets — is very slow.\n",
        "\n",
        "An efficient alternative is to `apply()` a function to the DataFrame, along its axis. \n",
        "For example, we could use a function to convert movies with an 8.0 or greater to a string value of \"good\" and the rest to \"bad\" and use this transformed values to create a new column.\n",
        "\n",
        "First we would create a function that, when given a rating, determines if it's good or bad."
      ]
    },
    {
      "cell_type": "code",
      "execution_count": null,
      "metadata": {
        "collapsed": true,
        "jupyter": {
          "outputs_hidden": true
        },
        "id": "h8Lws9Gx2pEj"
      },
      "outputs": [],
      "source": [
        "def rating_function(x):\n",
        "    if x >= 8.0:\n",
        "        return \"good\"\n",
        "    else:\n",
        "        return \"bad\""
      ]
    },
    {
      "cell_type": "markdown",
      "metadata": {
        "id": "rzlpWG-72pEk"
      },
      "source": [
        "Now we want to send the entire rating column through this function, which is what apply() does:"
      ]
    },
    {
      "cell_type": "code",
      "execution_count": null,
      "metadata": {
        "id": "f6_VYr2v2pEk",
        "outputId": "99070dac-53a8-4506-c568-24e94da35218"
      },
      "outputs": [
        {
          "data": {
            "text/html": [
              "<div>\n",
              "<style scoped>\n",
              "    .dataframe tbody tr th:only-of-type {\n",
              "        vertical-align: middle;\n",
              "    }\n",
              "\n",
              "    .dataframe tbody tr th {\n",
              "        vertical-align: top;\n",
              "    }\n",
              "\n",
              "    .dataframe thead th {\n",
              "        text-align: right;\n",
              "    }\n",
              "</style>\n",
              "<table border=\"1\" class=\"dataframe\">\n",
              "  <thead>\n",
              "    <tr style=\"text-align: right;\">\n",
              "      <th></th>\n",
              "      <th>title</th>\n",
              "      <th>rating</th>\n",
              "      <th>rating_category</th>\n",
              "    </tr>\n",
              "    <tr>\n",
              "      <th>ID</th>\n",
              "      <th></th>\n",
              "      <th></th>\n",
              "      <th></th>\n",
              "    </tr>\n",
              "  </thead>\n",
              "  <tbody>\n",
              "    <tr>\n",
              "      <th>10033</th>\n",
              "      <td>La La Land</td>\n",
              "      <td>8.3</td>\n",
              "      <td>good</td>\n",
              "    </tr>\n",
              "    <tr>\n",
              "      <th>10066</th>\n",
              "      <td>Guardians of the Galaxy</td>\n",
              "      <td>8.1</td>\n",
              "      <td>good</td>\n",
              "    </tr>\n",
              "    <tr>\n",
              "      <th>10073</th>\n",
              "      <td>Room</td>\n",
              "      <td>8.2</td>\n",
              "      <td>good</td>\n",
              "    </tr>\n",
              "    <tr>\n",
              "      <th>10078</th>\n",
              "      <td>Frozen</td>\n",
              "      <td>7.5</td>\n",
              "      <td>bad</td>\n",
              "    </tr>\n",
              "    <tr>\n",
              "      <th>10083</th>\n",
              "      <td>Harry Potter and the Deathly Hallows: Part 1</td>\n",
              "      <td>7.7</td>\n",
              "      <td>bad</td>\n",
              "    </tr>\n",
              "  </tbody>\n",
              "</table>\n",
              "</div>"
            ],
            "text/plain": [
              "                                              title  rating rating_category\n",
              "ID                                                                         \n",
              "10033                                    La La Land     8.3            good\n",
              "10066                       Guardians of the Galaxy     8.1            good\n",
              "10073                                          Room     8.2            good\n",
              "10078                                        Frozen     7.5             bad\n",
              "10083  Harry Potter and the Deathly Hallows: Part 1     7.7             bad"
            ]
          },
          "execution_count": 43,
          "metadata": {},
          "output_type": "execute_result"
        }
      ],
      "source": [
        "df[\"rating_category\"] = df[\"rating\"].apply(rating_function)\n",
        "\n",
        "df[[\"title\",\"rating\",\"rating_category\"]].head()"
      ]
    },
    {
      "cell_type": "markdown",
      "metadata": {
        "id": "7IVUFGCW2pEk"
      },
      "source": [
        "We can also use anonymous functions as well. This `lambda` function achieves the same result as rating_function:"
      ]
    },
    {
      "cell_type": "code",
      "execution_count": null,
      "metadata": {
        "id": "Sqwd8rPa2pEk",
        "outputId": "d4da6919-923d-4413-a931-fbf125a1d3f5"
      },
      "outputs": [
        {
          "data": {
            "text/html": [
              "<div>\n",
              "<style scoped>\n",
              "    .dataframe tbody tr th:only-of-type {\n",
              "        vertical-align: middle;\n",
              "    }\n",
              "\n",
              "    .dataframe tbody tr th {\n",
              "        vertical-align: top;\n",
              "    }\n",
              "\n",
              "    .dataframe thead th {\n",
              "        text-align: right;\n",
              "    }\n",
              "</style>\n",
              "<table border=\"1\" class=\"dataframe\">\n",
              "  <thead>\n",
              "    <tr style=\"text-align: right;\">\n",
              "      <th></th>\n",
              "      <th>title</th>\n",
              "      <th>rating</th>\n",
              "      <th>rating_category</th>\n",
              "    </tr>\n",
              "    <tr>\n",
              "      <th>ID</th>\n",
              "      <th></th>\n",
              "      <th></th>\n",
              "      <th></th>\n",
              "    </tr>\n",
              "  </thead>\n",
              "  <tbody>\n",
              "    <tr>\n",
              "      <th>10033</th>\n",
              "      <td>La La Land</td>\n",
              "      <td>8.3</td>\n",
              "      <td>good</td>\n",
              "    </tr>\n",
              "    <tr>\n",
              "      <th>10066</th>\n",
              "      <td>Guardians of the Galaxy</td>\n",
              "      <td>8.1</td>\n",
              "      <td>good</td>\n",
              "    </tr>\n",
              "    <tr>\n",
              "      <th>10073</th>\n",
              "      <td>Room</td>\n",
              "      <td>8.2</td>\n",
              "      <td>good</td>\n",
              "    </tr>\n",
              "    <tr>\n",
              "      <th>10078</th>\n",
              "      <td>Frozen</td>\n",
              "      <td>7.5</td>\n",
              "      <td>bad</td>\n",
              "    </tr>\n",
              "    <tr>\n",
              "      <th>10083</th>\n",
              "      <td>Harry Potter and the Deathly Hallows: Part 1</td>\n",
              "      <td>7.7</td>\n",
              "      <td>bad</td>\n",
              "    </tr>\n",
              "  </tbody>\n",
              "</table>\n",
              "</div>"
            ],
            "text/plain": [
              "                                              title  rating rating_category\n",
              "ID                                                                         \n",
              "10033                                    La La Land     8.3            good\n",
              "10066                       Guardians of the Galaxy     8.1            good\n",
              "10073                                          Room     8.2            good\n",
              "10078                                        Frozen     7.5             bad\n",
              "10083  Harry Potter and the Deathly Hallows: Part 1     7.7             bad"
            ]
          },
          "execution_count": 44,
          "metadata": {},
          "output_type": "execute_result"
        }
      ],
      "source": [
        "df[\"rating_category\"] = df[\"rating\"].apply(lambda x: 'good' if x >= 8.0 else 'bad')\n",
        "\n",
        "df[[\"title\",\"rating\",\"rating_category\"]].head()"
      ]
    },
    {
      "cell_type": "markdown",
      "metadata": {
        "id": "NXXRZVB-2pEk"
      },
      "source": [
        "## Plotting"
      ]
    },
    {
      "cell_type": "code",
      "execution_count": null,
      "metadata": {
        "collapsed": true,
        "jupyter": {
          "outputs_hidden": true
        },
        "id": "ClC8O1QB2pEk"
      },
      "outputs": [],
      "source": [
        "import matplotlib.pyplot as plt\n",
        "import seaborn as sns\n",
        "plt.rcParams.update({'font.size': 10, 'figure.figsize': (6, 4)}) # set font and plot size to be larger"
      ]
    },
    {
      "cell_type": "markdown",
      "metadata": {
        "id": "y7oET3YK2pEk"
      },
      "source": [
        "### Scatter"
      ]
    },
    {
      "cell_type": "code",
      "execution_count": null,
      "metadata": {
        "id": "xyE3aWby2pEl",
        "outputId": "97cdf644-b09f-4643-a864-2dcdaf18995b"
      },
      "outputs": [
        {
          "data": {
            "image/png": "[encoded data removed]",
            "text/plain": [
              "<Figure size 432x288 with 1 Axes>"
            ]
          },
          "metadata": {},
          "output_type": "display_data"
        }
      ],
      "source": [
        "df.plot.scatter(x='rating', y='revenue_millions', title='Revenue (millions) vs Rating');\n",
        "plt.show()"
      ]
    },
    {
      "cell_type": "markdown",
      "metadata": {
        "id": "-khXe14G2pEl"
      },
      "source": [
        "### Distributions"
      ]
    },
    {
      "cell_type": "markdown",
      "metadata": {
        "id": "7RdXjAEN2pEl"
      },
      "source": [
        "#### Histogram"
      ]
    },
    {
      "cell_type": "markdown",
      "metadata": {
        "id": "71nB7kod2pEl"
      },
      "source": [
        "Let's plot the rating distribution:"
      ]
    },
    {
      "cell_type": "code",
      "execution_count": null,
      "metadata": {
        "id": "LmKDfyn62pEl",
        "outputId": "02421d46-5b70-4fd5-867b-c32280778015"
      },
      "outputs": [
        {
          "data": {
            "image/png": "[encoded data removed]",
            "text/plain": [
              "<Figure size 432x288 with 1 Axes>"
            ]
          },
          "metadata": {},
          "output_type": "display_data"
        }
      ],
      "source": [
        "df['rating'].plot.hist()\n",
        "plt.show()"
      ]
    },
    {
      "cell_type": "markdown",
      "metadata": {
        "id": "ozYeImmq2pEl"
      },
      "source": [
        "We can also plot multiple histograms"
      ]
    },
    {
      "cell_type": "markdown",
      "metadata": {
        "id": "ZjIb4pmE2pEl"
      },
      "source": [
        "#### Bar Plot"
      ]
    },
    {
      "cell_type": "markdown",
      "metadata": {
        "id": "-JHEYyRx2pEm"
      },
      "source": [
        "Let's plot how many films where created in each genre:"
      ]
    },
    {
      "cell_type": "code",
      "execution_count": null,
      "metadata": {
        "id": "Ce0_h55C2pEm",
        "outputId": "de971958-4049-4333-b341-294fb1dbb17b"
      },
      "outputs": [
        {
          "data": {
            "text/plain": [
              "Action,Adventure,Sci-Fi       50\n",
              "Drama                         48\n",
              "Comedy,Drama,Romance          35\n",
              "Comedy                        32\n",
              "Drama,Romance                 31\n",
              "Comedy,Drama                  27\n",
              "Action,Adventure,Fantasy      27\n",
              "Animation,Adventure,Comedy    27\n",
              "Comedy,Romance                26\n",
              "Crime,Drama,Thriller          24\n",
              "Name: genre, dtype: int64"
            ]
          },
          "execution_count": 48,
          "metadata": {},
          "output_type": "execute_result"
        }
      ],
      "source": [
        "df['genre'].value_counts().head(10)"
      ]
    },
    {
      "cell_type": "code",
      "execution_count": null,
      "metadata": {
        "id": "FiAzMhTb2pEm",
        "outputId": "5d74a33e-5336-4b6c-837f-95a70a844581"
      },
      "outputs": [
        {
          "data": {
            "image/png": "[encoded data removed]",
            "text/plain": [
              "<Figure size 432x288 with 1 Axes>"
            ]
          },
          "metadata": {},
          "output_type": "display_data"
        }
      ],
      "source": [
        "df['genre'].value_counts().head(10).plot.barh()\n",
        "plt.show()"
      ]
    },
    {
      "cell_type": "markdown",
      "metadata": {
        "id": "pPD0GKmG2pEm"
      },
      "source": [
        "### Box Plot"
      ]
    },
    {
      "cell_type": "code",
      "execution_count": null,
      "metadata": {
        "id": "lO_hd8xi2pEm",
        "outputId": "b6fec520-f3b5-4f34-8b36-099ccc3a9700"
      },
      "outputs": [
        {
          "data": {
            "image/png": "[encoded data removed]",
            "text/plain": [
              "<Figure size 432x288 with 1 Axes>"
            ]
          },
          "metadata": {},
          "output_type": "display_data"
        }
      ],
      "source": [
        "df.boxplot(column='revenue_millions', by='rating_category');\n",
        "plt.show()"
      ]
    },
    {
      "cell_type": "markdown",
      "metadata": {
        "id": "YHFbaT-k2pEm"
      },
      "source": [
        "## Correlations"
      ]
    },
    {
      "cell_type": "markdown",
      "metadata": {
        "id": "Klgfey_u2pEn"
      },
      "source": [
        "By using the correlation method .corr() we can generate the relationship between each continuous variable:"
      ]
    },
    {
      "cell_type": "code",
      "execution_count": null,
      "metadata": {
        "id": "X9QI1Xxe2pEn",
        "outputId": "09a3e719-c8c7-4461-d49a-131ea4003ed7"
      },
      "outputs": [
        {
          "data": {
            "text/html": [
              "<div>\n",
              "<style scoped>\n",
              "    .dataframe tbody tr th:only-of-type {\n",
              "        vertical-align: middle;\n",
              "    }\n",
              "\n",
              "    .dataframe tbody tr th {\n",
              "        vertical-align: top;\n",
              "    }\n",
              "\n",
              "    .dataframe thead th {\n",
              "        text-align: right;\n",
              "    }\n",
              "</style>\n",
              "<table border=\"1\" class=\"dataframe\">\n",
              "  <thead>\n",
              "    <tr style=\"text-align: right;\">\n",
              "      <th></th>\n",
              "      <th>year</th>\n",
              "      <th>runtime</th>\n",
              "      <th>rating</th>\n",
              "      <th>votes</th>\n",
              "      <th>revenue_millions</th>\n",
              "      <th>metascore</th>\n",
              "    </tr>\n",
              "  </thead>\n",
              "  <tbody>\n",
              "    <tr>\n",
              "      <th>year</th>\n",
              "      <td>1.000000</td>\n",
              "      <td>-0.164900</td>\n",
              "      <td>-0.211219</td>\n",
              "      <td>-0.411904</td>\n",
              "      <td>-0.117562</td>\n",
              "      <td>-0.079305</td>\n",
              "    </tr>\n",
              "    <tr>\n",
              "      <th>runtime</th>\n",
              "      <td>-0.164900</td>\n",
              "      <td>1.000000</td>\n",
              "      <td>0.392214</td>\n",
              "      <td>0.407062</td>\n",
              "      <td>0.247834</td>\n",
              "      <td>0.211978</td>\n",
              "    </tr>\n",
              "    <tr>\n",
              "      <th>rating</th>\n",
              "      <td>-0.211219</td>\n",
              "      <td>0.392214</td>\n",
              "      <td>1.000000</td>\n",
              "      <td>0.511537</td>\n",
              "      <td>0.189527</td>\n",
              "      <td>0.631897</td>\n",
              "    </tr>\n",
              "    <tr>\n",
              "      <th>votes</th>\n",
              "      <td>-0.411904</td>\n",
              "      <td>0.407062</td>\n",
              "      <td>0.511537</td>\n",
              "      <td>1.000000</td>\n",
              "      <td>0.607941</td>\n",
              "      <td>0.325684</td>\n",
              "    </tr>\n",
              "    <tr>\n",
              "      <th>revenue_millions</th>\n",
              "      <td>-0.117562</td>\n",
              "      <td>0.247834</td>\n",
              "      <td>0.189527</td>\n",
              "      <td>0.607941</td>\n",
              "      <td>1.000000</td>\n",
              "      <td>0.133328</td>\n",
              "    </tr>\n",
              "    <tr>\n",
              "      <th>metascore</th>\n",
              "      <td>-0.079305</td>\n",
              "      <td>0.211978</td>\n",
              "      <td>0.631897</td>\n",
              "      <td>0.325684</td>\n",
              "      <td>0.133328</td>\n",
              "      <td>1.000000</td>\n",
              "    </tr>\n",
              "  </tbody>\n",
              "</table>\n",
              "</div>"
            ],
            "text/plain": [
              "                      year   runtime    rating     votes  revenue_millions  \\\n",
              "year              1.000000 -0.164900 -0.211219 -0.411904         -0.117562   \n",
              "runtime          -0.164900  1.000000  0.392214  0.407062          0.247834   \n",
              "rating           -0.211219  0.392214  1.000000  0.511537          0.189527   \n",
              "votes            -0.411904  0.407062  0.511537  1.000000          0.607941   \n",
              "revenue_millions -0.117562  0.247834  0.189527  0.607941          1.000000   \n",
              "metascore        -0.079305  0.211978  0.631897  0.325684          0.133328   \n",
              "\n",
              "                  metascore  \n",
              "year              -0.079305  \n",
              "runtime            0.211978  \n",
              "rating             0.631897  \n",
              "votes              0.325684  \n",
              "revenue_millions   0.133328  \n",
              "metascore          1.000000  "
            ]
          },
          "execution_count": 51,
          "metadata": {},
          "output_type": "execute_result"
        }
      ],
      "source": [
        "df.corr()"
      ]
    },
    {
      "cell_type": "markdown",
      "metadata": {
        "id": "eOEdsAgN2pEn"
      },
      "source": [
        "### Heatmap"
      ]
    },
    {
      "cell_type": "code",
      "execution_count": null,
      "metadata": {
        "id": "yO05GcOe2pEn",
        "outputId": "1668637d-f007-4717-b871-a6c7f98dae4d"
      },
      "outputs": [
        {
          "data": {
            "image/png": "[encoded data removed]",
            "text/plain": [
              "<Figure size 432x288 with 2 Axes>"
            ]
          },
          "metadata": {},
          "output_type": "display_data"
        }
      ],
      "source": [
        "sns.heatmap(df.corr(), \n",
        "        xticklabels=df.corr().columns,\n",
        "        yticklabels=df.corr().columns)\n",
        "plt.show()"
      ]
    },
    {
      "cell_type": "markdown",
      "metadata": {
        "id": "diETcQEh2pEn"
      },
      "source": [
        "## Exercise\n",
        "### Ex.4\n",
        "Create a new rating feature that takes both the rating and the metascore.\n",
        "1. Change all ratings and metascore with below 100,000 votes to NaN.\n",
        "2. Normalize the both ratings and metascore to be between 0 to 1 (like the ratings scale!)\n",
        "3. Create a new feature, called \"mixed_rating\" to be the multiplication of the normalized column and the rating:\n",
        "    <br>a. By using simple Arithmetic Operation.\n",
        "    <br>b. By using the `apply` function.\n",
        "4. Show top 5 movies with highest \"mixed_rating\""
      ]
    },
    {
      "cell_type": "code",
      "execution_count": null,
      "metadata": {
        "scrolled": true,
        "tags": [],
        "id": "PKUiD8ag2pEn"
      },
      "outputs": [],
      "source": [
        ""
      ]
    },
    {
      "cell_type": "markdown",
      "metadata": {
        "id": "kukhdCGC2pEn"
      },
      "source": [
        "### Ex.5\n",
        "Plot the total movies revenue per year."
      ]
    },
    {
      "cell_type": "code",
      "execution_count": null,
      "metadata": {
        "collapsed": true,
        "jupyter": {
          "outputs_hidden": true
        },
        "id": "q6M2OuOF2pEo"
      },
      "outputs": [],
      "source": [
        ""
      ]
    },
    {
      "cell_type": "markdown",
      "metadata": {
        "id": "u0sSwN-u2pEo"
      },
      "source": [
        "# Saving the Data"
      ]
    },
    {
      "cell_type": "code",
      "execution_count": null,
      "metadata": {
        "collapsed": true,
        "jupyter": {
          "outputs_hidden": true
        },
        "id": "dCQCRIrz2pEo"
      },
      "outputs": [],
      "source": [
        "# Saving dataframe to CSV\n",
        "df.to_csv(\"movies-db-processed.csv\", index=False)"
      ]
    },
    {
      "cell_type": "markdown",
      "metadata": {
        "id": "tPIpiMCR2pEo"
      },
      "source": [
        "![image.png](attachment:image.png)"
      ]
    }
  ],
  "metadata": {
    "kernelspec": {
      "display_name": "Python 3 (ipykernel)",
      "language": "python",
      "name": "python3"
    },
    "language_info": {
      "codemirror_mode": {
        "name": "ipython",
        "version": 3
      },
      "file_extension": ".py",
      "mimetype": "text/x-python",
      "name": "python",
      "nbconvert_exporter": "python",
      "pygments_lexer": "ipython3",
      "version": "3.8.0"
    },
    "toc": {
      "base_numbering": 1,
      "nav_menu": {},
      "number_sections": true,
      "sideBar": true,
      "skip_h1_title": false,
      "title_cell": "Table of Contents",
      "title_sidebar": "Contents",
      "toc_cell": false,
      "toc_position": {
        "height": "calc(100% - 180px)",
        "left": "10px",
        "top": "150px",
        "width": "347px"
      },
      "toc_section_display": true,
      "toc_window_display": true
    },
    "colab": {
      "name": "python-pandas.ipynb",
      "provenance": [],
      "include_colab_link": true
    }
  },
  "nbformat": 4,
  "nbformat_minor": 0
}