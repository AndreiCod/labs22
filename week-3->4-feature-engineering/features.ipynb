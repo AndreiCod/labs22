{
 "cells": [
  {
   "cell_type": "code",
   "execution_count": 1,
   "id": "fa48ae57-3472-4981-8efb-a703f46ee222",
   "metadata": {},
   "outputs": [],
   "source": [
    "import pandas as pd\n",
    "import os\n",
    "import seaborn as sns\n",
    "\n",
    "from statsmodels.graphics.tsaplots import plot_acf, plot_pacf"
   ]
  },
  {
   "cell_type": "markdown",
   "id": "eef433d4-04d9-4efc-aedc-8de3703574c6",
   "metadata": {},
   "source": [
    "# Load Data"
   ]
  },
  {
   "cell_type": "code",
   "execution_count": 2,
   "id": "f6c6b0df-d34e-46b4-8f6c-19360302a7a2",
   "metadata": {},
   "outputs": [],
   "source": [
    "def load(data_dir: str) -> pd.DataFrame:\n",
    "    sales_df = pd.read_csv(os.path.join(data_dir, \"sales_train.csv\"))\n",
    "    items_df = pd.read_csv(os.path.join(data_dir, \"items.csv\"))\n",
    "    item_categories = pd.read_csv(os.path.join(data_dir, \"item_categories.csv\"))\n",
    "    shops_df = pd.read_csv(os.path.join(data_dir, \"shops.csv\"))\n",
    "    \n",
    "    sales_df = sales_df.merge(items_df, how=\"left\", on=\"item_id\")\n",
    "    sales_df = sales_df.merge(item_categories, how=\"left\", on=\"item_category_id\")\n",
    "    sales_df = sales_df.merge(shops_df, how=\"left\", on=\"shop_id\")\n",
    "    \n",
    "    return sales_df"
   ]
  },
  {
   "cell_type": "code",
   "execution_count": 3,
   "id": "5e865f5c-38ed-47d8-b8b1-0f768732637b",
   "metadata": {},
   "outputs": [],
   "source": [
    "df = load(data_dir=\"../data\")"
   ]
  },
  {
   "cell_type": "code",
   "execution_count": 4,
   "id": "ba2c3250-d381-4e41-a2d5-e1937bf4bd61",
   "metadata": {},
   "outputs": [
    {
     "data": {
      "text/html": [
       "<div>\n",
       "<style scoped>\n",
       "    .dataframe tbody tr th:only-of-type {\n",
       "        vertical-align: middle;\n",
       "    }\n",
       "\n",
       "    .dataframe tbody tr th {\n",
       "        vertical-align: top;\n",
       "    }\n",
       "\n",
       "    .dataframe thead th {\n",
       "        text-align: right;\n",
       "    }\n",
       "</style>\n",
       "<table border=\"1\" class=\"dataframe\">\n",
       "  <thead>\n",
       "    <tr style=\"text-align: right;\">\n",
       "      <th></th>\n",
       "      <th>date</th>\n",
       "      <th>date_block_num</th>\n",
       "      <th>shop_id</th>\n",
       "      <th>item_id</th>\n",
       "      <th>item_price</th>\n",
       "      <th>item_cnt_day</th>\n",
       "      <th>item_name</th>\n",
       "      <th>item_category_id</th>\n",
       "      <th>item_category_name</th>\n",
       "      <th>shop_name</th>\n",
       "    </tr>\n",
       "  </thead>\n",
       "  <tbody>\n",
       "    <tr>\n",
       "      <th>0</th>\n",
       "      <td>02.01.2013</td>\n",
       "      <td>0</td>\n",
       "      <td>59</td>\n",
       "      <td>22154</td>\n",
       "      <td>999.00</td>\n",
       "      <td>1.0</td>\n",
       "      <td>ЯВЛЕНИЕ 2012 (BD)</td>\n",
       "      <td>37</td>\n",
       "      <td>Кино - Blu-Ray</td>\n",
       "      <td>Ярославль ТЦ \"Альтаир\"</td>\n",
       "    </tr>\n",
       "    <tr>\n",
       "      <th>1</th>\n",
       "      <td>03.01.2013</td>\n",
       "      <td>0</td>\n",
       "      <td>25</td>\n",
       "      <td>2552</td>\n",
       "      <td>899.00</td>\n",
       "      <td>1.0</td>\n",
       "      <td>DEEP PURPLE  The House Of Blue Light  LP</td>\n",
       "      <td>58</td>\n",
       "      <td>Музыка - Винил</td>\n",
       "      <td>Москва ТРК \"Атриум\"</td>\n",
       "    </tr>\n",
       "    <tr>\n",
       "      <th>2</th>\n",
       "      <td>05.01.2013</td>\n",
       "      <td>0</td>\n",
       "      <td>25</td>\n",
       "      <td>2552</td>\n",
       "      <td>899.00</td>\n",
       "      <td>-1.0</td>\n",
       "      <td>DEEP PURPLE  The House Of Blue Light  LP</td>\n",
       "      <td>58</td>\n",
       "      <td>Музыка - Винил</td>\n",
       "      <td>Москва ТРК \"Атриум\"</td>\n",
       "    </tr>\n",
       "    <tr>\n",
       "      <th>3</th>\n",
       "      <td>06.01.2013</td>\n",
       "      <td>0</td>\n",
       "      <td>25</td>\n",
       "      <td>2554</td>\n",
       "      <td>1709.05</td>\n",
       "      <td>1.0</td>\n",
       "      <td>DEEP PURPLE  Who Do You Think We Are  LP</td>\n",
       "      <td>58</td>\n",
       "      <td>Музыка - Винил</td>\n",
       "      <td>Москва ТРК \"Атриум\"</td>\n",
       "    </tr>\n",
       "    <tr>\n",
       "      <th>4</th>\n",
       "      <td>15.01.2013</td>\n",
       "      <td>0</td>\n",
       "      <td>25</td>\n",
       "      <td>2555</td>\n",
       "      <td>1099.00</td>\n",
       "      <td>1.0</td>\n",
       "      <td>DEEP PURPLE 30 Very Best Of 2CD (Фирм.)</td>\n",
       "      <td>56</td>\n",
       "      <td>Музыка - CD фирменного производства</td>\n",
       "      <td>Москва ТРК \"Атриум\"</td>\n",
       "    </tr>\n",
       "    <tr>\n",
       "      <th>5</th>\n",
       "      <td>10.01.2013</td>\n",
       "      <td>0</td>\n",
       "      <td>25</td>\n",
       "      <td>2564</td>\n",
       "      <td>349.00</td>\n",
       "      <td>1.0</td>\n",
       "      <td>DEEP PURPLE Perihelion: Live In Concert DVD (К...</td>\n",
       "      <td>59</td>\n",
       "      <td>Музыка - Музыкальное видео</td>\n",
       "      <td>Москва ТРК \"Атриум\"</td>\n",
       "    </tr>\n",
       "    <tr>\n",
       "      <th>6</th>\n",
       "      <td>02.01.2013</td>\n",
       "      <td>0</td>\n",
       "      <td>25</td>\n",
       "      <td>2565</td>\n",
       "      <td>549.00</td>\n",
       "      <td>1.0</td>\n",
       "      <td>DEEP PURPLE Stormbringer (фирм.)</td>\n",
       "      <td>56</td>\n",
       "      <td>Музыка - CD фирменного производства</td>\n",
       "      <td>Москва ТРК \"Атриум\"</td>\n",
       "    </tr>\n",
       "    <tr>\n",
       "      <th>7</th>\n",
       "      <td>04.01.2013</td>\n",
       "      <td>0</td>\n",
       "      <td>25</td>\n",
       "      <td>2572</td>\n",
       "      <td>239.00</td>\n",
       "      <td>1.0</td>\n",
       "      <td>DEFTONES  Koi No Yokan</td>\n",
       "      <td>55</td>\n",
       "      <td>Музыка - CD локального производства</td>\n",
       "      <td>Москва ТРК \"Атриум\"</td>\n",
       "    </tr>\n",
       "    <tr>\n",
       "      <th>8</th>\n",
       "      <td>11.01.2013</td>\n",
       "      <td>0</td>\n",
       "      <td>25</td>\n",
       "      <td>2572</td>\n",
       "      <td>299.00</td>\n",
       "      <td>1.0</td>\n",
       "      <td>DEFTONES  Koi No Yokan</td>\n",
       "      <td>55</td>\n",
       "      <td>Музыка - CD локального производства</td>\n",
       "      <td>Москва ТРК \"Атриум\"</td>\n",
       "    </tr>\n",
       "    <tr>\n",
       "      <th>9</th>\n",
       "      <td>03.01.2013</td>\n",
       "      <td>0</td>\n",
       "      <td>25</td>\n",
       "      <td>2573</td>\n",
       "      <td>299.00</td>\n",
       "      <td>3.0</td>\n",
       "      <td>DEL REY LANA  Born To Die</td>\n",
       "      <td>55</td>\n",
       "      <td>Музыка - CD локального производства</td>\n",
       "      <td>Москва ТРК \"Атриум\"</td>\n",
       "    </tr>\n",
       "  </tbody>\n",
       "</table>\n",
       "</div>"
      ],
      "text/plain": [
       "         date  date_block_num  shop_id  item_id  item_price  item_cnt_day  \\\n",
       "0  02.01.2013               0       59    22154      999.00           1.0   \n",
       "1  03.01.2013               0       25     2552      899.00           1.0   \n",
       "2  05.01.2013               0       25     2552      899.00          -1.0   \n",
       "3  06.01.2013               0       25     2554     1709.05           1.0   \n",
       "4  15.01.2013               0       25     2555     1099.00           1.0   \n",
       "5  10.01.2013               0       25     2564      349.00           1.0   \n",
       "6  02.01.2013               0       25     2565      549.00           1.0   \n",
       "7  04.01.2013               0       25     2572      239.00           1.0   \n",
       "8  11.01.2013               0       25     2572      299.00           1.0   \n",
       "9  03.01.2013               0       25     2573      299.00           3.0   \n",
       "\n",
       "                                           item_name  item_category_id  \\\n",
       "0                                  ЯВЛЕНИЕ 2012 (BD)                37   \n",
       "1           DEEP PURPLE  The House Of Blue Light  LP                58   \n",
       "2           DEEP PURPLE  The House Of Blue Light  LP                58   \n",
       "3           DEEP PURPLE  Who Do You Think We Are  LP                58   \n",
       "4            DEEP PURPLE 30 Very Best Of 2CD (Фирм.)                56   \n",
       "5  DEEP PURPLE Perihelion: Live In Concert DVD (К...                59   \n",
       "6                   DEEP PURPLE Stormbringer (фирм.)                56   \n",
       "7                             DEFTONES  Koi No Yokan                55   \n",
       "8                             DEFTONES  Koi No Yokan                55   \n",
       "9                          DEL REY LANA  Born To Die                55   \n",
       "\n",
       "                    item_category_name               shop_name  \n",
       "0                       Кино - Blu-Ray  Ярославль ТЦ \"Альтаир\"  \n",
       "1                       Музыка - Винил     Москва ТРК \"Атриум\"  \n",
       "2                       Музыка - Винил     Москва ТРК \"Атриум\"  \n",
       "3                       Музыка - Винил     Москва ТРК \"Атриум\"  \n",
       "4  Музыка - CD фирменного производства     Москва ТРК \"Атриум\"  \n",
       "5           Музыка - Музыкальное видео     Москва ТРК \"Атриум\"  \n",
       "6  Музыка - CD фирменного производства     Москва ТРК \"Атриум\"  \n",
       "7  Музыка - CD локального производства     Москва ТРК \"Атриум\"  \n",
       "8  Музыка - CD локального производства     Москва ТРК \"Атриум\"  \n",
       "9  Музыка - CD локального производства     Москва ТРК \"Атриум\"  "
      ]
     },
     "execution_count": 4,
     "metadata": {},
     "output_type": "execute_result"
    }
   ],
   "source": [
    "df.head(n=10)"
   ]
  },
  {
   "cell_type": "code",
   "execution_count": 5,
   "id": "a9769641-e2df-4ee7-93fe-c56ead7cf22e",
   "metadata": {},
   "outputs": [
    {
     "data": {
      "text/html": [
       "<div>\n",
       "<style scoped>\n",
       "    .dataframe tbody tr th:only-of-type {\n",
       "        vertical-align: middle;\n",
       "    }\n",
       "\n",
       "    .dataframe tbody tr th {\n",
       "        vertical-align: top;\n",
       "    }\n",
       "\n",
       "    .dataframe thead th {\n",
       "        text-align: right;\n",
       "    }\n",
       "</style>\n",
       "<table border=\"1\" class=\"dataframe\">\n",
       "  <thead>\n",
       "    <tr style=\"text-align: right;\">\n",
       "      <th></th>\n",
       "      <th>date</th>\n",
       "      <th>date_block_num</th>\n",
       "      <th>shop_id</th>\n",
       "      <th>item_id</th>\n",
       "      <th>item_price</th>\n",
       "      <th>item_cnt_day</th>\n",
       "      <th>item_name</th>\n",
       "      <th>item_category_id</th>\n",
       "      <th>item_category_name</th>\n",
       "      <th>shop_name</th>\n",
       "    </tr>\n",
       "  </thead>\n",
       "  <tbody>\n",
       "    <tr>\n",
       "      <th>2935844</th>\n",
       "      <td>10.10.2015</td>\n",
       "      <td>33</td>\n",
       "      <td>25</td>\n",
       "      <td>7409</td>\n",
       "      <td>299.0</td>\n",
       "      <td>1.0</td>\n",
       "      <td>V/A Nu Jazz Selection (digipack)</td>\n",
       "      <td>55</td>\n",
       "      <td>Музыка - CD локального производства</td>\n",
       "      <td>Москва ТРК \"Атриум\"</td>\n",
       "    </tr>\n",
       "    <tr>\n",
       "      <th>2935845</th>\n",
       "      <td>09.10.2015</td>\n",
       "      <td>33</td>\n",
       "      <td>25</td>\n",
       "      <td>7460</td>\n",
       "      <td>299.0</td>\n",
       "      <td>1.0</td>\n",
       "      <td>V/A The Golden Jazz Collection  1  2CD</td>\n",
       "      <td>55</td>\n",
       "      <td>Музыка - CD локального производства</td>\n",
       "      <td>Москва ТРК \"Атриум\"</td>\n",
       "    </tr>\n",
       "    <tr>\n",
       "      <th>2935846</th>\n",
       "      <td>14.10.2015</td>\n",
       "      <td>33</td>\n",
       "      <td>25</td>\n",
       "      <td>7459</td>\n",
       "      <td>349.0</td>\n",
       "      <td>1.0</td>\n",
       "      <td>V/A The Best Of The 3 Tenors</td>\n",
       "      <td>55</td>\n",
       "      <td>Музыка - CD локального производства</td>\n",
       "      <td>Москва ТРК \"Атриум\"</td>\n",
       "    </tr>\n",
       "    <tr>\n",
       "      <th>2935847</th>\n",
       "      <td>22.10.2015</td>\n",
       "      <td>33</td>\n",
       "      <td>25</td>\n",
       "      <td>7440</td>\n",
       "      <td>299.0</td>\n",
       "      <td>1.0</td>\n",
       "      <td>V/A Relax Collection  Planet MP3 (mp3-CD) (jewel)</td>\n",
       "      <td>57</td>\n",
       "      <td>Музыка - MP3</td>\n",
       "      <td>Москва ТРК \"Атриум\"</td>\n",
       "    </tr>\n",
       "    <tr>\n",
       "      <th>2935848</th>\n",
       "      <td>03.10.2015</td>\n",
       "      <td>33</td>\n",
       "      <td>25</td>\n",
       "      <td>7460</td>\n",
       "      <td>299.0</td>\n",
       "      <td>1.0</td>\n",
       "      <td>V/A The Golden Jazz Collection  1  2CD</td>\n",
       "      <td>55</td>\n",
       "      <td>Музыка - CD локального производства</td>\n",
       "      <td>Москва ТРК \"Атриум\"</td>\n",
       "    </tr>\n",
       "  </tbody>\n",
       "</table>\n",
       "</div>"
      ],
      "text/plain": [
       "               date  date_block_num  shop_id  item_id  item_price  \\\n",
       "2935844  10.10.2015              33       25     7409       299.0   \n",
       "2935845  09.10.2015              33       25     7460       299.0   \n",
       "2935846  14.10.2015              33       25     7459       349.0   \n",
       "2935847  22.10.2015              33       25     7440       299.0   \n",
       "2935848  03.10.2015              33       25     7460       299.0   \n",
       "\n",
       "         item_cnt_day                                          item_name  \\\n",
       "2935844           1.0                   V/A Nu Jazz Selection (digipack)   \n",
       "2935845           1.0             V/A The Golden Jazz Collection  1  2CD   \n",
       "2935846           1.0                       V/A The Best Of The 3 Tenors   \n",
       "2935847           1.0  V/A Relax Collection  Planet MP3 (mp3-CD) (jewel)   \n",
       "2935848           1.0             V/A The Golden Jazz Collection  1  2CD   \n",
       "\n",
       "         item_category_id                   item_category_name  \\\n",
       "2935844                55  Музыка - CD локального производства   \n",
       "2935845                55  Музыка - CD локального производства   \n",
       "2935846                55  Музыка - CD локального производства   \n",
       "2935847                57                         Музыка - MP3   \n",
       "2935848                55  Музыка - CD локального производства   \n",
       "\n",
       "                   shop_name  \n",
       "2935844  Москва ТРК \"Атриум\"  \n",
       "2935845  Москва ТРК \"Атриум\"  \n",
       "2935846  Москва ТРК \"Атриум\"  \n",
       "2935847  Москва ТРК \"Атриум\"  \n",
       "2935848  Москва ТРК \"Атриум\"  "
      ]
     },
     "execution_count": 5,
     "metadata": {},
     "output_type": "execute_result"
    }
   ],
   "source": [
    "df.tail()"
   ]
  },
  {
   "cell_type": "code",
   "execution_count": 6,
   "id": "d50fe371-f24b-4720-9b94-268c0a66f70a",
   "metadata": {},
   "outputs": [
    {
     "name": "stdout",
     "output_type": "stream",
     "text": [
      "<class 'pandas.core.frame.DataFrame'>\n",
      "Int64Index: 2935849 entries, 0 to 2935848\n",
      "Data columns (total 10 columns):\n",
      " #   Column              Dtype  \n",
      "---  ------              -----  \n",
      " 0   date                object \n",
      " 1   date_block_num      int64  \n",
      " 2   shop_id             int64  \n",
      " 3   item_id             int64  \n",
      " 4   item_price          float64\n",
      " 5   item_cnt_day        float64\n",
      " 6   item_name           object \n",
      " 7   item_category_id    int64  \n",
      " 8   item_category_name  object \n",
      " 9   shop_name           object \n",
      "dtypes: float64(2), int64(4), object(4)\n",
      "memory usage: 246.4+ MB\n"
     ]
    }
   ],
   "source": [
    "df.info()"
   ]
  },
  {
   "cell_type": "code",
   "execution_count": 7,
   "id": "14760dca-fca9-460d-b7c1-1291d1473c79",
   "metadata": {},
   "outputs": [
    {
     "data": {
      "text/html": [
       "<div>\n",
       "<style scoped>\n",
       "    .dataframe tbody tr th:only-of-type {\n",
       "        vertical-align: middle;\n",
       "    }\n",
       "\n",
       "    .dataframe tbody tr th {\n",
       "        vertical-align: top;\n",
       "    }\n",
       "\n",
       "    .dataframe thead th {\n",
       "        text-align: right;\n",
       "    }\n",
       "</style>\n",
       "<table border=\"1\" class=\"dataframe\">\n",
       "  <thead>\n",
       "    <tr style=\"text-align: right;\">\n",
       "      <th></th>\n",
       "      <th>date_block_num</th>\n",
       "      <th>shop_id</th>\n",
       "      <th>item_id</th>\n",
       "      <th>item_price</th>\n",
       "      <th>item_cnt_day</th>\n",
       "      <th>item_category_id</th>\n",
       "    </tr>\n",
       "  </thead>\n",
       "  <tbody>\n",
       "    <tr>\n",
       "      <th>count</th>\n",
       "      <td>2.935849e+06</td>\n",
       "      <td>2.935849e+06</td>\n",
       "      <td>2.935849e+06</td>\n",
       "      <td>2.935849e+06</td>\n",
       "      <td>2.935849e+06</td>\n",
       "      <td>2.935849e+06</td>\n",
       "    </tr>\n",
       "    <tr>\n",
       "      <th>mean</th>\n",
       "      <td>1.456991e+01</td>\n",
       "      <td>3.300173e+01</td>\n",
       "      <td>1.019723e+04</td>\n",
       "      <td>8.908532e+02</td>\n",
       "      <td>1.242641e+00</td>\n",
       "      <td>4.000138e+01</td>\n",
       "    </tr>\n",
       "    <tr>\n",
       "      <th>std</th>\n",
       "      <td>9.422988e+00</td>\n",
       "      <td>1.622697e+01</td>\n",
       "      <td>6.324297e+03</td>\n",
       "      <td>1.729800e+03</td>\n",
       "      <td>2.618834e+00</td>\n",
       "      <td>1.710076e+01</td>\n",
       "    </tr>\n",
       "    <tr>\n",
       "      <th>min</th>\n",
       "      <td>0.000000e+00</td>\n",
       "      <td>0.000000e+00</td>\n",
       "      <td>0.000000e+00</td>\n",
       "      <td>-1.000000e+00</td>\n",
       "      <td>-2.200000e+01</td>\n",
       "      <td>0.000000e+00</td>\n",
       "    </tr>\n",
       "    <tr>\n",
       "      <th>25%</th>\n",
       "      <td>7.000000e+00</td>\n",
       "      <td>2.200000e+01</td>\n",
       "      <td>4.476000e+03</td>\n",
       "      <td>2.490000e+02</td>\n",
       "      <td>1.000000e+00</td>\n",
       "      <td>2.800000e+01</td>\n",
       "    </tr>\n",
       "    <tr>\n",
       "      <th>50%</th>\n",
       "      <td>1.400000e+01</td>\n",
       "      <td>3.100000e+01</td>\n",
       "      <td>9.343000e+03</td>\n",
       "      <td>3.990000e+02</td>\n",
       "      <td>1.000000e+00</td>\n",
       "      <td>4.000000e+01</td>\n",
       "    </tr>\n",
       "    <tr>\n",
       "      <th>75%</th>\n",
       "      <td>2.300000e+01</td>\n",
       "      <td>4.700000e+01</td>\n",
       "      <td>1.568400e+04</td>\n",
       "      <td>9.990000e+02</td>\n",
       "      <td>1.000000e+00</td>\n",
       "      <td>5.500000e+01</td>\n",
       "    </tr>\n",
       "    <tr>\n",
       "      <th>max</th>\n",
       "      <td>3.300000e+01</td>\n",
       "      <td>5.900000e+01</td>\n",
       "      <td>2.216900e+04</td>\n",
       "      <td>3.079800e+05</td>\n",
       "      <td>2.169000e+03</td>\n",
       "      <td>8.300000e+01</td>\n",
       "    </tr>\n",
       "  </tbody>\n",
       "</table>\n",
       "</div>"
      ],
      "text/plain": [
       "       date_block_num       shop_id       item_id    item_price  item_cnt_day  \\\n",
       "count    2.935849e+06  2.935849e+06  2.935849e+06  2.935849e+06  2.935849e+06   \n",
       "mean     1.456991e+01  3.300173e+01  1.019723e+04  8.908532e+02  1.242641e+00   \n",
       "std      9.422988e+00  1.622697e+01  6.324297e+03  1.729800e+03  2.618834e+00   \n",
       "min      0.000000e+00  0.000000e+00  0.000000e+00 -1.000000e+00 -2.200000e+01   \n",
       "25%      7.000000e+00  2.200000e+01  4.476000e+03  2.490000e+02  1.000000e+00   \n",
       "50%      1.400000e+01  3.100000e+01  9.343000e+03  3.990000e+02  1.000000e+00   \n",
       "75%      2.300000e+01  4.700000e+01  1.568400e+04  9.990000e+02  1.000000e+00   \n",
       "max      3.300000e+01  5.900000e+01  2.216900e+04  3.079800e+05  2.169000e+03   \n",
       "\n",
       "       item_category_id  \n",
       "count      2.935849e+06  \n",
       "mean       4.000138e+01  \n",
       "std        1.710076e+01  \n",
       "min        0.000000e+00  \n",
       "25%        2.800000e+01  \n",
       "50%        4.000000e+01  \n",
       "75%        5.500000e+01  \n",
       "max        8.300000e+01  "
      ]
     },
     "execution_count": 7,
     "metadata": {},
     "output_type": "execute_result"
    }
   ],
   "source": [
    "df.describe()"
   ]
  },
  {
   "cell_type": "markdown",
   "id": "6a2c4b53-2c05-4cc5-8a3f-e7c9f6db5224",
   "metadata": {},
   "source": [
    "# Clean"
   ]
  },
  {
   "cell_type": "markdown",
   "id": "cdf65b39-b536-49ea-aed6-1f5b3eb9fef5",
   "metadata": {},
   "source": [
    "### Look for NaN Values"
   ]
  },
  {
   "cell_type": "code",
   "execution_count": 8,
   "id": "12176874-8430-41d0-9700-8e43ba2a3037",
   "metadata": {},
   "outputs": [
    {
     "data": {
      "text/plain": [
       "date                  0\n",
       "date_block_num        0\n",
       "shop_id               0\n",
       "item_id               0\n",
       "item_price            0\n",
       "item_cnt_day          0\n",
       "item_name             0\n",
       "item_category_id      0\n",
       "item_category_name    0\n",
       "shop_name             0\n",
       "dtype: int64"
      ]
     },
     "execution_count": 8,
     "metadata": {},
     "output_type": "execute_result"
    }
   ],
   "source": [
    "df.isna().sum()"
   ]
  },
  {
   "cell_type": "markdown",
   "id": "fb11ee8f-abca-4076-b115-67a8470eff03",
   "metadata": {},
   "source": [
    "### Casting"
   ]
  },
  {
   "cell_type": "code",
   "execution_count": 9,
   "id": "d2d87aaa-3bc8-4e85-9b8d-989f067eb64d",
   "metadata": {},
   "outputs": [
    {
     "name": "stdout",
     "output_type": "stream",
     "text": [
      "<class 'pandas.core.frame.DataFrame'>\n",
      "Int64Index: 2935849 entries, 0 to 2935848\n",
      "Data columns (total 10 columns):\n",
      " #   Column              Dtype  \n",
      "---  ------              -----  \n",
      " 0   date                object \n",
      " 1   date_block_num      int64  \n",
      " 2   shop_id             int64  \n",
      " 3   item_id             int64  \n",
      " 4   item_price          float64\n",
      " 5   item_cnt_day        float64\n",
      " 6   item_name           object \n",
      " 7   item_category_id    int64  \n",
      " 8   item_category_name  object \n",
      " 9   shop_name           object \n",
      "dtypes: float64(2), int64(4), object(4)\n",
      "memory usage: 246.4+ MB\n"
     ]
    }
   ],
   "source": [
    "df.info()"
   ]
  },
  {
   "cell_type": "code",
   "execution_count": 10,
   "id": "99c2e746-0ef8-4bd7-a15b-ff72eb3f909a",
   "metadata": {},
   "outputs": [
    {
     "data": {
      "text/html": [
       "<div>\n",
       "<style scoped>\n",
       "    .dataframe tbody tr th:only-of-type {\n",
       "        vertical-align: middle;\n",
       "    }\n",
       "\n",
       "    .dataframe tbody tr th {\n",
       "        vertical-align: top;\n",
       "    }\n",
       "\n",
       "    .dataframe thead th {\n",
       "        text-align: right;\n",
       "    }\n",
       "</style>\n",
       "<table border=\"1\" class=\"dataframe\">\n",
       "  <thead>\n",
       "    <tr style=\"text-align: right;\">\n",
       "      <th></th>\n",
       "      <th>date</th>\n",
       "      <th>date_block_num</th>\n",
       "      <th>shop_id</th>\n",
       "      <th>item_id</th>\n",
       "      <th>item_price</th>\n",
       "      <th>item_cnt_day</th>\n",
       "      <th>item_name</th>\n",
       "      <th>item_category_id</th>\n",
       "      <th>item_category_name</th>\n",
       "      <th>shop_name</th>\n",
       "    </tr>\n",
       "  </thead>\n",
       "  <tbody>\n",
       "    <tr>\n",
       "      <th>0</th>\n",
       "      <td>02.01.2013</td>\n",
       "      <td>0</td>\n",
       "      <td>59</td>\n",
       "      <td>22154</td>\n",
       "      <td>999.0</td>\n",
       "      <td>1.0</td>\n",
       "      <td>ЯВЛЕНИЕ 2012 (BD)</td>\n",
       "      <td>37</td>\n",
       "      <td>Кино - Blu-Ray</td>\n",
       "      <td>Ярославль ТЦ \"Альтаир\"</td>\n",
       "    </tr>\n",
       "  </tbody>\n",
       "</table>\n",
       "</div>"
      ],
      "text/plain": [
       "         date  date_block_num  shop_id  item_id  item_price  item_cnt_day  \\\n",
       "0  02.01.2013               0       59    22154       999.0           1.0   \n",
       "\n",
       "           item_name  item_category_id item_category_name  \\\n",
       "0  ЯВЛЕНИЕ 2012 (BD)                37     Кино - Blu-Ray   \n",
       "\n",
       "                shop_name  \n",
       "0  Ярославль ТЦ \"Альтаир\"  "
      ]
     },
     "execution_count": 10,
     "metadata": {},
     "output_type": "execute_result"
    }
   ],
   "source": [
    "df.head(n=1)"
   ]
  },
  {
   "cell_type": "code",
   "execution_count": 11,
   "id": "28dea66a-5c5c-464f-bee7-84bd3473e68a",
   "metadata": {},
   "outputs": [],
   "source": [
    "def _cast_values(df: pd.DataFrame) -> pd.DataFrame:\n",
    "    df[\"date\"] = pd.to_datetime(df[\"date\"], format=\"%d.%m.%Y\")\n",
    "    df[\"date_block_num\"] = df[\"date_block_num\"].astype(\"int8\")\n",
    "    df[\"shop_id\"] = df[\"shop_id\"].astype(\"int8\")\n",
    "    df[\"item_id\"] = df[\"item_id\"].astype(\"int16\")\n",
    "    df[\"item_price\"] = df[\"item_price\"].astype(\"float64\")\n",
    "    df[\"item_cnt_day\"] = df[\"item_cnt_day\"].astype(\"float32\")\n",
    "    df[\"item_category_id\"] = df[\"date_block_num\"].astype(\"int8\")\n",
    "    \n",
    "    return df"
   ]
  },
  {
   "cell_type": "code",
   "execution_count": 12,
   "id": "edc96611-5557-4351-ac10-1ae86dc22ed5",
   "metadata": {},
   "outputs": [],
   "source": [
    "df = _cast_values(df)"
   ]
  },
  {
   "cell_type": "code",
   "execution_count": 13,
   "id": "550734d2-5833-4a3b-ae7b-0427ce3f6ce5",
   "metadata": {},
   "outputs": [
    {
     "name": "stdout",
     "output_type": "stream",
     "text": [
      "<class 'pandas.core.frame.DataFrame'>\n",
      "Int64Index: 2935849 entries, 0 to 2935848\n",
      "Data columns (total 10 columns):\n",
      " #   Column              Dtype         \n",
      "---  ------              -----         \n",
      " 0   date                datetime64[ns]\n",
      " 1   date_block_num      int8          \n",
      " 2   shop_id             int8          \n",
      " 3   item_id             int16         \n",
      " 4   item_price          float64       \n",
      " 5   item_cnt_day        float32       \n",
      " 6   item_name           object        \n",
      " 7   item_category_id    int8          \n",
      " 8   item_category_name  object        \n",
      " 9   shop_name           object        \n",
      "dtypes: datetime64[ns](1), float32(1), float64(1), int16(1), int8(3), object(3)\n",
      "memory usage: 159.6+ MB\n"
     ]
    }
   ],
   "source": [
    "df.info()"
   ]
  },
  {
   "cell_type": "markdown",
   "id": "ca096afd-1458-4b35-9baf-d91eda986643",
   "metadata": {},
   "source": [
    "### Remove Outliers"
   ]
  },
  {
   "cell_type": "code",
   "execution_count": 14,
   "id": "66746cd9-a029-4095-93d0-2a123c69fee8",
   "metadata": {},
   "outputs": [
    {
     "data": {
      "text/plain": [
       "<AxesSubplot:>"
      ]
     },
     "execution_count": 14,
     "metadata": {},
     "output_type": "execute_result"
    },
    {
     "data": {
      "image/png": "[encoded data removed]",
      "text/plain": [
       "<Figure size 432x288 with 1 Axes>"
      ]
     },
     "metadata": {
      "needs_background": "light"
     },
     "output_type": "display_data"
    }
   ],
   "source": [
    "df[[\"item_price\"]].boxplot()"
   ]
  },
  {
   "cell_type": "code",
   "execution_count": 15,
   "id": "0708213b-72c8-4734-950e-370d854bb26f",
   "metadata": {},
   "outputs": [
    {
     "data": {
      "text/plain": [
       "<AxesSubplot:>"
      ]
     },
     "execution_count": 15,
     "metadata": {},
     "output_type": "execute_result"
    },
    {
     "data": {
      "image/png": "[encoded data removed]",
      "text/plain": [
       "<Figure size 432x288 with 1 Axes>"
      ]
     },
     "metadata": {
      "needs_background": "light"
     },
     "output_type": "display_data"
    }
   ],
   "source": [
    "df[[\"item_cnt_day\"]].boxplot()"
   ]
  },
  {
   "cell_type": "code",
   "execution_count": 16,
   "id": "6b4169bd-3877-435e-a48c-c3a940f4fa1e",
   "metadata": {},
   "outputs": [],
   "source": [
    "def remove_outliers(df: pd.DataFrame) -> pd.DataFrame:\n",
    "    df = df[(df[\"item_price\"] < 25000) & (df[\"item_price\"] > 0)]\n",
    "    df = df[(df[\"item_cnt_day\"] < 500) & (df[\"item_cnt_day\"] > 0)]\n",
    "    \n",
    "    return df"
   ]
  },
  {
   "cell_type": "code",
   "execution_count": 17,
   "id": "6ae5634d-4e79-42d3-820a-732a433417d2",
   "metadata": {},
   "outputs": [],
   "source": [
    "df = remove_outliers(df)"
   ]
  },
  {
   "cell_type": "code",
   "execution_count": 18,
   "id": "60ff4e23-8a4e-45ce-a46e-c459244ae593",
   "metadata": {},
   "outputs": [
    {
     "data": {
      "text/plain": [
       "<AxesSubplot:>"
      ]
     },
     "execution_count": 18,
     "metadata": {},
     "output_type": "execute_result"
    },
    {
     "data": {
      "image/png": "[encoded data removed]",
      "text/plain": [
       "<Figure size 432x288 with 1 Axes>"
      ]
     },
     "metadata": {
      "needs_background": "light"
     },
     "output_type": "display_data"
    }
   ],
   "source": [
    "df[[\"item_price\"]].boxplot()"
   ]
  },
  {
   "cell_type": "code",
   "execution_count": 19,
   "id": "8d397c93-7c6b-48ec-a760-0ce0c97287b3",
   "metadata": {},
   "outputs": [
    {
     "data": {
      "text/plain": [
       "<AxesSubplot:>"
      ]
     },
     "execution_count": 19,
     "metadata": {},
     "output_type": "execute_result"
    },
    {
     "data": {
      "image/png": "[encoded data removed]",
      "text/plain": [
       "<Figure size 432x288 with 1 Axes>"
      ]
     },
     "metadata": {
      "needs_background": "light"
     },
     "output_type": "display_data"
    }
   ],
   "source": [
    "df[[\"item_cnt_day\"]].boxplot()"
   ]
  },
  {
   "cell_type": "markdown",
   "id": "608627c9-dc32-441c-98d6-5e8f7d945e25",
   "metadata": {},
   "source": [
    "# Aggregate Data at the Month Level"
   ]
  },
  {
   "cell_type": "code",
   "execution_count": 20,
   "id": "d99d4c69-b5e2-4366-8ffc-a852245c2612",
   "metadata": {},
   "outputs": [
    {
     "data": {
      "text/html": [
       "<div>\n",
       "<style scoped>\n",
       "    .dataframe tbody tr th:only-of-type {\n",
       "        vertical-align: middle;\n",
       "    }\n",
       "\n",
       "    .dataframe tbody tr th {\n",
       "        vertical-align: top;\n",
       "    }\n",
       "\n",
       "    .dataframe thead th {\n",
       "        text-align: right;\n",
       "    }\n",
       "</style>\n",
       "<table border=\"1\" class=\"dataframe\">\n",
       "  <thead>\n",
       "    <tr style=\"text-align: right;\">\n",
       "      <th></th>\n",
       "      <th>date</th>\n",
       "      <th>date_block_num</th>\n",
       "      <th>shop_id</th>\n",
       "      <th>item_id</th>\n",
       "      <th>item_price</th>\n",
       "      <th>item_cnt_day</th>\n",
       "      <th>item_name</th>\n",
       "      <th>item_category_id</th>\n",
       "      <th>item_category_name</th>\n",
       "      <th>shop_name</th>\n",
       "    </tr>\n",
       "  </thead>\n",
       "  <tbody>\n",
       "    <tr>\n",
       "      <th>0</th>\n",
       "      <td>2013-01-02</td>\n",
       "      <td>0</td>\n",
       "      <td>59</td>\n",
       "      <td>22154</td>\n",
       "      <td>999.00</td>\n",
       "      <td>1.0</td>\n",
       "      <td>ЯВЛЕНИЕ 2012 (BD)</td>\n",
       "      <td>0</td>\n",
       "      <td>Кино - Blu-Ray</td>\n",
       "      <td>Ярославль ТЦ \"Альтаир\"</td>\n",
       "    </tr>\n",
       "    <tr>\n",
       "      <th>1</th>\n",
       "      <td>2013-01-03</td>\n",
       "      <td>0</td>\n",
       "      <td>25</td>\n",
       "      <td>2552</td>\n",
       "      <td>899.00</td>\n",
       "      <td>1.0</td>\n",
       "      <td>DEEP PURPLE  The House Of Blue Light  LP</td>\n",
       "      <td>0</td>\n",
       "      <td>Музыка - Винил</td>\n",
       "      <td>Москва ТРК \"Атриум\"</td>\n",
       "    </tr>\n",
       "    <tr>\n",
       "      <th>3</th>\n",
       "      <td>2013-01-06</td>\n",
       "      <td>0</td>\n",
       "      <td>25</td>\n",
       "      <td>2554</td>\n",
       "      <td>1709.05</td>\n",
       "      <td>1.0</td>\n",
       "      <td>DEEP PURPLE  Who Do You Think We Are  LP</td>\n",
       "      <td>0</td>\n",
       "      <td>Музыка - Винил</td>\n",
       "      <td>Москва ТРК \"Атриум\"</td>\n",
       "    </tr>\n",
       "    <tr>\n",
       "      <th>4</th>\n",
       "      <td>2013-01-15</td>\n",
       "      <td>0</td>\n",
       "      <td>25</td>\n",
       "      <td>2555</td>\n",
       "      <td>1099.00</td>\n",
       "      <td>1.0</td>\n",
       "      <td>DEEP PURPLE 30 Very Best Of 2CD (Фирм.)</td>\n",
       "      <td>0</td>\n",
       "      <td>Музыка - CD фирменного производства</td>\n",
       "      <td>Москва ТРК \"Атриум\"</td>\n",
       "    </tr>\n",
       "    <tr>\n",
       "      <th>5</th>\n",
       "      <td>2013-01-10</td>\n",
       "      <td>0</td>\n",
       "      <td>25</td>\n",
       "      <td>2564</td>\n",
       "      <td>349.00</td>\n",
       "      <td>1.0</td>\n",
       "      <td>DEEP PURPLE Perihelion: Live In Concert DVD (К...</td>\n",
       "      <td>0</td>\n",
       "      <td>Музыка - Музыкальное видео</td>\n",
       "      <td>Москва ТРК \"Атриум\"</td>\n",
       "    </tr>\n",
       "  </tbody>\n",
       "</table>\n",
       "</div>"
      ],
      "text/plain": [
       "        date  date_block_num  shop_id  item_id  item_price  item_cnt_day  \\\n",
       "0 2013-01-02               0       59    22154      999.00           1.0   \n",
       "1 2013-01-03               0       25     2552      899.00           1.0   \n",
       "3 2013-01-06               0       25     2554     1709.05           1.0   \n",
       "4 2013-01-15               0       25     2555     1099.00           1.0   \n",
       "5 2013-01-10               0       25     2564      349.00           1.0   \n",
       "\n",
       "                                           item_name  item_category_id  \\\n",
       "0                                  ЯВЛЕНИЕ 2012 (BD)                 0   \n",
       "1           DEEP PURPLE  The House Of Blue Light  LP                 0   \n",
       "3           DEEP PURPLE  Who Do You Think We Are  LP                 0   \n",
       "4            DEEP PURPLE 30 Very Best Of 2CD (Фирм.)                 0   \n",
       "5  DEEP PURPLE Perihelion: Live In Concert DVD (К...                 0   \n",
       "\n",
       "                    item_category_name               shop_name  \n",
       "0                       Кино - Blu-Ray  Ярославль ТЦ \"Альтаир\"  \n",
       "1                       Музыка - Винил     Москва ТРК \"Атриум\"  \n",
       "3                       Музыка - Винил     Москва ТРК \"Атриум\"  \n",
       "4  Музыка - CD фирменного производства     Москва ТРК \"Атриум\"  \n",
       "5           Музыка - Музыкальное видео     Москва ТРК \"Атриум\"  "
      ]
     },
     "execution_count": 20,
     "metadata": {},
     "output_type": "execute_result"
    }
   ],
   "source": [
    "df.head()"
   ]
  },
  {
   "cell_type": "code",
   "execution_count": 21,
   "id": "bd0861bb-6acf-4ba3-8475-660190896f85",
   "metadata": {},
   "outputs": [],
   "source": [
    "month_df = df.groupby(by=[\"date_block_num\", \"shop_id\", \"item_id\"], as_index=False).agg(\n",
    "    item_price=(\"item_price\", \"mean\"),\n",
    "    item_cnt_month=(\"item_cnt_day\", \"sum\"),\n",
    "    item_name=(\"item_name\", \"first\"),\n",
    "    item_category_id=(\"item_category_id\", \"first\"),\n",
    "    item_category_name=(\"item_category_name\", \"first\"),\n",
    "    shop_name=(\"shop_name\", \"first\")\n",
    ")"
   ]
  },
  {
   "cell_type": "code",
   "execution_count": 22,
   "id": "9012e108-1d0e-484f-830b-c7333ea6c7d4",
   "metadata": {},
   "outputs": [
    {
     "data": {
      "text/html": [
       "<div>\n",
       "<style scoped>\n",
       "    .dataframe tbody tr th:only-of-type {\n",
       "        vertical-align: middle;\n",
       "    }\n",
       "\n",
       "    .dataframe tbody tr th {\n",
       "        vertical-align: top;\n",
       "    }\n",
       "\n",
       "    .dataframe thead th {\n",
       "        text-align: right;\n",
       "    }\n",
       "</style>\n",
       "<table border=\"1\" class=\"dataframe\">\n",
       "  <thead>\n",
       "    <tr style=\"text-align: right;\">\n",
       "      <th></th>\n",
       "      <th>date_block_num</th>\n",
       "      <th>shop_id</th>\n",
       "      <th>item_id</th>\n",
       "      <th>item_price</th>\n",
       "      <th>item_cnt_month</th>\n",
       "      <th>item_name</th>\n",
       "      <th>item_category_id</th>\n",
       "      <th>item_category_name</th>\n",
       "      <th>shop_name</th>\n",
       "    </tr>\n",
       "  </thead>\n",
       "  <tbody>\n",
       "    <tr>\n",
       "      <th>0</th>\n",
       "      <td>0</td>\n",
       "      <td>0</td>\n",
       "      <td>32</td>\n",
       "      <td>221.0</td>\n",
       "      <td>6.0</td>\n",
       "      <td>1+1</td>\n",
       "      <td>0</td>\n",
       "      <td>Кино - DVD</td>\n",
       "      <td>!Якутск Орджоникидзе, 56 фран</td>\n",
       "    </tr>\n",
       "    <tr>\n",
       "      <th>1</th>\n",
       "      <td>0</td>\n",
       "      <td>0</td>\n",
       "      <td>33</td>\n",
       "      <td>347.0</td>\n",
       "      <td>3.0</td>\n",
       "      <td>1+1 (BD)</td>\n",
       "      <td>0</td>\n",
       "      <td>Кино - Blu-Ray</td>\n",
       "      <td>!Якутск Орджоникидзе, 56 фран</td>\n",
       "    </tr>\n",
       "    <tr>\n",
       "      <th>2</th>\n",
       "      <td>0</td>\n",
       "      <td>0</td>\n",
       "      <td>35</td>\n",
       "      <td>247.0</td>\n",
       "      <td>1.0</td>\n",
       "      <td>10 ЛЕТ СПУСТЯ</td>\n",
       "      <td>0</td>\n",
       "      <td>Кино - DVD</td>\n",
       "      <td>!Якутск Орджоникидзе, 56 фран</td>\n",
       "    </tr>\n",
       "    <tr>\n",
       "      <th>3</th>\n",
       "      <td>0</td>\n",
       "      <td>0</td>\n",
       "      <td>43</td>\n",
       "      <td>221.0</td>\n",
       "      <td>1.0</td>\n",
       "      <td>100 МИЛЛИОНОВ ЕВРО</td>\n",
       "      <td>0</td>\n",
       "      <td>Кино - DVD</td>\n",
       "      <td>!Якутск Орджоникидзе, 56 фран</td>\n",
       "    </tr>\n",
       "    <tr>\n",
       "      <th>4</th>\n",
       "      <td>0</td>\n",
       "      <td>0</td>\n",
       "      <td>51</td>\n",
       "      <td>128.5</td>\n",
       "      <td>2.0</td>\n",
       "      <td>100 лучших произведений классики (mp3-CD) (Dig...</td>\n",
       "      <td>0</td>\n",
       "      <td>Музыка - MP3</td>\n",
       "      <td>!Якутск Орджоникидзе, 56 фран</td>\n",
       "    </tr>\n",
       "  </tbody>\n",
       "</table>\n",
       "</div>"
      ],
      "text/plain": [
       "   date_block_num  shop_id  item_id  item_price  item_cnt_month  \\\n",
       "0               0        0       32       221.0             6.0   \n",
       "1               0        0       33       347.0             3.0   \n",
       "2               0        0       35       247.0             1.0   \n",
       "3               0        0       43       221.0             1.0   \n",
       "4               0        0       51       128.5             2.0   \n",
       "\n",
       "                                           item_name  item_category_id  \\\n",
       "0                                                1+1                 0   \n",
       "1                                           1+1 (BD)                 0   \n",
       "2                                      10 ЛЕТ СПУСТЯ                 0   \n",
       "3                                 100 МИЛЛИОНОВ ЕВРО                 0   \n",
       "4  100 лучших произведений классики (mp3-CD) (Dig...                 0   \n",
       "\n",
       "  item_category_name                      shop_name  \n",
       "0         Кино - DVD  !Якутск Орджоникидзе, 56 фран  \n",
       "1     Кино - Blu-Ray  !Якутск Орджоникидзе, 56 фран  \n",
       "2         Кино - DVD  !Якутск Орджоникидзе, 56 фран  \n",
       "3         Кино - DVD  !Якутск Орджоникидзе, 56 фран  \n",
       "4       Музыка - MP3  !Якутск Орджоникидзе, 56 фран  "
      ]
     },
     "execution_count": 22,
     "metadata": {},
     "output_type": "execute_result"
    }
   ],
   "source": [
    "month_df.head()"
   ]
  },
  {
   "cell_type": "markdown",
   "id": "510293be-bdcf-498f-a537-5befa4549ba4",
   "metadata": {},
   "source": [
    "# Fill Missing Data"
   ]
  },
  {
   "cell_type": "code",
   "execution_count": null,
   "id": "1e487207-0469-4e70-ae98-74d08abd172a",
   "metadata": {},
   "outputs": [],
   "source": []
  },
  {
   "cell_type": "markdown",
   "id": "7d5b5be8-351f-45a0-ab52-612206681ce6",
   "metadata": {},
   "source": [
    "# Visualize"
   ]
  },
  {
   "cell_type": "markdown",
   "id": "83c61ead-0ac5-4357-bda9-23eab8839ba4",
   "metadata": {},
   "source": [
    "### Shop"
   ]
  },
  {
   "cell_type": "code",
   "execution_count": 23,
   "id": "c3151e7e-9080-4e0d-baba-379da1cca1ec",
   "metadata": {},
   "outputs": [],
   "source": [
    "shop_df = month_df.query(\"shop_id == 5\")"
   ]
  },
  {
   "cell_type": "code",
   "execution_count": 24,
   "id": "e08580c6-dea0-4247-8396-bc574e724f4b",
   "metadata": {},
   "outputs": [
    {
     "data": {
      "text/plain": [
       "<AxesSubplot:xlabel='date_block_num', ylabel='item_cnt_month'>"
      ]
     },
     "execution_count": 24,
     "metadata": {},
     "output_type": "execute_result"
    },
    {
     "data": {
      "image/png": "[encoded data removed]",
      "text/plain": [
       "<Figure size 432x288 with 1 Axes>"
      ]
     },
     "metadata": {
      "needs_background": "light"
     },
     "output_type": "display_data"
    }
   ],
   "source": [
    "sns.lineplot(data=shop_df, x=\"date_block_num\", y='item_cnt_month', hue='item_id')"
   ]
  },
  {
   "cell_type": "code",
   "execution_count": 25,
   "id": "95d8a28c-5af0-4895-a0fd-c056ac9bc44c",
   "metadata": {},
   "outputs": [],
   "source": [
    "shop_item_df = month_df.query(\"shop_id == 5 and item_id == 1000\")"
   ]
  },
  {
   "cell_type": "code",
   "execution_count": 26,
   "id": "537aba94-f59e-4532-9cef-34dcaeb12d7f",
   "metadata": {},
   "outputs": [
    {
     "data": {
      "text/plain": [
       "<AxesSubplot:xlabel='date_block_num', ylabel='item_cnt_month'>"
      ]
     },
     "execution_count": 26,
     "metadata": {},
     "output_type": "execute_result"
    },
    {
     "data": {
      "image/png": "[encoded data removed]",
      "text/plain": [
       "<Figure size 432x288 with 1 Axes>"
      ]
     },
     "metadata": {
      "needs_background": "light"
     },
     "output_type": "display_data"
    }
   ],
   "source": [
    "sns.lineplot(data=shop_item_df, x=\"date_block_num\", y=\"item_cnt_month\")"
   ]
  },
  {
   "cell_type": "markdown",
   "id": "eb1c6a6b-6b9b-4507-a829-ee57c4ece644",
   "metadata": {},
   "source": [
    "# Autocorrelation / Month Level"
   ]
  },
  {
   "cell_type": "markdown",
   "id": "0b7fddf7-7854-4227-aacf-4b3a91d0b807",
   "metadata": {},
   "source": [
    "### ACF"
   ]
  },
  {
   "cell_type": "code",
   "execution_count": 27,
   "id": "bae4cf90-1c34-4437-aeda-15814e0a8c36",
   "metadata": {},
   "outputs": [
    {
     "data": {
      "image/png": "[encoded data removed]",
      "text/plain": [
       "<Figure size 432x288 with 1 Axes>"
      ]
     },
     "execution_count": 27,
     "metadata": {},
     "output_type": "execute_result"
    },
    {
     "data": {
      "image/png": "[encoded data removed]",
      "text/plain": [
       "<Figure size 432x288 with 1 Axes>"
      ]
     },
     "metadata": {
      "needs_background": "light"
     },
     "output_type": "display_data"
    }
   ],
   "source": [
    "plot_acf(shop_item_df[\"item_cnt_month\"])"
   ]
  },
  {
   "cell_type": "markdown",
   "id": "908f4c45-a0cd-46f8-8bda-e87c8fcd364f",
   "metadata": {},
   "source": [
    "### PACF"
   ]
  },
  {
   "cell_type": "code",
   "execution_count": 28,
   "id": "7db49de6-d606-4422-819b-4d152a02578d",
   "metadata": {},
   "outputs": [
    {
     "name": "stderr",
     "output_type": "stream",
     "text": [
      "/home/iusztin/anaconda3/envs/aclabs/lib/python3.8/site-packages/statsmodels/graphics/tsaplots.py:348: FutureWarning: The default method 'yw' can produce PACF values outside of the [-1,1] interval. After 0.13, the default will change tounadjusted Yule-Walker ('ywm'). You can use this method now by setting method='ywm'.\n",
      "  warnings.warn(\n"
     ]
    },
    {
     "data": {
      "image/png": "[encoded data removed]",
      "text/plain": [
       "<Figure size 432x288 with 1 Axes>"
      ]
     },
     "execution_count": 28,
     "metadata": {},
     "output_type": "execute_result"
    },
    {
     "data": {
      "image/png": "[encoded data removed]",
      "text/plain": [
       "<Figure size 432x288 with 1 Axes>"
      ]
     },
     "metadata": {
      "needs_background": "light"
     },
     "output_type": "display_data"
    }
   ],
   "source": [
    "plot_pacf(shop_item_df[\"item_cnt_month\"], lags=3)"
   ]
  },
  {
   "cell_type": "markdown",
   "id": "de2ef42d-d4de-45ac-84a6-53aab60fcef3",
   "metadata": {},
   "source": [
    "# Autocorrelation / Day Level"
   ]
  },
  {
   "cell_type": "code",
   "execution_count": 29,
   "id": "775bc83f-d6fb-4ba9-9663-be91177dccc0",
   "metadata": {},
   "outputs": [],
   "source": [
    "shop_item_df = df.query(\"shop_id == 5 and item_id == 1000\")"
   ]
  },
  {
   "cell_type": "code",
   "execution_count": 30,
   "id": "6ecb90d2-7bda-4eb1-8a0f-89e62732683e",
   "metadata": {},
   "outputs": [
    {
     "data": {
      "text/html": [
       "<div>\n",
       "<style scoped>\n",
       "    .dataframe tbody tr th:only-of-type {\n",
       "        vertical-align: middle;\n",
       "    }\n",
       "\n",
       "    .dataframe tbody tr th {\n",
       "        vertical-align: top;\n",
       "    }\n",
       "\n",
       "    .dataframe thead th {\n",
       "        text-align: right;\n",
       "    }\n",
       "</style>\n",
       "<table border=\"1\" class=\"dataframe\">\n",
       "  <thead>\n",
       "    <tr style=\"text-align: right;\">\n",
       "      <th></th>\n",
       "      <th>date</th>\n",
       "      <th>date_block_num</th>\n",
       "      <th>shop_id</th>\n",
       "      <th>item_id</th>\n",
       "      <th>item_price</th>\n",
       "      <th>item_cnt_day</th>\n",
       "      <th>item_name</th>\n",
       "      <th>item_category_id</th>\n",
       "      <th>item_category_name</th>\n",
       "      <th>shop_name</th>\n",
       "    </tr>\n",
       "  </thead>\n",
       "  <tbody>\n",
       "    <tr>\n",
       "      <th>164335</th>\n",
       "      <td>2013-02-23</td>\n",
       "      <td>1</td>\n",
       "      <td>5</td>\n",
       "      <td>1000</td>\n",
       "      <td>99.0</td>\n",
       "      <td>1.0</td>\n",
       "      <td>3D Action Puzzle \"Зомби\" Уборщик</td>\n",
       "      <td>1</td>\n",
       "      <td>Подарки - Развитие</td>\n",
       "      <td>Вологда ТРЦ \"Мармелад\"</td>\n",
       "    </tr>\n",
       "    <tr>\n",
       "      <th>345342</th>\n",
       "      <td>2013-03-09</td>\n",
       "      <td>2</td>\n",
       "      <td>5</td>\n",
       "      <td>1000</td>\n",
       "      <td>99.0</td>\n",
       "      <td>1.0</td>\n",
       "      <td>3D Action Puzzle \"Зомби\" Уборщик</td>\n",
       "      <td>2</td>\n",
       "      <td>Подарки - Развитие</td>\n",
       "      <td>Вологда ТРЦ \"Мармелад\"</td>\n",
       "    </tr>\n",
       "    <tr>\n",
       "      <th>529737</th>\n",
       "      <td>2013-05-26</td>\n",
       "      <td>4</td>\n",
       "      <td>5</td>\n",
       "      <td>1000</td>\n",
       "      <td>99.0</td>\n",
       "      <td>1.0</td>\n",
       "      <td>3D Action Puzzle \"Зомби\" Уборщик</td>\n",
       "      <td>4</td>\n",
       "      <td>Подарки - Развитие</td>\n",
       "      <td>Вологда ТРЦ \"Мармелад\"</td>\n",
       "    </tr>\n",
       "    <tr>\n",
       "      <th>529738</th>\n",
       "      <td>2013-05-02</td>\n",
       "      <td>4</td>\n",
       "      <td>5</td>\n",
       "      <td>1000</td>\n",
       "      <td>99.0</td>\n",
       "      <td>1.0</td>\n",
       "      <td>3D Action Puzzle \"Зомби\" Уборщик</td>\n",
       "      <td>4</td>\n",
       "      <td>Подарки - Развитие</td>\n",
       "      <td>Вологда ТРЦ \"Мармелад\"</td>\n",
       "    </tr>\n",
       "    <tr>\n",
       "      <th>529746</th>\n",
       "      <td>2013-05-20</td>\n",
       "      <td>4</td>\n",
       "      <td>5</td>\n",
       "      <td>1000</td>\n",
       "      <td>99.0</td>\n",
       "      <td>1.0</td>\n",
       "      <td>3D Action Puzzle \"Зомби\" Уборщик</td>\n",
       "      <td>4</td>\n",
       "      <td>Подарки - Развитие</td>\n",
       "      <td>Вологда ТРЦ \"Мармелад\"</td>\n",
       "    </tr>\n",
       "  </tbody>\n",
       "</table>\n",
       "</div>"
      ],
      "text/plain": [
       "             date  date_block_num  shop_id  item_id  item_price  item_cnt_day  \\\n",
       "164335 2013-02-23               1        5     1000        99.0           1.0   \n",
       "345342 2013-03-09               2        5     1000        99.0           1.0   \n",
       "529737 2013-05-26               4        5     1000        99.0           1.0   \n",
       "529738 2013-05-02               4        5     1000        99.0           1.0   \n",
       "529746 2013-05-20               4        5     1000        99.0           1.0   \n",
       "\n",
       "                               item_name  item_category_id  \\\n",
       "164335  3D Action Puzzle \"Зомби\" Уборщик                 1   \n",
       "345342  3D Action Puzzle \"Зомби\" Уборщик                 2   \n",
       "529737  3D Action Puzzle \"Зомби\" Уборщик                 4   \n",
       "529738  3D Action Puzzle \"Зомби\" Уборщик                 4   \n",
       "529746  3D Action Puzzle \"Зомби\" Уборщик                 4   \n",
       "\n",
       "        item_category_name               shop_name  \n",
       "164335  Подарки - Развитие  Вологда ТРЦ \"Мармелад\"  \n",
       "345342  Подарки - Развитие  Вологда ТРЦ \"Мармелад\"  \n",
       "529737  Подарки - Развитие  Вологда ТРЦ \"Мармелад\"  \n",
       "529738  Подарки - Развитие  Вологда ТРЦ \"Мармелад\"  \n",
       "529746  Подарки - Развитие  Вологда ТРЦ \"Мармелад\"  "
      ]
     },
     "execution_count": 30,
     "metadata": {},
     "output_type": "execute_result"
    }
   ],
   "source": [
    "shop_item_df.head()"
   ]
  },
  {
   "cell_type": "code",
   "execution_count": 31,
   "id": "b6956847-116b-4079-9f45-fb106dfc72fd",
   "metadata": {},
   "outputs": [
    {
     "data": {
      "text/html": [
       "<div>\n",
       "<style scoped>\n",
       "    .dataframe tbody tr th:only-of-type {\n",
       "        vertical-align: middle;\n",
       "    }\n",
       "\n",
       "    .dataframe tbody tr th {\n",
       "        vertical-align: top;\n",
       "    }\n",
       "\n",
       "    .dataframe thead th {\n",
       "        text-align: right;\n",
       "    }\n",
       "</style>\n",
       "<table border=\"1\" class=\"dataframe\">\n",
       "  <thead>\n",
       "    <tr style=\"text-align: right;\">\n",
       "      <th></th>\n",
       "      <th>item_cnt_day</th>\n",
       "    </tr>\n",
       "    <tr>\n",
       "      <th>date</th>\n",
       "      <th></th>\n",
       "    </tr>\n",
       "  </thead>\n",
       "  <tbody>\n",
       "    <tr>\n",
       "      <th>2013-02-23</th>\n",
       "      <td>1.0</td>\n",
       "    </tr>\n",
       "    <tr>\n",
       "      <th>2013-03-09</th>\n",
       "      <td>1.0</td>\n",
       "    </tr>\n",
       "    <tr>\n",
       "      <th>2013-05-26</th>\n",
       "      <td>1.0</td>\n",
       "    </tr>\n",
       "    <tr>\n",
       "      <th>2013-05-02</th>\n",
       "      <td>1.0</td>\n",
       "    </tr>\n",
       "    <tr>\n",
       "      <th>2013-05-20</th>\n",
       "      <td>1.0</td>\n",
       "    </tr>\n",
       "  </tbody>\n",
       "</table>\n",
       "</div>"
      ],
      "text/plain": [
       "            item_cnt_day\n",
       "date                    \n",
       "2013-02-23           1.0\n",
       "2013-03-09           1.0\n",
       "2013-05-26           1.0\n",
       "2013-05-02           1.0\n",
       "2013-05-20           1.0"
      ]
     },
     "execution_count": 31,
     "metadata": {},
     "output_type": "execute_result"
    }
   ],
   "source": [
    "shop_item_df = shop_item_df.set_index(keys=[\"date\"], drop=True)\n",
    "shop_item_df = shop_item_df[[\"item_cnt_day\"]]\n",
    "shop_item_df.head()"
   ]
  },
  {
   "cell_type": "code",
   "execution_count": 32,
   "id": "fbc9c935-c8cd-4c27-8e03-ff3a5b5ade3c",
   "metadata": {},
   "outputs": [
    {
     "data": {
      "text/html": [
       "<div>\n",
       "<style scoped>\n",
       "    .dataframe tbody tr th:only-of-type {\n",
       "        vertical-align: middle;\n",
       "    }\n",
       "\n",
       "    .dataframe tbody tr th {\n",
       "        vertical-align: top;\n",
       "    }\n",
       "\n",
       "    .dataframe thead th {\n",
       "        text-align: right;\n",
       "    }\n",
       "</style>\n",
       "<table border=\"1\" class=\"dataframe\">\n",
       "  <thead>\n",
       "    <tr style=\"text-align: right;\">\n",
       "      <th></th>\n",
       "      <th>item_cnt_day</th>\n",
       "    </tr>\n",
       "    <tr>\n",
       "      <th>date</th>\n",
       "      <th></th>\n",
       "    </tr>\n",
       "  </thead>\n",
       "  <tbody>\n",
       "    <tr>\n",
       "      <th>2013-02-23</th>\n",
       "      <td>1.0</td>\n",
       "    </tr>\n",
       "    <tr>\n",
       "      <th>2013-02-24</th>\n",
       "      <td>0.0</td>\n",
       "    </tr>\n",
       "    <tr>\n",
       "      <th>2013-02-25</th>\n",
       "      <td>0.0</td>\n",
       "    </tr>\n",
       "    <tr>\n",
       "      <th>2013-02-26</th>\n",
       "      <td>0.0</td>\n",
       "    </tr>\n",
       "    <tr>\n",
       "      <th>2013-02-27</th>\n",
       "      <td>0.0</td>\n",
       "    </tr>\n",
       "    <tr>\n",
       "      <th>...</th>\n",
       "      <td>...</td>\n",
       "    </tr>\n",
       "    <tr>\n",
       "      <th>2014-01-08</th>\n",
       "      <td>0.0</td>\n",
       "    </tr>\n",
       "    <tr>\n",
       "      <th>2014-01-09</th>\n",
       "      <td>0.0</td>\n",
       "    </tr>\n",
       "    <tr>\n",
       "      <th>2014-01-10</th>\n",
       "      <td>0.0</td>\n",
       "    </tr>\n",
       "    <tr>\n",
       "      <th>2014-01-11</th>\n",
       "      <td>0.0</td>\n",
       "    </tr>\n",
       "    <tr>\n",
       "      <th>2014-01-12</th>\n",
       "      <td>1.0</td>\n",
       "    </tr>\n",
       "  </tbody>\n",
       "</table>\n",
       "<p>324 rows × 1 columns</p>\n",
       "</div>"
      ],
      "text/plain": [
       "            item_cnt_day\n",
       "date                    \n",
       "2013-02-23           1.0\n",
       "2013-02-24           0.0\n",
       "2013-02-25           0.0\n",
       "2013-02-26           0.0\n",
       "2013-02-27           0.0\n",
       "...                  ...\n",
       "2014-01-08           0.0\n",
       "2014-01-09           0.0\n",
       "2014-01-10           0.0\n",
       "2014-01-11           0.0\n",
       "2014-01-12           1.0\n",
       "\n",
       "[324 rows x 1 columns]"
      ]
     },
     "execution_count": 32,
     "metadata": {},
     "output_type": "execute_result"
    }
   ],
   "source": [
    "shop_item_df.resample(\"D\").mean().fillna(0)"
   ]
  },
  {
   "cell_type": "code",
   "execution_count": 33,
   "id": "4a19b877-2be6-4592-8500-af846798397f",
   "metadata": {},
   "outputs": [],
   "source": [
    "shop_item_df = shop_item_df.resample(\"D\").mean().fillna(0)"
   ]
  },
  {
   "cell_type": "code",
   "execution_count": 34,
   "id": "e202182b-2086-4afe-9a67-77ec96cf6409",
   "metadata": {},
   "outputs": [
    {
     "data": {
      "text/plain": [
       "DatetimeIndex(['2013-02-23', '2013-02-24', '2013-02-25', '2013-02-26',\n",
       "               '2013-02-27', '2013-02-28', '2013-03-01', '2013-03-02',\n",
       "               '2013-03-03', '2013-03-04',\n",
       "               ...\n",
       "               '2014-01-03', '2014-01-04', '2014-01-05', '2014-01-06',\n",
       "               '2014-01-07', '2014-01-08', '2014-01-09', '2014-01-10',\n",
       "               '2014-01-11', '2014-01-12'],\n",
       "              dtype='datetime64[ns]', name='date', length=324, freq='D')"
      ]
     },
     "execution_count": 34,
     "metadata": {},
     "output_type": "execute_result"
    }
   ],
   "source": [
    "shop_item_df.index"
   ]
  },
  {
   "cell_type": "markdown",
   "id": "e472d7db-43c1-4361-b87d-a927ee3c6e13",
   "metadata": {},
   "source": [
    "### ACF"
   ]
  },
  {
   "cell_type": "code",
   "execution_count": 35,
   "id": "515a727c-8953-44f5-87f9-82b15a2219c9",
   "metadata": {},
   "outputs": [
    {
     "data": {
      "image/png": "[encoded data removed]",
      "text/plain": [
       "<Figure size 432x288 with 1 Axes>"
      ]
     },
     "execution_count": 35,
     "metadata": {},
     "output_type": "execute_result"
    },
    {
     "data": {
      "image/png": "[encoded data removed]",
      "text/plain": [
       "<Figure size 432x288 with 1 Axes>"
      ]
     },
     "metadata": {
      "needs_background": "light"
     },
     "output_type": "display_data"
    }
   ],
   "source": [
    "plot_acf(shop_item_df[\"item_cnt_day\"])"
   ]
  },
  {
   "cell_type": "markdown",
   "id": "7a314f64-0343-402d-8a0d-fb45d34e6b34",
   "metadata": {},
   "source": [
    "### PACF"
   ]
  },
  {
   "cell_type": "markdown",
   "id": "3a7cd155-1c17-4759-be69-7d3fcccae0f3",
   "metadata": {},
   "source": [
    "plot_pacf(shop_item_df[\"item_cnt_day\"])"
   ]
  },
  {
   "cell_type": "markdown",
   "id": "ca27ca91-fc4c-406c-b02f-6ea406db9b1e",
   "metadata": {},
   "source": [
    "# Feature Engineering"
   ]
  },
  {
   "cell_type": "markdown",
   "id": "16a98d22-9bc5-4a38-b8a3-bde440224e6c",
   "metadata": {},
   "source": [
    "### Is New Item (in the entire company)"
   ]
  },
  {
   "cell_type": "code",
   "execution_count": null,
   "id": "bb0a7f35-1070-4da1-a616-e204ecf375f9",
   "metadata": {},
   "outputs": [],
   "source": []
  },
  {
   "cell_type": "markdown",
   "id": "27d3f4cc-b6e3-467f-9e87-5e5b68a971e7",
   "metadata": {},
   "source": [
    "### Is New Item (for every specific shop)"
   ]
  },
  {
   "cell_type": "code",
   "execution_count": null,
   "id": "d6b71aab-4e68-4c2c-8c56-84134b720920",
   "metadata": {},
   "outputs": [],
   "source": []
  },
  {
   "cell_type": "markdown",
   "id": "b38d9a42-f5ab-4ef8-bf12-5b35946ec780",
   "metadata": {},
   "source": [
    "### Average Category Sales (at the company level)"
   ]
  },
  {
   "cell_type": "code",
   "execution_count": null,
   "id": "b4f29f1e-79ad-439b-b503-9f816a027e75",
   "metadata": {},
   "outputs": [],
   "source": []
  },
  {
   "cell_type": "markdown",
   "id": "697b993f-00a1-44a4-9739-b1fc16666e1d",
   "metadata": {},
   "source": [
    "### Average Category Sales (at the shop level)"
   ]
  },
  {
   "cell_type": "code",
   "execution_count": null,
   "id": "888a5818-5ed0-4ecb-ad68-9721fb49fea5",
   "metadata": {},
   "outputs": [],
   "source": []
  },
  {
   "cell_type": "markdown",
   "id": "e3e35dbd-5d71-4e08-862c-633cbcd6969b",
   "metadata": {},
   "source": [
    "### Item Sales Percentage Change"
   ]
  },
  {
   "cell_type": "code",
   "execution_count": null,
   "id": "bbc84289-c60f-4287-b8d2-8aa0ef3086c3",
   "metadata": {},
   "outputs": [],
   "source": []
  },
  {
   "cell_type": "markdown",
   "id": "0c09a28a-e801-40c8-af1a-bb523ce20f88",
   "metadata": {},
   "source": [
    "### Time Features (holidays, business days, month)"
   ]
  },
  {
   "cell_type": "code",
   "execution_count": null,
   "id": "8b828460-4c64-4700-a63e-b4267fa97fe6",
   "metadata": {},
   "outputs": [],
   "source": []
  },
  {
   "cell_type": "markdown",
   "id": "71d6ca43-8a86-4631-b34d-8885e6cae888",
   "metadata": {},
   "source": [
    "## Lagged Features"
   ]
  },
  {
   "cell_type": "code",
   "execution_count": null,
   "id": "e3c1dc0d-da71-44c7-b29d-d2386d36616f",
   "metadata": {},
   "outputs": [],
   "source": []
  },
  {
   "cell_type": "markdown",
   "id": "8ef12902-055b-4ac8-80ba-d34916f95e2a",
   "metadata": {},
   "source": [
    "# Correlation Matrix"
   ]
  },
  {
   "cell_type": "code",
   "execution_count": null,
   "id": "4f182eff-db88-4ab1-9384-ec165bc7598c",
   "metadata": {},
   "outputs": [],
   "source": []
  },
  {
   "cell_type": "markdown",
   "id": "9e07ccb0-2f50-44dd-a4d3-705eea6f1e8b",
   "metadata": {},
   "source": [
    "# Categorical Variables"
   ]
  },
  {
   "cell_type": "code",
   "execution_count": null,
   "id": "2693ada3-9114-4d46-8a2a-8f0b7e4fa966",
   "metadata": {},
   "outputs": [],
   "source": []
  },
  {
   "cell_type": "markdown",
   "id": "96d31a02-3548-463e-9bd4-f3e3de5fb848",
   "metadata": {},
   "source": [
    "# Split the Data"
   ]
  },
  {
   "cell_type": "code",
   "execution_count": null,
   "id": "697e9714-8473-4871-9b6f-13c9d5cd2e37",
   "metadata": {},
   "outputs": [],
   "source": []
  },
  {
   "cell_type": "markdown",
   "id": "8ce1fed0-8528-45a9-bed2-9794a661f469",
   "metadata": {},
   "source": [
    "# Scale the Data"
   ]
  },
  {
   "cell_type": "code",
   "execution_count": null,
   "id": "7a0f13fb-d83c-4570-8eb6-eb8aa49cce38",
   "metadata": {},
   "outputs": [],
   "source": []
  },
  {
   "cell_type": "markdown",
   "id": "b9eef8b6-2e94-4442-832b-77aa530f388b",
   "metadata": {},
   "source": [
    "# Baseline Model"
   ]
  },
  {
   "cell_type": "code",
   "execution_count": null,
   "id": "a26502c9-dd78-4c01-929c-b411e14d75b1",
   "metadata": {},
   "outputs": [],
   "source": []
  },
  {
   "cell_type": "markdown",
   "id": "fd53a991-2558-4ca3-8347-ca09cc0a7d4b",
   "metadata": {},
   "source": [
    "# Metrics"
   ]
  },
  {
   "cell_type": "code",
   "execution_count": null,
   "id": "edeeae86-9c74-47d2-8046-3b3e154a5b40",
   "metadata": {},
   "outputs": [],
   "source": []
  }
 ],
 "metadata": {
  "kernelspec": {
   "display_name": "Python 3 (ipykernel)",
   "language": "python",
   "name": "python3"
  },
  "language_info": {
   "codemirror_mode": {
    "name": "ipython",
    "version": 3
   },
   "file_extension": ".py",
   "mimetype": "text/x-python",
   "name": "python",
   "nbconvert_exporter": "python",
   "pygments_lexer": "ipython3",
   "version": "3.8.13"
  }
 },
 "nbformat": 4,
 "nbformat_minor": 5
}
